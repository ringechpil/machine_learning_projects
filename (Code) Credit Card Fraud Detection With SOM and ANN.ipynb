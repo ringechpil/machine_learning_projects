{
 "cells": [
  {
   "cell_type": "markdown",
   "metadata": {},
   "source": [
    "### Problem Description\n",
    "\n",
    "Using the dataset of several hundred bank users, we will train a self-organizing map model, and with it detect user with the unusal behaviour. In addition, our model will help us target those bank customers who could be abusing their credit cards. \n",
    "\n",
    "After this, we will use our data to train a simple artificial neural network, to predict the probability of potential fraud actually happening."
   ]
  },
  {
   "cell_type": "markdown",
   "metadata": {},
   "source": [
    "### The Approach\n",
    "\n",
    "This project consists of the following steps:\n",
    "\n",
    "1. Importing and preprocessing the data for trainig the model\n",
    "2. Training the SOM model and visualizing the results\n",
    "3. Targeting the potential frauds\n",
    "4. Building and training the ANN\n",
    "5. Predicting the probabilities of potential frauds"
   ]
  },
  {
   "cell_type": "markdown",
   "metadata": {},
   "source": [
    "### Importing and Preprocessing the Data\n",
    "\n",
    "First we'll import and scale the data, so it can be used to train our model."
   ]
  },
  {
   "cell_type": "code",
   "execution_count": 1,
   "metadata": {},
   "outputs": [],
   "source": [
    "import numpy as np\n",
    "import pandas as pd\n",
    "import matplotlib.pyplot as plt\n",
    "%matplotlib inline"
   ]
  },
  {
   "cell_type": "code",
   "execution_count": 2,
   "metadata": {
    "scrolled": true
   },
   "outputs": [
    {
     "data": {
      "text/html": [
       "<div>\n",
       "<style scoped>\n",
       "    .dataframe tbody tr th:only-of-type {\n",
       "        vertical-align: middle;\n",
       "    }\n",
       "\n",
       "    .dataframe tbody tr th {\n",
       "        vertical-align: top;\n",
       "    }\n",
       "\n",
       "    .dataframe thead th {\n",
       "        text-align: right;\n",
       "    }\n",
       "</style>\n",
       "<table border=\"1\" class=\"dataframe\">\n",
       "  <thead>\n",
       "    <tr style=\"text-align: right;\">\n",
       "      <th></th>\n",
       "      <th>CustomerID</th>\n",
       "      <th>A1</th>\n",
       "      <th>A2</th>\n",
       "      <th>A3</th>\n",
       "      <th>A4</th>\n",
       "      <th>A5</th>\n",
       "      <th>A6</th>\n",
       "      <th>A7</th>\n",
       "      <th>A8</th>\n",
       "      <th>A9</th>\n",
       "      <th>A10</th>\n",
       "      <th>A11</th>\n",
       "      <th>A12</th>\n",
       "      <th>A13</th>\n",
       "      <th>A14</th>\n",
       "      <th>Class</th>\n",
       "    </tr>\n",
       "  </thead>\n",
       "  <tbody>\n",
       "    <tr>\n",
       "      <th>0</th>\n",
       "      <td>15776156</td>\n",
       "      <td>1</td>\n",
       "      <td>22.08</td>\n",
       "      <td>11.46</td>\n",
       "      <td>2</td>\n",
       "      <td>4</td>\n",
       "      <td>4</td>\n",
       "      <td>1.585</td>\n",
       "      <td>0</td>\n",
       "      <td>0</td>\n",
       "      <td>0</td>\n",
       "      <td>1</td>\n",
       "      <td>2</td>\n",
       "      <td>100</td>\n",
       "      <td>1213</td>\n",
       "      <td>0</td>\n",
       "    </tr>\n",
       "    <tr>\n",
       "      <th>1</th>\n",
       "      <td>15739548</td>\n",
       "      <td>0</td>\n",
       "      <td>22.67</td>\n",
       "      <td>7.00</td>\n",
       "      <td>2</td>\n",
       "      <td>8</td>\n",
       "      <td>4</td>\n",
       "      <td>0.165</td>\n",
       "      <td>0</td>\n",
       "      <td>0</td>\n",
       "      <td>0</td>\n",
       "      <td>0</td>\n",
       "      <td>2</td>\n",
       "      <td>160</td>\n",
       "      <td>1</td>\n",
       "      <td>0</td>\n",
       "    </tr>\n",
       "    <tr>\n",
       "      <th>2</th>\n",
       "      <td>15662854</td>\n",
       "      <td>0</td>\n",
       "      <td>29.58</td>\n",
       "      <td>1.75</td>\n",
       "      <td>1</td>\n",
       "      <td>4</td>\n",
       "      <td>4</td>\n",
       "      <td>1.250</td>\n",
       "      <td>0</td>\n",
       "      <td>0</td>\n",
       "      <td>0</td>\n",
       "      <td>1</td>\n",
       "      <td>2</td>\n",
       "      <td>280</td>\n",
       "      <td>1</td>\n",
       "      <td>0</td>\n",
       "    </tr>\n",
       "    <tr>\n",
       "      <th>3</th>\n",
       "      <td>15687688</td>\n",
       "      <td>0</td>\n",
       "      <td>21.67</td>\n",
       "      <td>11.50</td>\n",
       "      <td>1</td>\n",
       "      <td>5</td>\n",
       "      <td>3</td>\n",
       "      <td>0.000</td>\n",
       "      <td>1</td>\n",
       "      <td>1</td>\n",
       "      <td>11</td>\n",
       "      <td>1</td>\n",
       "      <td>2</td>\n",
       "      <td>0</td>\n",
       "      <td>1</td>\n",
       "      <td>1</td>\n",
       "    </tr>\n",
       "    <tr>\n",
       "      <th>4</th>\n",
       "      <td>15715750</td>\n",
       "      <td>1</td>\n",
       "      <td>20.17</td>\n",
       "      <td>8.17</td>\n",
       "      <td>2</td>\n",
       "      <td>6</td>\n",
       "      <td>4</td>\n",
       "      <td>1.960</td>\n",
       "      <td>1</td>\n",
       "      <td>1</td>\n",
       "      <td>14</td>\n",
       "      <td>0</td>\n",
       "      <td>2</td>\n",
       "      <td>60</td>\n",
       "      <td>159</td>\n",
       "      <td>1</td>\n",
       "    </tr>\n",
       "  </tbody>\n",
       "</table>\n",
       "</div>"
      ],
      "text/plain": [
       "   CustomerID  A1     A2     A3  A4  A5  A6     A7  A8  A9  A10  A11  A12  \\\n",
       "0    15776156   1  22.08  11.46   2   4   4  1.585   0   0    0    1    2   \n",
       "1    15739548   0  22.67   7.00   2   8   4  0.165   0   0    0    0    2   \n",
       "2    15662854   0  29.58   1.75   1   4   4  1.250   0   0    0    1    2   \n",
       "3    15687688   0  21.67  11.50   1   5   3  0.000   1   1   11    1    2   \n",
       "4    15715750   1  20.17   8.17   2   6   4  1.960   1   1   14    0    2   \n",
       "\n",
       "   A13   A14  Class  \n",
       "0  100  1213      0  \n",
       "1  160     1      0  \n",
       "2  280     1      0  \n",
       "3    0     1      1  \n",
       "4   60   159      1  "
      ]
     },
     "execution_count": 2,
     "metadata": {},
     "output_type": "execute_result"
    }
   ],
   "source": [
    "data = pd.read_csv('Credit_Card_Applications.csv')\n",
    "\n",
    "data.head()"
   ]
  },
  {
   "cell_type": "markdown",
   "metadata": {},
   "source": [
    "Each column of the dataset represent some information about a bank user. What each column represents is obscured because of the confidentiality. This is a problem which can be actually tackled only by a machine, since for a human it's not possible to make sense and percive patterns in a data presented this way.\n",
    "\n",
    "The last collumn in the dataset tells wheather the credit card application was or wasn't approved by a bank. "
   ]
  },
  {
   "cell_type": "code",
   "execution_count": 3,
   "metadata": {
    "scrolled": true
   },
   "outputs": [
    {
     "name": "stdout",
     "output_type": "stream",
     "text": [
      "<class 'pandas.core.frame.DataFrame'>\n",
      "RangeIndex: 690 entries, 0 to 689\n",
      "Data columns (total 16 columns):\n",
      " #   Column      Non-Null Count  Dtype  \n",
      "---  ------      --------------  -----  \n",
      " 0   CustomerID  690 non-null    int64  \n",
      " 1   A1          690 non-null    int64  \n",
      " 2   A2          690 non-null    float64\n",
      " 3   A3          690 non-null    float64\n",
      " 4   A4          690 non-null    int64  \n",
      " 5   A5          690 non-null    int64  \n",
      " 6   A6          690 non-null    int64  \n",
      " 7   A7          690 non-null    float64\n",
      " 8   A8          690 non-null    int64  \n",
      " 9   A9          690 non-null    int64  \n",
      " 10  A10         690 non-null    int64  \n",
      " 11  A11         690 non-null    int64  \n",
      " 12  A12         690 non-null    int64  \n",
      " 13  A13         690 non-null    int64  \n",
      " 14  A14         690 non-null    int64  \n",
      " 15  Class       690 non-null    int64  \n",
      "dtypes: float64(3), int64(13)\n",
      "memory usage: 86.4 KB\n"
     ]
    }
   ],
   "source": [
    "data.info()"
   ]
  },
  {
   "cell_type": "markdown",
   "metadata": {},
   "source": [
    "We see that we have quite clean data at hands. We will construct matrix of features using all the last column. Since this is an unsupervised model, the last column will be used later for labeling. We keep the first column `Customer ID` in the training set, even though it has no predictive power. Becouse each ID is unique, it won't affect detecting the behaviour patterns, and we will actually need it for the future reference. We also scale the data using the `MinMaxScaler`. "
   ]
  },
  {
   "cell_type": "code",
   "execution_count": 4,
   "metadata": {},
   "outputs": [
    {
     "data": {
      "text/plain": [
       "(690, 15)"
      ]
     },
     "execution_count": 4,
     "metadata": {},
     "output_type": "execute_result"
    }
   ],
   "source": [
    "customers = data['CustomerID']\n",
    "X = data.iloc[:,:-1].values\n",
    "y = data.iloc[:,-1].values\n",
    "X.shape"
   ]
  },
  {
   "cell_type": "code",
   "execution_count": 5,
   "metadata": {},
   "outputs": [],
   "source": [
    "from sklearn.preprocessing import MinMaxScaler\n",
    "\n",
    "scaler = MinMaxScaler(feature_range = (0,1))\n",
    "X = scaler.fit_transform(X)"
   ]
  },
  {
   "cell_type": "markdown",
   "metadata": {},
   "source": [
    "### Training the SOM and Visualizing the Results\n",
    "\n",
    "\n",
    "It's time to train our SOM model. We will make a grid of 10x10 neural nodes, which will form an SOM mask. Sparse nodes, i.e. nodes that have only several other neural nodes in their neighborhood are considered as the outlier configurations, and can indicate a pontetial fraud. "
   ]
  },
  {
   "cell_type": "code",
   "execution_count": 16,
   "metadata": {},
   "outputs": [],
   "source": [
    "from minisom import MiniSom\n",
    "\n",
    "som = MiniSom(x = 10, y = 10, input_len = X.shape[1])\n",
    "som.random_weights_init(X)\n",
    "som.train_random(data = X, num_iteration = 100)"
   ]
  },
  {
   "cell_type": "code",
   "execution_count": 17,
   "metadata": {
    "scrolled": true
   },
   "outputs": [
    {
     "data": {
      "image/png": "[encoded data removed]",
      "text/plain": [
       "<Figure size 432x288 with 2 Axes>"
      ]
     },
     "metadata": {
      "needs_background": "light"
     },
     "output_type": "display_data"
    }
   ],
   "source": [
    "# Visualizing the results\n",
    "from pylab import bone, pcolor, colorbar, plot, show\n",
    "bone()\n",
    "pcolor(som.distance_map().T)\n",
    "colorbar()\n",
    "markers = ['o', 's']\n",
    "colors = ['r', 'g']\n",
    "for i, x in enumerate(X):\n",
    "    w = som.winner(x)\n",
    "    plot(w[0] + 0.5,\n",
    "         w[1] + 0.5,\n",
    "         markers[y[i]],\n",
    "         markeredgecolor = colors[y[i]],\n",
    "         markerfacecolor = 'None',\n",
    "         markersize = 10,\n",
    "         markeredgewidth = 2)\n",
    "show()"
   ]
  },
  {
   "cell_type": "markdown",
   "metadata": {},
   "source": [
    "In the above graph, each node cluster is represented by a small square. The darker the square is, the denser the cluster it is, i.e. it has more other neural nodes close to it. The white squares are the sparse nodes. They have none or a very small number of other nodes clustered around them, and they can imply potential frauds.\n",
    "\n",
    "The squares and circles represent our customer data. The customres who belong to darker squares exhibit the usual behaviour. Those who fall into the white squares are the potential frauds. \n",
    "\n",
    "Red circles signify customers who had their credit card application rejected, while the green squares are for those who had their application approved. Red circle on the white square is a good thing, because it means that the suspicious behaviour was noticed by a bank clerk, and the application for the credid card didn't pass. However, the green rectangle on a white square is most likely a fraud: a customer with (probably unnoticed) suspicious behaviour was given a credit card."
   ]
  },
  {
   "cell_type": "markdown",
   "metadata": {},
   "source": [
    "### Finding the Potential Frauds\n",
    "\n",
    "As we see above, we have a white square on the coordinates $(3,5)$, and within it both the red circle and the green square. This means that there are customers showing an unusal behaviour with the approved credit card, and that they could be potential frauds. The following code will extract and list those customers."
   ]
  },
  {
   "cell_type": "code",
   "execution_count": 85,
   "metadata": {},
   "outputs": [
    {
     "name": "stdout",
     "output_type": "stream",
     "text": [
      "The following customers are potential frauds, who had their credit card approved:\n",
      "\n",
      "Customer: 15631685\n",
      "Customer: 15753591\n",
      "Customer: 15614813\n",
      "Customer: 15594133\n",
      "Customer: 15571081\n",
      "Customer: 15706268\n",
      "Customer: 15778142\n",
      "Customer: 15715519\n",
      "Customer: 15630592\n",
      "Customer: 15589541\n",
      "Customer: 15569595\n",
      "Customer: 15598574\n",
      "Customer: 15711759\n",
      "Customer: 15808223\n"
     ]
    }
   ],
   "source": [
    "neural_nodes = som.win_map(X)\n",
    "pot_frauds = neural_nodes[(4,4)]\n",
    "pot_frauds = scaler.inverse_transform(pot_frauds)\n",
    "pot_frauds = pot_frauds[:,0]\n",
    "pot_frauds = np.array(pot_frauds, dtype = int)\n",
    "\n",
    "print('The following customers are potential frauds, who had their credit card approved:\\n')\n",
    "\n",
    "for cust in pot_frauds:\n",
    "    \n",
    "    app = data[data['CustomerID'] == cust]['Class'].values\n",
    "    \n",
    "    if (bool(app)):\n",
    "        app = 'Credit card approved, potential fraud!'\n",
    "        print(f'Customer: {cust}')"
   ]
  },
  {
   "cell_type": "markdown",
   "metadata": {},
   "source": [
    "### Data Preprocessing for ANN\n",
    "\n",
    "Now we want to build and train a logistic regression based ANN which will be able to tell us how probale the potential frauds actually are. But beforhand we need to build matrix of features and vector of labels. Matrix of features will encompas all the data, except the customer IDs, while the labels will signify whether the customer is a potential fraud or not. We also scale the values.\n",
    "\n",
    "We will not make the split into a train and a test set, since we just want our model to give us the probabilites of the detected potential frauds."
   ]
  },
  {
   "cell_type": "code",
   "execution_count": 54,
   "metadata": {},
   "outputs": [
    {
     "data": {
      "text/plain": [
       "(690, 15)"
      ]
     },
     "execution_count": 54,
     "metadata": {},
     "output_type": "execute_result"
    }
   ],
   "source": [
    "X_ann = data.iloc[:,1:].values\n",
    "\n",
    "\n",
    "fraud_idx = []\n",
    "y_ann = np.zeros(len(data))\n",
    "for i in range(len(data)):\n",
    "    if data.iloc[i,0] in pot_frauds:\n",
    "        y_ann[i] = 1\n",
    "        fraud_idx.append(i)\n",
    "        \n",
    "X_ann.shape"
   ]
  },
  {
   "cell_type": "code",
   "execution_count": 28,
   "metadata": {},
   "outputs": [],
   "source": [
    "from sklearn.preprocessing import StandardScaler\n",
    "\n",
    "sc = StandardScaler()\n",
    "X_ann = sc.fit_transform(X_ann)"
   ]
  },
  {
   "cell_type": "markdown",
   "metadata": {},
   "source": [
    "### Training the ANN\n",
    "\n",
    "\n",
    "Now we train our ANN with the most simple architecture: the hidden layer consists of just two nodes, and the output of a single node, which should give us a probability of the fraud happening.  "
   ]
  },
  {
   "cell_type": "code",
   "execution_count": 44,
   "metadata": {},
   "outputs": [],
   "source": [
    "from keras.models import Sequential\n",
    "from keras.layers import Dense\n",
    "\n",
    "ann = Sequential()\n",
    "\n",
    "ann.add(Dense(input_dim = X_ann.shape[1], units = 2, \n",
    "             activation = 'relu', kernel_initializer = 'uniform'))\n",
    "ann.add(Dense(units = 1, activation = 'sigmoid',\n",
    "             kernel_initializer = 'uniform'))"
   ]
  },
  {
   "cell_type": "code",
   "execution_count": 45,
   "metadata": {},
   "outputs": [
    {
     "name": "stdout",
     "output_type": "stream",
     "text": [
      "Model: \"sequential_5\"\n",
      "_________________________________________________________________\n",
      "Layer (type)                 Output Shape              Param #   \n",
      "=================================================================\n",
      "dense_7 (Dense)              (None, 2)                 32        \n",
      "_________________________________________________________________\n",
      "dense_8 (Dense)              (None, 1)                 3         \n",
      "=================================================================\n",
      "Total params: 35\n",
      "Trainable params: 35\n",
      "Non-trainable params: 0\n",
      "_________________________________________________________________\n"
     ]
    }
   ],
   "source": [
    "ann.summary()"
   ]
  },
  {
   "cell_type": "code",
   "execution_count": 46,
   "metadata": {},
   "outputs": [],
   "source": [
    "ann.compile(optimizer = 'adam', loss = 'binary_crossentropy')"
   ]
  },
  {
   "cell_type": "code",
   "execution_count": 47,
   "metadata": {},
   "outputs": [
    {
     "name": "stdout",
     "output_type": "stream",
     "text": [
      "Epoch 1/5\n",
      "690/690 [==============================] - 1s 1ms/step - loss: 0.2651\n",
      "Epoch 2/5\n",
      "690/690 [==============================] - 1s 917us/step - loss: 0.1911\n",
      "Epoch 3/5\n",
      "690/690 [==============================] - 1s 849us/step - loss: 0.1664\n",
      "Epoch 4/5\n",
      "690/690 [==============================] - 1s 872us/step - loss: 0.1631\n",
      "Epoch 5/5\n",
      "690/690 [==============================] - 1s 872us/step - loss: 0.1589\n"
     ]
    }
   ],
   "source": [
    "ann.fit(X_ann, y_ann, epochs = 5, batch_size = 1);"
   ]
  },
  {
   "cell_type": "markdown",
   "metadata": {},
   "source": [
    "### Predicting the Fraud Probabilites\n",
    "\n",
    "We will now predict and list the customers who are most probable to commit the fraud, along with the probability of doing so."
   ]
  },
  {
   "cell_type": "code",
   "execution_count": 101,
   "metadata": {},
   "outputs": [],
   "source": [
    "y_pred = ann.predict(X_ann[fraud_idx])\n",
    "y_pred = np.squeeze(y_pred, axis = 1)\n",
    "y_pred = np.round(y_pred, 2)"
   ]
  },
  {
   "cell_type": "code",
   "execution_count": 102,
   "metadata": {
    "scrolled": true
   },
   "outputs": [
    {
     "data": {
      "text/html": [
       "<style  type=\"text/css\" >\n",
       "</style><table id=\"T_d5f56de4_bc56_11ea_b88b_3052cb816f6a\" ><thead>    <tr>        <th class=\"col_heading level0 col0\" >CustomerID</th>        <th class=\"col_heading level0 col1\" >Fraud Prob.</th>    </tr></thead><tbody>\n",
       "                <tr>\n",
       "                                <td id=\"T_d5f56de4_bc56_11ea_b88b_3052cb816f6arow0_col0\" class=\"data row0 col0\" >15614813</td>\n",
       "                        <td id=\"T_d5f56de4_bc56_11ea_b88b_3052cb816f6arow0_col1\" class=\"data row0 col1\" >0.180000</td>\n",
       "            </tr>\n",
       "            <tr>\n",
       "                                <td id=\"T_d5f56de4_bc56_11ea_b88b_3052cb816f6arow1_col0\" class=\"data row1 col0\" >15631685</td>\n",
       "                        <td id=\"T_d5f56de4_bc56_11ea_b88b_3052cb816f6arow1_col1\" class=\"data row1 col1\" >0.170000</td>\n",
       "            </tr>\n",
       "            <tr>\n",
       "                                <td id=\"T_d5f56de4_bc56_11ea_b88b_3052cb816f6arow2_col0\" class=\"data row2 col0\" >15711759</td>\n",
       "                        <td id=\"T_d5f56de4_bc56_11ea_b88b_3052cb816f6arow2_col1\" class=\"data row2 col1\" >0.170000</td>\n",
       "            </tr>\n",
       "            <tr>\n",
       "                                <td id=\"T_d5f56de4_bc56_11ea_b88b_3052cb816f6arow3_col0\" class=\"data row3 col0\" >15569595</td>\n",
       "                        <td id=\"T_d5f56de4_bc56_11ea_b88b_3052cb816f6arow3_col1\" class=\"data row3 col1\" >0.140000</td>\n",
       "            </tr>\n",
       "            <tr>\n",
       "                                <td id=\"T_d5f56de4_bc56_11ea_b88b_3052cb816f6arow4_col0\" class=\"data row4 col0\" >15658504</td>\n",
       "                        <td id=\"T_d5f56de4_bc56_11ea_b88b_3052cb816f6arow4_col1\" class=\"data row4 col1\" >0.110000</td>\n",
       "            </tr>\n",
       "            <tr>\n",
       "                                <td id=\"T_d5f56de4_bc56_11ea_b88b_3052cb816f6arow5_col0\" class=\"data row5 col0\" >15808223</td>\n",
       "                        <td id=\"T_d5f56de4_bc56_11ea_b88b_3052cb816f6arow5_col1\" class=\"data row5 col1\" >0.110000</td>\n",
       "            </tr>\n",
       "    </tbody></table>"
      ],
      "text/plain": [
       "<pandas.io.formats.style.Styler at 0x2da89e90f60>"
      ]
     },
     "execution_count": 102,
     "metadata": {},
     "output_type": "execute_result"
    }
   ],
   "source": [
    "fraud_probs = pd.DataFrame(data = {'CustomerID' : pot_frauds,\n",
    "                                     'Fraud Prob.': y_pred})\n",
    "fraud_probs = fraud_probs[fraud_probs['Fraud Prob.'] > 0.1]\n",
    "fraud_probs = fraud_probs.sort_values(by = 'Fraud Prob.',\n",
    "                                     ascending = False)\n",
    "\n",
    "fraud_probs = fraud_probs.style.hide_index()\n",
    "fraud_probs"
   ]
  },
  {
   "cell_type": "markdown",
   "metadata": {},
   "source": [
    "We note that the fraud probabilites are not very high, so we shouldn't accuse the customer outright, but we should first conduct some checks to see if the fraud really occured. "
   ]
  },
  {
   "cell_type": "markdown",
   "metadata": {},
   "source": [
    "### Conclusions"
   ]
  },
  {
   "cell_type": "markdown",
   "metadata": {},
   "source": [
    "Using the SOM we managed to write a simple procedure for detecting potential credit card abuses. Moreover our unsupervised learning model was trained on a relatively small dataset and was extremely fast to train. Furthermore, we have managed to use our unsupervised model to train a supervised model, i.e. ANN, which gave us a better insight of how probable to potential frauds actually are. "
   ]
  }
 ],
 "metadata": {
  "kernelspec": {
   "display_name": "Python 3",
   "language": "python",
   "name": "python3"
  },
  "language_info": {
   "codemirror_mode": {
    "name": "ipython",
    "version": 3
   },
   "file_extension": ".py",
   "mimetype": "text/x-python",
   "name": "python",
   "nbconvert_exporter": "python",
   "pygments_lexer": "ipython3",
   "version": "3.6.8"
  }
 },
 "nbformat": 4,
 "nbformat_minor": 4
}
