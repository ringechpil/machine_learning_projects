{
 "cells": [
  {
   "cell_type": "markdown",
   "id": "90ec3292",
   "metadata": {},
   "source": [
    "## Part 1"
   ]
  },
  {
   "cell_type": "code",
   "execution_count": 1,
   "id": "7f32dda6",
   "metadata": {},
   "outputs": [],
   "source": [
    "import numpy as np\n",
    "import torch\n",
    "import torch.nn as nn\n",
    "\n",
    "import warnings\n",
    "warnings.filterwarnings('ignore')"
   ]
  },
  {
   "cell_type": "markdown",
   "id": "2888691f",
   "metadata": {},
   "source": [
    "In this part we want to define 'custom CNN compiler', which would be able to easily construct the trainable CNN architecture from the dictionary of given hyperparameter values. Note that for this assignment we'll be doing our experiments on Digits dataset, from the previous exercise. For the given assignment we can build a CNN from the following 'parts':\n",
    "\n",
    "- Number of filters for the convolution - an integer chosen from the set {8, 16, 32}.\n",
    "\n",
    "\n",
    "- Kernel size for the convolution. One dimension of the kernel size is the only sufficient input, since the kernels are alway square in our case. Moreover, it dictates the padding, and the stride is always set to 1. Kernel size is an integer chosen from the set {3,5}.\n",
    "  \n",
    "  If kernel size is set to **3**, then we have a configuration of\n",
    "  - *kernel=(3,3), stride=1, padding=1;*\n",
    "  \n",
    "  else, if the kernel size is set to **5**, then we have a configuration of\n",
    "  - *kernel=(5,5), stride=1, padding=2.*\n",
    "\n",
    "\n",
    "- Activation function is a string chosen from the set {'relu', 'sigmoid', 'tanh', 'softplus', 'elu'}, each string representing the corresponding function.\n",
    "\n",
    "\n",
    "- Pooling type is a string chosen from the set {'identity', 'avg', 'max'}.\n",
    "  - If 'avg' or 'max' is selected, then the size of the pooling window will be 2x2;\n",
    "  - else, if 'identity' is selected, then no pooling will be performed.\n",
    "\n",
    "\n",
    "- Number of neurons in a Linear1 layer is an integer chosen from the set {10, 20, ... ,100}.\n",
    "\n",
    "\n",
    "- Number of classes is determined by the dataset we wish to train our CNN on (which is equal to 10, in this case)."
   ]
  },
  {
   "cell_type": "code",
   "execution_count": 2,
   "id": "7b6d3604",
   "metadata": {},
   "outputs": [],
   "source": [
    "#some helper modules\n",
    "# This module reshapes an input (matrix -> tensor).\n",
    "class Reshape(nn.Module):\n",
    "    def __init__(self, size):\n",
    "        super(Reshape, self).__init__()\n",
    "        self.size = size # a list\n",
    "  \n",
    "    def forward(self, x):\n",
    "        assert x.shape[1] == np.prod(self.size)\n",
    "        return x.view(x.shape[0], *self.size)\n",
    "\n",
    "# This module flattens an input (tensor -> matrix) by blending dimensions \n",
    "# beyond the batch size.\n",
    "class Flatten(nn.Module):\n",
    "    def __init__(self):\n",
    "        super(Flatten, self).__init__()\n",
    "  \n",
    "    def forward(self, x):\n",
    "        return x.view(x.shape[0], -1)"
   ]
  },
  {
   "cell_type": "code",
   "execution_count": 3,
   "id": "b8e49dc0",
   "metadata": {},
   "outputs": [],
   "source": [
    "#this is our Custom CNN constructer; given the selection of hyperparameters it constructs a corresponding\n",
    "#CNN architecture, ready for train and evaluation on the Digits dataset\n",
    "class CustomCNN():\n",
    "    \n",
    "    def __init__(self, num_filters, kernel_size, activation_func, pooling_type, mlp_neurons_num, num_classes=10):\n",
    "        self.mlp_neurons_num = mlp_neurons_num\n",
    "        self.num_classes = num_classes\n",
    "        \n",
    "        self.reshape = Reshape(size=(1,8,8))\n",
    "        \n",
    "        self.flatten = Flatten()\n",
    "        \n",
    "        self.conv = nn.Conv2d(in_channels=1,\n",
    "                            out_channels=num_filters,\n",
    "                            kernel_size=kernel_size,\n",
    "                            stride=1,\n",
    "                            padding=1 if kernel_size==3 else 2)\n",
    "        \n",
    "        activations = {'relu':nn.ReLU(),\n",
    "                       'sigmoid':nn.Sigmoid(),\n",
    "                       'tanh':nn.Tanh(),\n",
    "                       'softplus':nn.Softplus(),\n",
    "                       'elu':nn.ELU()}\n",
    "        self.activation = activations[activation_func]\n",
    "        \n",
    "        \n",
    "        poolings = {'identity':nn.Identity(),\n",
    "                   'avg':nn.AvgPool2d(kernel_size=2),\n",
    "                   'max':nn.MaxPool2d(kernel_size=2)}\n",
    "        self.pooling = poolings[pooling_type]\n",
    "        \n",
    "        \n",
    "        \n",
    "    def compile_cnn(self):\n",
    "        return nn.Sequential(self.reshape,\n",
    "                            self.conv,\n",
    "                            self.activation,\n",
    "                            self.pooling,\n",
    "                            self.flatten,\n",
    "                            nn.LazyLinear(out_features=self.mlp_neurons_num),\n",
    "                            self.activation,\n",
    "                            nn.LazyLinear(out_features=self.num_classes),\n",
    "                            nn.Softmax(dim=1))"
   ]
  },
  {
   "cell_type": "markdown",
   "id": "ceb04834",
   "metadata": {},
   "source": [
    "Now we test our CustomCNN class, to see if it will construct a CNN architecture for a given sample set of hyperparameters, and if it will forward pass a random input tensor, outputing the proper shape (batch_size x num_classes), (64x10 in our case)."
   ]
  },
  {
   "cell_type": "code",
   "execution_count": 4,
   "id": "b17af03e",
   "metadata": {},
   "outputs": [],
   "source": [
    "hyperparameters = {'num_filters':8, \n",
    "                  'kernel_size':3,\n",
    "                  'activation_func':'relu',\n",
    "                  'pooling_type':'avg',\n",
    "                  'mlp_neurons_num':10}"
   ]
  },
  {
   "cell_type": "code",
   "execution_count": 5,
   "id": "060bb2de",
   "metadata": {},
   "outputs": [],
   "source": [
    "SampleCNN = CustomCNN(**hyperparameters).compile_cnn()"
   ]
  },
  {
   "cell_type": "code",
   "execution_count": 6,
   "id": "ac54b4f3",
   "metadata": {},
   "outputs": [
    {
     "name": "stdout",
     "output_type": "stream",
     "text": [
      "Sequential(\n",
      "  (0): Reshape()\n",
      "  (1): Conv2d(1, 8, kernel_size=(3, 3), stride=(1, 1), padding=(1, 1))\n",
      "  (2): ReLU()\n",
      "  (3): AvgPool2d(kernel_size=2, stride=2, padding=0)\n",
      "  (4): Flatten()\n",
      "  (5): LazyLinear(in_features=0, out_features=10, bias=True)\n",
      "  (6): ReLU()\n",
      "  (7): LazyLinear(in_features=0, out_features=10, bias=True)\n",
      "  (8): Softmax(dim=1)\n",
      ")\n"
     ]
    }
   ],
   "source": [
    "print(SampleCNN)"
   ]
  },
  {
   "cell_type": "code",
   "execution_count": 7,
   "id": "7190d225",
   "metadata": {},
   "outputs": [
    {
     "data": {
      "text/plain": [
       "torch.Size([64, 10])"
      ]
     },
     "execution_count": 7,
     "metadata": {},
     "output_type": "execute_result"
    }
   ],
   "source": [
    "sample_output = SampleCNN(torch.randn(64, 64))\n",
    "sample_output.shape"
   ]
  },
  {
   "cell_type": "markdown",
   "id": "9d077eaa",
   "metadata": {},
   "source": [
    "## Part 2\n",
    "\n",
    "Now that we saw that our Custom CNN Compiler does it's job, we load the Digits dataset and prepare it for training, validation and testing."
   ]
  },
  {
   "cell_type": "code",
   "execution_count": 8,
   "id": "5dbe3922",
   "metadata": {},
   "outputs": [],
   "source": [
    "import os\n",
    "\n",
    "import matplotlib.pyplot as plt\n",
    "\n",
    "from sklearn.datasets import load_digits\n",
    "from sklearn import datasets\n",
    "from torch.utils.data import Dataset, DataLoader"
   ]
  },
  {
   "cell_type": "code",
   "execution_count": 9,
   "id": "7cdb9579",
   "metadata": {},
   "outputs": [],
   "source": [
    "# This is a class for the dataset of small (8px x 8px) digits.\n",
    "# Please try to understand in details how it works!\n",
    "class Digits(Dataset):\n",
    "    \"\"\"Scikit-Learn Digits dataset.\"\"\"\n",
    "\n",
    "    def __init__(self, mode='train', transforms=None):\n",
    "        digits = load_digits()\n",
    "        if mode == 'train':\n",
    "            self.data = digits.data[:1000].astype(np.float32)\n",
    "            self.targets = digits.target[:1000]\n",
    "        elif mode == 'val':\n",
    "            self.data = digits.data[1000:1350].astype(np.float32)\n",
    "            self.targets = digits.target[1000:1350]\n",
    "        else:\n",
    "            self.data = digits.data[1350:].astype(np.float32)\n",
    "            self.targets = digits.target[1350:]\n",
    "\n",
    "        self.transforms = transforms\n",
    "\n",
    "    def __len__(self):\n",
    "        return len(self.data)\n",
    "\n",
    "    def __getitem__(self, idx):\n",
    "        sample_x = self.data[idx]\n",
    "        sample_y = self.targets[idx]\n",
    "        if self.transforms:\n",
    "            sample_x = self.transforms(sample_x)\n",
    "        return (sample_x, sample_y)"
   ]
  },
  {
   "cell_type": "code",
   "execution_count": 10,
   "id": "865bf132",
   "metadata": {},
   "outputs": [
    {
     "data": {
      "image/png": "[encoded data removed]",
      "text/plain": [
       "<Figure size 288x288 with 16 Axes>"
      ]
     },
     "metadata": {
      "needs_background": "light"
     },
     "output_type": "display_data"
    }
   ],
   "source": [
    "# Here, we plot some images (8px x 8px).\n",
    "digits = load_digits()\n",
    "x = digits.data[:16].astype(np.float32)\n",
    "\n",
    "fig_data, axs = plt.subplots(4,4,figsize=(4, 4))\n",
    "fig_data.tight_layout()\n",
    "\n",
    "for i in range(4):\n",
    "    for j in range(4):\n",
    "        img = np.reshape(x[4*i+j],(8,8))\n",
    "        axs[i,j].imshow(img, cmap='gray')\n",
    "        axs[i,j].axis('off')"
   ]
  },
  {
   "cell_type": "markdown",
   "id": "b3374e09",
   "metadata": {},
   "source": [
    "## Part 3\n",
    "\n",
    "In this part we will use the ClassifierNeuralNet class, along with the train and evaluate function from the previous exercise, modify them to be used with our Custom CNN builder and for neuroevolution (i.e. genetic algorithms).\n",
    "\n",
    "\n",
    "### Part 3.1\n",
    "\n",
    "Here we just import the ClassifierNeuralNet form the previous exercise - with a small change: in this case we'll be using CrossEntropyLoss instead of NLLLoss (since in this case we are receiving the softmax as an input, not the log-softmax!)"
   ]
  },
  {
   "cell_type": "code",
   "execution_count": 11,
   "id": "2990c3bc",
   "metadata": {},
   "outputs": [],
   "source": [
    "# Implementing a neural network (NN) classifier. \n",
    "class ClassifierNeuralNet(nn.Module):\n",
    "    def __init__(self, classnet):\n",
    "        super(ClassifierNeuralNet, self).__init__()\n",
    "        # We provide a sequential module with layers and activations\n",
    "        self.classnet = classnet\n",
    "        # The loss function\n",
    "        self.cross_e = nn.CrossEntropyLoss(reduction='none')#it requires softmax as input!!\n",
    "\n",
    "    # This function classifies an image x to a class.\n",
    "    # The output must be a class label (long).\n",
    "    def classify(self, x):\n",
    "        #using the sofrmax outputs of our network, we first compute the probability\n",
    "        #values for each class\n",
    "        y_logit = self.classnet(x)\n",
    "        #then we select the class with the highest probability values\n",
    "        y_pred = torch.argmax(y_logit, dim=1).type(torch.long)\n",
    "        return y_pred\n",
    "\n",
    "    # This function is crucial for a module in PyTorch.\n",
    "    # In our framework, this class outputs a value of the loss function.\n",
    "    def forward(self, x, y, reduction='avg'):\n",
    "        #here the loss function compares the softmax output values of the neural net\n",
    "        #prediction with ground-truth labels which is a 0-1 vector, with the only 1 in the\n",
    "        #place of the corresponding label\n",
    "        loss = self.cross_e(self.classnet(x), y.type(torch.long))\n",
    "        #using the reduction we either sum the loss over the batch, or find the mean value\n",
    "        if reduction == 'sum':\n",
    "            return loss.sum()\n",
    "        else:\n",
    "            return loss.mean()"
   ]
  },
  {
   "cell_type": "markdown",
   "id": "de84d601",
   "metadata": {},
   "source": [
    "### Part 3.2\n",
    "\n",
    "Here we use the evaluation function from the previous exercise, with some modifications regarding the neuroevolution.\n",
    "\n",
    "When evaluating on the validation set during the neuroevolution process, we use an updated classification error function, which we look to minimize:\n",
    "\n",
    "Objective = ClassError + $0.01\\frac{N_p}{N_\\max},$\n",
    "\n",
    "where $N_p$ is the number of weights of the current model, and $N_\\max$ is a number of weights of the largest possible NN in the search space. \n",
    "\n",
    "In our case we estimate $N_\\max$ to be for the configuration\n",
    "\n",
    "    biggest_cnn = {'num_filters':32, \n",
    "              'kernel_size':5,\n",
    "              'activation_func':anything,\n",
    "              'pooling_type':'identity',\n",
    "              'mlp_neurons_num':100}\n",
    "              \n",
    "\n",
    "totalling 206 742 trainable weights (and biases): 832 from convolution, 204 900 for Linear 1, and 1 010 for Linear 2."
   ]
  },
  {
   "cell_type": "code",
   "execution_count": 12,
   "id": "b318d854",
   "metadata": {},
   "outputs": [],
   "source": [
    "def evaluation(test_loader, name=None, model_best=None, epoch=None, neuroevolution=False):\n",
    "    # If available, load the best performing model\n",
    "    if model_best is None:\n",
    "        model_best = torch.load(name + '.model')\n",
    "\n",
    "    model_best.eval()# set the model to the evaluation mode\n",
    "    loss_test = 0.\n",
    "    loss_error = 0.\n",
    "    N = 0.\n",
    "    # start evaluation\n",
    "    for indx_batch, (test_batch, test_targets) in enumerate(test_loader):\n",
    "        # loss (nll)\n",
    "        loss_test_batch = model_best.forward(test_batch, test_targets, reduction='sum')\n",
    "        loss_test = loss_test + loss_test_batch.item()\n",
    "        # classification error\n",
    "        y_pred = model_best.classify(test_batch)\n",
    "        e = 1.*(y_pred == test_targets)\n",
    "        loss_error = loss_error + (1. - e).sum().item()\n",
    "        if neuroevolution:\n",
    "            num_weights = sum(p.numel() for p in model_best.parameters() if p.requires_grad)\n",
    "            largest_net_weights = 206742\n",
    "            loss_error += .01*(num_weights/largest_net_weights)\n",
    "        # the number of examples\n",
    "        N = N + test_batch.shape[0]\n",
    "    # divide by the number of examples\n",
    "    loss_test = loss_test / N\n",
    "    loss_error = loss_error / N\n",
    "\n",
    "# Print the performance\n",
    "    if epoch is None:\n",
    "        print(f'-> FINAL PERFORMANCE: cross_e={loss_test}, ce={loss_error}')\n",
    "    else:\n",
    "        if epoch % 10 == 0 and not neuroevolution:\n",
    "            print(f'Epoch: {epoch}, val cross_e={loss_test}, val ce={loss_error}')\n",
    "\n",
    "    return loss_test, loss_error\n",
    "\n",
    "# An auxiliary function for plotting the performance curves\n",
    "def plot_curve(name, signal, file_name='curve.pdf', xlabel='epochs', ylabel='cross_e', color='b-', test_eval=None):\n",
    "    # plot the curve\n",
    "    plt.plot(np.arange(len(signal)), signal, color, linewidth='3', label=ylabel +' val')\n",
    "    # if available, add the final (test) performance\n",
    "    if test_eval is not None:\n",
    "        plt.hlines(test_eval, xmin=0, xmax=len(signal), linestyles='dashed', label=ylabel +' test')\n",
    "        plt.text(len(signal), test_eval, \"{:.3f}\".format(test_eval),)\n",
    "        # set x- and ylabels, add legend, save the figure\n",
    "        plt.xlabel(xlabel), plt.ylabel(ylabel)\n",
    "        plt.legend()\n",
    "        plt.savefig(name + file_name, bbox_inches='tight')\n",
    "        plt.show()"
   ]
  },
  {
   "cell_type": "markdown",
   "id": "311e2d14",
   "metadata": {},
   "source": [
    "### Part 3.3\n",
    "\n",
    "Here we include and modify the training function from the previous exercise to be used in neuroevolution. Since during the neuroevolution we'll be training a bunch of custom CNNs for only 10 epochs, we won't be saving the models, and won't be using the patience parameter. In this case we're interested only in the lowest classification error on the validation set, which will be compared to other custom CNN architecutres in the population pool, in a search for best-performing configuration."
   ]
  },
  {
   "cell_type": "code",
   "execution_count": 13,
   "id": "c8e785a6",
   "metadata": {},
   "outputs": [],
   "source": [
    "# The training procedure\n",
    "def training(name, num_epochs, model, optimizer, training_loader, val_loader, max_patience=None, neuroevolution=False):\n",
    "    cross_e_val = []\n",
    "    error_val = []\n",
    "    best_cross_e = 1000.\n",
    "    patience = 0\n",
    "    \n",
    "  # Main training loop\n",
    "    for e in range(num_epochs+1):\n",
    "        model.train() # set the model to the training mode\n",
    "        # load batches\n",
    "        for indx_batch, (batch, targets) in enumerate(training_loader):\n",
    "          # calculate the forward pass (loss function for given images and labels)\n",
    "          loss = model.forward(batch, targets)\n",
    "          # remember we need to zero gradients! Just in case!\n",
    "          optimizer.zero_grad()\n",
    "          # calculate backward pass\n",
    "          loss.backward(retain_graph=True)\n",
    "          # run the optimizer\n",
    "          optimizer.step()\n",
    "\n",
    "        # Validation: Evaluate the model on the validation data\n",
    "        loss_e, error_e = evaluation(val_loader, model_best=model, epoch=e, neuroevolution=neuroevolution)\n",
    "        cross_e_val.append(loss_e)  # save for plotting\n",
    "        error_val.append(error_e)  # save for plotting\n",
    "\n",
    "        \n",
    "        if not neuroevolution:\n",
    "            # Early-stopping: update the best performing model and break training if no \n",
    "            # progress is observed.\n",
    "            if e == 0:\n",
    "                torch.save(model, name + '.model')\n",
    "                best_nll = loss_e\n",
    "            else:\n",
    "                if loss_e < best_nll:\n",
    "                    torch.save(model, name + '.model')\n",
    "                    best_nll = loss_e\n",
    "                    patience = 0\n",
    "                else:\n",
    "                    patience = patience + 1\n",
    "        \n",
    "            if patience > max_patience:\n",
    "                break\n",
    "\n",
    "  \n",
    "    if not neuroevolution:\n",
    "        # Return CrossEntropy and classification error\n",
    "        cross_e_val = np.asarray(cross_e_val)\n",
    "        error_val = np.asarray(error_val)\n",
    "        return cross_e_val, error_val\n",
    "    else:\n",
    "        return np.min(error_val)"
   ]
  },
  {
   "cell_type": "markdown",
   "id": "60d3ae5d",
   "metadata": {},
   "source": [
    "### Part 3.4\n",
    "\n",
    "Here we just initialize train. val. and test sets, and the corresponding Data Loaders."
   ]
  },
  {
   "cell_type": "code",
   "execution_count": 18,
   "id": "b8683bb5",
   "metadata": {},
   "outputs": [],
   "source": [
    "# Initialize training, validation and test sets.\n",
    "train_data = Digits(mode='train')\n",
    "val_data = Digits(mode='val')\n",
    "test_data = Digits(mode='test')\n",
    "\n",
    "# Initialize data loaders.\n",
    "training_loader = DataLoader(train_data, batch_size=64, shuffle=True)\n",
    "val_loader = DataLoader(val_data, batch_size=64, shuffle=False)\n",
    "test_loader = DataLoader(test_data, batch_size=64, shuffle=False)"
   ]
  },
  {
   "cell_type": "markdown",
   "id": "6c2a7794",
   "metadata": {},
   "source": [
    "### Part 3.5\n",
    "\n",
    "In this part we combine our Custom CNN constructor, with some code from the previous exercise for running the full training and evaluation procedure for the given architecture. Here we propose a sample set of hyperparameters, to check if our Custom CNN constructor is compatible with the given training and evaluation procedures, i.e. can we get a fully-trained and validated CNN just by providing a dictionary of hyperparameters."
   ]
  },
  {
   "cell_type": "code",
   "execution_count": 19,
   "id": "779b9955",
   "metadata": {},
   "outputs": [],
   "source": [
    "#Initialize sample CNN architecture hyperparameters\n",
    "sample_hyperparameters = {'num_filters':8, \n",
    "                          'kernel_size':3,\n",
    "                          'activation_func':'relu',\n",
    "                          'pooling_type':'avg',\n",
    "                          'mlp_neurons_num':10}"
   ]
  },
  {
   "cell_type": "code",
   "execution_count": 20,
   "id": "daf59628",
   "metadata": {},
   "outputs": [],
   "source": [
    "def train_and_evaluate_full(hyperparameters, name, num_epochs=1000, max_patience=20):\n",
    "    \n",
    "    #Initialize training hpyerparameters\n",
    "    lr = 1e-3 # learning rate\n",
    "    wd = 1e-5 # weight decay\n",
    "    \n",
    "    # Create a folder if necessary\n",
    "    results_dir = os.getcwd()\n",
    "    result_dir = os.path.join(results_dir, 'results', name)\n",
    "    if not(os.path.exists(result_dir)):\n",
    "        os.makedirs(result_dir)\n",
    "        \n",
    "    # Init ClassifierNN\n",
    "    classnet = CustomCNN(**hyperparameters).compile_cnn()\n",
    "    model = ClassifierNeuralNet(classnet)\n",
    "    \n",
    "    # Init OPTIMIZER (here we use ADAMAX)\n",
    "    optimizer = torch.optim.Adamax([p for p in model.parameters() if p.requires_grad == True], lr=lr, weight_decay=wd)\n",
    "    \n",
    "    # Training procedure\n",
    "    cross_e_val, error_val = training(name=name,\n",
    "                                    num_epochs=num_epochs,\n",
    "                                    model=model,\n",
    "                                    optimizer=optimizer,\n",
    "                                    training_loader=training_loader,\n",
    "                                    max_patience=max_patience,\n",
    "                                    val_loader=val_loader)\n",
    "\n",
    "    # The final evaluation (on the test set)\n",
    "    test_loss, test_error = evaluation(name=name, test_loader=test_loader)\n",
    "    \n",
    "    # write the results to a file\n",
    "    f = open(result_dir + name + '_test_loss.txt', \"w\")\n",
    "    f.write('CrossEntropy: ' + str(test_loss) + '\\nCE: ' + str(test_error))\n",
    "    f.close()\n",
    "\n",
    "    # create curves\n",
    "    plot_curve(result_dir + name, cross_e_val, file_name='_cross_e_val_curve.pdf', ylabel='cross_e', test_eval=test_loss)\n",
    "    plot_curve(result_dir + name, error_val, file_name='_ca_val_curve.pdf', ylabel='ce', color='r-', test_eval=test_error)\n"
   ]
  },
  {
   "cell_type": "code",
   "execution_count": 21,
   "id": "13c6663e",
   "metadata": {},
   "outputs": [
    {
     "name": "stdout",
     "output_type": "stream",
     "text": [
      "Epoch: 0, val cross_e=2.283915579659598, val ce=0.7857142857142857\n",
      "Epoch: 10, val cross_e=2.053319647652762, val ce=0.48857142857142855\n",
      "Epoch: 20, val cross_e=1.8691698237827845, val ce=0.3514285714285714\n",
      "Epoch: 30, val cross_e=1.8067624010358538, val ce=0.3028571428571429\n",
      "Epoch: 40, val cross_e=1.7374926103864397, val ce=0.24\n",
      "Epoch: 50, val cross_e=1.6906974138532367, val ce=0.19142857142857142\n",
      "Epoch: 60, val cross_e=1.671537857055664, val ce=0.18857142857142858\n",
      "Epoch: 70, val cross_e=1.6607787758963448, val ce=0.1742857142857143\n",
      "Epoch: 80, val cross_e=1.6492989567347935, val ce=0.16857142857142857\n",
      "Epoch: 90, val cross_e=1.6468441881452287, val ce=0.17714285714285713\n",
      "Epoch: 100, val cross_e=1.640567834036691, val ce=0.17142857142857143\n",
      "Epoch: 110, val cross_e=1.6419567326136997, val ce=0.17714285714285713\n",
      "Epoch: 120, val cross_e=1.6356113106863839, val ce=0.16857142857142857\n",
      "Epoch: 130, val cross_e=1.6331190490722656, val ce=0.1657142857142857\n",
      "Epoch: 140, val cross_e=1.6320360892159598, val ce=0.16285714285714287\n",
      "Epoch: 150, val cross_e=1.6290004403250558, val ce=0.16857142857142857\n",
      "Epoch: 160, val cross_e=1.6263691929408481, val ce=0.1657142857142857\n",
      "Epoch: 170, val cross_e=1.6238619341169085, val ce=0.16285714285714287\n",
      "Epoch: 180, val cross_e=1.6239987182617188, val ce=0.1657142857142857\n",
      "Epoch: 190, val cross_e=1.6273594120570591, val ce=0.16857142857142857\n",
      "Epoch: 200, val cross_e=1.6270541599818638, val ce=0.16857142857142857\n",
      "Epoch: 210, val cross_e=1.6213471003941127, val ce=0.16285714285714287\n",
      "Epoch: 220, val cross_e=1.6243579864501954, val ce=0.16285714285714287\n",
      "Epoch: 230, val cross_e=1.6185490417480468, val ce=0.15714285714285714\n",
      "Epoch: 240, val cross_e=1.619259763445173, val ce=0.15714285714285714\n",
      "-> FINAL PERFORMANCE: cross_e=1.6716114359947392, ce=0.21252796420581654\n"
     ]
    },
    {
     "data": {
      "image/png": "[encoded data removed]",
      "text/plain": [
       "<Figure size 432x288 with 1 Axes>"
      ]
     },
     "metadata": {
      "needs_background": "light"
     },
     "output_type": "display_data"
    },
    {
     "data": {
      "image/png": "[encoded data removed]",
      "text/plain": [
       "<Figure size 432x288 with 1 Axes>"
      ]
     },
     "metadata": {
      "needs_background": "light"
     },
     "output_type": "display_data"
    }
   ],
   "source": [
    "train_and_evaluate_full(hyperparameters=sample_hyperparameters, name='sample_cnn')"
   ]
  },
  {
   "cell_type": "markdown",
   "id": "2aeb7f3c",
   "metadata": {},
   "source": [
    "We see that our pipline works, and that we can use it 'partially' to quickly train many different custom CNNs, proposed by the genetic algorithm, and then perform a full training and evaluation procedure on the best performing proposed CNN architecture.\n",
    "\n",
    "\n",
    "We note that this sample architecture gave a classification error of 0.213. Can we do better using neuroevolution? That is, can we, using a genetic/evolutionary algorithm to find an architecture which will surpass given sample architecture?"
   ]
  },
  {
   "cell_type": "markdown",
   "id": "faca1aea",
   "metadata": {},
   "source": [
    "## Part 4 - Genetic Algorithm\n",
    "\n",
    "### Part 4.1\n",
    "\n",
    "In the final (and main) part of this assignment, we use a genetic algorithm to try and search for the best performing CNN architecture, i.e. the set of hyperparameters producing the best performing CNN on the test set."
   ]
  },
  {
   "cell_type": "code",
   "execution_count": 22,
   "id": "dbcfe7c9",
   "metadata": {},
   "outputs": [],
   "source": [
    "import random"
   ]
  },
  {
   "cell_type": "markdown",
   "id": "9d913ec2",
   "metadata": {},
   "source": [
    "This is a reduced version of previous 'train_and_evaluate_full' function, with the goal to quickly train and validate a proposed CNN architecture and output its lowest classification error score. "
   ]
  },
  {
   "cell_type": "code",
   "execution_count": 23,
   "id": "369f052e",
   "metadata": {},
   "outputs": [],
   "source": [
    "def train_and_evaluate(hyperparameters, num_epochs=10):\n",
    "    \n",
    "    lr = 1e-3 # learning rate\n",
    "    wd = 1e-5 # weight decay\n",
    "    \n",
    "    # Init ClassifierNN\n",
    "    classnet = CustomCNN(**hyperparameters).compile_cnn()\n",
    "    model = ClassifierNeuralNet(classnet)\n",
    "\n",
    "    \n",
    "    # Init OPTIMIZER (here we use ADAMAX)\n",
    "    optimizer = torch.optim.Adamax([p for p in model.parameters() if p.requires_grad == True], lr=lr, weight_decay=wd) \n",
    "\n",
    "   \n",
    "    # Training procedure\n",
    "    error_val = training(name=None,\n",
    "                        num_epochs=num_epochs,\n",
    "                        model=model,\n",
    "                        optimizer=optimizer,\n",
    "                        training_loader=training_loader,\n",
    "                        val_loader=val_loader,\n",
    "                        neuroevolution=True)\n",
    "    return error_val"
   ]
  },
  {
   "cell_type": "code",
   "execution_count": 24,
   "id": "dd0ca88a",
   "metadata": {},
   "outputs": [],
   "source": [
    "hyperparams_grid = {'num_filters':[8, 16, 32],\n",
    "                'kernel_size':[3, 5],\n",
    "                'activation_func':['relu', 'sigmoid', 'tanh', 'softplus', 'elu'],\n",
    "                'pooling_type':['identity', 'avg', 'max'],\n",
    "                'mlp_neurons_num':list(range(10, 101, 10))}"
   ]
  },
  {
   "cell_type": "markdown",
   "id": "24438a3e",
   "metadata": {},
   "source": [
    "In this implementation of genetic algorithm, each 'individual' will represent some combination of hyperparameters from the  given grid. The 'population pool' will then consists of these sets of individuals. For every individual we will associate a 'cost' - value of the objective function on the validation set, from the CNN obtained by the parameters of the individual. This cost will determine the individual's survival rate - individuals producing CNNs with low objective function/classification error scores will have a higher chances to survive and stay in the population pool."
   ]
  },
  {
   "cell_type": "code",
   "execution_count": 29,
   "id": "793dc78b",
   "metadata": {},
   "outputs": [],
   "source": [
    "#function to generate the initial population pool, by randomly assigning hyperparameter values from the given grid\n",
    "def generate_hyperparms():\n",
    "    init_hyperparams = {}\n",
    "    for key, value in hyperparams_grid.items():\n",
    "        init_hyperparams[key] = random.choice(value)\n",
    "    return init_hyperparams"
   ]
  },
  {
   "cell_type": "code",
   "execution_count": 25,
   "id": "11f9cd17",
   "metadata": {},
   "outputs": [],
   "source": [
    "#function that 'mutates' the individual, i.e. the hyperparameters set, by randomly selecting two hyperparameters and \n",
    "#randomly assigning new values to them\n",
    "def mutate_hyperparams(hyperparams_dict):\n",
    "    \n",
    "    hyperpar1, hyperpar2 = random.sample(hyperparams_grid.keys(), k=2)\n",
    "    hyperparams_dict[hyperpar1] = random.choice(hyperparams_grid[hyperpar1])\n",
    "    hyperparams_dict[hyperpar2] = random.choice(hyperparams_grid[hyperpar2])\n",
    "\n",
    "    return hyperparams_dict"
   ]
  },
  {
   "cell_type": "code",
   "execution_count": 26,
   "id": "307e9bc3",
   "metadata": {},
   "outputs": [],
   "source": [
    "#function that create two offspring individuals from to parent individuals, by copying one part of the hyperparameters\n",
    "#from the first parent, and the rest form the second; and vice versa for the second offspring\n",
    "def create_offsprings(parent1, parent2):\n",
    "    offspring1 = {}\n",
    "    offspring2 = {}\n",
    "    \n",
    "    for i, key in enumerate(hyperparams_grid.keys()):\n",
    "        if i % 2 == 0:\n",
    "            offspring1[key] = parent1[key]\n",
    "            offspring2[key] = parent2[key]\n",
    "        else:\n",
    "            offspring1[key] = parent2[key]\n",
    "            offspring2[key] = parent1[key]\n",
    "\n",
    "    return offspring1, offspring2"
   ]
  },
  {
   "cell_type": "code",
   "execution_count": 31,
   "id": "e2f07706",
   "metadata": {},
   "outputs": [],
   "source": [
    "#Now we finally propose a genetic algorithm for neuroevolution.\n",
    "def gen_alg(start_population=4, max_iter=25, patience=5, mutation_prob=0.05):\n",
    "    \n",
    "    population_pool = []\n",
    "    individual_costs = []\n",
    "    current_patience = patience\n",
    "    \n",
    "    #First we (randomly) create an inital population pool, construct corresponding CNNs from then, and then quickly\n",
    "    #train and validate them to obtain their cost score.\n",
    "    print('Forming the initial population...')\n",
    "    for _ in range(start_population):\n",
    "        init_hyperparms = generate_hyperparms()\n",
    "        population_pool.append(init_hyperparms)\n",
    "        ind_cost = train_and_evaluate(hyperparameters=init_hyperparms)\n",
    "        individual_costs.append(ind_cost)\n",
    "        \n",
    "    best_idx = np.argmin(individual_costs)\n",
    "    best_configuration = population_pool[best_idx]\n",
    "    lowest_obj_func_val = individual_costs[best_idx]\n",
    "    print('Population number:', len(population_pool), 'Lowest obj_func_val:', lowest_obj_func_val)\n",
    "    print('---------------------------------')\n",
    "   \n",
    "        \n",
    "    i = 1\n",
    "    while i <= max_iter:\n",
    "        print('iter:', i)\n",
    "        #we select two parents from the population at random, to produce two offsprings,\n",
    "        #for which we also compute the cost score.\n",
    "        parent1, parent2 = random.sample(population_pool, 2)\n",
    "        offspring1, offspring2 = create_offsprings(parent1, parent2)\n",
    "        population_pool += [offspring1, offspring2]\n",
    "        offspring1_cost = train_and_evaluate(hyperparameters=offspring1)\n",
    "        offspring2_cost = train_and_evaluate(hyperparameters=offspring2)\n",
    "        individual_costs += [offspring1_cost, offspring2_cost]\n",
    "\n",
    "        #we go through the whole population pool to see if some individual is going to mutate;\n",
    "        #if this happens, we re-compute the cost score for this mutated individual\n",
    "        for k, individual in enumerate(population_pool):\n",
    "            if random.random() < mutation_prob:\n",
    "                mutated_individual = mutate_hyperparams(individual)\n",
    "                population_pool[k] = mutated_individual\n",
    "                individual_costs[k] = train_and_evaluate(hyperparameters=mutated_individual)\n",
    "                            \n",
    "       \n",
    "        if i < max_iter:\n",
    "            #based on the cost score, we assign a survival rate to each individual\n",
    "            #then we remove some individual from the population pool, where the individuals with high survival rates\n",
    "            #i.e. low cost scores have greater chances to survive and stay in the population pool\n",
    "            survival_rates = [1-ind_cost*.85 for ind_cost in individual_costs]\n",
    "            deletion_idx = [k for k in range(len(survival_rates)) if survival_rates[k] < random.random()]\n",
    "            population_pool = [individual for idx, individual in enumerate(population_pool) \n",
    "                               if idx not in deletion_idx]\n",
    "            individual_costs = [cost for idx, cost in enumerate(individual_costs) \n",
    "                               if idx not in deletion_idx]\n",
    "            \n",
    "        best_idx = np.argmin(individual_costs)\n",
    "        best_configuration = population_pool[best_idx]\n",
    "        new_lowest_obj_func_val = individual_costs[best_idx]\n",
    "        \n",
    "        #we also introduce the patience - if after several generations/iterations no new individual \n",
    "        #with a lower cost score is produced, we stop the algorithm\n",
    "        if new_lowest_obj_func_val < lowest_obj_func_val:\n",
    "            lowest_obj_func_val = new_lowest_obj_func_val\n",
    "            current_patience = patience\n",
    "        else:\n",
    "            current_patience -= 1\n",
    "            print('current patience:', current_patience)\n",
    "        \n",
    "        print('Population number:', len(population_pool), 'Lowest obj_func_val:', lowest_obj_func_val)\n",
    "        print('---------------------------------')\n",
    "        if current_patience == 0:\n",
    "            break\n",
    "            \n",
    "        new_individuals = []\n",
    "        i += 1\n",
    "    \n",
    "    #from the final population pool we select the best individual, i.e. the set of hyperparameters producing CNN\n",
    "    #that gives the best result on the validation set\n",
    "    print('Best hyperparameter configuration:') \n",
    "    print(best_configuration)\n",
    "    print('With the lowest objective function value:', lowest_obj_func_val)\n",
    "    return best_configuration, lowest_obj_func_val"
   ]
  },
  {
   "cell_type": "markdown",
   "id": "814e667a",
   "metadata": {},
   "source": [
    "## Part 4.2\n",
    "\n",
    "Now we run the genetic algorithm to try and search for (an approximation of) best possible configuration of hyperparameters. "
   ]
  },
  {
   "cell_type": "code",
   "execution_count": 32,
   "id": "aff4c2f8",
   "metadata": {
    "scrolled": true
   },
   "outputs": [
    {
     "name": "stdout",
     "output_type": "stream",
     "text": [
      "Forming the initial population...\n",
      "Population number: 4 Lowest obj_func_val: 0.04860185987504094\n",
      "---------------------------------\n",
      "iter: 1\n",
      "Population number: 5 Lowest obj_func_val: 0.03716957532991431\n",
      "---------------------------------\n",
      "iter: 2\n",
      "current patience: 4\n",
      "Population number: 7 Lowest obj_func_val: 0.03716957532991431\n",
      "---------------------------------\n",
      "iter: 3\n",
      "current patience: 3\n",
      "Population number: 8 Lowest obj_func_val: 0.03716957532991431\n",
      "---------------------------------\n",
      "iter: 4\n",
      "current patience: 2\n",
      "Population number: 8 Lowest obj_func_val: 0.03716957532991431\n",
      "---------------------------------\n",
      "iter: 5\n",
      "current patience: 1\n",
      "Population number: 9 Lowest obj_func_val: 0.03716957532991431\n",
      "---------------------------------\n",
      "iter: 6\n",
      "Population number: 9 Lowest obj_func_val: 0.02010271186862301\n",
      "---------------------------------\n",
      "iter: 7\n",
      "current patience: 4\n",
      "Population number: 11 Lowest obj_func_val: 0.02010271186862301\n",
      "---------------------------------\n",
      "iter: 8\n",
      "current patience: 3\n",
      "Population number: 12 Lowest obj_func_val: 0.02010271186862301\n",
      "---------------------------------\n",
      "iter: 9\n",
      "current patience: 2\n",
      "Population number: 11 Lowest obj_func_val: 0.02010271186862301\n",
      "---------------------------------\n",
      "iter: 10\n",
      "current patience: 1\n",
      "Population number: 13 Lowest obj_func_val: 0.02010271186862301\n",
      "---------------------------------\n",
      "iter: 11\n",
      "current patience: 0\n",
      "Population number: 14 Lowest obj_func_val: 0.02010271186862301\n",
      "---------------------------------\n",
      "Best hyperparameter configuration:\n",
      "{'num_filters': 32, 'kernel_size': 3, 'activation_func': 'relu', 'pooling_type': 'identity', 'mlp_neurons_num': 60}\n",
      "With the lowest objective function value: 0.02010271186862301\n"
     ]
    }
   ],
   "source": [
    "best_hyperparams, lowest_cost = gen_alg()"
   ]
  },
  {
   "cell_type": "code",
   "execution_count": 33,
   "id": "f81159ef",
   "metadata": {},
   "outputs": [
    {
     "data": {
      "text/plain": [
       "({'num_filters': 32,\n",
       "  'kernel_size': 3,\n",
       "  'activation_func': 'relu',\n",
       "  'pooling_type': 'identity',\n",
       "  'mlp_neurons_num': 60},\n",
       " 0.02010271186862301)"
      ]
     },
     "execution_count": 33,
     "metadata": {},
     "output_type": "execute_result"
    }
   ],
   "source": [
    "best_hyperparams, lowest_cost"
   ]
  },
  {
   "cell_type": "markdown",
   "id": "924e702a",
   "metadata": {},
   "source": [
    "Now that we found a better performing CNN using the genetic algorithm, we will use the corresponding set of hyperparameters to fully train this CNN and evaluate it on the test set. "
   ]
  },
  {
   "cell_type": "code",
   "execution_count": 35,
   "id": "8d26f6ad",
   "metadata": {
    "scrolled": true
   },
   "outputs": [
    {
     "name": "stdout",
     "output_type": "stream",
     "text": [
      "Epoch: 0, val cross_e=1.7497049168178014, val ce=0.19714285714285715\n",
      "Epoch: 10, val cross_e=1.5026964242117746, val ce=0.02857142857142857\n",
      "Epoch: 20, val cross_e=1.49975827898298, val ce=0.02857142857142857\n",
      "Epoch: 30, val cross_e=1.4979904283796037, val ce=0.037142857142857144\n",
      "Epoch: 40, val cross_e=1.4966121455601284, val ce=0.03142857142857143\n",
      "Epoch: 50, val cross_e=1.4963382611955915, val ce=0.02857142857142857\n",
      "Epoch: 60, val cross_e=1.495395736694336, val ce=0.02857142857142857\n",
      "Epoch: 70, val cross_e=1.4948741040910993, val ce=0.02857142857142857\n",
      "Epoch: 80, val cross_e=1.4947745404924666, val ce=0.02857142857142857\n",
      "Epoch: 90, val cross_e=1.4941260201590403, val ce=0.02857142857142857\n",
      "Epoch: 100, val cross_e=1.4938012259347098, val ce=0.02857142857142857\n",
      "Epoch: 110, val cross_e=1.4929813929966518, val ce=0.02857142857142857\n",
      "Epoch: 120, val cross_e=1.4925990295410156, val ce=0.02857142857142857\n",
      "Epoch: 130, val cross_e=1.4922860172816685, val ce=0.025714285714285714\n",
      "Epoch: 140, val cross_e=1.4917270769391742, val ce=0.025714285714285714\n",
      "Epoch: 150, val cross_e=1.4915370178222656, val ce=0.025714285714285714\n",
      "Epoch: 160, val cross_e=1.4911079842703683, val ce=0.025714285714285714\n",
      "Epoch: 170, val cross_e=1.4909407915387836, val ce=0.025714285714285714\n",
      "Epoch: 180, val cross_e=1.4903714316231864, val ce=0.025714285714285714\n",
      "Epoch: 190, val cross_e=1.490304696219308, val ce=0.025714285714285714\n",
      "Epoch: 200, val cross_e=1.4899774823869978, val ce=0.022857142857142857\n",
      "Epoch: 210, val cross_e=1.4895977456229075, val ce=0.022857142857142857\n",
      "Epoch: 220, val cross_e=1.489503195626395, val ce=0.02\n",
      "Epoch: 230, val cross_e=1.489231665475028, val ce=0.022857142857142857\n",
      "Epoch: 240, val cross_e=1.4890266636439733, val ce=0.02\n",
      "Epoch: 250, val cross_e=1.4888538578578403, val ce=0.02\n",
      "Epoch: 260, val cross_e=1.488642839704241, val ce=0.02\n",
      "Epoch: 270, val cross_e=1.488869596208845, val ce=0.02\n",
      "Epoch: 280, val cross_e=1.488268541608538, val ce=0.02\n",
      "Epoch: 290, val cross_e=1.4880795070103237, val ce=0.02\n",
      "Epoch: 300, val cross_e=1.488464595249721, val ce=0.02\n",
      "Epoch: 310, val cross_e=1.4884847368512835, val ce=0.02\n",
      "Epoch: 320, val cross_e=1.4892495945521764, val ce=0.022857142857142857\n",
      "Epoch: 330, val cross_e=1.4874065181187222, val ce=0.02\n",
      "Epoch: 340, val cross_e=1.4901407623291016, val ce=0.022857142857142857\n",
      "Epoch: 350, val cross_e=1.4875963701520647, val ce=0.02\n",
      "Epoch: 360, val cross_e=1.4883299473353795, val ce=0.022857142857142857\n",
      "Epoch: 370, val cross_e=1.4883084760393415, val ce=0.022857142857142857\n",
      "-> FINAL PERFORMANCE: cross_e=1.5398168030467876, ce=0.08277404921700224\n"
     ]
    },
    {
     "data": {
      "image/png": "[encoded data removed]",
      "text/plain": [
       "<Figure size 432x288 with 1 Axes>"
      ]
     },
     "metadata": {
      "needs_background": "light"
     },
     "output_type": "display_data"
    },
    {
     "data": {
      "image/png": "[encoded data removed]",
      "text/plain": [
       "<Figure size 432x288 with 1 Axes>"
      ]
     },
     "metadata": {
      "needs_background": "light"
     },
     "output_type": "display_data"
    }
   ],
   "source": [
    "train_and_evaluate_full(hyperparameters=best_hyperparams, name='best_cnn')"
   ]
  },
  {
   "cell_type": "markdown",
   "id": "61491a60",
   "metadata": {},
   "source": [
    "If we recall, the classification error on the inital 'sample_cnn' was 0.213. The classification error on the configuration obtained by using a genetic algorithm, i.e. neuroevolution, is 0.083 which is a vast improvement. "
   ]
  },
  {
   "cell_type": "code",
   "execution_count": null,
   "id": "2d92c329",
   "metadata": {},
   "outputs": [],
   "source": []
  }
 ],
 "metadata": {
  "kernelspec": {
   "display_name": "Python 3",
   "language": "python",
   "name": "python3"
  },
  "language_info": {
   "codemirror_mode": {
    "name": "ipython",
    "version": 3
   },
   "file_extension": ".py",
   "mimetype": "text/x-python",
   "name": "python",
   "nbconvert_exporter": "python",
   "pygments_lexer": "ipython3",
   "version": "3.8.8"
  }
 },
 "nbformat": 4,
 "nbformat_minor": 5
}
