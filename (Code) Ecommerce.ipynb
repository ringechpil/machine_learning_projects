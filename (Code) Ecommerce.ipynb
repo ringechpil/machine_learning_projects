{
 "cells": [
  {
   "cell_type": "markdown",
   "metadata": {},
   "source": [
    "### Problem Description\n",
    "\n",
    "We're given a dataset of an e-commerce company which sells clothes on-line, via website and mobile app. We're asked to predict how much money will a customer spend on a yearly basis, given the relevant data. Also, we want to see wheather doing transactions over website or app has bigger impact on customers' behaviour. "
   ]
  },
  {
   "cell_type": "markdown",
   "metadata": {},
   "source": [
    "### The Approach\n",
    "\n",
    "This project consists of the following steps:\n",
    "1. Performing an exploratory data analysis by visualizing the data\n",
    "2. Implementing linear regression to make predictions\n",
    "3. Building a simpler model using backward elimination"
   ]
  },
  {
   "cell_type": "markdown",
   "metadata": {},
   "source": [
    "### EDA"
   ]
  },
  {
   "cell_type": "code",
   "execution_count": 1,
   "metadata": {},
   "outputs": [],
   "source": [
    "import numpy as np\n",
    "import pandas as pd\n",
    "import seaborn as sns"
   ]
  },
  {
   "cell_type": "markdown",
   "metadata": {},
   "source": [
    "First, we import and explore the data."
   ]
  },
  {
   "cell_type": "code",
   "execution_count": 2,
   "metadata": {},
   "outputs": [
    {
     "data": {
      "text/html": [
       "<div>\n",
       "<style scoped>\n",
       "    .dataframe tbody tr th:only-of-type {\n",
       "        vertical-align: middle;\n",
       "    }\n",
       "\n",
       "    .dataframe tbody tr th {\n",
       "        vertical-align: top;\n",
       "    }\n",
       "\n",
       "    .dataframe thead th {\n",
       "        text-align: right;\n",
       "    }\n",
       "</style>\n",
       "<table border=\"1\" class=\"dataframe\">\n",
       "  <thead>\n",
       "    <tr style=\"text-align: right;\">\n",
       "      <th></th>\n",
       "      <th>Email</th>\n",
       "      <th>Address</th>\n",
       "      <th>Avatar</th>\n",
       "      <th>Avg. Session Length</th>\n",
       "      <th>Time on App</th>\n",
       "      <th>Time on Website</th>\n",
       "      <th>Length of Membership</th>\n",
       "      <th>Yearly Amount Spent</th>\n",
       "    </tr>\n",
       "  </thead>\n",
       "  <tbody>\n",
       "    <tr>\n",
       "      <th>0</th>\n",
       "      <td>mstephenson@fernandez.com</td>\n",
       "      <td>835 Frank Tunnel\\nWrightmouth, MI 82180-9605</td>\n",
       "      <td>Violet</td>\n",
       "      <td>34.497268</td>\n",
       "      <td>12.655651</td>\n",
       "      <td>39.577668</td>\n",
       "      <td>4.082621</td>\n",
       "      <td>587.951054</td>\n",
       "    </tr>\n",
       "    <tr>\n",
       "      <th>1</th>\n",
       "      <td>hduke@hotmail.com</td>\n",
       "      <td>4547 Archer Common\\nDiazchester, CA 06566-8576</td>\n",
       "      <td>DarkGreen</td>\n",
       "      <td>31.926272</td>\n",
       "      <td>11.109461</td>\n",
       "      <td>37.268959</td>\n",
       "      <td>2.664034</td>\n",
       "      <td>392.204933</td>\n",
       "    </tr>\n",
       "    <tr>\n",
       "      <th>2</th>\n",
       "      <td>pallen@yahoo.com</td>\n",
       "      <td>24645 Valerie Unions Suite 582\\nCobbborough, D...</td>\n",
       "      <td>Bisque</td>\n",
       "      <td>33.000915</td>\n",
       "      <td>11.330278</td>\n",
       "      <td>37.110597</td>\n",
       "      <td>4.104543</td>\n",
       "      <td>487.547505</td>\n",
       "    </tr>\n",
       "    <tr>\n",
       "      <th>3</th>\n",
       "      <td>riverarebecca@gmail.com</td>\n",
       "      <td>1414 David Throughway\\nPort Jason, OH 22070-1220</td>\n",
       "      <td>SaddleBrown</td>\n",
       "      <td>34.305557</td>\n",
       "      <td>13.717514</td>\n",
       "      <td>36.721283</td>\n",
       "      <td>3.120179</td>\n",
       "      <td>581.852344</td>\n",
       "    </tr>\n",
       "    <tr>\n",
       "      <th>4</th>\n",
       "      <td>mstephens@davidson-herman.com</td>\n",
       "      <td>14023 Rodriguez Passage\\nPort Jacobville, PR 3...</td>\n",
       "      <td>MediumAquaMarine</td>\n",
       "      <td>33.330673</td>\n",
       "      <td>12.795189</td>\n",
       "      <td>37.536653</td>\n",
       "      <td>4.446308</td>\n",
       "      <td>599.406092</td>\n",
       "    </tr>\n",
       "  </tbody>\n",
       "</table>\n",
       "</div>"
      ],
      "text/plain": [
       "                           Email  \\\n",
       "0      mstephenson@fernandez.com   \n",
       "1              hduke@hotmail.com   \n",
       "2               pallen@yahoo.com   \n",
       "3        riverarebecca@gmail.com   \n",
       "4  mstephens@davidson-herman.com   \n",
       "\n",
       "                                             Address            Avatar  \\\n",
       "0       835 Frank Tunnel\\nWrightmouth, MI 82180-9605            Violet   \n",
       "1     4547 Archer Common\\nDiazchester, CA 06566-8576         DarkGreen   \n",
       "2  24645 Valerie Unions Suite 582\\nCobbborough, D...            Bisque   \n",
       "3   1414 David Throughway\\nPort Jason, OH 22070-1220       SaddleBrown   \n",
       "4  14023 Rodriguez Passage\\nPort Jacobville, PR 3...  MediumAquaMarine   \n",
       "\n",
       "   Avg. Session Length  Time on App  Time on Website  Length of Membership  \\\n",
       "0            34.497268    12.655651        39.577668              4.082621   \n",
       "1            31.926272    11.109461        37.268959              2.664034   \n",
       "2            33.000915    11.330278        37.110597              4.104543   \n",
       "3            34.305557    13.717514        36.721283              3.120179   \n",
       "4            33.330673    12.795189        37.536653              4.446308   \n",
       "\n",
       "   Yearly Amount Spent  \n",
       "0           587.951054  \n",
       "1           392.204933  \n",
       "2           487.547505  \n",
       "3           581.852344  \n",
       "4           599.406092  "
      ]
     },
     "execution_count": 2,
     "metadata": {},
     "output_type": "execute_result"
    }
   ],
   "source": [
    "df_o = pd.read_csv('..\\Ecommerce Customers')\n",
    "df_o.head()"
   ]
  },
  {
   "cell_type": "markdown",
   "metadata": {},
   "source": [
    "We also want to make sure that we don't have any missing values."
   ]
  },
  {
   "cell_type": "code",
   "execution_count": 3,
   "metadata": {},
   "outputs": [
    {
     "name": "stdout",
     "output_type": "stream",
     "text": [
      "<class 'pandas.core.frame.DataFrame'>\n",
      "RangeIndex: 500 entries, 0 to 499\n",
      "Data columns (total 8 columns):\n",
      " #   Column                Non-Null Count  Dtype  \n",
      "---  ------                --------------  -----  \n",
      " 0   Email                 500 non-null    object \n",
      " 1   Address               500 non-null    object \n",
      " 2   Avatar                500 non-null    object \n",
      " 3   Avg. Session Length   500 non-null    float64\n",
      " 4   Time on App           500 non-null    float64\n",
      " 5   Time on Website       500 non-null    float64\n",
      " 6   Length of Membership  500 non-null    float64\n",
      " 7   Yearly Amount Spent   500 non-null    float64\n",
      "dtypes: float64(5), object(3)\n",
      "memory usage: 25.5+ KB\n"
     ]
    }
   ],
   "source": [
    "df_o.info()"
   ]
  },
  {
   "cell_type": "markdown",
   "metadata": {},
   "source": [
    "For this analysis, only the numerical values are importan to us; so we kick out the non-numerical values."
   ]
  },
  {
   "cell_type": "code",
   "execution_count": 4,
   "metadata": {},
   "outputs": [],
   "source": [
    "df = df_o[df_o.columns[df_o.dtypes != object]]"
   ]
  },
  {
   "cell_type": "code",
   "execution_count": 5,
   "metadata": {},
   "outputs": [
    {
     "name": "stdout",
     "output_type": "stream",
     "text": [
      "<class 'pandas.core.frame.DataFrame'>\n",
      "RangeIndex: 500 entries, 0 to 499\n",
      "Data columns (total 5 columns):\n",
      " #   Column                Non-Null Count  Dtype  \n",
      "---  ------                --------------  -----  \n",
      " 0   Avg. Session Length   500 non-null    float64\n",
      " 1   Time on App           500 non-null    float64\n",
      " 2   Time on Website       500 non-null    float64\n",
      " 3   Length of Membership  500 non-null    float64\n",
      " 4   Yearly Amount Spent   500 non-null    float64\n",
      "dtypes: float64(5)\n",
      "memory usage: 19.6 KB\n"
     ]
    }
   ],
   "source": [
    "df.info()"
   ]
  },
  {
   "cell_type": "markdown",
   "metadata": {},
   "source": [
    "Now we do some exploratory data analysis. "
   ]
  },
  {
   "cell_type": "code",
   "execution_count": 6,
   "metadata": {},
   "outputs": [
    {
     "data": {
      "text/plain": [
       "<seaborn.axisgrid.PairGrid at 0x11b41fd0>"
      ]
     },
     "execution_count": 6,
     "metadata": {},
     "output_type": "execute_result"
    },
    {
     "data": {
      "image/png": "[encoded data removed]",
      "text/plain": [
       "<Figure size 900x900 with 30 Axes>"
      ]
     },
     "metadata": {
      "needs_background": "light"
     },
     "output_type": "display_data"
    }
   ],
   "source": [
    "sns.pairplot(df)"
   ]
  },
  {
   "cell_type": "markdown",
   "metadata": {},
   "source": [
    "We can see a strong correlation between length of membership and money spent on a yearly basis. Also, we notice there's some correlation between time spent on the mobile app and money spent. Interestingly, it seems that time spent on website does not influence the money spent. Let's explore these correlations a bit more, using a heatmap."
   ]
  },
  {
   "cell_type": "code",
   "execution_count": 7,
   "metadata": {},
   "outputs": [
    {
     "data": {
      "text/plain": [
       "<matplotlib.axes._subplots.AxesSubplot at 0x13676880>"
      ]
     },
     "execution_count": 7,
     "metadata": {},
     "output_type": "execute_result"
    },
    {
     "data": {
      "image/png": "[encoded data removed]",
      "text/plain": [
       "<Figure size 432x288 with 2 Axes>"
      ]
     },
     "metadata": {
      "needs_background": "light"
     },
     "output_type": "display_data"
    }
   ],
   "source": [
    "sns.heatmap(df.corr())"
   ]
  },
  {
   "cell_type": "markdown",
   "metadata": {},
   "source": [
    "As we noticed, there is a considerable correlation betwen length of membership and money spent. The correlation between time on app and money spent is lesser, but still significant. The correlation between time on the website and money spent, not so. Now we'll explore these correlations using more interactive visualizations."
   ]
  },
  {
   "cell_type": "code",
   "execution_count": 8,
   "metadata": {},
   "outputs": [
    {
     "data": {
      "text/html": [
       "        <script type=\"text/javascript\">\n",
       "        window.PlotlyConfig = {MathJaxConfig: 'local'};\n",
       "        if (window.MathJax) {MathJax.Hub.Config({SVG: {font: \"STIX-Web\"}});}\n",
       "        if (typeof require !== 'undefined') {\n",
       "        require.undef(\"plotly\");\n",
       "        requirejs.config({\n",
       "            paths: {\n",
       "                'plotly': ['https://cdn.plot.ly/plotly-latest.min']\n",
       "            }\n",
       "        });\n",
       "        require(['plotly'], function(Plotly) {\n",
       "            window._Plotly = Plotly;\n",
       "        });\n",
       "        }\n",
       "        </script>\n",
       "        "
      ]
     },
     "metadata": {},
     "output_type": "display_data"
    },
    {
     "data": {
      "text/html": [
       "        <script type=\"text/javascript\">\n",
       "        window.PlotlyConfig = {MathJaxConfig: 'local'};\n",
       "        if (window.MathJax) {MathJax.Hub.Config({SVG: {font: \"STIX-Web\"}});}\n",
       "        if (typeof require !== 'undefined') {\n",
       "        require.undef(\"plotly\");\n",
       "        requirejs.config({\n",
       "            paths: {\n",
       "                'plotly': ['https://cdn.plot.ly/plotly-latest.min']\n",
       "            }\n",
       "        });\n",
       "        require(['plotly'], function(Plotly) {\n",
       "            window._Plotly = Plotly;\n",
       "        });\n",
       "        }\n",
       "        </script>\n",
       "        "
      ]
     },
     "metadata": {},
     "output_type": "display_data"
    }
   ],
   "source": [
    "import plotly as ply\n",
    "import cufflinks as cf\n",
    "\n",
    "ply.offline.init_notebook_mode(connected = True)\n",
    "cf.go_offline()"
   ]
  },
  {
   "cell_type": "code",
   "execution_count": 9,
   "metadata": {
    "scrolled": true
   },
   "outputs": [
    {
     "data": {
      "application/vnd.plotly.v1+json": {
       "config": {
        "linkText": "Export to plot.ly",
        "plotlyServerURL": "https://plot.ly",
        "showLink": true
       },
       "data": [
        {
         "line": {
          "color": "rgba(255, 153, 51, 1.0)",
          "dash": "solid",
          "shape": "linear",
          "width": 1.3
         },
         "marker": {
          "size": 12,
          "symbol": "circle"
         },
         "mode": "markers",
         "name": "Yearly Amount Spent",
         "text": "",
         "type": "scatter",
         "x": [
          4.0826206329529615,
          2.66403418213262,
          4.104543202376424,
          3.120178782748092,
          4.446308318351434,
          5.493507201364199,
          4.685017246570912,
          4.4342734348999375,
          3.2734335777477144,
          3.202806071553459,
          2.482607770510596,
          3.71320920294043,
          4.046423164299585,
          3.918541839158999,
          2.494543646659249,
          3.3578468423262944,
          3.1361327164897803,
          2.420806160901484,
          1.516575580831944,
          4.064548550437977,
          4.599937357614995,
          1.559151939957077,
          2.2451477874052825,
          3.919302308553184,
          5.7051539706010255,
          2.7217359920452187,
          4.6481993164286015,
          2.9963645262685388,
          3.923488745527437,
          4.742577519573316,
          3.0623681453116887,
          3.471413452477678,
          4.343062915388998,
          2.8200972339734696,
          4.1245852967146535,
          3.6492861577147018,
          1.8473704233395083,
          3.4523885826307272,
          4.650491269094463,
          4.22243622534277,
          4.6712754609062515,
          4.646119976606155,
          4.214495086037866,
          4.643258549800133,
          2.2586863869468434,
          3.6631054912838534,
          3.8768751769237673,
          4.113226122724209,
          3.2025311992107337,
          3.1983992716849063,
          5.97676812602,
          2.952668957921736,
          2.0948917061051766,
          3.8554716845641805,
          2.874596910303952,
          3.3920504890738385,
          2.995761182613056,
          3.3152247539154036,
          3.4719191365417483,
          3.9705556280753487,
          4.639320331857263,
          5.0812100924911086,
          4.802630630523376,
          3.414688422504897,
          3.462298847460372,
          5.377593583586979,
          4.0017863457980845,
          3.4395905595500764,
          2.7795207192736093,
          3.5526497674265176,
          2.6022871120328714,
          4.694322274442824,
          3.4015223445155094,
          3.8515788003584657,
          3.2581128828882795,
          3.1205689148169737,
          2.8379431640697987,
          4.4702825841200236,
          4.4420543290111665,
          3.1649439952851135,
          3.7517345520890513,
          3.159754443950926,
          4.130562809236324,
          1.9140899242311,
          4.3966519010970835,
          5.1133194748706225,
          2.669941624279581,
          3.3664637433729325,
          4.571213023779052,
          3.917451119136939,
          2.4761390505964114,
          4.125584363255396,
          3.9972553776226674,
          1.3626740800013843,
          4.193324635532072,
          3.871003400176416,
          4.081802694781509,
          4.252006105620936,
          3.911708668370663,
          3.021671821710012,
          3.1846186616208865,
          2.877224878259828,
          2.5869679851624765,
          2.9696402266327597,
          3.4288599039280125,
          2.926940235492512,
          3.781823039343296,
          3.004742535925674,
          3.854473855602962,
          3.3188222789308934,
          3.361814624383144,
          3.722561172893833,
          3.5435470501829984,
          2.7894615163747076,
          5.4859767341605234,
          2.59418972057778,
          2.7534241687581194,
          5.004820577490747,
          3.8733375687432523,
          3.79872531905254,
          3.2927976625756474,
          4.716104987209577,
          4.018726609737513,
          3.637701279515837,
          3.8341696666325986,
          4.531986606666632,
          4.106055151602658,
          3.2182653850978555,
          3.283663455404016,
          2.924020724598205,
          3.90525030898213,
          4.920318406118319,
          2.473596120847858,
          4.131276648377654,
          1.7677307075942403,
          2.72410820200549,
          3.897115859957253,
          2.491671541288354,
          3.8634254422050343,
          3.5786339003939878,
          3.9588922643660966,
          3.251741770306888,
          3.914384667246393,
          1.4435150746515455,
          2.910037916541069,
          3.3455709758422434,
          3.0895277822700096,
          4.514122441132637,
          1.8258846690261428,
          3.993656512525085,
          2.6521583048512407,
          6.401228837806772,
          5.391275125020631,
          6.076653638440144,
          3.8648607392342784,
          2.941410754428091,
          5.084861308602488,
          6.922689335035808,
          3.6043985602569495,
          3.7849321101304056,
          3.3091823280429797,
          0.9686221157417688,
          3.7685619627098967,
          3.5851606351613436,
          4.5203533774965585,
          3.6758488000184415,
          2.873007508505152,
          4.055775961742958,
          3.015175298743708,
          4.717102512825834,
          2.926396448726688,
          2.361086946869883,
          4.9687426737281415,
          0.8015157200042076,
          3.669225611315444,
          1.7157771665531147,
          4.773503047345896,
          4.087837272921703,
          4.131755039569861,
          3.4427992020016864,
          4.724027439824315,
          3.2309738432875563,
          2.9722713820798212,
          3.1823297317868184,
          4.8063496187852826,
          3.6203649883552,
          3.261324744787093,
          3.597459968849926,
          4.789201624179895,
          3.3164647447029107,
          4.632460945972205,
          3.3084430006746035,
          4.015986640445782,
          4.369366793790984,
          2.56663984381683,
          3.5190324339539223,
          1.503854421225295,
          5.039955263662929,
          4.47871260846301,
          3.361612984538193,
          1.9207154781756468,
          4.3307144618605635,
          3.811248170807232,
          3.0887639575315755,
          4.541695256706066,
          5.066696864020984,
          3.1074686827074625,
          4.7469897029351396,
          3.091826869545788,
          3.1956257763719886,
          3.8502796390964265,
          3.974522480483529,
          3.843848921495288,
          2.9090084604850786,
          1.1390935384245742,
          2.6852848361090778,
          3.1089114491812744,
          4.852842407156434,
          2.30755242118396,
          4.83552866742221,
          3.6785893989539975,
          5.254708925941115,
          3.8928914802112553,
          4.3894552264165165,
          4.003325039023282,
          0.7895199078816915,
          4.403369830866465,
          2.648596770203317,
          2.3678482243852215,
          3.0507129732180167,
          3.641497161540088,
          3.397363092819078,
          4.297686524285517,
          3.8033649990651752,
          2.6334199887174443,
          3.634093727357596,
          3.467014066009709,
          1.4943108951995074,
          2.267251114447051,
          5.023934200606659,
          2.471750669720034,
          4.2977374819712075,
          2.4369588757864635,
          3.656983926688144,
          5.000243360514445,
          2.4128309609709255,
          5.314354141170212,
          4.0777750980104255,
          3.2750706813095327,
          3.634996006306897,
          3.9824715131070567,
          3.2877018240744085,
          2.3133498845806395,
          3.557813698186695,
          3.350279287544909,
          2.9070949348220267,
          3.7927119551515887,
          4.029453828152191,
          4.9784757934702615,
          2.6995620549722683,
          3.9306153266132897,
          3.456233823526301,
          2.1820169698233887,
          2.7095266269292764,
          4.594116864603191,
          4.25698328967803,
          3.784273087078304,
          1.62341960945622,
          3.4145062403052493,
          3.6060868889081727,
          3.275733705185027,
          5.007271986589903,
          3.37125811322392,
          5.453969474611709,
          3.7558693892629655,
          4.664258497238649,
          3.8066709485629935,
          5.049927474652407,
          2.871947536151015,
          3.2367328142505314,
          3.086337272317325,
          4.559699083258959,
          3.0102097779609496,
          1.8092295917763102,
          3.594295099901167,
          3.0491957437894315,
          3.6343402240734415,
          1.4823596439649784,
          2.921350140816143,
          1.8100798764120296,
          3.3731046739911137,
          2.2147975193939367,
          5.454463277564527,
          3.2018017221749915,
          4.729484541572504,
          3.205529764506833,
          3.802511438790271,
          4.116340467131812,
          5.462500764129898,
          1.4816166268553612,
          3.771420131891554,
          2.898299577888636,
          3.5690465158585187,
          1.0845853030221226,
          3.0234744460455456,
          5.56638489205681,
          2.3951681299791368,
          3.5048334855202996,
          5.226687712532106,
          1.8382107022501144,
          3.363411393785737,
          2.957448756503683,
          2.0838141920346707,
          3.680847338174777,
          4.693732057983858,
          4.008352234634593,
          2.5320440615078934,
          2.8709869096996963,
          3.515688256202335,
          4.069916618589859,
          1.2004838567566694,
          3.22945090446699,
          4.086566338485993,
          4.019470351595002,
          4.205903889533483,
          2.0181946292873114,
          4.2438128167261855,
          4.626075291951958,
          3.0029570228338396,
          1.823595182991803,
          4.078308001651641,
          3.689916615447592,
          2.1901321853800533,
          3.2067566975868704,
          1.9770071278430592,
          3.3492453825271813,
          3.5328615795564753,
          2.9747368150832405,
          2.6181653103960847,
          2.8040136926903942,
          2.9644978762354017,
          4.3508878437244665,
          3.8724320418689104,
          4.615426306527649,
          2.727209453758874,
          3.537123879902206,
          3.1265094896599996,
          5.137816745950984,
          3.1286388557446334,
          3.1789524050534483,
          3.827375915107567,
          4.808320372869162,
          4.048510087289211,
          4.5433324132930855,
          3.4810621331251683,
          2.627624971434411,
          4.794312263402833,
          2.7618619263014166,
          2.1596760229888288,
          4.1956144126751305,
          2.139403004485981,
          3.4345597225409197,
          2.8684281816397523,
          3.137068975480682,
          3.5258064121952244,
          5.038107493844868,
          3.6122391519937,
          2.895075162804356,
          5.705940716620837,
          5.0470225513951,
          4.778973636034999,
          2.9665588846599196,
          2.6689197733345025,
          3.620354588804087,
          4.238296188412728,
          2.4793398232086954,
          3.506967573635258,
          3.3101503465768563,
          3.535802467873828,
          1.1304769604319769,
          3.2287176862706497,
          3.3459223210048927,
          3.2156668270219866,
          3.7905521368804433,
          3.5612152714310823,
          2.9316195346511518,
          3.0465406206892376,
          2.739200466766662,
          2.783963128204522,
          4.330407444211276,
          3.41620997759013,
          3.3363393820041853,
          4.6628453040025635,
          3.2220807667609574,
          3.772969024644708,
          3.4201495301648563,
          6.115198945760052,
          3.4880299912225916,
          4.082855278762214,
          2.8296995751470893,
          5.405406467229509,
          3.4517507098331026,
          2.9355772737404866,
          4.75036007144446,
          3.5314023030588984,
          3.904479379627935,
          2.3990797897904117,
          2.8477090264744978,
          3.7817035651048387,
          4.34977841863416,
          4.574287716419565,
          4.620416384895068,
          3.0130325004194374,
          4.791108744558266,
          4.334001444341368,
          1.4288238768282668,
          4.137000388171066,
          2.910530822492482,
          3.982462318955639,
          3.7012292170202734,
          5.8405058759314255,
          4.560396067343642,
          4.4900020655598345,
          3.8598179988740084,
          3.0466201888222324,
          4.652854446136778,
          4.0221029095289484,
          3.9694177591077393,
          3.7382251733253336,
          3.37668749953603,
          4.595522708601322,
          2.2239934582520533,
          4.288486770885737,
          2.11738254152726,
          0.9364975973183264,
          3.7620704427115657,
          4.00096358646012,
          3.5325171645393527,
          3.5350884276189447,
          4.158214652664192,
          3.549036057426973,
          4.129254688094536,
          2.2524459633808416,
          4.051382465375181,
          3.0720761414868827,
          4.331863026751083,
          3.937862643180167,
          0.2699010899842742,
          3.2794662600656097,
          2.5717778354776577,
          3.8260306175375134,
          2.402453833414224,
          4.02781384191709,
          3.6293399152681918,
          3.189609941879746,
          3.393975043434297,
          2.5749484700250718,
          3.4720213800343784,
          4.198349060814376,
          2.086348146609663,
          3.605933917733071,
          4.034386130357467,
          2.320550249888456,
          3.4910933370091515,
          5.320093863780987,
          3.130538462464844,
          4.985204970864012,
          1.726962043188511,
          3.7016222869142337,
          1.7851739448879638,
          3.0226757598626595,
          4.041244969129275,
          3.13952693504287,
          2.5628188108032326,
          2.3790764968915394,
          4.301996499354755,
          2.0947616690074846,
          4.089330841235956,
          3.5160510174718302,
          1.8208106181524435,
          4.183143661726128,
          3.393902788069372,
          4.4263640805293125,
          2.9052383614465733,
          2.7827578284994163,
          3.4470177927906893,
          4.712233578509767,
          1.2281124234144234,
          4.019051426800218,
          1.7073897286757314,
          3.1630919310737573,
          3.4470928961368963,
          2.208813678005546,
          5.412357839551379,
          2.768851943263104,
          3.746572973103466,
          3.5765259152594644,
          4.958264472618699,
          2.336484668112853,
          2.7351595670822753
         ],
         "y": [
          587.9510539684005,
          392.2049334443264,
          487.54750486747207,
          581.8523440352177,
          599.4060920457634,
          637.102447915074,
          521.5721747578274,
          549.9041461052942,
          570.2004089636196,
          427.1993848953282,
          492.6060127179966,
          522.3374046069357,
          408.6403510726275,
          573.4158673313865,
          470.4527333009554,
          461.7807421962299,
          457.84769594494855,
          407.70454754954415,
          452.3156754800354,
          605.061038804892,
          534.7057438060227,
          419.93877483917913,
          436.51560572936256,
          519.3409891307888,
          700.9170916173961,
          423.17999168059777,
          619.8956398616367,
          486.83893476506273,
          529.537665336851,
          554.7220838330761,
          497.5866713004408,
          447.6879065360587,
          588.7126055095755,
          491.07322367951963,
          507.4418323396168,
          521.8835731664783,
          347.77692663187264,
          490.73863214395465,
          478.1703340540876,
          537.8461952695957,
          532.7517875818364,
          501.87443028426947,
          591.1971781805905,
          547.2443434159983,
          448.22982918655,
          549.860590464497,
          593.9150029682891,
          563.6728733601083,
          479.73194908594513,
          416.35835357990084,
          725.5848140556806,
          442.667251738628,
          384.62657156940537,
          451.4574468676027,
          522.40414125956,
          483.67330801904563,
          520.8987944502368,
          453.16950235469744,
          496.650708068581,
          547.3651405940458,
          616.8515229667128,
          507.21256900067846,
          613.5993233689068,
          483.15972078451705,
          540.2634004105403,
          765.5184619388373,
          553.6015346844503,
          469.3108614953106,
          408.6201878298378,
          451.57568515949305,
          444.96655165329264,
          595.8228366992038,
          418.1500810968496,
          534.7771880994133,
          578.2416050583772,
          478.7193568742153,
          444.2859074976437,
          544.7798637193824,
          488.78606109390563,
          475.759067788328,
          489.8124879964614,
          462.8976361529081,
          596.4301726172282,
          338.31986264152215,
          533.5149352552407,
          536.7718993628412,
          487.37930601702914,
          473.7289665129948,
          547.1259317471988,
          505.11334353985785,
          449.0703194428044,
          611.0000251040717,
          515.8288148548279,
          439.07476674164496,
          514.0889577465721,
          543.340166256701,
          521.1429518103512,
          614.7153338263417,
          507.39006178986654,
          495.2994425473087,
          518.0645579840107,
          390.1032729724755,
          420.73767324463716,
          492.1050523891852,
          410.0696110599829,
          497.51368332936767,
          494.55186108657256,
          378.3309069068038,
          570.451725912857,
          549.0082269346927,
          459.285123462352,
          492.94505306595823,
          424.7626355099111,
          422.4267758765091,
          642.1015787311585,
          413.3717831104521,
          479.23109291159307,
          593.0772413447513,
          506.5473070543517,
          571.3074948754644,
          576.311177371677,
          576.8025473995871,
          514.239520718957,
          495.1759504494754,
          514.3365582674006,
          541.2265839893283,
          516.8315566841785,
          468.44573722740637,
          548.2803201983364,
          431.6177337614297,
          552.9403454501056,
          573.3062222574563,
          452.62725499508304,
          542.7115581025776,
          407.8040306356823,
          482.3535703213532,
          529.2300901235094,
          433.0487690958266,
          476.1914133494556,
          439.997879939927,
          448.93329320767435,
          472.9922466667984,
          463.9235129903258,
          350.05820016384513,
          460.06127739124327,
          505.77114032295646,
          463.484995404266,
          479.73193764530447,
          424.18549428888633,
          465.8893127108669,
          426.7752159856604,
          684.1634310159512,
          555.8925953881737,
          657.0199239376519,
          595.8038188761143,
          503.9783790525795,
          586.1558701804727,
          744.2218671047146,
          512.8253581285203,
          528.2238093680072,
          468.9135013219844,
          357.5914394150861,
          536.4231045259343,
          490.2065999848547,
          550.0475805761635,
          513.4505711860965,
          497.8119300055205,
          578.9862585804897,
          506.5363931400864,
          501.74923330839226,
          421.9667941858674,
          439.8912804768137,
          666.125591725772,
          298.76200786180766,
          465.17662330529686,
          373.88572369695015,
          532.7174856761749,
          554.9007830202702,
          537.7731625414566,
          501.100245232053,
          517.1651355939779,
          557.5292736134538,
          493.71919297817595,
          452.12262508578493,
          577.2734549822936,
          485.9231305248517,
          425.74509203105276,
          537.2150526997326,
          524.6379646141048,
          478.8853913201482,
          612.3852298963608,
          476.76672415476344,
          505.11963752820367,
          545.9454921414049,
          434.0216997527185,
          424.67528101321335,
          352.55010816300035,
          662.9610878058954,
          560.5601606242603,
          467.5019004269896,
          504.87043239337237,
          590.56271964715,
          443.9656268098819,
          392.4973991890214,
          568.7175759305222,
          712.3963268096637,
          413.29599918102974,
          562.0820453929382,
          412.012931298847,
          468.66846559912733,
          496.55408163560713,
          548.5185292758069,
          536.1308968550213,
          558.4272571753238,
          357.86371863839173,
          529.0566631985306,
          387.3570727364218,
          528.9336185650203,
          420.91615953269286,
          496.9334462555319,
          519.372976801355,
          591.4377355684502,
          502.4097853029053,
          604.3348400688553,
          555.0683940545761,
          256.67058229005585,
          547.1109823629461,
          461.9208768928978,
          458.3769106506301,
          436.28349814675136,
          532.9352188376637,
          512.5525343564016,
          630.4227632299235,
          463.74598112062944,
          493.18021624931,
          501.2091726816533,
          501.9282648732441,
          376.3369007569242,
          421.3266312569514,
          538.774933478023,
          398.16346853365195,
          571.4710341154247,
          451.62861054019965,
          490.6004425003995,
          591.7810894256675,
          409.0704720533178,
          563.4460356732392,
          647.6194557251927,
          448.34042501104767,
          518.7864830920807,
          523.6339351357243,
          393.8573709860865,
          426.154547713103,
          503.3878872879605,
          482.60246732948264,
          524.7976275698038,
          574.6548433659394,
          574.7472196620896,
          660.4251842914138,
          375.3984554102432,
          640.1877400085722,
          514.0098178487357,
          376.49684071853693,
          484.51980911055114,
          614.7296376283243,
          567.4750105270774,
          554.0030934297989,
          399.98387159812256,
          479.17285149109694,
          585.9318442972224,
          540.9957391083377,
          628.0478039330168,
          582.4919237338106,
          640.7861663983061,
          446.41867337013565,
          570.6300980875259,
          423.3083340974698,
          616.6602860166827,
          530.3624688854229,
          442.3631173838644,
          511.9798599920658,
          560.4437921717631,
          475.2634237275485,
          374.2696745439231,
          463.5914180279406,
          471.602884392892,
          626.018672655394,
          432.47206125141577,
          356.6155678900057,
          467.4278485003528,
          503.21739311910665,
          378.47356644790113,
          584.2183134866807,
          451.7278633175868,
          557.6341089957289,
          432.7207178399336,
          506.42385996980016,
          510.1598172791045,
          587.5747994806404,
          282.4712457199145,
          473.94985742281614,
          489.9080530975354,
          541.9722037582585,
          266.086340948469,
          494.68715581028533,
          689.7876041747194,
          387.5347163057077,
          441.89663151788625,
          604.8413188212228,
          302.18954780965197,
          479.6148116731425,
          506.132342437705,
          319.9288698031936,
          528.3092250312227,
          610.1280331303979,
          584.1058850493532,
          466.4211988217437,
          404.82452887268687,
          564.7909690079206,
          596.516697973153,
          368.6547849470645,
          542.4124767293989,
          478.2621263968358,
          473.360495571661,
          559.1990479544187,
          447.18764430541853,
          505.2300682820706,
          557.2526867470547,
          422.36873660682664,
          445.06218550892487,
          442.06441375806565,
          533.0400601788124,
          424.2028270990325,
          498.635598489176,
          330.5944460341002,
          443.4418600624623,
          478.60091594433294,
          440.0027475469415,
          357.7831107453153,
          476.139246872566,
          501.12249150365636,
          592.6884532021675,
          486.0834255029927,
          576.0252441251166,
          442.7228915742714,
          461.7909590614097,
          488.38752578014504,
          593.1564014822196,
          392.8103449837972,
          443.1972210287554,
          535.4807751896418,
          533.3965537868428,
          532.1274491097012,
          558.9481123879059,
          508.771906741518,
          403.7669020956173,
          640.5840618984408,
          461.6282783910862,
          382.41610786547517,
          561.874657668983,
          444.5761441337301,
          401.03313521910604,
          384.3260571375157,
          527.7829957560522,
          482.14499687576796,
          594.2744834186118,
          502.0925279023197,
          407.65717875932603,
          708.9351848669818,
          531.9615505451646,
          521.2407802357949,
          447.36902719933136,
          385.152337987975,
          430.5888825564849,
          418.602742095224,
          478.95140475788554,
          483.79652206149285,
          538.941974531203,
          486.1637990666317,
          385.0950070687634,
          527.7837897574573,
          547.1907493518986,
          410.6029439492151,
          583.9778019715427,
          474.53232943988985,
          414.9350606518193,
          550.8133677324173,
          458.78113168424994,
          407.54216801343483,
          581.3089328794999,
          546.5566668627299,
          503.1750851912004,
          549.1315732872171,
          482.8309858617017,
          557.6082620533542,
          484.87696493512857,
          669.9871405017029,
          547.7099885778624,
          537.8252822957112,
          408.2169017707518,
          663.0748176067602,
          506.37586675019753,
          528.4193296952955,
          632.1235881419657,
          488.2702979651482,
          508.7357409506604,
          411.1869635742789,
          409.0945261923378,
          467.8009243667916,
          512.1658663881581,
          608.2718166151668,
          589.0264897562791,
          444.0538265727728,
          493.1812613907186,
          532.724805462904,
          275.9184206503857,
          511.03878605116114,
          438.41774201146853,
          475.7250679098812,
          483.54319386538816,
          663.8036932755083,
          544.4092721605869,
          630.1567281670505,
          461.11224843060927,
          491.9115050963458,
          574.4156896079883,
          530.7667186547619,
          581.7987976770314,
          556.2981411740467,
          502.132789227254,
          556.1863688687886,
          475.07162989966173,
          486.9470538397658,
          434.1442020262987,
          304.1355915788555,
          571.2160048349454,
          583.0796356620574,
          445.74984123965226,
          392.99225591403086,
          565.9943634015267,
          499.14015244905386,
          510.5394216996283,
          308.52774655803336,
          561.5165319790891,
          423.4705331738239,
          513.1531118530668,
          529.1945188649573,
          314.4385182951061,
          478.5842860083426,
          444.5821649786528,
          475.0154070877503,
          436.7205558562188,
          521.1953105318003,
          478.18305971187965,
          432.48116855701767,
          438.30370784642975,
          388.9405487921943,
          534.7714849461672,
          537.9157529213054,
          407.8763782204976,
          618.8459704239658,
          502.77107456549606,
          397.420584096457,
          392.2852442462675,
          689.2356997616951,
          543.1326262891694,
          577.7360248512277,
          436.5807403475482,
          553.9946735912697,
          427.3565308022928,
          424.7287739291025,
          541.0498309594357,
          469.38314617236114,
          444.54554965110816,
          492.55683370047706,
          535.3216100850124,
          408.9583359406166,
          487.5554580579016,
          487.6462317438417,
          402.16712222372564,
          551.0230017027826,
          497.3895577588434,
          494.6386097568927,
          479.2474167840931,
          462.65651893471335,
          515.5024796636585,
          576.4776071703129,
          357.85798360521926,
          597.7398788791847,
          327.37795258965207,
          510.4013884525048,
          510.50147847479735,
          403.8195198321978,
          627.603318713015,
          510.661792219672,
          573.8474377162278,
          529.0490041294304,
          551.6201454762477,
          456.46951006629797,
          497.7786422156802
         ]
        }
       ],
       "layout": {
        "legend": {
         "bgcolor": "#F5F6F9",
         "font": {
          "color": "#4D5663"
         }
        },
        "paper_bgcolor": "#F5F6F9",
        "plot_bgcolor": "#F5F6F9",
        "template": {
         "data": {
          "bar": [
           {
            "error_x": {
             "color": "#2a3f5f"
            },
            "error_y": {
             "color": "#2a3f5f"
            },
            "marker": {
             "line": {
              "color": "#E5ECF6",
              "width": 0.5
             }
            },
            "type": "bar"
           }
          ],
          "barpolar": [
           {
            "marker": {
             "line": {
              "color": "#E5ECF6",
              "width": 0.5
             }
            },
            "type": "barpolar"
           }
          ],
          "carpet": [
           {
            "aaxis": {
             "endlinecolor": "#2a3f5f",
             "gridcolor": "white",
             "linecolor": "white",
             "minorgridcolor": "white",
             "startlinecolor": "#2a3f5f"
            },
            "baxis": {
             "endlinecolor": "#2a3f5f",
             "gridcolor": "white",
             "linecolor": "white",
             "minorgridcolor": "white",
             "startlinecolor": "#2a3f5f"
            },
            "type": "carpet"
           }
          ],
          "choropleth": [
           {
            "colorbar": {
             "outlinewidth": 0,
             "ticks": ""
            },
            "type": "choropleth"
           }
          ],
          "contour": [
           {
            "colorbar": {
             "outlinewidth": 0,
             "ticks": ""
            },
            "colorscale": [
             [
              0,
              "#0d0887"
             ],
             [
              0.1111111111111111,
              "#46039f"
             ],
             [
              0.2222222222222222,
              "#7201a8"
             ],
             [
              0.3333333333333333,
              "#9c179e"
             ],
             [
              0.4444444444444444,
              "#bd3786"
             ],
             [
              0.5555555555555556,
              "#d8576b"
             ],
             [
              0.6666666666666666,
              "#ed7953"
             ],
             [
              0.7777777777777778,
              "#fb9f3a"
             ],
             [
              0.8888888888888888,
              "#fdca26"
             ],
             [
              1,
              "#f0f921"
             ]
            ],
            "type": "contour"
           }
          ],
          "contourcarpet": [
           {
            "colorbar": {
             "outlinewidth": 0,
             "ticks": ""
            },
            "type": "contourcarpet"
           }
          ],
          "heatmap": [
           {
            "colorbar": {
             "outlinewidth": 0,
             "ticks": ""
            },
            "colorscale": [
             [
              0,
              "#0d0887"
             ],
             [
              0.1111111111111111,
              "#46039f"
             ],
             [
              0.2222222222222222,
              "#7201a8"
             ],
             [
              0.3333333333333333,
              "#9c179e"
             ],
             [
              0.4444444444444444,
              "#bd3786"
             ],
             [
              0.5555555555555556,
              "#d8576b"
             ],
             [
              0.6666666666666666,
              "#ed7953"
             ],
             [
              0.7777777777777778,
              "#fb9f3a"
             ],
             [
              0.8888888888888888,
              "#fdca26"
             ],
             [
              1,
              "#f0f921"
             ]
            ],
            "type": "heatmap"
           }
          ],
          "heatmapgl": [
           {
            "colorbar": {
             "outlinewidth": 0,
             "ticks": ""
            },
            "colorscale": [
             [
              0,
              "#0d0887"
             ],
             [
              0.1111111111111111,
              "#46039f"
             ],
             [
              0.2222222222222222,
              "#7201a8"
             ],
             [
              0.3333333333333333,
              "#9c179e"
             ],
             [
              0.4444444444444444,
              "#bd3786"
             ],
             [
              0.5555555555555556,
              "#d8576b"
             ],
             [
              0.6666666666666666,
              "#ed7953"
             ],
             [
              0.7777777777777778,
              "#fb9f3a"
             ],
             [
              0.8888888888888888,
              "#fdca26"
             ],
             [
              1,
              "#f0f921"
             ]
            ],
            "type": "heatmapgl"
           }
          ],
          "histogram": [
           {
            "marker": {
             "colorbar": {
              "outlinewidth": 0,
              "ticks": ""
             }
            },
            "type": "histogram"
           }
          ],
          "histogram2d": [
           {
            "colorbar": {
             "outlinewidth": 0,
             "ticks": ""
            },
            "colorscale": [
             [
              0,
              "#0d0887"
             ],
             [
              0.1111111111111111,
              "#46039f"
             ],
             [
              0.2222222222222222,
              "#7201a8"
             ],
             [
              0.3333333333333333,
              "#9c179e"
             ],
             [
              0.4444444444444444,
              "#bd3786"
             ],
             [
              0.5555555555555556,
              "#d8576b"
             ],
             [
              0.6666666666666666,
              "#ed7953"
             ],
             [
              0.7777777777777778,
              "#fb9f3a"
             ],
             [
              0.8888888888888888,
              "#fdca26"
             ],
             [
              1,
              "#f0f921"
             ]
            ],
            "type": "histogram2d"
           }
          ],
          "histogram2dcontour": [
           {
            "colorbar": {
             "outlinewidth": 0,
             "ticks": ""
            },
            "colorscale": [
             [
              0,
              "#0d0887"
             ],
             [
              0.1111111111111111,
              "#46039f"
             ],
             [
              0.2222222222222222,
              "#7201a8"
             ],
             [
              0.3333333333333333,
              "#9c179e"
             ],
             [
              0.4444444444444444,
              "#bd3786"
             ],
             [
              0.5555555555555556,
              "#d8576b"
             ],
             [
              0.6666666666666666,
              "#ed7953"
             ],
             [
              0.7777777777777778,
              "#fb9f3a"
             ],
             [
              0.8888888888888888,
              "#fdca26"
             ],
             [
              1,
              "#f0f921"
             ]
            ],
            "type": "histogram2dcontour"
           }
          ],
          "mesh3d": [
           {
            "colorbar": {
             "outlinewidth": 0,
             "ticks": ""
            },
            "type": "mesh3d"
           }
          ],
          "parcoords": [
           {
            "line": {
             "colorbar": {
              "outlinewidth": 0,
              "ticks": ""
             }
            },
            "type": "parcoords"
           }
          ],
          "pie": [
           {
            "automargin": true,
            "type": "pie"
           }
          ],
          "scatter": [
           {
            "marker": {
             "colorbar": {
              "outlinewidth": 0,
              "ticks": ""
             }
            },
            "type": "scatter"
           }
          ],
          "scatter3d": [
           {
            "line": {
             "colorbar": {
              "outlinewidth": 0,
              "ticks": ""
             }
            },
            "marker": {
             "colorbar": {
              "outlinewidth": 0,
              "ticks": ""
             }
            },
            "type": "scatter3d"
           }
          ],
          "scattercarpet": [
           {
            "marker": {
             "colorbar": {
              "outlinewidth": 0,
              "ticks": ""
             }
            },
            "type": "scattercarpet"
           }
          ],
          "scattergeo": [
           {
            "marker": {
             "colorbar": {
              "outlinewidth": 0,
              "ticks": ""
             }
            },
            "type": "scattergeo"
           }
          ],
          "scattergl": [
           {
            "marker": {
             "colorbar": {
              "outlinewidth": 0,
              "ticks": ""
             }
            },
            "type": "scattergl"
           }
          ],
          "scattermapbox": [
           {
            "marker": {
             "colorbar": {
              "outlinewidth": 0,
              "ticks": ""
             }
            },
            "type": "scattermapbox"
           }
          ],
          "scatterpolar": [
           {
            "marker": {
             "colorbar": {
              "outlinewidth": 0,
              "ticks": ""
             }
            },
            "type": "scatterpolar"
           }
          ],
          "scatterpolargl": [
           {
            "marker": {
             "colorbar": {
              "outlinewidth": 0,
              "ticks": ""
             }
            },
            "type": "scatterpolargl"
           }
          ],
          "scatterternary": [
           {
            "marker": {
             "colorbar": {
              "outlinewidth": 0,
              "ticks": ""
             }
            },
            "type": "scatterternary"
           }
          ],
          "surface": [
           {
            "colorbar": {
             "outlinewidth": 0,
             "ticks": ""
            },
            "colorscale": [
             [
              0,
              "#0d0887"
             ],
             [
              0.1111111111111111,
              "#46039f"
             ],
             [
              0.2222222222222222,
              "#7201a8"
             ],
             [
              0.3333333333333333,
              "#9c179e"
             ],
             [
              0.4444444444444444,
              "#bd3786"
             ],
             [
              0.5555555555555556,
              "#d8576b"
             ],
             [
              0.6666666666666666,
              "#ed7953"
             ],
             [
              0.7777777777777778,
              "#fb9f3a"
             ],
             [
              0.8888888888888888,
              "#fdca26"
             ],
             [
              1,
              "#f0f921"
             ]
            ],
            "type": "surface"
           }
          ],
          "table": [
           {
            "cells": {
             "fill": {
              "color": "#EBF0F8"
             },
             "line": {
              "color": "white"
             }
            },
            "header": {
             "fill": {
              "color": "#C8D4E3"
             },
             "line": {
              "color": "white"
             }
            },
            "type": "table"
           }
          ]
         },
         "layout": {
          "annotationdefaults": {
           "arrowcolor": "#2a3f5f",
           "arrowhead": 0,
           "arrowwidth": 1
          },
          "coloraxis": {
           "colorbar": {
            "outlinewidth": 0,
            "ticks": ""
           }
          },
          "colorscale": {
           "diverging": [
            [
             0,
             "#8e0152"
            ],
            [
             0.1,
             "#c51b7d"
            ],
            [
             0.2,
             "#de77ae"
            ],
            [
             0.3,
             "#f1b6da"
            ],
            [
             0.4,
             "#fde0ef"
            ],
            [
             0.5,
             "#f7f7f7"
            ],
            [
             0.6,
             "#e6f5d0"
            ],
            [
             0.7,
             "#b8e186"
            ],
            [
             0.8,
             "#7fbc41"
            ],
            [
             0.9,
             "#4d9221"
            ],
            [
             1,
             "#276419"
            ]
           ],
           "sequential": [
            [
             0,
             "#0d0887"
            ],
            [
             0.1111111111111111,
             "#46039f"
            ],
            [
             0.2222222222222222,
             "#7201a8"
            ],
            [
             0.3333333333333333,
             "#9c179e"
            ],
            [
             0.4444444444444444,
             "#bd3786"
            ],
            [
             0.5555555555555556,
             "#d8576b"
            ],
            [
             0.6666666666666666,
             "#ed7953"
            ],
            [
             0.7777777777777778,
             "#fb9f3a"
            ],
            [
             0.8888888888888888,
             "#fdca26"
            ],
            [
             1,
             "#f0f921"
            ]
           ],
           "sequentialminus": [
            [
             0,
             "#0d0887"
            ],
            [
             0.1111111111111111,
             "#46039f"
            ],
            [
             0.2222222222222222,
             "#7201a8"
            ],
            [
             0.3333333333333333,
             "#9c179e"
            ],
            [
             0.4444444444444444,
             "#bd3786"
            ],
            [
             0.5555555555555556,
             "#d8576b"
            ],
            [
             0.6666666666666666,
             "#ed7953"
            ],
            [
             0.7777777777777778,
             "#fb9f3a"
            ],
            [
             0.8888888888888888,
             "#fdca26"
            ],
            [
             1,
             "#f0f921"
            ]
           ]
          },
          "colorway": [
           "#636efa",
           "#EF553B",
           "#00cc96",
           "#ab63fa",
           "#FFA15A",
           "#19d3f3",
           "#FF6692",
           "#B6E880",
           "#FF97FF",
           "#FECB52"
          ],
          "font": {
           "color": "#2a3f5f"
          },
          "geo": {
           "bgcolor": "white",
           "lakecolor": "white",
           "landcolor": "#E5ECF6",
           "showlakes": true,
           "showland": true,
           "subunitcolor": "white"
          },
          "hoverlabel": {
           "align": "left"
          },
          "hovermode": "closest",
          "mapbox": {
           "style": "light"
          },
          "paper_bgcolor": "white",
          "plot_bgcolor": "#E5ECF6",
          "polar": {
           "angularaxis": {
            "gridcolor": "white",
            "linecolor": "white",
            "ticks": ""
           },
           "bgcolor": "#E5ECF6",
           "radialaxis": {
            "gridcolor": "white",
            "linecolor": "white",
            "ticks": ""
           }
          },
          "scene": {
           "xaxis": {
            "backgroundcolor": "#E5ECF6",
            "gridcolor": "white",
            "gridwidth": 2,
            "linecolor": "white",
            "showbackground": true,
            "ticks": "",
            "zerolinecolor": "white"
           },
           "yaxis": {
            "backgroundcolor": "#E5ECF6",
            "gridcolor": "white",
            "gridwidth": 2,
            "linecolor": "white",
            "showbackground": true,
            "ticks": "",
            "zerolinecolor": "white"
           },
           "zaxis": {
            "backgroundcolor": "#E5ECF6",
            "gridcolor": "white",
            "gridwidth": 2,
            "linecolor": "white",
            "showbackground": true,
            "ticks": "",
            "zerolinecolor": "white"
           }
          },
          "shapedefaults": {
           "line": {
            "color": "#2a3f5f"
           }
          },
          "ternary": {
           "aaxis": {
            "gridcolor": "white",
            "linecolor": "white",
            "ticks": ""
           },
           "baxis": {
            "gridcolor": "white",
            "linecolor": "white",
            "ticks": ""
           },
           "bgcolor": "#E5ECF6",
           "caxis": {
            "gridcolor": "white",
            "linecolor": "white",
            "ticks": ""
           }
          },
          "title": {
           "x": 0.05
          },
          "xaxis": {
           "automargin": true,
           "gridcolor": "white",
           "linecolor": "white",
           "ticks": "",
           "title": {
            "standoff": 15
           },
           "zerolinecolor": "white",
           "zerolinewidth": 2
          },
          "yaxis": {
           "automargin": true,
           "gridcolor": "white",
           "linecolor": "white",
           "ticks": "",
           "title": {
            "standoff": 15
           },
           "zerolinecolor": "white",
           "zerolinewidth": 2
          }
         }
        },
        "title": {
         "font": {
          "color": "#4D5663"
         }
        },
        "xaxis": {
         "gridcolor": "#E1E5ED",
         "showgrid": true,
         "tickfont": {
          "color": "#4D5663"
         },
         "title": {
          "font": {
           "color": "#4D5663"
          },
          "text": ""
         },
         "zerolinecolor": "#E1E5ED"
        },
        "yaxis": {
         "gridcolor": "#E1E5ED",
         "showgrid": true,
         "tickfont": {
          "color": "#4D5663"
         },
         "title": {
          "font": {
           "color": "#4D5663"
          },
          "text": ""
         },
         "zerolinecolor": "#E1E5ED"
        }
       }
      },
      "text/html": [
       "<div>\n",
       "        \n",
       "        \n",
       "            <div id=\"17353171-0309-4547-89e8-9e7e723479dc\" class=\"plotly-graph-div\" style=\"height:525px; width:100%;\"></div>\n",
       "            <script type=\"text/javascript\">\n",
       "                require([\"plotly\"], function(Plotly) {\n",
       "                    window.PLOTLYENV=window.PLOTLYENV || {};\n",
       "                    window.PLOTLYENV.BASE_URL='https://plot.ly';\n",
       "                    \n",
       "                if (document.getElementById(\"17353171-0309-4547-89e8-9e7e723479dc\")) {\n",
       "                    Plotly.newPlot(\n",
       "                        '17353171-0309-4547-89e8-9e7e723479dc',\n",
       "                        [{\"line\": {\"color\": \"rgba(255, 153, 51, 1.0)\", \"dash\": \"solid\", \"shape\": \"linear\", \"width\": 1.3}, \"marker\": {\"size\": 12, \"symbol\": \"circle\"}, \"mode\": \"markers\", \"name\": \"Yearly Amount Spent\", \"text\": \"\", \"type\": \"scatter\", \"x\": [4.0826206329529615, 2.66403418213262, 4.104543202376424, 3.120178782748092, 4.446308318351434, 5.493507201364199, 4.685017246570912, 4.4342734348999375, 3.2734335777477144, 3.202806071553459, 2.482607770510596, 3.71320920294043, 4.046423164299585, 3.918541839158999, 2.494543646659249, 3.3578468423262944, 3.1361327164897803, 2.420806160901484, 1.516575580831944, 4.064548550437977, 4.599937357614995, 1.559151939957077, 2.2451477874052825, 3.919302308553184, 5.7051539706010255, 2.7217359920452187, 4.6481993164286015, 2.9963645262685388, 3.923488745527437, 4.742577519573316, 3.0623681453116887, 3.471413452477678, 4.343062915388998, 2.8200972339734696, 4.1245852967146535, 3.6492861577147018, 1.8473704233395083, 3.4523885826307272, 4.650491269094463, 4.22243622534277, 4.6712754609062515, 4.646119976606155, 4.214495086037866, 4.643258549800133, 2.2586863869468434, 3.6631054912838534, 3.8768751769237673, 4.113226122724209, 3.2025311992107337, 3.1983992716849063, 5.97676812602, 2.952668957921736, 2.0948917061051766, 3.8554716845641805, 2.874596910303952, 3.3920504890738385, 2.995761182613056, 3.3152247539154036, 3.4719191365417483, 3.9705556280753487, 4.639320331857263, 5.0812100924911086, 4.802630630523376, 3.414688422504897, 3.462298847460372, 5.377593583586979, 4.0017863457980845, 3.4395905595500764, 2.7795207192736093, 3.5526497674265176, 2.6022871120328714, 4.694322274442824, 3.4015223445155094, 3.8515788003584657, 3.2581128828882795, 3.1205689148169737, 2.8379431640697987, 4.4702825841200236, 4.4420543290111665, 3.1649439952851135, 3.7517345520890513, 3.159754443950926, 4.130562809236324, 1.9140899242311, 4.3966519010970835, 5.1133194748706225, 2.669941624279581, 3.3664637433729325, 4.571213023779052, 3.917451119136939, 2.4761390505964114, 4.125584363255396, 3.9972553776226674, 1.3626740800013843, 4.193324635532072, 3.871003400176416, 4.081802694781509, 4.252006105620936, 3.911708668370663, 3.021671821710012, 3.1846186616208865, 2.877224878259828, 2.5869679851624765, 2.9696402266327597, 3.4288599039280125, 2.926940235492512, 3.781823039343296, 3.004742535925674, 3.854473855602962, 3.3188222789308934, 3.361814624383144, 3.722561172893833, 3.5435470501829984, 2.7894615163747076, 5.4859767341605234, 2.59418972057778, 2.7534241687581194, 5.004820577490747, 3.8733375687432523, 3.79872531905254, 3.2927976625756474, 4.716104987209577, 4.018726609737513, 3.637701279515837, 3.8341696666325986, 4.531986606666632, 4.106055151602658, 3.2182653850978555, 3.283663455404016, 2.924020724598205, 3.90525030898213, 4.920318406118319, 2.473596120847858, 4.131276648377654, 1.7677307075942403, 2.72410820200549, 3.897115859957253, 2.491671541288354, 3.8634254422050343, 3.5786339003939878, 3.9588922643660966, 3.251741770306888, 3.914384667246393, 1.4435150746515455, 2.910037916541069, 3.3455709758422434, 3.0895277822700096, 4.514122441132637, 1.8258846690261428, 3.993656512525085, 2.6521583048512407, 6.401228837806772, 5.391275125020631, 6.076653638440144, 3.8648607392342784, 2.941410754428091, 5.084861308602488, 6.922689335035808, 3.6043985602569495, 3.7849321101304056, 3.3091823280429797, 0.9686221157417688, 3.7685619627098967, 3.5851606351613436, 4.5203533774965585, 3.6758488000184415, 2.873007508505152, 4.055775961742958, 3.015175298743708, 4.717102512825834, 2.926396448726688, 2.361086946869883, 4.9687426737281415, 0.8015157200042076, 3.669225611315444, 1.7157771665531147, 4.773503047345896, 4.087837272921703, 4.131755039569861, 3.4427992020016864, 4.724027439824315, 3.2309738432875563, 2.9722713820798212, 3.1823297317868184, 4.8063496187852826, 3.6203649883552, 3.261324744787093, 3.597459968849926, 4.789201624179895, 3.3164647447029107, 4.632460945972205, 3.3084430006746035, 4.015986640445782, 4.369366793790984, 2.56663984381683, 3.5190324339539223, 1.503854421225295, 5.039955263662929, 4.47871260846301, 3.361612984538193, 1.9207154781756468, 4.3307144618605635, 3.811248170807232, 3.0887639575315755, 4.541695256706066, 5.066696864020984, 3.1074686827074625, 4.7469897029351396, 3.091826869545788, 3.1956257763719886, 3.8502796390964265, 3.974522480483529, 3.843848921495288, 2.9090084604850786, 1.1390935384245742, 2.6852848361090778, 3.1089114491812744, 4.852842407156434, 2.30755242118396, 4.83552866742221, 3.6785893989539975, 5.254708925941115, 3.8928914802112553, 4.3894552264165165, 4.003325039023282, 0.7895199078816915, 4.403369830866465, 2.648596770203317, 2.3678482243852215, 3.0507129732180167, 3.641497161540088, 3.397363092819078, 4.297686524285517, 3.8033649990651752, 2.6334199887174443, 3.634093727357596, 3.467014066009709, 1.4943108951995074, 2.267251114447051, 5.023934200606659, 2.471750669720034, 4.2977374819712075, 2.4369588757864635, 3.656983926688144, 5.000243360514445, 2.4128309609709255, 5.314354141170212, 4.0777750980104255, 3.2750706813095327, 3.634996006306897, 3.9824715131070567, 3.2877018240744085, 2.3133498845806395, 3.557813698186695, 3.350279287544909, 2.9070949348220267, 3.7927119551515887, 4.029453828152191, 4.9784757934702615, 2.6995620549722683, 3.9306153266132897, 3.456233823526301, 2.1820169698233887, 2.7095266269292764, 4.594116864603191, 4.25698328967803, 3.784273087078304, 1.62341960945622, 3.4145062403052493, 3.6060868889081727, 3.275733705185027, 5.007271986589903, 3.37125811322392, 5.453969474611709, 3.7558693892629655, 4.664258497238649, 3.8066709485629935, 5.049927474652407, 2.871947536151015, 3.2367328142505314, 3.086337272317325, 4.559699083258959, 3.0102097779609496, 1.8092295917763102, 3.594295099901167, 3.0491957437894315, 3.6343402240734415, 1.4823596439649784, 2.921350140816143, 1.8100798764120296, 3.3731046739911137, 2.2147975193939367, 5.454463277564527, 3.2018017221749915, 4.729484541572504, 3.205529764506833, 3.802511438790271, 4.116340467131812, 5.462500764129898, 1.4816166268553612, 3.771420131891554, 2.898299577888636, 3.5690465158585187, 1.0845853030221226, 3.0234744460455456, 5.56638489205681, 2.3951681299791368, 3.5048334855202996, 5.226687712532106, 1.8382107022501144, 3.363411393785737, 2.957448756503683, 2.0838141920346707, 3.680847338174777, 4.693732057983858, 4.008352234634593, 2.5320440615078934, 2.8709869096996963, 3.515688256202335, 4.069916618589859, 1.2004838567566694, 3.22945090446699, 4.086566338485993, 4.019470351595002, 4.205903889533483, 2.0181946292873114, 4.2438128167261855, 4.626075291951958, 3.0029570228338396, 1.823595182991803, 4.078308001651641, 3.689916615447592, 2.1901321853800533, 3.2067566975868704, 1.9770071278430592, 3.3492453825271813, 3.5328615795564753, 2.9747368150832405, 2.6181653103960847, 2.8040136926903942, 2.9644978762354017, 4.3508878437244665, 3.8724320418689104, 4.615426306527649, 2.727209453758874, 3.537123879902206, 3.1265094896599996, 5.137816745950984, 3.1286388557446334, 3.1789524050534483, 3.827375915107567, 4.808320372869162, 4.048510087289211, 4.5433324132930855, 3.4810621331251683, 2.627624971434411, 4.794312263402833, 2.7618619263014166, 2.1596760229888288, 4.1956144126751305, 2.139403004485981, 3.4345597225409197, 2.8684281816397523, 3.137068975480682, 3.5258064121952244, 5.038107493844868, 3.6122391519937, 2.895075162804356, 5.705940716620837, 5.0470225513951, 4.778973636034999, 2.9665588846599196, 2.6689197733345025, 3.620354588804087, 4.238296188412728, 2.4793398232086954, 3.506967573635258, 3.3101503465768563, 3.535802467873828, 1.1304769604319769, 3.2287176862706497, 3.3459223210048927, 3.2156668270219866, 3.7905521368804433, 3.5612152714310823, 2.9316195346511518, 3.0465406206892376, 2.739200466766662, 2.783963128204522, 4.330407444211276, 3.41620997759013, 3.3363393820041853, 4.6628453040025635, 3.2220807667609574, 3.772969024644708, 3.4201495301648563, 6.115198945760052, 3.4880299912225916, 4.082855278762214, 2.8296995751470893, 5.405406467229509, 3.4517507098331026, 2.9355772737404866, 4.75036007144446, 3.5314023030588984, 3.904479379627935, 2.3990797897904117, 2.8477090264744978, 3.7817035651048387, 4.34977841863416, 4.574287716419565, 4.620416384895068, 3.0130325004194374, 4.791108744558266, 4.334001444341368, 1.4288238768282668, 4.137000388171066, 2.910530822492482, 3.982462318955639, 3.7012292170202734, 5.8405058759314255, 4.560396067343642, 4.4900020655598345, 3.8598179988740084, 3.0466201888222324, 4.652854446136778, 4.0221029095289484, 3.9694177591077393, 3.7382251733253336, 3.37668749953603, 4.595522708601322, 2.2239934582520533, 4.288486770885737, 2.11738254152726, 0.9364975973183264, 3.7620704427115657, 4.00096358646012, 3.5325171645393527, 3.5350884276189447, 4.158214652664192, 3.549036057426973, 4.129254688094536, 2.2524459633808416, 4.051382465375181, 3.0720761414868827, 4.331863026751083, 3.937862643180167, 0.2699010899842742, 3.2794662600656097, 2.5717778354776577, 3.8260306175375134, 2.402453833414224, 4.02781384191709, 3.6293399152681918, 3.189609941879746, 3.393975043434297, 2.5749484700250718, 3.4720213800343784, 4.198349060814376, 2.086348146609663, 3.605933917733071, 4.034386130357467, 2.320550249888456, 3.4910933370091515, 5.320093863780987, 3.130538462464844, 4.985204970864012, 1.726962043188511, 3.7016222869142337, 1.7851739448879638, 3.0226757598626595, 4.041244969129275, 3.13952693504287, 2.5628188108032326, 2.3790764968915394, 4.301996499354755, 2.0947616690074846, 4.089330841235956, 3.5160510174718302, 1.8208106181524435, 4.183143661726128, 3.393902788069372, 4.4263640805293125, 2.9052383614465733, 2.7827578284994163, 3.4470177927906893, 4.712233578509767, 1.2281124234144234, 4.019051426800218, 1.7073897286757314, 3.1630919310737573, 3.4470928961368963, 2.208813678005546, 5.412357839551379, 2.768851943263104, 3.746572973103466, 3.5765259152594644, 4.958264472618699, 2.336484668112853, 2.7351595670822753], \"y\": [587.9510539684005, 392.2049334443264, 487.54750486747207, 581.8523440352177, 599.4060920457634, 637.102447915074, 521.5721747578274, 549.9041461052942, 570.2004089636196, 427.1993848953282, 492.6060127179966, 522.3374046069357, 408.6403510726275, 573.4158673313865, 470.4527333009554, 461.7807421962299, 457.84769594494855, 407.70454754954415, 452.3156754800354, 605.061038804892, 534.7057438060227, 419.93877483917913, 436.51560572936256, 519.3409891307888, 700.9170916173961, 423.17999168059777, 619.8956398616367, 486.83893476506273, 529.537665336851, 554.7220838330761, 497.5866713004408, 447.6879065360587, 588.7126055095755, 491.07322367951963, 507.4418323396168, 521.8835731664783, 347.77692663187264, 490.73863214395465, 478.1703340540876, 537.8461952695957, 532.7517875818364, 501.87443028426947, 591.1971781805905, 547.2443434159983, 448.22982918655, 549.860590464497, 593.9150029682891, 563.6728733601083, 479.73194908594513, 416.35835357990084, 725.5848140556806, 442.667251738628, 384.62657156940537, 451.4574468676027, 522.40414125956, 483.67330801904563, 520.8987944502368, 453.16950235469744, 496.650708068581, 547.3651405940458, 616.8515229667128, 507.21256900067846, 613.5993233689068, 483.15972078451705, 540.2634004105403, 765.5184619388373, 553.6015346844503, 469.3108614953106, 408.6201878298378, 451.57568515949305, 444.96655165329264, 595.8228366992038, 418.1500810968496, 534.7771880994133, 578.2416050583772, 478.7193568742153, 444.2859074976437, 544.7798637193824, 488.78606109390563, 475.759067788328, 489.8124879964614, 462.8976361529081, 596.4301726172282, 338.31986264152215, 533.5149352552407, 536.7718993628412, 487.37930601702914, 473.7289665129948, 547.1259317471988, 505.11334353985785, 449.0703194428044, 611.0000251040717, 515.8288148548279, 439.07476674164496, 514.0889577465721, 543.340166256701, 521.1429518103512, 614.7153338263417, 507.39006178986654, 495.2994425473087, 518.0645579840107, 390.1032729724755, 420.73767324463716, 492.1050523891852, 410.0696110599829, 497.51368332936767, 494.55186108657256, 378.3309069068038, 570.451725912857, 549.0082269346927, 459.285123462352, 492.94505306595823, 424.7626355099111, 422.4267758765091, 642.1015787311585, 413.3717831104521, 479.23109291159307, 593.0772413447513, 506.5473070543517, 571.3074948754644, 576.311177371677, 576.8025473995871, 514.239520718957, 495.1759504494754, 514.3365582674006, 541.2265839893283, 516.8315566841785, 468.44573722740637, 548.2803201983364, 431.6177337614297, 552.9403454501056, 573.3062222574563, 452.62725499508304, 542.7115581025776, 407.8040306356823, 482.3535703213532, 529.2300901235094, 433.0487690958266, 476.1914133494556, 439.997879939927, 448.93329320767435, 472.9922466667984, 463.9235129903258, 350.05820016384513, 460.06127739124327, 505.77114032295646, 463.484995404266, 479.73193764530447, 424.18549428888633, 465.8893127108669, 426.7752159856604, 684.1634310159512, 555.8925953881737, 657.0199239376519, 595.8038188761143, 503.9783790525795, 586.1558701804727, 744.2218671047146, 512.8253581285203, 528.2238093680072, 468.9135013219844, 357.5914394150861, 536.4231045259343, 490.2065999848547, 550.0475805761635, 513.4505711860965, 497.8119300055205, 578.9862585804897, 506.5363931400864, 501.74923330839226, 421.9667941858674, 439.8912804768137, 666.125591725772, 298.76200786180766, 465.17662330529686, 373.88572369695015, 532.7174856761749, 554.9007830202702, 537.7731625414566, 501.100245232053, 517.1651355939779, 557.5292736134538, 493.71919297817595, 452.12262508578493, 577.2734549822936, 485.9231305248517, 425.74509203105276, 537.2150526997326, 524.6379646141048, 478.8853913201482, 612.3852298963608, 476.76672415476344, 505.11963752820367, 545.9454921414049, 434.0216997527185, 424.67528101321335, 352.55010816300035, 662.9610878058954, 560.5601606242603, 467.5019004269896, 504.87043239337237, 590.56271964715, 443.9656268098819, 392.4973991890214, 568.7175759305222, 712.3963268096637, 413.29599918102974, 562.0820453929382, 412.012931298847, 468.66846559912733, 496.55408163560713, 548.5185292758069, 536.1308968550213, 558.4272571753238, 357.86371863839173, 529.0566631985306, 387.3570727364218, 528.9336185650203, 420.91615953269286, 496.9334462555319, 519.372976801355, 591.4377355684502, 502.4097853029053, 604.3348400688553, 555.0683940545761, 256.67058229005585, 547.1109823629461, 461.9208768928978, 458.3769106506301, 436.28349814675136, 532.9352188376637, 512.5525343564016, 630.4227632299235, 463.74598112062944, 493.18021624931, 501.2091726816533, 501.9282648732441, 376.3369007569242, 421.3266312569514, 538.774933478023, 398.16346853365195, 571.4710341154247, 451.62861054019965, 490.6004425003995, 591.7810894256675, 409.0704720533178, 563.4460356732392, 647.6194557251927, 448.34042501104767, 518.7864830920807, 523.6339351357243, 393.8573709860865, 426.154547713103, 503.3878872879605, 482.60246732948264, 524.7976275698038, 574.6548433659394, 574.7472196620896, 660.4251842914138, 375.3984554102432, 640.1877400085722, 514.0098178487357, 376.49684071853693, 484.51980911055114, 614.7296376283243, 567.4750105270774, 554.0030934297989, 399.98387159812256, 479.17285149109694, 585.9318442972224, 540.9957391083377, 628.0478039330168, 582.4919237338106, 640.7861663983061, 446.41867337013565, 570.6300980875259, 423.3083340974698, 616.6602860166827, 530.3624688854229, 442.3631173838644, 511.9798599920658, 560.4437921717631, 475.2634237275485, 374.2696745439231, 463.5914180279406, 471.602884392892, 626.018672655394, 432.47206125141577, 356.6155678900057, 467.4278485003528, 503.21739311910665, 378.47356644790113, 584.2183134866807, 451.7278633175868, 557.6341089957289, 432.7207178399336, 506.42385996980016, 510.1598172791045, 587.5747994806404, 282.4712457199145, 473.94985742281614, 489.9080530975354, 541.9722037582585, 266.086340948469, 494.68715581028533, 689.7876041747194, 387.5347163057077, 441.89663151788625, 604.8413188212228, 302.18954780965197, 479.6148116731425, 506.132342437705, 319.9288698031936, 528.3092250312227, 610.1280331303979, 584.1058850493532, 466.4211988217437, 404.82452887268687, 564.7909690079206, 596.516697973153, 368.6547849470645, 542.4124767293989, 478.2621263968358, 473.360495571661, 559.1990479544187, 447.18764430541853, 505.2300682820706, 557.2526867470547, 422.36873660682664, 445.06218550892487, 442.06441375806565, 533.0400601788124, 424.2028270990325, 498.635598489176, 330.5944460341002, 443.4418600624623, 478.60091594433294, 440.0027475469415, 357.7831107453153, 476.139246872566, 501.12249150365636, 592.6884532021675, 486.0834255029927, 576.0252441251166, 442.7228915742714, 461.7909590614097, 488.38752578014504, 593.1564014822196, 392.8103449837972, 443.1972210287554, 535.4807751896418, 533.3965537868428, 532.1274491097012, 558.9481123879059, 508.771906741518, 403.7669020956173, 640.5840618984408, 461.6282783910862, 382.41610786547517, 561.874657668983, 444.5761441337301, 401.03313521910604, 384.3260571375157, 527.7829957560522, 482.14499687576796, 594.2744834186118, 502.0925279023197, 407.65717875932603, 708.9351848669818, 531.9615505451646, 521.2407802357949, 447.36902719933136, 385.152337987975, 430.5888825564849, 418.602742095224, 478.95140475788554, 483.79652206149285, 538.941974531203, 486.1637990666317, 385.0950070687634, 527.7837897574573, 547.1907493518986, 410.6029439492151, 583.9778019715427, 474.53232943988985, 414.9350606518193, 550.8133677324173, 458.78113168424994, 407.54216801343483, 581.3089328794999, 546.5566668627299, 503.1750851912004, 549.1315732872171, 482.8309858617017, 557.6082620533542, 484.87696493512857, 669.9871405017029, 547.7099885778624, 537.8252822957112, 408.2169017707518, 663.0748176067602, 506.37586675019753, 528.4193296952955, 632.1235881419657, 488.2702979651482, 508.7357409506604, 411.1869635742789, 409.0945261923378, 467.8009243667916, 512.1658663881581, 608.2718166151668, 589.0264897562791, 444.0538265727728, 493.1812613907186, 532.724805462904, 275.9184206503857, 511.03878605116114, 438.41774201146853, 475.7250679098812, 483.54319386538816, 663.8036932755083, 544.4092721605869, 630.1567281670505, 461.11224843060927, 491.9115050963458, 574.4156896079883, 530.7667186547619, 581.7987976770314, 556.2981411740467, 502.132789227254, 556.1863688687886, 475.07162989966173, 486.9470538397658, 434.1442020262987, 304.1355915788555, 571.2160048349454, 583.0796356620574, 445.74984123965226, 392.99225591403086, 565.9943634015267, 499.14015244905386, 510.5394216996283, 308.52774655803336, 561.5165319790891, 423.4705331738239, 513.1531118530668, 529.1945188649573, 314.4385182951061, 478.5842860083426, 444.5821649786528, 475.0154070877503, 436.7205558562188, 521.1953105318003, 478.18305971187965, 432.48116855701767, 438.30370784642975, 388.9405487921943, 534.7714849461672, 537.9157529213054, 407.8763782204976, 618.8459704239658, 502.77107456549606, 397.420584096457, 392.2852442462675, 689.2356997616951, 543.1326262891694, 577.7360248512277, 436.5807403475482, 553.9946735912697, 427.3565308022928, 424.7287739291025, 541.0498309594357, 469.38314617236114, 444.54554965110816, 492.55683370047706, 535.3216100850124, 408.9583359406166, 487.5554580579016, 487.6462317438417, 402.16712222372564, 551.0230017027826, 497.3895577588434, 494.6386097568927, 479.2474167840931, 462.65651893471335, 515.5024796636585, 576.4776071703129, 357.85798360521926, 597.7398788791847, 327.37795258965207, 510.4013884525048, 510.50147847479735, 403.8195198321978, 627.603318713015, 510.661792219672, 573.8474377162278, 529.0490041294304, 551.6201454762477, 456.46951006629797, 497.7786422156802]}],\n",
       "                        {\"legend\": {\"bgcolor\": \"#F5F6F9\", \"font\": {\"color\": \"#4D5663\"}}, \"paper_bgcolor\": \"#F5F6F9\", \"plot_bgcolor\": \"#F5F6F9\", \"template\": {\"data\": {\"bar\": [{\"error_x\": {\"color\": \"#2a3f5f\"}, \"error_y\": {\"color\": \"#2a3f5f\"}, \"marker\": {\"line\": {\"color\": \"#E5ECF6\", \"width\": 0.5}}, \"type\": \"bar\"}], \"barpolar\": [{\"marker\": {\"line\": {\"color\": \"#E5ECF6\", \"width\": 0.5}}, \"type\": \"barpolar\"}], \"carpet\": [{\"aaxis\": {\"endlinecolor\": \"#2a3f5f\", \"gridcolor\": \"white\", \"linecolor\": \"white\", \"minorgridcolor\": \"white\", \"startlinecolor\": \"#2a3f5f\"}, \"baxis\": {\"endlinecolor\": \"#2a3f5f\", \"gridcolor\": \"white\", \"linecolor\": \"white\", \"minorgridcolor\": \"white\", \"startlinecolor\": \"#2a3f5f\"}, \"type\": \"carpet\"}], \"choropleth\": [{\"colorbar\": {\"outlinewidth\": 0, \"ticks\": \"\"}, \"type\": \"choropleth\"}], \"contour\": [{\"colorbar\": {\"outlinewidth\": 0, \"ticks\": \"\"}, \"colorscale\": [[0.0, \"#0d0887\"], [0.1111111111111111, \"#46039f\"], [0.2222222222222222, \"#7201a8\"], [0.3333333333333333, \"#9c179e\"], [0.4444444444444444, \"#bd3786\"], [0.5555555555555556, \"#d8576b\"], [0.6666666666666666, \"#ed7953\"], [0.7777777777777778, \"#fb9f3a\"], [0.8888888888888888, \"#fdca26\"], [1.0, \"#f0f921\"]], \"type\": \"contour\"}], \"contourcarpet\": [{\"colorbar\": {\"outlinewidth\": 0, \"ticks\": \"\"}, \"type\": \"contourcarpet\"}], \"heatmap\": [{\"colorbar\": {\"outlinewidth\": 0, \"ticks\": \"\"}, \"colorscale\": [[0.0, \"#0d0887\"], [0.1111111111111111, \"#46039f\"], [0.2222222222222222, \"#7201a8\"], [0.3333333333333333, \"#9c179e\"], [0.4444444444444444, \"#bd3786\"], [0.5555555555555556, \"#d8576b\"], [0.6666666666666666, \"#ed7953\"], [0.7777777777777778, \"#fb9f3a\"], [0.8888888888888888, \"#fdca26\"], [1.0, \"#f0f921\"]], \"type\": \"heatmap\"}], \"heatmapgl\": [{\"colorbar\": {\"outlinewidth\": 0, \"ticks\": \"\"}, \"colorscale\": [[0.0, \"#0d0887\"], [0.1111111111111111, \"#46039f\"], [0.2222222222222222, \"#7201a8\"], [0.3333333333333333, \"#9c179e\"], [0.4444444444444444, \"#bd3786\"], [0.5555555555555556, \"#d8576b\"], [0.6666666666666666, \"#ed7953\"], [0.7777777777777778, \"#fb9f3a\"], [0.8888888888888888, \"#fdca26\"], [1.0, \"#f0f921\"]], \"type\": \"heatmapgl\"}], \"histogram\": [{\"marker\": {\"colorbar\": {\"outlinewidth\": 0, \"ticks\": \"\"}}, \"type\": \"histogram\"}], \"histogram2d\": [{\"colorbar\": {\"outlinewidth\": 0, \"ticks\": \"\"}, \"colorscale\": [[0.0, \"#0d0887\"], [0.1111111111111111, \"#46039f\"], [0.2222222222222222, \"#7201a8\"], [0.3333333333333333, \"#9c179e\"], [0.4444444444444444, \"#bd3786\"], [0.5555555555555556, \"#d8576b\"], [0.6666666666666666, \"#ed7953\"], [0.7777777777777778, \"#fb9f3a\"], [0.8888888888888888, \"#fdca26\"], [1.0, \"#f0f921\"]], \"type\": \"histogram2d\"}], \"histogram2dcontour\": [{\"colorbar\": {\"outlinewidth\": 0, \"ticks\": \"\"}, \"colorscale\": [[0.0, \"#0d0887\"], [0.1111111111111111, \"#46039f\"], [0.2222222222222222, \"#7201a8\"], [0.3333333333333333, \"#9c179e\"], [0.4444444444444444, \"#bd3786\"], [0.5555555555555556, \"#d8576b\"], [0.6666666666666666, \"#ed7953\"], [0.7777777777777778, \"#fb9f3a\"], [0.8888888888888888, \"#fdca26\"], [1.0, \"#f0f921\"]], \"type\": \"histogram2dcontour\"}], \"mesh3d\": [{\"colorbar\": {\"outlinewidth\": 0, \"ticks\": \"\"}, \"type\": \"mesh3d\"}], \"parcoords\": [{\"line\": {\"colorbar\": {\"outlinewidth\": 0, \"ticks\": \"\"}}, \"type\": \"parcoords\"}], \"pie\": [{\"automargin\": true, \"type\": \"pie\"}], \"scatter\": [{\"marker\": {\"colorbar\": {\"outlinewidth\": 0, \"ticks\": \"\"}}, \"type\": \"scatter\"}], \"scatter3d\": [{\"line\": {\"colorbar\": {\"outlinewidth\": 0, \"ticks\": \"\"}}, \"marker\": {\"colorbar\": {\"outlinewidth\": 0, \"ticks\": \"\"}}, \"type\": \"scatter3d\"}], \"scattercarpet\": [{\"marker\": {\"colorbar\": {\"outlinewidth\": 0, \"ticks\": \"\"}}, \"type\": \"scattercarpet\"}], \"scattergeo\": [{\"marker\": {\"colorbar\": {\"outlinewidth\": 0, \"ticks\": \"\"}}, \"type\": \"scattergeo\"}], \"scattergl\": [{\"marker\": {\"colorbar\": {\"outlinewidth\": 0, \"ticks\": \"\"}}, \"type\": \"scattergl\"}], \"scattermapbox\": [{\"marker\": {\"colorbar\": {\"outlinewidth\": 0, \"ticks\": \"\"}}, \"type\": \"scattermapbox\"}], \"scatterpolar\": [{\"marker\": {\"colorbar\": {\"outlinewidth\": 0, \"ticks\": \"\"}}, \"type\": \"scatterpolar\"}], \"scatterpolargl\": [{\"marker\": {\"colorbar\": {\"outlinewidth\": 0, \"ticks\": \"\"}}, \"type\": \"scatterpolargl\"}], \"scatterternary\": [{\"marker\": {\"colorbar\": {\"outlinewidth\": 0, \"ticks\": \"\"}}, \"type\": \"scatterternary\"}], \"surface\": [{\"colorbar\": {\"outlinewidth\": 0, \"ticks\": \"\"}, \"colorscale\": [[0.0, \"#0d0887\"], [0.1111111111111111, \"#46039f\"], [0.2222222222222222, \"#7201a8\"], [0.3333333333333333, \"#9c179e\"], [0.4444444444444444, \"#bd3786\"], [0.5555555555555556, \"#d8576b\"], [0.6666666666666666, \"#ed7953\"], [0.7777777777777778, \"#fb9f3a\"], [0.8888888888888888, \"#fdca26\"], [1.0, \"#f0f921\"]], \"type\": \"surface\"}], \"table\": [{\"cells\": {\"fill\": {\"color\": \"#EBF0F8\"}, \"line\": {\"color\": \"white\"}}, \"header\": {\"fill\": {\"color\": \"#C8D4E3\"}, \"line\": {\"color\": \"white\"}}, \"type\": \"table\"}]}, \"layout\": {\"annotationdefaults\": {\"arrowcolor\": \"#2a3f5f\", \"arrowhead\": 0, \"arrowwidth\": 1}, \"coloraxis\": {\"colorbar\": {\"outlinewidth\": 0, \"ticks\": \"\"}}, \"colorscale\": {\"diverging\": [[0, \"#8e0152\"], [0.1, \"#c51b7d\"], [0.2, \"#de77ae\"], [0.3, \"#f1b6da\"], [0.4, \"#fde0ef\"], [0.5, \"#f7f7f7\"], [0.6, \"#e6f5d0\"], [0.7, \"#b8e186\"], [0.8, \"#7fbc41\"], [0.9, \"#4d9221\"], [1, \"#276419\"]], \"sequential\": [[0.0, \"#0d0887\"], [0.1111111111111111, \"#46039f\"], [0.2222222222222222, \"#7201a8\"], [0.3333333333333333, \"#9c179e\"], [0.4444444444444444, \"#bd3786\"], [0.5555555555555556, \"#d8576b\"], [0.6666666666666666, \"#ed7953\"], [0.7777777777777778, \"#fb9f3a\"], [0.8888888888888888, \"#fdca26\"], [1.0, \"#f0f921\"]], \"sequentialminus\": [[0.0, \"#0d0887\"], [0.1111111111111111, \"#46039f\"], [0.2222222222222222, \"#7201a8\"], [0.3333333333333333, \"#9c179e\"], [0.4444444444444444, \"#bd3786\"], [0.5555555555555556, \"#d8576b\"], [0.6666666666666666, \"#ed7953\"], [0.7777777777777778, \"#fb9f3a\"], [0.8888888888888888, \"#fdca26\"], [1.0, \"#f0f921\"]]}, \"colorway\": [\"#636efa\", \"#EF553B\", \"#00cc96\", \"#ab63fa\", \"#FFA15A\", \"#19d3f3\", \"#FF6692\", \"#B6E880\", \"#FF97FF\", \"#FECB52\"], \"font\": {\"color\": \"#2a3f5f\"}, \"geo\": {\"bgcolor\": \"white\", \"lakecolor\": \"white\", \"landcolor\": \"#E5ECF6\", \"showlakes\": true, \"showland\": true, \"subunitcolor\": \"white\"}, \"hoverlabel\": {\"align\": \"left\"}, \"hovermode\": \"closest\", \"mapbox\": {\"style\": \"light\"}, \"paper_bgcolor\": \"white\", \"plot_bgcolor\": \"#E5ECF6\", \"polar\": {\"angularaxis\": {\"gridcolor\": \"white\", \"linecolor\": \"white\", \"ticks\": \"\"}, \"bgcolor\": \"#E5ECF6\", \"radialaxis\": {\"gridcolor\": \"white\", \"linecolor\": \"white\", \"ticks\": \"\"}}, \"scene\": {\"xaxis\": {\"backgroundcolor\": \"#E5ECF6\", \"gridcolor\": \"white\", \"gridwidth\": 2, \"linecolor\": \"white\", \"showbackground\": true, \"ticks\": \"\", \"zerolinecolor\": \"white\"}, \"yaxis\": {\"backgroundcolor\": \"#E5ECF6\", \"gridcolor\": \"white\", \"gridwidth\": 2, \"linecolor\": \"white\", \"showbackground\": true, \"ticks\": \"\", \"zerolinecolor\": \"white\"}, \"zaxis\": {\"backgroundcolor\": \"#E5ECF6\", \"gridcolor\": \"white\", \"gridwidth\": 2, \"linecolor\": \"white\", \"showbackground\": true, \"ticks\": \"\", \"zerolinecolor\": \"white\"}}, \"shapedefaults\": {\"line\": {\"color\": \"#2a3f5f\"}}, \"ternary\": {\"aaxis\": {\"gridcolor\": \"white\", \"linecolor\": \"white\", \"ticks\": \"\"}, \"baxis\": {\"gridcolor\": \"white\", \"linecolor\": \"white\", \"ticks\": \"\"}, \"bgcolor\": \"#E5ECF6\", \"caxis\": {\"gridcolor\": \"white\", \"linecolor\": \"white\", \"ticks\": \"\"}}, \"title\": {\"x\": 0.05}, \"xaxis\": {\"automargin\": true, \"gridcolor\": \"white\", \"linecolor\": \"white\", \"ticks\": \"\", \"title\": {\"standoff\": 15}, \"zerolinecolor\": \"white\", \"zerolinewidth\": 2}, \"yaxis\": {\"automargin\": true, \"gridcolor\": \"white\", \"linecolor\": \"white\", \"ticks\": \"\", \"title\": {\"standoff\": 15}, \"zerolinecolor\": \"white\", \"zerolinewidth\": 2}}}, \"title\": {\"font\": {\"color\": \"#4D5663\"}}, \"xaxis\": {\"gridcolor\": \"#E1E5ED\", \"showgrid\": true, \"tickfont\": {\"color\": \"#4D5663\"}, \"title\": {\"font\": {\"color\": \"#4D5663\"}, \"text\": \"\"}, \"zerolinecolor\": \"#E1E5ED\"}, \"yaxis\": {\"gridcolor\": \"#E1E5ED\", \"showgrid\": true, \"tickfont\": {\"color\": \"#4D5663\"}, \"title\": {\"font\": {\"color\": \"#4D5663\"}, \"text\": \"\"}, \"zerolinecolor\": \"#E1E5ED\"}},\n",
       "                        {\"showLink\": true, \"linkText\": \"Export to plot.ly\", \"plotlyServerURL\": \"https://plot.ly\", \"responsive\": true}\n",
       "                    ).then(function(){\n",
       "                            \n",
       "var gd = document.getElementById('17353171-0309-4547-89e8-9e7e723479dc');\n",
       "var x = new MutationObserver(function (mutations, observer) {{\n",
       "        var display = window.getComputedStyle(gd).display;\n",
       "        if (!display || display === 'none') {{\n",
       "            console.log([gd, 'removed!']);\n",
       "            Plotly.purge(gd);\n",
       "            observer.disconnect();\n",
       "        }}\n",
       "}});\n",
       "\n",
       "// Listen for the removal of the full notebook cells\n",
       "var notebookContainer = gd.closest('#notebook-container');\n",
       "if (notebookContainer) {{\n",
       "    x.observe(notebookContainer, {childList: true});\n",
       "}}\n",
       "\n",
       "// Listen for the clearing of the current output cell\n",
       "var outputEl = gd.closest('.output');\n",
       "if (outputEl) {{\n",
       "    x.observe(outputEl, {childList: true});\n",
       "}}\n",
       "\n",
       "                        })\n",
       "                };\n",
       "                });\n",
       "            </script>\n",
       "        </div>"
      ]
     },
     "metadata": {},
     "output_type": "display_data"
    }
   ],
   "source": [
    "df.iplot(x = 'Length of Membership', y = 'Yearly Amount Spent', kind = 'scatter', mode = 'markers')"
   ]
  },
  {
   "cell_type": "code",
   "execution_count": 10,
   "metadata": {},
   "outputs": [
    {
     "data": {
      "application/vnd.plotly.v1+json": {
       "config": {
        "linkText": "Export to plot.ly",
        "plotlyServerURL": "https://plot.ly",
        "showLink": true
       },
       "data": [
        {
         "line": {
          "color": "rgba(255, 153, 51, 1.0)",
          "dash": "solid",
          "shape": "linear",
          "width": 1.3
         },
         "marker": {
          "size": 12,
          "symbol": "circle"
         },
         "mode": "markers",
         "name": "Yearly Amount Spent",
         "text": "",
         "type": "scatter",
         "x": [
          12.65565114916675,
          11.109460728682564,
          11.330278057777512,
          13.717513665142507,
          12.795188551078114,
          12.026925339755056,
          11.366348309710526,
          12.35195897300293,
          13.386235275676436,
          11.814128294972196,
          13.338975447662113,
          11.584782999535266,
          10.961298400154098,
          12.959226091609382,
          13.148725692056516,
          12.636606052000127,
          11.733861690857394,
          12.013194694014402,
          14.7153875441565,
          13.989592555825254,
          11.365492025516154,
          12.87798369625634,
          13.378562784168984,
          11.657575922065588,
          12.893669504071738,
          11.765812645482356,
          12.783891784275019,
          13.007819424388568,
          11.982044994015613,
          11.9650200029979,
          12.305417813429447,
          10.869163814130363,
          13.387492105579696,
          13.1045072428758,
          11.634893252550464,
          11.936386499892285,
          11.75502370305383,
          11.984417523634924,
          9.954975969174418,
          12.489013215743663,
          11.733106220383403,
          10.634561317920276,
          12.507525374016035,
          11.52987820576495,
          13.414934735851688,
          12.170525424959395,
          13.146551432907062,
          12.988510147185293,
          11.864126358942508,
          11.398064190096813,
          13.85806246213124,
          10.956790967791653,
          10.320116255059194,
          9.98451439654646,
          12.645195140843521,
          11.588655423353044,
          13.761532847115614,
          10.56829468563276,
          11.832286222863626,
          12.064156632199321,
          12.495591602384836,
          9.607314687519166,
          13.728627177429864,
          11.670065919118976,
          13.276313008175375,
          15.126994288792467,
          12.695789749023144,
          11.835476087614285,
          11.306232344673575,
          11.187538910878676,
          11.887494133971662,
          12.2289347111239,
          10.674653472691904,
          12.817113090284247,
          13.5878060830337,
          12.238057349986248,
          11.55182116621942,
          11.433379933334455,
          10.889566863427978,
          11.928842093866267,
          12.595671305072534,
          10.947258584185183,
          13.898081993497069,
          10.875559548189257,
          10.338072695038539,
          11.63466821794247,
          12.517666287393075,
          10.607723870859086,
          12.8288933950187,
          12.068816079691766,
          12.530357373542884,
          13.516284296962846,
          11.662263431208274,
          13.664747875183544,
          11.83023109487895,
          13.291143045352884,
          11.942340869536073,
          13.349912944366533,
          12.020112091208748,
          12.084091730811036,
          13.410759184940549,
          11.28193107410364,
          11.448901535513794,
          12.595420346380534,
          10.994223919350974,
          13.085505760060856,
          12.190474287309025,
          10.719149740628396,
          12.931550271647987,
          13.452128959435642,
          12.149375491578276,
          12.178331333996287,
          11.010482132400076,
          11.60253219348616,
          12.732211588456625,
          11.223368888365105,
          12.01102187657459,
          11.725910097840956,
          12.08930957243735,
          13.068638584182436,
          12.85499036656409,
          11.564022368065539,
          11.113329897404322,
          12.809883473378116,
          11.761172325483109,
          12.579894173618062,
          11.957923064554107,
          10.651793783474174,
          12.75207661096469,
          11.540832436151053,
          11.924394923280015,
          12.4241304114395,
          11.810586764578169,
          12.759168978762087,
          11.85189083494272,
          12.70368792886871,
          12.21525242490249,
          11.281445003567141,
          10.735362917985057,
          10.963131776054833,
          11.735094549013706,
          12.41896198100501,
          10.537307537840883,
          11.919242397939177,
          11.911415556879856,
          12.488067002053029,
          12.380694979552985,
          10.480506832694497,
          12.296517680733736,
          10.86160419912899,
          10.716355140061573,
          12.387184173554845,
          10.984835888186163,
          12.965761479512215,
          12.050267234380506,
          13.45772494051235,
          12.443047890439868,
          12.207298491050794,
          11.586319529181235,
          11.378087087773375,
          12.364341604455197,
          12.399436075147092,
          12.542481050786341,
          13.280432242922114,
          11.795886676889108,
          12.718039174525654,
          12.039647840787234,
          12.474455453922836,
          13.160020040286033,
          11.052323653306686,
          10.636761083696546,
          13.443405985146251,
          13.28303286832567,
          11.747731701242175,
          10.859608533152715,
          11.691686125826351,
          11.548761439776756,
          11.72400223179126,
          12.178573080885847,
          12.319845062066673,
          11.084360836740514,
          13.177774533773801,
          12.832802836968114,
          11.509047996817198,
          11.85766344472502,
          12.293365838346627,
          10.93325227854703,
          13.332839284456394,
          10.902556227019767,
          12.276981712741966,
          12.038808239866547,
          11.724473856834607,
          11.202669899735568,
          13.378063328893633,
          11.388612618641037,
          10.771074062599588,
          11.818571762284998,
          13.808798675105963,
          11.659832840871447,
          13.100109538542807,
          13.067895684999526,
          12.494322933269391,
          11.340035931978807,
          11.199660962300452,
          11.332487778094174,
          13.91949439608817,
          11.031358340409188,
          11.084584086421874,
          10.542645423983108,
          11.79779551488024,
          12.442616548294636,
          12.104542428062684,
          12.37849022280867,
          13.722453676229962,
          12.725909323593955,
          13.685118899623589,
          10.012583366223023,
          11.435533874300315,
          12.354607081759855,
          10.748533655415796,
          11.59187166512224,
          11.236506758754027,
          11.109456333168433,
          12.114944955194904,
          11.866481205181707,
          10.25654903128796,
          12.168596472860555,
          13.085356892368793,
          13.013375627349653,
          10.9839767277944,
          13.105158522307253,
          12.144748536704865,
          13.90991551102909,
          11.395209434440886,
          13.033566182687187,
          11.622777173031125,
          12.600750401563928,
          13.187910985159366,
          13.266760352944493,
          11.752343171850052,
          11.56811634209842,
          12.638572122192118,
          11.388644575171455,
          11.82298329832392,
          12.725677367222989,
          11.201159766003187,
          11.347263611462731,
          14.220979108167345,
          11.546275759510358,
          11.91763618310149,
          12.276056984463208,
          10.131712461927217,
          12.026942222615626,
          13.172287495263063,
          12.326291385476885,
          13.891313421778493,
          12.930928541308225,
          11.379257182400215,
          14.069382336483994,
          10.804890557641668,
          14.426491050422625,
          13.041244588162265,
          11.739743796165989,
          12.491058738018811,
          12.892374513653696,
          11.668866514553864,
          11.777772039564965,
          12.138793877121687,
          12.222967446546056,
          13.402331896928285,
          12.956276605432244,
          12.884124621344766,
          13.325469096138633,
          12.15858523387948,
          11.226545663510619,
          12.461135435006733,
          9.846124908736233,
          13.32541218598226,
          13.677245841523792,
          11.644969546399302,
          13.485008988077054,
          11.620996507575207,
          13.014459152355206,
          11.466984219092824,
          11.684904192367506,
          12.09396635537946,
          14.325654943309248,
          12.914846634589114,
          9.8244017703894,
          12.807751833234732,
          13.058277927143259,
          10.534553499461076,
          11.143433077943628,
          10.982805534662877,
          11.153966054877387,
          11.947175323941774,
          11.47056500466582,
          11.03785041365591,
          11.167356897497287,
          11.562936246652605,
          12.227728279686652,
          13.18681287300118,
          13.394451788942055,
          11.851398743073142,
          12.266503838947587,
          13.459222289832475,
          11.792971821961505,
          10.98574015235435,
          12.637557159364276,
          8.508152176032603,
          11.656592033851751,
          11.9668980767806,
          11.80298577760313,
          12.677401437121036,
          13.032534975943193,
          12.44761745405695,
          12.235659245108506,
          10.973162084317348,
          13.665769794267847,
          13.391120179234008,
          12.96832561098067,
          12.968893130527091,
          10.732131340303663,
          10.952353380458653,
          12.60888879370027,
          13.039511025284968,
          10.999683661085923,
          13.278956228597714,
          10.62794922615627,
          13.185181167368498,
          11.351049011250833,
          12.954811454937932,
          11.73704063527238,
          11.887345302061831,
          10.757130926114415,
          11.612650769570312,
          11.979061483915341,
          12.461147444665412,
          10.079463451952432,
          12.589240561061525,
          14.2880145907663,
          11.91711569558776,
          11.40964461636565,
          12.815392648610313,
          11.673229254101276,
          10.61053651970745,
          12.506548190327935,
          11.304462307422886,
          10.886921180951674,
          12.095889485093476,
          12.692661429739386,
          11.386775551280653,
          10.728418539377822,
          11.936895159842095,
          12.717995102314037,
          10.969802874106238,
          13.420545742201176,
          11.85468192110211,
          11.918859709324538,
          13.149669557991398,
          12.685393899848075,
          10.347876945661575,
          9.316289204373824,
          12.581547729914535,
          11.764447589452988,
          12.644202118863694,
          11.832112231483734,
          10.441235061603203,
          12.729719510423308,
          9.477777607959725,
          10.163179060052556,
          11.608997936221535,
          11.268259230574026,
          11.163159542913276,
          10.101632204781014,
          12.76153127820102,
          12.055340161330117,
          11.935934966559186,
          12.451200012438312,
          12.284467067067206,
          12.782171794760187,
          12.960307128914414,
          9.95399500605983,
          13.130021664776669,
          11.520566788562215,
          10.972554314292411,
          13.53191346185937,
          12.039502370469924,
          10.942069621017652,
          12.664192622515644,
          11.730661394277833,
          11.918670307379347,
          11.514949066574866,
          12.418113202231623,
          13.887275413385506,
          12.846499067474367,
          10.889828283005027,
          12.914570094327916,
          11.568526641744768,
          11.971750786570597,
          13.078692439536418,
          11.956426484854195,
          13.252737094184226,
          13.093537281195056,
          12.527471744522867,
          11.235968954252515,
          12.074830167957375,
          12.045331979699332,
          11.230743306761044,
          11.90784409977911,
          13.052210385161311,
          13.004362005673077,
          11.52352268106905,
          10.314717921893896,
          12.433128529733454,
          10.745188554182882,
          11.016755636715029,
          12.216854693359823,
          12.329147021418828,
          10.806966067774699,
          12.135101396955724,
          12.94155572990243,
          13.300299363336553,
          10.39845771308564,
          11.887800415781035,
          11.591439703136587,
          13.271475042524669,
          12.9882205986331,
          14.039867262521904,
          11.906507762219913,
          11.13714030231066,
          12.902664889103924,
          12.38651625649485,
          11.822721745594304,
          10.9857637851215,
          14.132893457553365,
          11.912210479900578,
          11.481587147836265,
          10.04731473507118,
          12.428736927868275,
          11.965980266792483,
          11.121366060509414,
          8.668349517101323,
          12.504219807675257,
          12.132509111641538,
          11.732991461588078,
          11.946590884981756,
          12.556107616938169,
          12.480701517118197,
          12.594194066191113,
          10.946841939586896,
          11.48419869378604,
          11.120870867123783,
          10.971392430875488,
          11.588948579712493,
          10.706641521307748,
          11.07625934092972,
          12.953262542191794,
          10.572466600106118,
          11.658036814224136,
          13.592512657946296,
          11.371767361249,
          11.23341495354092,
          10.290350765056484,
          14.121783839255324,
          12.415541963333618,
          10.770248917443364,
          12.664390524735165,
          12.667808875387266,
          13.970181074130444,
          11.509253453525044,
          11.405770450141056,
          12.263717676034362,
          12.710701300459249,
          13.471577671948914,
          11.186808718643787,
          11.246812606011584,
          12.357638107209013,
          11.764325958658198,
          11.761883803681748,
          11.550300110865926,
          12.482669924970505,
          11.731364294077403,
          12.21407374586628,
          11.903756682535944,
          12.222483941893726,
          12.005916370756164,
          11.913745152838759,
          12.125401967944384,
          11.305551430414742,
          11.608997070875464,
          11.693058197072652,
          11.201569884684467,
          12.625432642053953,
          13.350631684459369,
          13.566159613087606,
          11.695736293481328,
          11.499409061002085,
          12.391422991118318,
          12.418808324753911
         ],
         "y": [
          587.9510539684005,
          392.2049334443264,
          487.54750486747207,
          581.8523440352177,
          599.4060920457634,
          637.102447915074,
          521.5721747578274,
          549.9041461052942,
          570.2004089636196,
          427.1993848953282,
          492.6060127179966,
          522.3374046069357,
          408.6403510726275,
          573.4158673313865,
          470.4527333009554,
          461.7807421962299,
          457.84769594494855,
          407.70454754954415,
          452.3156754800354,
          605.061038804892,
          534.7057438060227,
          419.93877483917913,
          436.51560572936256,
          519.3409891307888,
          700.9170916173961,
          423.17999168059777,
          619.8956398616367,
          486.83893476506273,
          529.537665336851,
          554.7220838330761,
          497.5866713004408,
          447.6879065360587,
          588.7126055095755,
          491.07322367951963,
          507.4418323396168,
          521.8835731664783,
          347.77692663187264,
          490.73863214395465,
          478.1703340540876,
          537.8461952695957,
          532.7517875818364,
          501.87443028426947,
          591.1971781805905,
          547.2443434159983,
          448.22982918655,
          549.860590464497,
          593.9150029682891,
          563.6728733601083,
          479.73194908594513,
          416.35835357990084,
          725.5848140556806,
          442.667251738628,
          384.62657156940537,
          451.4574468676027,
          522.40414125956,
          483.67330801904563,
          520.8987944502368,
          453.16950235469744,
          496.650708068581,
          547.3651405940458,
          616.8515229667128,
          507.21256900067846,
          613.5993233689068,
          483.15972078451705,
          540.2634004105403,
          765.5184619388373,
          553.6015346844503,
          469.3108614953106,
          408.6201878298378,
          451.57568515949305,
          444.96655165329264,
          595.8228366992038,
          418.1500810968496,
          534.7771880994133,
          578.2416050583772,
          478.7193568742153,
          444.2859074976437,
          544.7798637193824,
          488.78606109390563,
          475.759067788328,
          489.8124879964614,
          462.8976361529081,
          596.4301726172282,
          338.31986264152215,
          533.5149352552407,
          536.7718993628412,
          487.37930601702914,
          473.7289665129948,
          547.1259317471988,
          505.11334353985785,
          449.0703194428044,
          611.0000251040717,
          515.8288148548279,
          439.07476674164496,
          514.0889577465721,
          543.340166256701,
          521.1429518103512,
          614.7153338263417,
          507.39006178986654,
          495.2994425473087,
          518.0645579840107,
          390.1032729724755,
          420.73767324463716,
          492.1050523891852,
          410.0696110599829,
          497.51368332936767,
          494.55186108657256,
          378.3309069068038,
          570.451725912857,
          549.0082269346927,
          459.285123462352,
          492.94505306595823,
          424.7626355099111,
          422.4267758765091,
          642.1015787311585,
          413.3717831104521,
          479.23109291159307,
          593.0772413447513,
          506.5473070543517,
          571.3074948754644,
          576.311177371677,
          576.8025473995871,
          514.239520718957,
          495.1759504494754,
          514.3365582674006,
          541.2265839893283,
          516.8315566841785,
          468.44573722740637,
          548.2803201983364,
          431.6177337614297,
          552.9403454501056,
          573.3062222574563,
          452.62725499508304,
          542.7115581025776,
          407.8040306356823,
          482.3535703213532,
          529.2300901235094,
          433.0487690958266,
          476.1914133494556,
          439.997879939927,
          448.93329320767435,
          472.9922466667984,
          463.9235129903258,
          350.05820016384513,
          460.06127739124327,
          505.77114032295646,
          463.484995404266,
          479.73193764530447,
          424.18549428888633,
          465.8893127108669,
          426.7752159856604,
          684.1634310159512,
          555.8925953881737,
          657.0199239376519,
          595.8038188761143,
          503.9783790525795,
          586.1558701804727,
          744.2218671047146,
          512.8253581285203,
          528.2238093680072,
          468.9135013219844,
          357.5914394150861,
          536.4231045259343,
          490.2065999848547,
          550.0475805761635,
          513.4505711860965,
          497.8119300055205,
          578.9862585804897,
          506.5363931400864,
          501.74923330839226,
          421.9667941858674,
          439.8912804768137,
          666.125591725772,
          298.76200786180766,
          465.17662330529686,
          373.88572369695015,
          532.7174856761749,
          554.9007830202702,
          537.7731625414566,
          501.100245232053,
          517.1651355939779,
          557.5292736134538,
          493.71919297817595,
          452.12262508578493,
          577.2734549822936,
          485.9231305248517,
          425.74509203105276,
          537.2150526997326,
          524.6379646141048,
          478.8853913201482,
          612.3852298963608,
          476.76672415476344,
          505.11963752820367,
          545.9454921414049,
          434.0216997527185,
          424.67528101321335,
          352.55010816300035,
          662.9610878058954,
          560.5601606242603,
          467.5019004269896,
          504.87043239337237,
          590.56271964715,
          443.9656268098819,
          392.4973991890214,
          568.7175759305222,
          712.3963268096637,
          413.29599918102974,
          562.0820453929382,
          412.012931298847,
          468.66846559912733,
          496.55408163560713,
          548.5185292758069,
          536.1308968550213,
          558.4272571753238,
          357.86371863839173,
          529.0566631985306,
          387.3570727364218,
          528.9336185650203,
          420.91615953269286,
          496.9334462555319,
          519.372976801355,
          591.4377355684502,
          502.4097853029053,
          604.3348400688553,
          555.0683940545761,
          256.67058229005585,
          547.1109823629461,
          461.9208768928978,
          458.3769106506301,
          436.28349814675136,
          532.9352188376637,
          512.5525343564016,
          630.4227632299235,
          463.74598112062944,
          493.18021624931,
          501.2091726816533,
          501.9282648732441,
          376.3369007569242,
          421.3266312569514,
          538.774933478023,
          398.16346853365195,
          571.4710341154247,
          451.62861054019965,
          490.6004425003995,
          591.7810894256675,
          409.0704720533178,
          563.4460356732392,
          647.6194557251927,
          448.34042501104767,
          518.7864830920807,
          523.6339351357243,
          393.8573709860865,
          426.154547713103,
          503.3878872879605,
          482.60246732948264,
          524.7976275698038,
          574.6548433659394,
          574.7472196620896,
          660.4251842914138,
          375.3984554102432,
          640.1877400085722,
          514.0098178487357,
          376.49684071853693,
          484.51980911055114,
          614.7296376283243,
          567.4750105270774,
          554.0030934297989,
          399.98387159812256,
          479.17285149109694,
          585.9318442972224,
          540.9957391083377,
          628.0478039330168,
          582.4919237338106,
          640.7861663983061,
          446.41867337013565,
          570.6300980875259,
          423.3083340974698,
          616.6602860166827,
          530.3624688854229,
          442.3631173838644,
          511.9798599920658,
          560.4437921717631,
          475.2634237275485,
          374.2696745439231,
          463.5914180279406,
          471.602884392892,
          626.018672655394,
          432.47206125141577,
          356.6155678900057,
          467.4278485003528,
          503.21739311910665,
          378.47356644790113,
          584.2183134866807,
          451.7278633175868,
          557.6341089957289,
          432.7207178399336,
          506.42385996980016,
          510.1598172791045,
          587.5747994806404,
          282.4712457199145,
          473.94985742281614,
          489.9080530975354,
          541.9722037582585,
          266.086340948469,
          494.68715581028533,
          689.7876041747194,
          387.5347163057077,
          441.89663151788625,
          604.8413188212228,
          302.18954780965197,
          479.6148116731425,
          506.132342437705,
          319.9288698031936,
          528.3092250312227,
          610.1280331303979,
          584.1058850493532,
          466.4211988217437,
          404.82452887268687,
          564.7909690079206,
          596.516697973153,
          368.6547849470645,
          542.4124767293989,
          478.2621263968358,
          473.360495571661,
          559.1990479544187,
          447.18764430541853,
          505.2300682820706,
          557.2526867470547,
          422.36873660682664,
          445.06218550892487,
          442.06441375806565,
          533.0400601788124,
          424.2028270990325,
          498.635598489176,
          330.5944460341002,
          443.4418600624623,
          478.60091594433294,
          440.0027475469415,
          357.7831107453153,
          476.139246872566,
          501.12249150365636,
          592.6884532021675,
          486.0834255029927,
          576.0252441251166,
          442.7228915742714,
          461.7909590614097,
          488.38752578014504,
          593.1564014822196,
          392.8103449837972,
          443.1972210287554,
          535.4807751896418,
          533.3965537868428,
          532.1274491097012,
          558.9481123879059,
          508.771906741518,
          403.7669020956173,
          640.5840618984408,
          461.6282783910862,
          382.41610786547517,
          561.874657668983,
          444.5761441337301,
          401.03313521910604,
          384.3260571375157,
          527.7829957560522,
          482.14499687576796,
          594.2744834186118,
          502.0925279023197,
          407.65717875932603,
          708.9351848669818,
          531.9615505451646,
          521.2407802357949,
          447.36902719933136,
          385.152337987975,
          430.5888825564849,
          418.602742095224,
          478.95140475788554,
          483.79652206149285,
          538.941974531203,
          486.1637990666317,
          385.0950070687634,
          527.7837897574573,
          547.1907493518986,
          410.6029439492151,
          583.9778019715427,
          474.53232943988985,
          414.9350606518193,
          550.8133677324173,
          458.78113168424994,
          407.54216801343483,
          581.3089328794999,
          546.5566668627299,
          503.1750851912004,
          549.1315732872171,
          482.8309858617017,
          557.6082620533542,
          484.87696493512857,
          669.9871405017029,
          547.7099885778624,
          537.8252822957112,
          408.2169017707518,
          663.0748176067602,
          506.37586675019753,
          528.4193296952955,
          632.1235881419657,
          488.2702979651482,
          508.7357409506604,
          411.1869635742789,
          409.0945261923378,
          467.8009243667916,
          512.1658663881581,
          608.2718166151668,
          589.0264897562791,
          444.0538265727728,
          493.1812613907186,
          532.724805462904,
          275.9184206503857,
          511.03878605116114,
          438.41774201146853,
          475.7250679098812,
          483.54319386538816,
          663.8036932755083,
          544.4092721605869,
          630.1567281670505,
          461.11224843060927,
          491.9115050963458,
          574.4156896079883,
          530.7667186547619,
          581.7987976770314,
          556.2981411740467,
          502.132789227254,
          556.1863688687886,
          475.07162989966173,
          486.9470538397658,
          434.1442020262987,
          304.1355915788555,
          571.2160048349454,
          583.0796356620574,
          445.74984123965226,
          392.99225591403086,
          565.9943634015267,
          499.14015244905386,
          510.5394216996283,
          308.52774655803336,
          561.5165319790891,
          423.4705331738239,
          513.1531118530668,
          529.1945188649573,
          314.4385182951061,
          478.5842860083426,
          444.5821649786528,
          475.0154070877503,
          436.7205558562188,
          521.1953105318003,
          478.18305971187965,
          432.48116855701767,
          438.30370784642975,
          388.9405487921943,
          534.7714849461672,
          537.9157529213054,
          407.8763782204976,
          618.8459704239658,
          502.77107456549606,
          397.420584096457,
          392.2852442462675,
          689.2356997616951,
          543.1326262891694,
          577.7360248512277,
          436.5807403475482,
          553.9946735912697,
          427.3565308022928,
          424.7287739291025,
          541.0498309594357,
          469.38314617236114,
          444.54554965110816,
          492.55683370047706,
          535.3216100850124,
          408.9583359406166,
          487.5554580579016,
          487.6462317438417,
          402.16712222372564,
          551.0230017027826,
          497.3895577588434,
          494.6386097568927,
          479.2474167840931,
          462.65651893471335,
          515.5024796636585,
          576.4776071703129,
          357.85798360521926,
          597.7398788791847,
          327.37795258965207,
          510.4013884525048,
          510.50147847479735,
          403.8195198321978,
          627.603318713015,
          510.661792219672,
          573.8474377162278,
          529.0490041294304,
          551.6201454762477,
          456.46951006629797,
          497.7786422156802
         ]
        }
       ],
       "layout": {
        "legend": {
         "bgcolor": "#F5F6F9",
         "font": {
          "color": "#4D5663"
         }
        },
        "paper_bgcolor": "#F5F6F9",
        "plot_bgcolor": "#F5F6F9",
        "template": {
         "data": {
          "bar": [
           {
            "error_x": {
             "color": "#2a3f5f"
            },
            "error_y": {
             "color": "#2a3f5f"
            },
            "marker": {
             "line": {
              "color": "#E5ECF6",
              "width": 0.5
             }
            },
            "type": "bar"
           }
          ],
          "barpolar": [
           {
            "marker": {
             "line": {
              "color": "#E5ECF6",
              "width": 0.5
             }
            },
            "type": "barpolar"
           }
          ],
          "carpet": [
           {
            "aaxis": {
             "endlinecolor": "#2a3f5f",
             "gridcolor": "white",
             "linecolor": "white",
             "minorgridcolor": "white",
             "startlinecolor": "#2a3f5f"
            },
            "baxis": {
             "endlinecolor": "#2a3f5f",
             "gridcolor": "white",
             "linecolor": "white",
             "minorgridcolor": "white",
             "startlinecolor": "#2a3f5f"
            },
            "type": "carpet"
           }
          ],
          "choropleth": [
           {
            "colorbar": {
             "outlinewidth": 0,
             "ticks": ""
            },
            "type": "choropleth"
           }
          ],
          "contour": [
           {
            "colorbar": {
             "outlinewidth": 0,
             "ticks": ""
            },
            "colorscale": [
             [
              0,
              "#0d0887"
             ],
             [
              0.1111111111111111,
              "#46039f"
             ],
             [
              0.2222222222222222,
              "#7201a8"
             ],
             [
              0.3333333333333333,
              "#9c179e"
             ],
             [
              0.4444444444444444,
              "#bd3786"
             ],
             [
              0.5555555555555556,
              "#d8576b"
             ],
             [
              0.6666666666666666,
              "#ed7953"
             ],
             [
              0.7777777777777778,
              "#fb9f3a"
             ],
             [
              0.8888888888888888,
              "#fdca26"
             ],
             [
              1,
              "#f0f921"
             ]
            ],
            "type": "contour"
           }
          ],
          "contourcarpet": [
           {
            "colorbar": {
             "outlinewidth": 0,
             "ticks": ""
            },
            "type": "contourcarpet"
           }
          ],
          "heatmap": [
           {
            "colorbar": {
             "outlinewidth": 0,
             "ticks": ""
            },
            "colorscale": [
             [
              0,
              "#0d0887"
             ],
             [
              0.1111111111111111,
              "#46039f"
             ],
             [
              0.2222222222222222,
              "#7201a8"
             ],
             [
              0.3333333333333333,
              "#9c179e"
             ],
             [
              0.4444444444444444,
              "#bd3786"
             ],
             [
              0.5555555555555556,
              "#d8576b"
             ],
             [
              0.6666666666666666,
              "#ed7953"
             ],
             [
              0.7777777777777778,
              "#fb9f3a"
             ],
             [
              0.8888888888888888,
              "#fdca26"
             ],
             [
              1,
              "#f0f921"
             ]
            ],
            "type": "heatmap"
           }
          ],
          "heatmapgl": [
           {
            "colorbar": {
             "outlinewidth": 0,
             "ticks": ""
            },
            "colorscale": [
             [
              0,
              "#0d0887"
             ],
             [
              0.1111111111111111,
              "#46039f"
             ],
             [
              0.2222222222222222,
              "#7201a8"
             ],
             [
              0.3333333333333333,
              "#9c179e"
             ],
             [
              0.4444444444444444,
              "#bd3786"
             ],
             [
              0.5555555555555556,
              "#d8576b"
             ],
             [
              0.6666666666666666,
              "#ed7953"
             ],
             [
              0.7777777777777778,
              "#fb9f3a"
             ],
             [
              0.8888888888888888,
              "#fdca26"
             ],
             [
              1,
              "#f0f921"
             ]
            ],
            "type": "heatmapgl"
           }
          ],
          "histogram": [
           {
            "marker": {
             "colorbar": {
              "outlinewidth": 0,
              "ticks": ""
             }
            },
            "type": "histogram"
           }
          ],
          "histogram2d": [
           {
            "colorbar": {
             "outlinewidth": 0,
             "ticks": ""
            },
            "colorscale": [
             [
              0,
              "#0d0887"
             ],
             [
              0.1111111111111111,
              "#46039f"
             ],
             [
              0.2222222222222222,
              "#7201a8"
             ],
             [
              0.3333333333333333,
              "#9c179e"
             ],
             [
              0.4444444444444444,
              "#bd3786"
             ],
             [
              0.5555555555555556,
              "#d8576b"
             ],
             [
              0.6666666666666666,
              "#ed7953"
             ],
             [
              0.7777777777777778,
              "#fb9f3a"
             ],
             [
              0.8888888888888888,
              "#fdca26"
             ],
             [
              1,
              "#f0f921"
             ]
            ],
            "type": "histogram2d"
           }
          ],
          "histogram2dcontour": [
           {
            "colorbar": {
             "outlinewidth": 0,
             "ticks": ""
            },
            "colorscale": [
             [
              0,
              "#0d0887"
             ],
             [
              0.1111111111111111,
              "#46039f"
             ],
             [
              0.2222222222222222,
              "#7201a8"
             ],
             [
              0.3333333333333333,
              "#9c179e"
             ],
             [
              0.4444444444444444,
              "#bd3786"
             ],
             [
              0.5555555555555556,
              "#d8576b"
             ],
             [
              0.6666666666666666,
              "#ed7953"
             ],
             [
              0.7777777777777778,
              "#fb9f3a"
             ],
             [
              0.8888888888888888,
              "#fdca26"
             ],
             [
              1,
              "#f0f921"
             ]
            ],
            "type": "histogram2dcontour"
           }
          ],
          "mesh3d": [
           {
            "colorbar": {
             "outlinewidth": 0,
             "ticks": ""
            },
            "type": "mesh3d"
           }
          ],
          "parcoords": [
           {
            "line": {
             "colorbar": {
              "outlinewidth": 0,
              "ticks": ""
             }
            },
            "type": "parcoords"
           }
          ],
          "pie": [
           {
            "automargin": true,
            "type": "pie"
           }
          ],
          "scatter": [
           {
            "marker": {
             "colorbar": {
              "outlinewidth": 0,
              "ticks": ""
             }
            },
            "type": "scatter"
           }
          ],
          "scatter3d": [
           {
            "line": {
             "colorbar": {
              "outlinewidth": 0,
              "ticks": ""
             }
            },
            "marker": {
             "colorbar": {
              "outlinewidth": 0,
              "ticks": ""
             }
            },
            "type": "scatter3d"
           }
          ],
          "scattercarpet": [
           {
            "marker": {
             "colorbar": {
              "outlinewidth": 0,
              "ticks": ""
             }
            },
            "type": "scattercarpet"
           }
          ],
          "scattergeo": [
           {
            "marker": {
             "colorbar": {
              "outlinewidth": 0,
              "ticks": ""
             }
            },
            "type": "scattergeo"
           }
          ],
          "scattergl": [
           {
            "marker": {
             "colorbar": {
              "outlinewidth": 0,
              "ticks": ""
             }
            },
            "type": "scattergl"
           }
          ],
          "scattermapbox": [
           {
            "marker": {
             "colorbar": {
              "outlinewidth": 0,
              "ticks": ""
             }
            },
            "type": "scattermapbox"
           }
          ],
          "scatterpolar": [
           {
            "marker": {
             "colorbar": {
              "outlinewidth": 0,
              "ticks": ""
             }
            },
            "type": "scatterpolar"
           }
          ],
          "scatterpolargl": [
           {
            "marker": {
             "colorbar": {
              "outlinewidth": 0,
              "ticks": ""
             }
            },
            "type": "scatterpolargl"
           }
          ],
          "scatterternary": [
           {
            "marker": {
             "colorbar": {
              "outlinewidth": 0,
              "ticks": ""
             }
            },
            "type": "scatterternary"
           }
          ],
          "surface": [
           {
            "colorbar": {
             "outlinewidth": 0,
             "ticks": ""
            },
            "colorscale": [
             [
              0,
              "#0d0887"
             ],
             [
              0.1111111111111111,
              "#46039f"
             ],
             [
              0.2222222222222222,
              "#7201a8"
             ],
             [
              0.3333333333333333,
              "#9c179e"
             ],
             [
              0.4444444444444444,
              "#bd3786"
             ],
             [
              0.5555555555555556,
              "#d8576b"
             ],
             [
              0.6666666666666666,
              "#ed7953"
             ],
             [
              0.7777777777777778,
              "#fb9f3a"
             ],
             [
              0.8888888888888888,
              "#fdca26"
             ],
             [
              1,
              "#f0f921"
             ]
            ],
            "type": "surface"
           }
          ],
          "table": [
           {
            "cells": {
             "fill": {
              "color": "#EBF0F8"
             },
             "line": {
              "color": "white"
             }
            },
            "header": {
             "fill": {
              "color": "#C8D4E3"
             },
             "line": {
              "color": "white"
             }
            },
            "type": "table"
           }
          ]
         },
         "layout": {
          "annotationdefaults": {
           "arrowcolor": "#2a3f5f",
           "arrowhead": 0,
           "arrowwidth": 1
          },
          "coloraxis": {
           "colorbar": {
            "outlinewidth": 0,
            "ticks": ""
           }
          },
          "colorscale": {
           "diverging": [
            [
             0,
             "#8e0152"
            ],
            [
             0.1,
             "#c51b7d"
            ],
            [
             0.2,
             "#de77ae"
            ],
            [
             0.3,
             "#f1b6da"
            ],
            [
             0.4,
             "#fde0ef"
            ],
            [
             0.5,
             "#f7f7f7"
            ],
            [
             0.6,
             "#e6f5d0"
            ],
            [
             0.7,
             "#b8e186"
            ],
            [
             0.8,
             "#7fbc41"
            ],
            [
             0.9,
             "#4d9221"
            ],
            [
             1,
             "#276419"
            ]
           ],
           "sequential": [
            [
             0,
             "#0d0887"
            ],
            [
             0.1111111111111111,
             "#46039f"
            ],
            [
             0.2222222222222222,
             "#7201a8"
            ],
            [
             0.3333333333333333,
             "#9c179e"
            ],
            [
             0.4444444444444444,
             "#bd3786"
            ],
            [
             0.5555555555555556,
             "#d8576b"
            ],
            [
             0.6666666666666666,
             "#ed7953"
            ],
            [
             0.7777777777777778,
             "#fb9f3a"
            ],
            [
             0.8888888888888888,
             "#fdca26"
            ],
            [
             1,
             "#f0f921"
            ]
           ],
           "sequentialminus": [
            [
             0,
             "#0d0887"
            ],
            [
             0.1111111111111111,
             "#46039f"
            ],
            [
             0.2222222222222222,
             "#7201a8"
            ],
            [
             0.3333333333333333,
             "#9c179e"
            ],
            [
             0.4444444444444444,
             "#bd3786"
            ],
            [
             0.5555555555555556,
             "#d8576b"
            ],
            [
             0.6666666666666666,
             "#ed7953"
            ],
            [
             0.7777777777777778,
             "#fb9f3a"
            ],
            [
             0.8888888888888888,
             "#fdca26"
            ],
            [
             1,
             "#f0f921"
            ]
           ]
          },
          "colorway": [
           "#636efa",
           "#EF553B",
           "#00cc96",
           "#ab63fa",
           "#FFA15A",
           "#19d3f3",
           "#FF6692",
           "#B6E880",
           "#FF97FF",
           "#FECB52"
          ],
          "font": {
           "color": "#2a3f5f"
          },
          "geo": {
           "bgcolor": "white",
           "lakecolor": "white",
           "landcolor": "#E5ECF6",
           "showlakes": true,
           "showland": true,
           "subunitcolor": "white"
          },
          "hoverlabel": {
           "align": "left"
          },
          "hovermode": "closest",
          "mapbox": {
           "style": "light"
          },
          "paper_bgcolor": "white",
          "plot_bgcolor": "#E5ECF6",
          "polar": {
           "angularaxis": {
            "gridcolor": "white",
            "linecolor": "white",
            "ticks": ""
           },
           "bgcolor": "#E5ECF6",
           "radialaxis": {
            "gridcolor": "white",
            "linecolor": "white",
            "ticks": ""
           }
          },
          "scene": {
           "xaxis": {
            "backgroundcolor": "#E5ECF6",
            "gridcolor": "white",
            "gridwidth": 2,
            "linecolor": "white",
            "showbackground": true,
            "ticks": "",
            "zerolinecolor": "white"
           },
           "yaxis": {
            "backgroundcolor": "#E5ECF6",
            "gridcolor": "white",
            "gridwidth": 2,
            "linecolor": "white",
            "showbackground": true,
            "ticks": "",
            "zerolinecolor": "white"
           },
           "zaxis": {
            "backgroundcolor": "#E5ECF6",
            "gridcolor": "white",
            "gridwidth": 2,
            "linecolor": "white",
            "showbackground": true,
            "ticks": "",
            "zerolinecolor": "white"
           }
          },
          "shapedefaults": {
           "line": {
            "color": "#2a3f5f"
           }
          },
          "ternary": {
           "aaxis": {
            "gridcolor": "white",
            "linecolor": "white",
            "ticks": ""
           },
           "baxis": {
            "gridcolor": "white",
            "linecolor": "white",
            "ticks": ""
           },
           "bgcolor": "#E5ECF6",
           "caxis": {
            "gridcolor": "white",
            "linecolor": "white",
            "ticks": ""
           }
          },
          "title": {
           "x": 0.05
          },
          "xaxis": {
           "automargin": true,
           "gridcolor": "white",
           "linecolor": "white",
           "ticks": "",
           "title": {
            "standoff": 15
           },
           "zerolinecolor": "white",
           "zerolinewidth": 2
          },
          "yaxis": {
           "automargin": true,
           "gridcolor": "white",
           "linecolor": "white",
           "ticks": "",
           "title": {
            "standoff": 15
           },
           "zerolinecolor": "white",
           "zerolinewidth": 2
          }
         }
        },
        "title": {
         "font": {
          "color": "#4D5663"
         }
        },
        "xaxis": {
         "gridcolor": "#E1E5ED",
         "showgrid": true,
         "tickfont": {
          "color": "#4D5663"
         },
         "title": {
          "font": {
           "color": "#4D5663"
          },
          "text": ""
         },
         "zerolinecolor": "#E1E5ED"
        },
        "yaxis": {
         "gridcolor": "#E1E5ED",
         "showgrid": true,
         "tickfont": {
          "color": "#4D5663"
         },
         "title": {
          "font": {
           "color": "#4D5663"
          },
          "text": ""
         },
         "zerolinecolor": "#E1E5ED"
        }
       }
      },
      "text/html": [
       "<div>\n",
       "        \n",
       "        \n",
       "            <div id=\"6648156a-838a-4ce4-8d80-4cef5d04ce0d\" class=\"plotly-graph-div\" style=\"height:525px; width:100%;\"></div>\n",
       "            <script type=\"text/javascript\">\n",
       "                require([\"plotly\"], function(Plotly) {\n",
       "                    window.PLOTLYENV=window.PLOTLYENV || {};\n",
       "                    window.PLOTLYENV.BASE_URL='https://plot.ly';\n",
       "                    \n",
       "                if (document.getElementById(\"6648156a-838a-4ce4-8d80-4cef5d04ce0d\")) {\n",
       "                    Plotly.newPlot(\n",
       "                        '6648156a-838a-4ce4-8d80-4cef5d04ce0d',\n",
       "                        [{\"line\": {\"color\": \"rgba(255, 153, 51, 1.0)\", \"dash\": \"solid\", \"shape\": \"linear\", \"width\": 1.3}, \"marker\": {\"size\": 12, \"symbol\": \"circle\"}, \"mode\": \"markers\", \"name\": \"Yearly Amount Spent\", \"text\": \"\", \"type\": \"scatter\", \"x\": [12.65565114916675, 11.109460728682564, 11.330278057777512, 13.717513665142507, 12.795188551078114, 12.026925339755056, 11.366348309710526, 12.35195897300293, 13.386235275676436, 11.814128294972196, 13.338975447662113, 11.584782999535266, 10.961298400154098, 12.959226091609382, 13.148725692056516, 12.636606052000127, 11.733861690857394, 12.013194694014402, 14.7153875441565, 13.989592555825254, 11.365492025516154, 12.87798369625634, 13.378562784168984, 11.657575922065588, 12.893669504071738, 11.765812645482356, 12.783891784275019, 13.007819424388568, 11.982044994015613, 11.9650200029979, 12.305417813429447, 10.869163814130363, 13.387492105579696, 13.1045072428758, 11.634893252550464, 11.936386499892285, 11.75502370305383, 11.984417523634924, 9.954975969174418, 12.489013215743663, 11.733106220383403, 10.634561317920276, 12.507525374016035, 11.52987820576495, 13.414934735851688, 12.170525424959395, 13.146551432907062, 12.988510147185293, 11.864126358942508, 11.398064190096813, 13.85806246213124, 10.956790967791653, 10.320116255059194, 9.98451439654646, 12.645195140843521, 11.588655423353044, 13.761532847115614, 10.56829468563276, 11.832286222863626, 12.064156632199321, 12.495591602384836, 9.607314687519166, 13.728627177429864, 11.670065919118976, 13.276313008175375, 15.126994288792467, 12.695789749023144, 11.835476087614285, 11.306232344673575, 11.187538910878676, 11.887494133971662, 12.2289347111239, 10.674653472691904, 12.817113090284247, 13.5878060830337, 12.238057349986248, 11.55182116621942, 11.433379933334455, 10.889566863427978, 11.928842093866267, 12.595671305072534, 10.947258584185183, 13.898081993497069, 10.875559548189257, 10.338072695038539, 11.63466821794247, 12.517666287393075, 10.607723870859086, 12.8288933950187, 12.068816079691766, 12.530357373542884, 13.516284296962846, 11.662263431208274, 13.664747875183544, 11.83023109487895, 13.291143045352884, 11.942340869536073, 13.349912944366533, 12.020112091208748, 12.084091730811036, 13.410759184940549, 11.28193107410364, 11.448901535513794, 12.595420346380534, 10.994223919350974, 13.085505760060856, 12.190474287309025, 10.719149740628396, 12.931550271647987, 13.452128959435642, 12.149375491578276, 12.178331333996287, 11.010482132400076, 11.60253219348616, 12.732211588456625, 11.223368888365105, 12.01102187657459, 11.725910097840956, 12.08930957243735, 13.068638584182436, 12.85499036656409, 11.564022368065539, 11.113329897404322, 12.809883473378116, 11.761172325483109, 12.579894173618062, 11.957923064554107, 10.651793783474174, 12.75207661096469, 11.540832436151053, 11.924394923280015, 12.4241304114395, 11.810586764578169, 12.759168978762087, 11.85189083494272, 12.70368792886871, 12.21525242490249, 11.281445003567141, 10.735362917985057, 10.963131776054833, 11.735094549013706, 12.41896198100501, 10.537307537840883, 11.919242397939177, 11.911415556879856, 12.488067002053029, 12.380694979552985, 10.480506832694497, 12.296517680733736, 10.86160419912899, 10.716355140061573, 12.387184173554845, 10.984835888186163, 12.965761479512215, 12.050267234380506, 13.45772494051235, 12.443047890439868, 12.207298491050794, 11.586319529181235, 11.378087087773375, 12.364341604455197, 12.399436075147092, 12.542481050786341, 13.280432242922114, 11.795886676889108, 12.718039174525654, 12.039647840787234, 12.474455453922836, 13.160020040286033, 11.052323653306686, 10.636761083696546, 13.443405985146251, 13.28303286832567, 11.747731701242175, 10.859608533152715, 11.691686125826351, 11.548761439776756, 11.72400223179126, 12.178573080885847, 12.319845062066673, 11.084360836740514, 13.177774533773801, 12.832802836968114, 11.509047996817198, 11.85766344472502, 12.293365838346627, 10.93325227854703, 13.332839284456394, 10.902556227019767, 12.276981712741966, 12.038808239866547, 11.724473856834607, 11.202669899735568, 13.378063328893633, 11.388612618641037, 10.771074062599588, 11.818571762284998, 13.808798675105963, 11.659832840871447, 13.100109538542807, 13.067895684999526, 12.494322933269391, 11.340035931978807, 11.199660962300452, 11.332487778094174, 13.91949439608817, 11.031358340409188, 11.084584086421874, 10.542645423983108, 11.79779551488024, 12.442616548294636, 12.104542428062684, 12.37849022280867, 13.722453676229962, 12.725909323593955, 13.685118899623589, 10.012583366223023, 11.435533874300315, 12.354607081759855, 10.748533655415796, 11.59187166512224, 11.236506758754027, 11.109456333168433, 12.114944955194904, 11.866481205181707, 10.25654903128796, 12.168596472860555, 13.085356892368793, 13.013375627349653, 10.9839767277944, 13.105158522307253, 12.144748536704865, 13.90991551102909, 11.395209434440886, 13.033566182687187, 11.622777173031125, 12.600750401563928, 13.187910985159366, 13.266760352944493, 11.752343171850052, 11.56811634209842, 12.638572122192118, 11.388644575171455, 11.82298329832392, 12.725677367222989, 11.201159766003187, 11.347263611462731, 14.220979108167345, 11.546275759510358, 11.91763618310149, 12.276056984463208, 10.131712461927217, 12.026942222615626, 13.172287495263063, 12.326291385476885, 13.891313421778493, 12.930928541308225, 11.379257182400215, 14.069382336483994, 10.804890557641668, 14.426491050422625, 13.041244588162265, 11.739743796165989, 12.491058738018811, 12.892374513653696, 11.668866514553864, 11.777772039564965, 12.138793877121687, 12.222967446546056, 13.402331896928285, 12.956276605432244, 12.884124621344766, 13.325469096138633, 12.15858523387948, 11.226545663510619, 12.461135435006733, 9.846124908736233, 13.32541218598226, 13.677245841523792, 11.644969546399302, 13.485008988077054, 11.620996507575207, 13.014459152355206, 11.466984219092824, 11.684904192367506, 12.09396635537946, 14.325654943309248, 12.914846634589114, 9.8244017703894, 12.807751833234732, 13.058277927143259, 10.534553499461076, 11.143433077943628, 10.982805534662877, 11.153966054877387, 11.947175323941774, 11.47056500466582, 11.03785041365591, 11.167356897497287, 11.562936246652605, 12.227728279686652, 13.18681287300118, 13.394451788942055, 11.851398743073142, 12.266503838947587, 13.459222289832475, 11.792971821961505, 10.98574015235435, 12.637557159364276, 8.508152176032603, 11.656592033851751, 11.9668980767806, 11.80298577760313, 12.677401437121036, 13.032534975943193, 12.44761745405695, 12.235659245108506, 10.973162084317348, 13.665769794267847, 13.391120179234008, 12.96832561098067, 12.968893130527091, 10.732131340303663, 10.952353380458653, 12.60888879370027, 13.039511025284968, 10.999683661085923, 13.278956228597714, 10.62794922615627, 13.185181167368498, 11.351049011250833, 12.954811454937932, 11.73704063527238, 11.887345302061831, 10.757130926114415, 11.612650769570312, 11.979061483915341, 12.461147444665412, 10.079463451952432, 12.589240561061525, 14.2880145907663, 11.91711569558776, 11.40964461636565, 12.815392648610313, 11.673229254101276, 10.61053651970745, 12.506548190327935, 11.304462307422886, 10.886921180951674, 12.095889485093476, 12.692661429739386, 11.386775551280653, 10.728418539377822, 11.936895159842095, 12.717995102314037, 10.969802874106238, 13.420545742201176, 11.85468192110211, 11.918859709324538, 13.149669557991398, 12.685393899848075, 10.347876945661575, 9.316289204373824, 12.581547729914535, 11.764447589452988, 12.644202118863694, 11.832112231483734, 10.441235061603203, 12.729719510423308, 9.477777607959725, 10.163179060052556, 11.608997936221535, 11.268259230574026, 11.163159542913276, 10.101632204781014, 12.76153127820102, 12.055340161330117, 11.935934966559186, 12.451200012438312, 12.284467067067206, 12.782171794760187, 12.960307128914414, 9.95399500605983, 13.130021664776669, 11.520566788562215, 10.972554314292411, 13.53191346185937, 12.039502370469924, 10.942069621017652, 12.664192622515644, 11.730661394277833, 11.918670307379347, 11.514949066574866, 12.418113202231623, 13.887275413385506, 12.846499067474367, 10.889828283005027, 12.914570094327916, 11.568526641744768, 11.971750786570597, 13.078692439536418, 11.956426484854195, 13.252737094184226, 13.093537281195056, 12.527471744522867, 11.235968954252515, 12.074830167957375, 12.045331979699332, 11.230743306761044, 11.90784409977911, 13.052210385161311, 13.004362005673077, 11.52352268106905, 10.314717921893896, 12.433128529733454, 10.745188554182882, 11.016755636715029, 12.216854693359823, 12.329147021418828, 10.806966067774699, 12.135101396955724, 12.94155572990243, 13.300299363336553, 10.39845771308564, 11.887800415781035, 11.591439703136587, 13.271475042524669, 12.9882205986331, 14.039867262521904, 11.906507762219913, 11.13714030231066, 12.902664889103924, 12.38651625649485, 11.822721745594304, 10.9857637851215, 14.132893457553365, 11.912210479900578, 11.481587147836265, 10.04731473507118, 12.428736927868275, 11.965980266792483, 11.121366060509414, 8.668349517101323, 12.504219807675257, 12.132509111641538, 11.732991461588078, 11.946590884981756, 12.556107616938169, 12.480701517118197, 12.594194066191113, 10.946841939586896, 11.48419869378604, 11.120870867123783, 10.971392430875488, 11.588948579712493, 10.706641521307748, 11.07625934092972, 12.953262542191794, 10.572466600106118, 11.658036814224136, 13.592512657946296, 11.371767361249, 11.23341495354092, 10.290350765056484, 14.121783839255324, 12.415541963333618, 10.770248917443364, 12.664390524735165, 12.667808875387266, 13.970181074130444, 11.509253453525044, 11.405770450141056, 12.263717676034362, 12.710701300459249, 13.471577671948914, 11.186808718643787, 11.246812606011584, 12.357638107209013, 11.764325958658198, 11.761883803681748, 11.550300110865926, 12.482669924970505, 11.731364294077403, 12.21407374586628, 11.903756682535944, 12.222483941893726, 12.005916370756164, 11.913745152838759, 12.125401967944384, 11.305551430414742, 11.608997070875464, 11.693058197072652, 11.201569884684467, 12.625432642053953, 13.350631684459369, 13.566159613087606, 11.695736293481328, 11.499409061002085, 12.391422991118318, 12.418808324753911], \"y\": [587.9510539684005, 392.2049334443264, 487.54750486747207, 581.8523440352177, 599.4060920457634, 637.102447915074, 521.5721747578274, 549.9041461052942, 570.2004089636196, 427.1993848953282, 492.6060127179966, 522.3374046069357, 408.6403510726275, 573.4158673313865, 470.4527333009554, 461.7807421962299, 457.84769594494855, 407.70454754954415, 452.3156754800354, 605.061038804892, 534.7057438060227, 419.93877483917913, 436.51560572936256, 519.3409891307888, 700.9170916173961, 423.17999168059777, 619.8956398616367, 486.83893476506273, 529.537665336851, 554.7220838330761, 497.5866713004408, 447.6879065360587, 588.7126055095755, 491.07322367951963, 507.4418323396168, 521.8835731664783, 347.77692663187264, 490.73863214395465, 478.1703340540876, 537.8461952695957, 532.7517875818364, 501.87443028426947, 591.1971781805905, 547.2443434159983, 448.22982918655, 549.860590464497, 593.9150029682891, 563.6728733601083, 479.73194908594513, 416.35835357990084, 725.5848140556806, 442.667251738628, 384.62657156940537, 451.4574468676027, 522.40414125956, 483.67330801904563, 520.8987944502368, 453.16950235469744, 496.650708068581, 547.3651405940458, 616.8515229667128, 507.21256900067846, 613.5993233689068, 483.15972078451705, 540.2634004105403, 765.5184619388373, 553.6015346844503, 469.3108614953106, 408.6201878298378, 451.57568515949305, 444.96655165329264, 595.8228366992038, 418.1500810968496, 534.7771880994133, 578.2416050583772, 478.7193568742153, 444.2859074976437, 544.7798637193824, 488.78606109390563, 475.759067788328, 489.8124879964614, 462.8976361529081, 596.4301726172282, 338.31986264152215, 533.5149352552407, 536.7718993628412, 487.37930601702914, 473.7289665129948, 547.1259317471988, 505.11334353985785, 449.0703194428044, 611.0000251040717, 515.8288148548279, 439.07476674164496, 514.0889577465721, 543.340166256701, 521.1429518103512, 614.7153338263417, 507.39006178986654, 495.2994425473087, 518.0645579840107, 390.1032729724755, 420.73767324463716, 492.1050523891852, 410.0696110599829, 497.51368332936767, 494.55186108657256, 378.3309069068038, 570.451725912857, 549.0082269346927, 459.285123462352, 492.94505306595823, 424.7626355099111, 422.4267758765091, 642.1015787311585, 413.3717831104521, 479.23109291159307, 593.0772413447513, 506.5473070543517, 571.3074948754644, 576.311177371677, 576.8025473995871, 514.239520718957, 495.1759504494754, 514.3365582674006, 541.2265839893283, 516.8315566841785, 468.44573722740637, 548.2803201983364, 431.6177337614297, 552.9403454501056, 573.3062222574563, 452.62725499508304, 542.7115581025776, 407.8040306356823, 482.3535703213532, 529.2300901235094, 433.0487690958266, 476.1914133494556, 439.997879939927, 448.93329320767435, 472.9922466667984, 463.9235129903258, 350.05820016384513, 460.06127739124327, 505.77114032295646, 463.484995404266, 479.73193764530447, 424.18549428888633, 465.8893127108669, 426.7752159856604, 684.1634310159512, 555.8925953881737, 657.0199239376519, 595.8038188761143, 503.9783790525795, 586.1558701804727, 744.2218671047146, 512.8253581285203, 528.2238093680072, 468.9135013219844, 357.5914394150861, 536.4231045259343, 490.2065999848547, 550.0475805761635, 513.4505711860965, 497.8119300055205, 578.9862585804897, 506.5363931400864, 501.74923330839226, 421.9667941858674, 439.8912804768137, 666.125591725772, 298.76200786180766, 465.17662330529686, 373.88572369695015, 532.7174856761749, 554.9007830202702, 537.7731625414566, 501.100245232053, 517.1651355939779, 557.5292736134538, 493.71919297817595, 452.12262508578493, 577.2734549822936, 485.9231305248517, 425.74509203105276, 537.2150526997326, 524.6379646141048, 478.8853913201482, 612.3852298963608, 476.76672415476344, 505.11963752820367, 545.9454921414049, 434.0216997527185, 424.67528101321335, 352.55010816300035, 662.9610878058954, 560.5601606242603, 467.5019004269896, 504.87043239337237, 590.56271964715, 443.9656268098819, 392.4973991890214, 568.7175759305222, 712.3963268096637, 413.29599918102974, 562.0820453929382, 412.012931298847, 468.66846559912733, 496.55408163560713, 548.5185292758069, 536.1308968550213, 558.4272571753238, 357.86371863839173, 529.0566631985306, 387.3570727364218, 528.9336185650203, 420.91615953269286, 496.9334462555319, 519.372976801355, 591.4377355684502, 502.4097853029053, 604.3348400688553, 555.0683940545761, 256.67058229005585, 547.1109823629461, 461.9208768928978, 458.3769106506301, 436.28349814675136, 532.9352188376637, 512.5525343564016, 630.4227632299235, 463.74598112062944, 493.18021624931, 501.2091726816533, 501.9282648732441, 376.3369007569242, 421.3266312569514, 538.774933478023, 398.16346853365195, 571.4710341154247, 451.62861054019965, 490.6004425003995, 591.7810894256675, 409.0704720533178, 563.4460356732392, 647.6194557251927, 448.34042501104767, 518.7864830920807, 523.6339351357243, 393.8573709860865, 426.154547713103, 503.3878872879605, 482.60246732948264, 524.7976275698038, 574.6548433659394, 574.7472196620896, 660.4251842914138, 375.3984554102432, 640.1877400085722, 514.0098178487357, 376.49684071853693, 484.51980911055114, 614.7296376283243, 567.4750105270774, 554.0030934297989, 399.98387159812256, 479.17285149109694, 585.9318442972224, 540.9957391083377, 628.0478039330168, 582.4919237338106, 640.7861663983061, 446.41867337013565, 570.6300980875259, 423.3083340974698, 616.6602860166827, 530.3624688854229, 442.3631173838644, 511.9798599920658, 560.4437921717631, 475.2634237275485, 374.2696745439231, 463.5914180279406, 471.602884392892, 626.018672655394, 432.47206125141577, 356.6155678900057, 467.4278485003528, 503.21739311910665, 378.47356644790113, 584.2183134866807, 451.7278633175868, 557.6341089957289, 432.7207178399336, 506.42385996980016, 510.1598172791045, 587.5747994806404, 282.4712457199145, 473.94985742281614, 489.9080530975354, 541.9722037582585, 266.086340948469, 494.68715581028533, 689.7876041747194, 387.5347163057077, 441.89663151788625, 604.8413188212228, 302.18954780965197, 479.6148116731425, 506.132342437705, 319.9288698031936, 528.3092250312227, 610.1280331303979, 584.1058850493532, 466.4211988217437, 404.82452887268687, 564.7909690079206, 596.516697973153, 368.6547849470645, 542.4124767293989, 478.2621263968358, 473.360495571661, 559.1990479544187, 447.18764430541853, 505.2300682820706, 557.2526867470547, 422.36873660682664, 445.06218550892487, 442.06441375806565, 533.0400601788124, 424.2028270990325, 498.635598489176, 330.5944460341002, 443.4418600624623, 478.60091594433294, 440.0027475469415, 357.7831107453153, 476.139246872566, 501.12249150365636, 592.6884532021675, 486.0834255029927, 576.0252441251166, 442.7228915742714, 461.7909590614097, 488.38752578014504, 593.1564014822196, 392.8103449837972, 443.1972210287554, 535.4807751896418, 533.3965537868428, 532.1274491097012, 558.9481123879059, 508.771906741518, 403.7669020956173, 640.5840618984408, 461.6282783910862, 382.41610786547517, 561.874657668983, 444.5761441337301, 401.03313521910604, 384.3260571375157, 527.7829957560522, 482.14499687576796, 594.2744834186118, 502.0925279023197, 407.65717875932603, 708.9351848669818, 531.9615505451646, 521.2407802357949, 447.36902719933136, 385.152337987975, 430.5888825564849, 418.602742095224, 478.95140475788554, 483.79652206149285, 538.941974531203, 486.1637990666317, 385.0950070687634, 527.7837897574573, 547.1907493518986, 410.6029439492151, 583.9778019715427, 474.53232943988985, 414.9350606518193, 550.8133677324173, 458.78113168424994, 407.54216801343483, 581.3089328794999, 546.5566668627299, 503.1750851912004, 549.1315732872171, 482.8309858617017, 557.6082620533542, 484.87696493512857, 669.9871405017029, 547.7099885778624, 537.8252822957112, 408.2169017707518, 663.0748176067602, 506.37586675019753, 528.4193296952955, 632.1235881419657, 488.2702979651482, 508.7357409506604, 411.1869635742789, 409.0945261923378, 467.8009243667916, 512.1658663881581, 608.2718166151668, 589.0264897562791, 444.0538265727728, 493.1812613907186, 532.724805462904, 275.9184206503857, 511.03878605116114, 438.41774201146853, 475.7250679098812, 483.54319386538816, 663.8036932755083, 544.4092721605869, 630.1567281670505, 461.11224843060927, 491.9115050963458, 574.4156896079883, 530.7667186547619, 581.7987976770314, 556.2981411740467, 502.132789227254, 556.1863688687886, 475.07162989966173, 486.9470538397658, 434.1442020262987, 304.1355915788555, 571.2160048349454, 583.0796356620574, 445.74984123965226, 392.99225591403086, 565.9943634015267, 499.14015244905386, 510.5394216996283, 308.52774655803336, 561.5165319790891, 423.4705331738239, 513.1531118530668, 529.1945188649573, 314.4385182951061, 478.5842860083426, 444.5821649786528, 475.0154070877503, 436.7205558562188, 521.1953105318003, 478.18305971187965, 432.48116855701767, 438.30370784642975, 388.9405487921943, 534.7714849461672, 537.9157529213054, 407.8763782204976, 618.8459704239658, 502.77107456549606, 397.420584096457, 392.2852442462675, 689.2356997616951, 543.1326262891694, 577.7360248512277, 436.5807403475482, 553.9946735912697, 427.3565308022928, 424.7287739291025, 541.0498309594357, 469.38314617236114, 444.54554965110816, 492.55683370047706, 535.3216100850124, 408.9583359406166, 487.5554580579016, 487.6462317438417, 402.16712222372564, 551.0230017027826, 497.3895577588434, 494.6386097568927, 479.2474167840931, 462.65651893471335, 515.5024796636585, 576.4776071703129, 357.85798360521926, 597.7398788791847, 327.37795258965207, 510.4013884525048, 510.50147847479735, 403.8195198321978, 627.603318713015, 510.661792219672, 573.8474377162278, 529.0490041294304, 551.6201454762477, 456.46951006629797, 497.7786422156802]}],\n",
       "                        {\"legend\": {\"bgcolor\": \"#F5F6F9\", \"font\": {\"color\": \"#4D5663\"}}, \"paper_bgcolor\": \"#F5F6F9\", \"plot_bgcolor\": \"#F5F6F9\", \"template\": {\"data\": {\"bar\": [{\"error_x\": {\"color\": \"#2a3f5f\"}, \"error_y\": {\"color\": \"#2a3f5f\"}, \"marker\": {\"line\": {\"color\": \"#E5ECF6\", \"width\": 0.5}}, \"type\": \"bar\"}], \"barpolar\": [{\"marker\": {\"line\": {\"color\": \"#E5ECF6\", \"width\": 0.5}}, \"type\": \"barpolar\"}], \"carpet\": [{\"aaxis\": {\"endlinecolor\": \"#2a3f5f\", \"gridcolor\": \"white\", \"linecolor\": \"white\", \"minorgridcolor\": \"white\", \"startlinecolor\": \"#2a3f5f\"}, \"baxis\": {\"endlinecolor\": \"#2a3f5f\", \"gridcolor\": \"white\", \"linecolor\": \"white\", \"minorgridcolor\": \"white\", \"startlinecolor\": \"#2a3f5f\"}, \"type\": \"carpet\"}], \"choropleth\": [{\"colorbar\": {\"outlinewidth\": 0, \"ticks\": \"\"}, \"type\": \"choropleth\"}], \"contour\": [{\"colorbar\": {\"outlinewidth\": 0, \"ticks\": \"\"}, \"colorscale\": [[0.0, \"#0d0887\"], [0.1111111111111111, \"#46039f\"], [0.2222222222222222, \"#7201a8\"], [0.3333333333333333, \"#9c179e\"], [0.4444444444444444, \"#bd3786\"], [0.5555555555555556, \"#d8576b\"], [0.6666666666666666, \"#ed7953\"], [0.7777777777777778, \"#fb9f3a\"], [0.8888888888888888, \"#fdca26\"], [1.0, \"#f0f921\"]], \"type\": \"contour\"}], \"contourcarpet\": [{\"colorbar\": {\"outlinewidth\": 0, \"ticks\": \"\"}, \"type\": \"contourcarpet\"}], \"heatmap\": [{\"colorbar\": {\"outlinewidth\": 0, \"ticks\": \"\"}, \"colorscale\": [[0.0, \"#0d0887\"], [0.1111111111111111, \"#46039f\"], [0.2222222222222222, \"#7201a8\"], [0.3333333333333333, \"#9c179e\"], [0.4444444444444444, \"#bd3786\"], [0.5555555555555556, \"#d8576b\"], [0.6666666666666666, \"#ed7953\"], [0.7777777777777778, \"#fb9f3a\"], [0.8888888888888888, \"#fdca26\"], [1.0, \"#f0f921\"]], \"type\": \"heatmap\"}], \"heatmapgl\": [{\"colorbar\": {\"outlinewidth\": 0, \"ticks\": \"\"}, \"colorscale\": [[0.0, \"#0d0887\"], [0.1111111111111111, \"#46039f\"], [0.2222222222222222, \"#7201a8\"], [0.3333333333333333, \"#9c179e\"], [0.4444444444444444, \"#bd3786\"], [0.5555555555555556, \"#d8576b\"], [0.6666666666666666, \"#ed7953\"], [0.7777777777777778, \"#fb9f3a\"], [0.8888888888888888, \"#fdca26\"], [1.0, \"#f0f921\"]], \"type\": \"heatmapgl\"}], \"histogram\": [{\"marker\": {\"colorbar\": {\"outlinewidth\": 0, \"ticks\": \"\"}}, \"type\": \"histogram\"}], \"histogram2d\": [{\"colorbar\": {\"outlinewidth\": 0, \"ticks\": \"\"}, \"colorscale\": [[0.0, \"#0d0887\"], [0.1111111111111111, \"#46039f\"], [0.2222222222222222, \"#7201a8\"], [0.3333333333333333, \"#9c179e\"], [0.4444444444444444, \"#bd3786\"], [0.5555555555555556, \"#d8576b\"], [0.6666666666666666, \"#ed7953\"], [0.7777777777777778, \"#fb9f3a\"], [0.8888888888888888, \"#fdca26\"], [1.0, \"#f0f921\"]], \"type\": \"histogram2d\"}], \"histogram2dcontour\": [{\"colorbar\": {\"outlinewidth\": 0, \"ticks\": \"\"}, \"colorscale\": [[0.0, \"#0d0887\"], [0.1111111111111111, \"#46039f\"], [0.2222222222222222, \"#7201a8\"], [0.3333333333333333, \"#9c179e\"], [0.4444444444444444, \"#bd3786\"], [0.5555555555555556, \"#d8576b\"], [0.6666666666666666, \"#ed7953\"], [0.7777777777777778, \"#fb9f3a\"], [0.8888888888888888, \"#fdca26\"], [1.0, \"#f0f921\"]], \"type\": \"histogram2dcontour\"}], \"mesh3d\": [{\"colorbar\": {\"outlinewidth\": 0, \"ticks\": \"\"}, \"type\": \"mesh3d\"}], \"parcoords\": [{\"line\": {\"colorbar\": {\"outlinewidth\": 0, \"ticks\": \"\"}}, \"type\": \"parcoords\"}], \"pie\": [{\"automargin\": true, \"type\": \"pie\"}], \"scatter\": [{\"marker\": {\"colorbar\": {\"outlinewidth\": 0, \"ticks\": \"\"}}, \"type\": \"scatter\"}], \"scatter3d\": [{\"line\": {\"colorbar\": {\"outlinewidth\": 0, \"ticks\": \"\"}}, \"marker\": {\"colorbar\": {\"outlinewidth\": 0, \"ticks\": \"\"}}, \"type\": \"scatter3d\"}], \"scattercarpet\": [{\"marker\": {\"colorbar\": {\"outlinewidth\": 0, \"ticks\": \"\"}}, \"type\": \"scattercarpet\"}], \"scattergeo\": [{\"marker\": {\"colorbar\": {\"outlinewidth\": 0, \"ticks\": \"\"}}, \"type\": \"scattergeo\"}], \"scattergl\": [{\"marker\": {\"colorbar\": {\"outlinewidth\": 0, \"ticks\": \"\"}}, \"type\": \"scattergl\"}], \"scattermapbox\": [{\"marker\": {\"colorbar\": {\"outlinewidth\": 0, \"ticks\": \"\"}}, \"type\": \"scattermapbox\"}], \"scatterpolar\": [{\"marker\": {\"colorbar\": {\"outlinewidth\": 0, \"ticks\": \"\"}}, \"type\": \"scatterpolar\"}], \"scatterpolargl\": [{\"marker\": {\"colorbar\": {\"outlinewidth\": 0, \"ticks\": \"\"}}, \"type\": \"scatterpolargl\"}], \"scatterternary\": [{\"marker\": {\"colorbar\": {\"outlinewidth\": 0, \"ticks\": \"\"}}, \"type\": \"scatterternary\"}], \"surface\": [{\"colorbar\": {\"outlinewidth\": 0, \"ticks\": \"\"}, \"colorscale\": [[0.0, \"#0d0887\"], [0.1111111111111111, \"#46039f\"], [0.2222222222222222, \"#7201a8\"], [0.3333333333333333, \"#9c179e\"], [0.4444444444444444, \"#bd3786\"], [0.5555555555555556, \"#d8576b\"], [0.6666666666666666, \"#ed7953\"], [0.7777777777777778, \"#fb9f3a\"], [0.8888888888888888, \"#fdca26\"], [1.0, \"#f0f921\"]], \"type\": \"surface\"}], \"table\": [{\"cells\": {\"fill\": {\"color\": \"#EBF0F8\"}, \"line\": {\"color\": \"white\"}}, \"header\": {\"fill\": {\"color\": \"#C8D4E3\"}, \"line\": {\"color\": \"white\"}}, \"type\": \"table\"}]}, \"layout\": {\"annotationdefaults\": {\"arrowcolor\": \"#2a3f5f\", \"arrowhead\": 0, \"arrowwidth\": 1}, \"coloraxis\": {\"colorbar\": {\"outlinewidth\": 0, \"ticks\": \"\"}}, \"colorscale\": {\"diverging\": [[0, \"#8e0152\"], [0.1, \"#c51b7d\"], [0.2, \"#de77ae\"], [0.3, \"#f1b6da\"], [0.4, \"#fde0ef\"], [0.5, \"#f7f7f7\"], [0.6, \"#e6f5d0\"], [0.7, \"#b8e186\"], [0.8, \"#7fbc41\"], [0.9, \"#4d9221\"], [1, \"#276419\"]], \"sequential\": [[0.0, \"#0d0887\"], [0.1111111111111111, \"#46039f\"], [0.2222222222222222, \"#7201a8\"], [0.3333333333333333, \"#9c179e\"], [0.4444444444444444, \"#bd3786\"], [0.5555555555555556, \"#d8576b\"], [0.6666666666666666, \"#ed7953\"], [0.7777777777777778, \"#fb9f3a\"], [0.8888888888888888, \"#fdca26\"], [1.0, \"#f0f921\"]], \"sequentialminus\": [[0.0, \"#0d0887\"], [0.1111111111111111, \"#46039f\"], [0.2222222222222222, \"#7201a8\"], [0.3333333333333333, \"#9c179e\"], [0.4444444444444444, \"#bd3786\"], [0.5555555555555556, \"#d8576b\"], [0.6666666666666666, \"#ed7953\"], [0.7777777777777778, \"#fb9f3a\"], [0.8888888888888888, \"#fdca26\"], [1.0, \"#f0f921\"]]}, \"colorway\": [\"#636efa\", \"#EF553B\", \"#00cc96\", \"#ab63fa\", \"#FFA15A\", \"#19d3f3\", \"#FF6692\", \"#B6E880\", \"#FF97FF\", \"#FECB52\"], \"font\": {\"color\": \"#2a3f5f\"}, \"geo\": {\"bgcolor\": \"white\", \"lakecolor\": \"white\", \"landcolor\": \"#E5ECF6\", \"showlakes\": true, \"showland\": true, \"subunitcolor\": \"white\"}, \"hoverlabel\": {\"align\": \"left\"}, \"hovermode\": \"closest\", \"mapbox\": {\"style\": \"light\"}, \"paper_bgcolor\": \"white\", \"plot_bgcolor\": \"#E5ECF6\", \"polar\": {\"angularaxis\": {\"gridcolor\": \"white\", \"linecolor\": \"white\", \"ticks\": \"\"}, \"bgcolor\": \"#E5ECF6\", \"radialaxis\": {\"gridcolor\": \"white\", \"linecolor\": \"white\", \"ticks\": \"\"}}, \"scene\": {\"xaxis\": {\"backgroundcolor\": \"#E5ECF6\", \"gridcolor\": \"white\", \"gridwidth\": 2, \"linecolor\": \"white\", \"showbackground\": true, \"ticks\": \"\", \"zerolinecolor\": \"white\"}, \"yaxis\": {\"backgroundcolor\": \"#E5ECF6\", \"gridcolor\": \"white\", \"gridwidth\": 2, \"linecolor\": \"white\", \"showbackground\": true, \"ticks\": \"\", \"zerolinecolor\": \"white\"}, \"zaxis\": {\"backgroundcolor\": \"#E5ECF6\", \"gridcolor\": \"white\", \"gridwidth\": 2, \"linecolor\": \"white\", \"showbackground\": true, \"ticks\": \"\", \"zerolinecolor\": \"white\"}}, \"shapedefaults\": {\"line\": {\"color\": \"#2a3f5f\"}}, \"ternary\": {\"aaxis\": {\"gridcolor\": \"white\", \"linecolor\": \"white\", \"ticks\": \"\"}, \"baxis\": {\"gridcolor\": \"white\", \"linecolor\": \"white\", \"ticks\": \"\"}, \"bgcolor\": \"#E5ECF6\", \"caxis\": {\"gridcolor\": \"white\", \"linecolor\": \"white\", \"ticks\": \"\"}}, \"title\": {\"x\": 0.05}, \"xaxis\": {\"automargin\": true, \"gridcolor\": \"white\", \"linecolor\": \"white\", \"ticks\": \"\", \"title\": {\"standoff\": 15}, \"zerolinecolor\": \"white\", \"zerolinewidth\": 2}, \"yaxis\": {\"automargin\": true, \"gridcolor\": \"white\", \"linecolor\": \"white\", \"ticks\": \"\", \"title\": {\"standoff\": 15}, \"zerolinecolor\": \"white\", \"zerolinewidth\": 2}}}, \"title\": {\"font\": {\"color\": \"#4D5663\"}}, \"xaxis\": {\"gridcolor\": \"#E1E5ED\", \"showgrid\": true, \"tickfont\": {\"color\": \"#4D5663\"}, \"title\": {\"font\": {\"color\": \"#4D5663\"}, \"text\": \"\"}, \"zerolinecolor\": \"#E1E5ED\"}, \"yaxis\": {\"gridcolor\": \"#E1E5ED\", \"showgrid\": true, \"tickfont\": {\"color\": \"#4D5663\"}, \"title\": {\"font\": {\"color\": \"#4D5663\"}, \"text\": \"\"}, \"zerolinecolor\": \"#E1E5ED\"}},\n",
       "                        {\"showLink\": true, \"linkText\": \"Export to plot.ly\", \"plotlyServerURL\": \"https://plot.ly\", \"responsive\": true}\n",
       "                    ).then(function(){\n",
       "                            \n",
       "var gd = document.getElementById('6648156a-838a-4ce4-8d80-4cef5d04ce0d');\n",
       "var x = new MutationObserver(function (mutations, observer) {{\n",
       "        var display = window.getComputedStyle(gd).display;\n",
       "        if (!display || display === 'none') {{\n",
       "            console.log([gd, 'removed!']);\n",
       "            Plotly.purge(gd);\n",
       "            observer.disconnect();\n",
       "        }}\n",
       "}});\n",
       "\n",
       "// Listen for the removal of the full notebook cells\n",
       "var notebookContainer = gd.closest('#notebook-container');\n",
       "if (notebookContainer) {{\n",
       "    x.observe(notebookContainer, {childList: true});\n",
       "}}\n",
       "\n",
       "// Listen for the clearing of the current output cell\n",
       "var outputEl = gd.closest('.output');\n",
       "if (outputEl) {{\n",
       "    x.observe(outputEl, {childList: true});\n",
       "}}\n",
       "\n",
       "                        })\n",
       "                };\n",
       "                });\n",
       "            </script>\n",
       "        </div>"
      ]
     },
     "metadata": {},
     "output_type": "display_data"
    }
   ],
   "source": [
    "df.iplot(x = 'Time on App', y = 'Yearly Amount Spent', kind = 'scatter', mode = 'markers')"
   ]
  },
  {
   "cell_type": "code",
   "execution_count": 11,
   "metadata": {
    "collapsed": true
   },
   "outputs": [
    {
     "data": {
      "application/vnd.plotly.v1+json": {
       "config": {
        "linkText": "Export to plot.ly",
        "plotlyServerURL": "https://plot.ly",
        "showLink": true
       },
       "data": [
        {
         "line": {
          "color": "rgba(255, 153, 51, 1.0)",
          "dash": "solid",
          "shape": "linear",
          "width": 1.3
         },
         "marker": {
          "size": 12,
          "symbol": "circle"
         },
         "mode": "markers",
         "name": "Yearly Amount Spent",
         "text": "",
         "type": "scatter",
         "x": [
          39.57766801952616,
          37.268958868297744,
          37.110597442120856,
          36.72128267790313,
          37.53665330059473,
          34.47687762925054,
          36.68377615286961,
          37.37335885854755,
          37.534497341555735,
          37.14516822352819,
          37.22580613162114,
          37.08792607098381,
          37.42021557502538,
          36.144666700041924,
          36.61995708279922,
          36.213763093698624,
          34.8940927514398,
          38.38513659413844,
          38.24411459434352,
          37.190503800397956,
          37.60779252420698,
          37.44102133556604,
          38.73400628989712,
          36.77260376125875,
          37.63575587790592,
          37.738524945579094,
          36.430649621049305,
          37.85177916943607,
          35.293087754360506,
          37.27781174207212,
          36.16364817104465,
          35.62244242064545,
          35.69417498569782,
          38.87804050675985,
          35.368626325363024,
          38.76864099802668,
          36.7657223578584,
          37.0443614002997,
          37.38831486719822,
          36.371479814068536,
          37.534291011121276,
          37.49669014561275,
          37.14286198458455,
          36.888086054199256,
          36.11243501077792,
          39.13109673366661,
          37.335445894325716,
          36.46200325853961,
          36.58272776540628,
          36.59445670006827,
          37.78026468722867,
          37.266878259420906,
          37.45340510152358,
          35.93344930095986,
          38.46832110587932,
          35.25224202243303,
          39.252930950406224,
          36.17312563197192,
          36.81401056250368,
          37.27122169250193,
          38.05260975257308,
          36.49399254673739,
          37.99702800956553,
          37.4087484767376,
          36.60077705432864,
          37.157624094065255,
          35.358444307206696,
          36.375066106372905,
          37.68040322813719,
          40.005181638101895,
          36.265000697022046,
          36.1571911511149,
          38.00658317947767,
          37.03153921676629,
          38.26035344266013,
          38.730861735419545,
          36.628834292811774,
          35.89243163440533,
          38.21257083414733,
          36.914633311440866,
          39.600376465861395,
          35.883994387012145,
          37.058912816506904,
          37.78114255999947,
          36.15725594420065,
          36.182539282355286,
          37.151920660971435,
          36.819095513184706,
          36.951616684246815,
          36.1050004999139,
          37.87521910003027,
          36.77312349371806,
          36.05024078202619,
          37.72438615760942,
          36.63385670229112,
          38.633625651583536,
          38.063413586838934,
          37.827394227862136,
          39.07440021133697,
          35.89035795567322,
          35.990488954758504,
          37.385317552778375,
          37.580190429177314,
          36.26203180012439,
          38.074452419704535,
          35.84582711383271,
          36.15246208860067,
          37.71250863884946,
          38.16643555663392,
          38.5030088492416,
          37.325334223819354,
          37.71598617762173,
          38.41504158153833,
          37.309688770879504,
          35.600820549110864,
          37.692300861282355,
          36.701052315547926,
          35.9990993016087,
          38.3099078951232,
          37.540520355122574,
          35.00748225744693,
          37.67321036564864,
          37.38794554263559,
          36.5496679900966,
          37.57016384471318,
          37.09326487011031,
          36.63465232853774,
          37.14600652898046,
          36.71413783923341,
          37.52642102779245,
          37.24503246996753,
          38.94882502753235,
          37.41413357473937,
          36.599112354294384,
          37.42454792226391,
          36.10091445210865,
          36.594361684891574,
          36.4944064828881,
          37.45837473122322,
          37.327282689879496,
          36.59937399114725,
          35.97765170714366,
          35.73055240228659,
          39.29404346247573,
          38.27470219571764,
          36.51838358912681,
          37.23200330765404,
          37.33866962178549,
          36.951555210501326,
          36.584437621758106,
          38.3072040068692,
          37.4311590983261,
          37.396497475332055,
          36.96638889642577,
          36.95964319393419,
          37.23880567308968,
          37.327848037843715,
          33.91384724758464,
          39.09462702670515,
          38.304471191707776,
          38.039109387074966,
          35.01280603355904,
          38.31136489758187,
          36.93615937845674,
          37.65861690944284,
          37.661106683992855,
          38.924087050629204,
          35.037856159447585,
          36.4077474507818,
          37.63300941664362,
          37.57883524203316,
          36.87831536782346,
          35.907298426852456,
          36.93988205032054,
          38.835670080853426,
          37.48091197626706,
          38.57651554990162,
          36.81385766052378,
          35.6742560274292,
          37.819155112276825,
          37.9596843202141,
          38.856041708111945,
          37.67924462448078,
          37.25305774145061,
          36.0869343253416,
          37.06462119956545,
          36.54550622682937,
          37.964390331775896,
          36.09424195284947,
          38.23260622710401,
          37.63529940965426,
          37.15315160406014,
          35.49396408005128,
          36.33780003116479,
          37.909138717559856,
          37.27863979370761,
          37.102031326859105,
          37.42676891745393,
          37.28139282998597,
          35.907721429679654,
          36.67822227440393,
          36.045459420486154,
          37.03951365322458,
          38.688709099424365,
          35.459862797144744,
          37.95201318688309,
          38.252978273334655,
          36.77601657686874,
          35.533863500263074,
          37.777365796776465,
          38.131712025636475,
          36.059645979864996,
          38.76429717446252,
          35.773116391246816,
          36.54466409871873,
          34.89198326749108,
          38.354959870264494,
          36.22355746230224,
          37.12234520816764,
          35.738707471214525,
          37.743619699549896,
          37.675020732908045,
          38.585854757332655,
          36.28872395038688,
          37.71777057005867,
          36.143908456341634,
          37.073616172195656,
          37.60565280041329,
          36.65127791701514,
          37.951489458573896,
          35.57484166706179,
          37.25803145871123,
          37.79223754313028,
          37.33281445580523,
          37.07679515601331,
          35.96889569049679,
          37.37011822360151,
          37.06708996741924,
          36.971195097457155,
          38.57360522634684,
          36.90937820695247,
          36.097220934711,
          39.08156474568163,
          36.94612578169275,
          35.96566746423624,
          37.68933697894965,
          36.323652468198226,
          37.52319665049046,
          36.947953692845566,
          36.844733815044506,
          37.192793532227846,
          34.84561239331277,
          36.13389429009422,
          36.199753473916246,
          36.67387835766538,
          39.22071295098572,
          36.360247197934314,
          36.63610411908917,
          38.99332245115573,
          37.37276214632111,
          37.374183504897594,
          36.65520808395947,
          36.85481082475086,
          38.238940853091385,
          36.52738830431376,
          37.341266161010715,
          37.97982686004657,
          36.853882459920776,
          36.8227532265912,
          37.29204470528371,
          38.655094538522064,
          36.22604169397467,
          36.768603091480045,
          36.57513377612486,
          35.669935165958194,
          37.74560774187829,
          36.876313233417314,
          36.897294609068695,
          37.744699695149066,
          37.02687697079434,
          37.55088041321525,
          38.4194685327455,
          37.789036347034184,
          35.675727630820134,
          38.71707629773135,
          36.62077385548951,
          35.7218273299056,
          39.06886445133981,
          35.74277912557426,
          38.55103028983871,
          37.26387556144864,
          37.03479128933126,
          35.94639914639546,
          34.81063145023747,
          37.24032955207884,
          36.19083323650043,
          37.0616887661275,
          38.61733445368848,
          35.62658733096311,
          35.97656497174036,
          36.98591347608606,
          38.06692960186935,
          37.80697766984659,
          36.925043038878634,
          36.57503097579012,
          36.33952101023726,
          36.25781911850192,
          37.36839124072731,
          36.5170857636486,
          35.46240008104617,
          36.54860515461888,
          36.54759627699104,
          36.315763151803424,
          35.622530591605994,
          37.87095205416159,
          37.53453024067718,
          37.27757337619507,
          36.60950715426321,
          36.90022076162611,
          37.19419104646396,
          38.296110372778266,
          37.333107418297075,
          36.14579171248221,
          37.646291787430776,
          37.229394516276614,
          36.31272657154038,
          38.442766686805065,
          37.38718052656558,
          38.04031366664072,
          35.92159518889928,
          37.08884657968332,
          37.1088163801084,
          37.935189045959156,
          35.86244707788159,
          36.595867945874545,
          39.24880390433504,
          38.269060691470244,
          37.4289973693919,
          38.0706642585136,
          37.332240746553346,
          36.773861369930785,
          37.76668677332467,
          35.77778217066089,
          37.95780983454751,
          37.84065507750671,
          37.977388737979744,
          35.823466666422846,
          37.83397172859896,
          34.897827688311345,
          36.37750903434099,
          37.33359061333867,
          38.19748324839899,
          36.88119240747175,
          35.90025278215821,
          35.12882235312117,
          35.9745781075859,
          37.763690402803434,
          37.49189221040693,
          35.716269159517005,
          37.65040020345744,
          36.04898625036686,
          39.045155696388115,
          36.91495154541398,
          35.444264696393994,
          37.922703809566,
          38.00182746752369,
          36.841491638054855,
          35.93896250240334,
          36.23210980258421,
          37.90601452014432,
          37.763041081545246,
          38.11045690682496,
          36.956965425094104,
          37.08831936433477,
          38.043452650841274,
          36.90818962373682,
          37.68546548721554,
          35.78392374450292,
          36.66579136924871,
          38.29572526401705,
          35.550772266806135,
          37.951946317735135,
          37.34573893439929,
          35.42933438847124,
          36.18913179541947,
          34.574027587189626,
          38.95246252162796,
          34.487184747742425,
          36.170494202480995,
          37.027150364769525,
          36.882149081506796,
          37.317704949196845,
          37.128039498322295,
          36.155336204959546,
          38.381955972136154,
          37.86921693600857,
          35.56543623713973,
          36.04620351842453,
          38.918748541019504,
          37.19936752783635,
          37.32981862521235,
          36.51734612004179,
          37.30596141998359,
          38.31564796064117,
          36.68836654250485,
          37.05261630809583,
          35.569170317446186,
          38.50588332918249,
          36.99529016635977,
          35.189122444377716,
          38.775665296116884,
          36.98504141740091,
          35.9380452301724,
          36.729029401087864,
          37.62690680204789,
          38.79123468689964,
          37.6373109611636,
          36.95395970110429,
          37.07437106706514,
          36.01231723045213,
          37.14209368933963,
          36.72527682557128,
          36.393683855020775,
          36.68339299807869,
          37.86144725932397,
          36.45689841052433,
          37.23984661097634,
          39.67259095594186,
          37.022268985912326,
          38.42286529341121,
          38.40137368953426,
          36.61119877576035,
          35.63211221551042,
          36.308545294390356,
          36.35250276938114,
          37.0234792364057,
          36.08964365766702,
          39.24096484164356,
          37.181447310649894,
          37.305361879286025,
          36.831535850846905,
          36.97937237345656,
          35.90675636579306,
          37.645838788014025,
          35.4567981489283,
          35.63395394740078,
          36.486325072393406,
          37.805509432449185,
          37.680287608367976,
          37.683875373647005,
          37.64780805527063,
          36.83936583281821,
          36.808376059487955,
          37.72236711094261,
          36.32214091690131,
          35.76615350038372,
          34.77975050203264,
          37.03427958207978,
          36.86218334634355,
          37.425278680067905,
          36.838656786348494,
          35.26149811626243,
          37.211152581351115,
          36.929761561703394,
          38.406329010114156,
          37.67232248424959,
          34.64980004740713,
          36.36684324701071,
          37.487049248551685,
          36.673952738564225,
          36.599289087393494,
          36.378271013194265,
          38.860234430326635,
          36.166463391921475,
          37.071643198252396,
          36.29889307823573,
          38.68258378408295,
          36.16604163340145,
          36.875025808917755,
          38.12651979793058,
          35.76932963050029,
          35.536024530304154,
          36.07455114016891,
          37.198427822725975,
          36.874543604679936,
          36.35523488364423,
          36.53409567089256,
          36.05864760322049,
          38.18776368086846,
          37.133126759376324,
          37.684877275306064,
          36.81293412550145,
          37.83544772741218,
          35.53914242750509,
          37.96597162275135,
          36.4179847963968,
          37.1902677104526,
          38.33257633196044,
          36.840085729767004,
          35.771016191612965
         ],
         "y": [
          587.9510539684005,
          392.2049334443264,
          487.54750486747207,
          581.8523440352177,
          599.4060920457634,
          637.102447915074,
          521.5721747578274,
          549.9041461052942,
          570.2004089636196,
          427.1993848953282,
          492.6060127179966,
          522.3374046069357,
          408.6403510726275,
          573.4158673313865,
          470.4527333009554,
          461.7807421962299,
          457.84769594494855,
          407.70454754954415,
          452.3156754800354,
          605.061038804892,
          534.7057438060227,
          419.93877483917913,
          436.51560572936256,
          519.3409891307888,
          700.9170916173961,
          423.17999168059777,
          619.8956398616367,
          486.83893476506273,
          529.537665336851,
          554.7220838330761,
          497.5866713004408,
          447.6879065360587,
          588.7126055095755,
          491.07322367951963,
          507.4418323396168,
          521.8835731664783,
          347.77692663187264,
          490.73863214395465,
          478.1703340540876,
          537.8461952695957,
          532.7517875818364,
          501.87443028426947,
          591.1971781805905,
          547.2443434159983,
          448.22982918655,
          549.860590464497,
          593.9150029682891,
          563.6728733601083,
          479.73194908594513,
          416.35835357990084,
          725.5848140556806,
          442.667251738628,
          384.62657156940537,
          451.4574468676027,
          522.40414125956,
          483.67330801904563,
          520.8987944502368,
          453.16950235469744,
          496.650708068581,
          547.3651405940458,
          616.8515229667128,
          507.21256900067846,
          613.5993233689068,
          483.15972078451705,
          540.2634004105403,
          765.5184619388373,
          553.6015346844503,
          469.3108614953106,
          408.6201878298378,
          451.57568515949305,
          444.96655165329264,
          595.8228366992038,
          418.1500810968496,
          534.7771880994133,
          578.2416050583772,
          478.7193568742153,
          444.2859074976437,
          544.7798637193824,
          488.78606109390563,
          475.759067788328,
          489.8124879964614,
          462.8976361529081,
          596.4301726172282,
          338.31986264152215,
          533.5149352552407,
          536.7718993628412,
          487.37930601702914,
          473.7289665129948,
          547.1259317471988,
          505.11334353985785,
          449.0703194428044,
          611.0000251040717,
          515.8288148548279,
          439.07476674164496,
          514.0889577465721,
          543.340166256701,
          521.1429518103512,
          614.7153338263417,
          507.39006178986654,
          495.2994425473087,
          518.0645579840107,
          390.1032729724755,
          420.73767324463716,
          492.1050523891852,
          410.0696110599829,
          497.51368332936767,
          494.55186108657256,
          378.3309069068038,
          570.451725912857,
          549.0082269346927,
          459.285123462352,
          492.94505306595823,
          424.7626355099111,
          422.4267758765091,
          642.1015787311585,
          413.3717831104521,
          479.23109291159307,
          593.0772413447513,
          506.5473070543517,
          571.3074948754644,
          576.311177371677,
          576.8025473995871,
          514.239520718957,
          495.1759504494754,
          514.3365582674006,
          541.2265839893283,
          516.8315566841785,
          468.44573722740637,
          548.2803201983364,
          431.6177337614297,
          552.9403454501056,
          573.3062222574563,
          452.62725499508304,
          542.7115581025776,
          407.8040306356823,
          482.3535703213532,
          529.2300901235094,
          433.0487690958266,
          476.1914133494556,
          439.997879939927,
          448.93329320767435,
          472.9922466667984,
          463.9235129903258,
          350.05820016384513,
          460.06127739124327,
          505.77114032295646,
          463.484995404266,
          479.73193764530447,
          424.18549428888633,
          465.8893127108669,
          426.7752159856604,
          684.1634310159512,
          555.8925953881737,
          657.0199239376519,
          595.8038188761143,
          503.9783790525795,
          586.1558701804727,
          744.2218671047146,
          512.8253581285203,
          528.2238093680072,
          468.9135013219844,
          357.5914394150861,
          536.4231045259343,
          490.2065999848547,
          550.0475805761635,
          513.4505711860965,
          497.8119300055205,
          578.9862585804897,
          506.5363931400864,
          501.74923330839226,
          421.9667941858674,
          439.8912804768137,
          666.125591725772,
          298.76200786180766,
          465.17662330529686,
          373.88572369695015,
          532.7174856761749,
          554.9007830202702,
          537.7731625414566,
          501.100245232053,
          517.1651355939779,
          557.5292736134538,
          493.71919297817595,
          452.12262508578493,
          577.2734549822936,
          485.9231305248517,
          425.74509203105276,
          537.2150526997326,
          524.6379646141048,
          478.8853913201482,
          612.3852298963608,
          476.76672415476344,
          505.11963752820367,
          545.9454921414049,
          434.0216997527185,
          424.67528101321335,
          352.55010816300035,
          662.9610878058954,
          560.5601606242603,
          467.5019004269896,
          504.87043239337237,
          590.56271964715,
          443.9656268098819,
          392.4973991890214,
          568.7175759305222,
          712.3963268096637,
          413.29599918102974,
          562.0820453929382,
          412.012931298847,
          468.66846559912733,
          496.55408163560713,
          548.5185292758069,
          536.1308968550213,
          558.4272571753238,
          357.86371863839173,
          529.0566631985306,
          387.3570727364218,
          528.9336185650203,
          420.91615953269286,
          496.9334462555319,
          519.372976801355,
          591.4377355684502,
          502.4097853029053,
          604.3348400688553,
          555.0683940545761,
          256.67058229005585,
          547.1109823629461,
          461.9208768928978,
          458.3769106506301,
          436.28349814675136,
          532.9352188376637,
          512.5525343564016,
          630.4227632299235,
          463.74598112062944,
          493.18021624931,
          501.2091726816533,
          501.9282648732441,
          376.3369007569242,
          421.3266312569514,
          538.774933478023,
          398.16346853365195,
          571.4710341154247,
          451.62861054019965,
          490.6004425003995,
          591.7810894256675,
          409.0704720533178,
          563.4460356732392,
          647.6194557251927,
          448.34042501104767,
          518.7864830920807,
          523.6339351357243,
          393.8573709860865,
          426.154547713103,
          503.3878872879605,
          482.60246732948264,
          524.7976275698038,
          574.6548433659394,
          574.7472196620896,
          660.4251842914138,
          375.3984554102432,
          640.1877400085722,
          514.0098178487357,
          376.49684071853693,
          484.51980911055114,
          614.7296376283243,
          567.4750105270774,
          554.0030934297989,
          399.98387159812256,
          479.17285149109694,
          585.9318442972224,
          540.9957391083377,
          628.0478039330168,
          582.4919237338106,
          640.7861663983061,
          446.41867337013565,
          570.6300980875259,
          423.3083340974698,
          616.6602860166827,
          530.3624688854229,
          442.3631173838644,
          511.9798599920658,
          560.4437921717631,
          475.2634237275485,
          374.2696745439231,
          463.5914180279406,
          471.602884392892,
          626.018672655394,
          432.47206125141577,
          356.6155678900057,
          467.4278485003528,
          503.21739311910665,
          378.47356644790113,
          584.2183134866807,
          451.7278633175868,
          557.6341089957289,
          432.7207178399336,
          506.42385996980016,
          510.1598172791045,
          587.5747994806404,
          282.4712457199145,
          473.94985742281614,
          489.9080530975354,
          541.9722037582585,
          266.086340948469,
          494.68715581028533,
          689.7876041747194,
          387.5347163057077,
          441.89663151788625,
          604.8413188212228,
          302.18954780965197,
          479.6148116731425,
          506.132342437705,
          319.9288698031936,
          528.3092250312227,
          610.1280331303979,
          584.1058850493532,
          466.4211988217437,
          404.82452887268687,
          564.7909690079206,
          596.516697973153,
          368.6547849470645,
          542.4124767293989,
          478.2621263968358,
          473.360495571661,
          559.1990479544187,
          447.18764430541853,
          505.2300682820706,
          557.2526867470547,
          422.36873660682664,
          445.06218550892487,
          442.06441375806565,
          533.0400601788124,
          424.2028270990325,
          498.635598489176,
          330.5944460341002,
          443.4418600624623,
          478.60091594433294,
          440.0027475469415,
          357.7831107453153,
          476.139246872566,
          501.12249150365636,
          592.6884532021675,
          486.0834255029927,
          576.0252441251166,
          442.7228915742714,
          461.7909590614097,
          488.38752578014504,
          593.1564014822196,
          392.8103449837972,
          443.1972210287554,
          535.4807751896418,
          533.3965537868428,
          532.1274491097012,
          558.9481123879059,
          508.771906741518,
          403.7669020956173,
          640.5840618984408,
          461.6282783910862,
          382.41610786547517,
          561.874657668983,
          444.5761441337301,
          401.03313521910604,
          384.3260571375157,
          527.7829957560522,
          482.14499687576796,
          594.2744834186118,
          502.0925279023197,
          407.65717875932603,
          708.9351848669818,
          531.9615505451646,
          521.2407802357949,
          447.36902719933136,
          385.152337987975,
          430.5888825564849,
          418.602742095224,
          478.95140475788554,
          483.79652206149285,
          538.941974531203,
          486.1637990666317,
          385.0950070687634,
          527.7837897574573,
          547.1907493518986,
          410.6029439492151,
          583.9778019715427,
          474.53232943988985,
          414.9350606518193,
          550.8133677324173,
          458.78113168424994,
          407.54216801343483,
          581.3089328794999,
          546.5566668627299,
          503.1750851912004,
          549.1315732872171,
          482.8309858617017,
          557.6082620533542,
          484.87696493512857,
          669.9871405017029,
          547.7099885778624,
          537.8252822957112,
          408.2169017707518,
          663.0748176067602,
          506.37586675019753,
          528.4193296952955,
          632.1235881419657,
          488.2702979651482,
          508.7357409506604,
          411.1869635742789,
          409.0945261923378,
          467.8009243667916,
          512.1658663881581,
          608.2718166151668,
          589.0264897562791,
          444.0538265727728,
          493.1812613907186,
          532.724805462904,
          275.9184206503857,
          511.03878605116114,
          438.41774201146853,
          475.7250679098812,
          483.54319386538816,
          663.8036932755083,
          544.4092721605869,
          630.1567281670505,
          461.11224843060927,
          491.9115050963458,
          574.4156896079883,
          530.7667186547619,
          581.7987976770314,
          556.2981411740467,
          502.132789227254,
          556.1863688687886,
          475.07162989966173,
          486.9470538397658,
          434.1442020262987,
          304.1355915788555,
          571.2160048349454,
          583.0796356620574,
          445.74984123965226,
          392.99225591403086,
          565.9943634015267,
          499.14015244905386,
          510.5394216996283,
          308.52774655803336,
          561.5165319790891,
          423.4705331738239,
          513.1531118530668,
          529.1945188649573,
          314.4385182951061,
          478.5842860083426,
          444.5821649786528,
          475.0154070877503,
          436.7205558562188,
          521.1953105318003,
          478.18305971187965,
          432.48116855701767,
          438.30370784642975,
          388.9405487921943,
          534.7714849461672,
          537.9157529213054,
          407.8763782204976,
          618.8459704239658,
          502.77107456549606,
          397.420584096457,
          392.2852442462675,
          689.2356997616951,
          543.1326262891694,
          577.7360248512277,
          436.5807403475482,
          553.9946735912697,
          427.3565308022928,
          424.7287739291025,
          541.0498309594357,
          469.38314617236114,
          444.54554965110816,
          492.55683370047706,
          535.3216100850124,
          408.9583359406166,
          487.5554580579016,
          487.6462317438417,
          402.16712222372564,
          551.0230017027826,
          497.3895577588434,
          494.6386097568927,
          479.2474167840931,
          462.65651893471335,
          515.5024796636585,
          576.4776071703129,
          357.85798360521926,
          597.7398788791847,
          327.37795258965207,
          510.4013884525048,
          510.50147847479735,
          403.8195198321978,
          627.603318713015,
          510.661792219672,
          573.8474377162278,
          529.0490041294304,
          551.6201454762477,
          456.46951006629797,
          497.7786422156802
         ]
        }
       ],
       "layout": {
        "legend": {
         "bgcolor": "#F5F6F9",
         "font": {
          "color": "#4D5663"
         }
        },
        "paper_bgcolor": "#F5F6F9",
        "plot_bgcolor": "#F5F6F9",
        "template": {
         "data": {
          "bar": [
           {
            "error_x": {
             "color": "#2a3f5f"
            },
            "error_y": {
             "color": "#2a3f5f"
            },
            "marker": {
             "line": {
              "color": "#E5ECF6",
              "width": 0.5
             }
            },
            "type": "bar"
           }
          ],
          "barpolar": [
           {
            "marker": {
             "line": {
              "color": "#E5ECF6",
              "width": 0.5
             }
            },
            "type": "barpolar"
           }
          ],
          "carpet": [
           {
            "aaxis": {
             "endlinecolor": "#2a3f5f",
             "gridcolor": "white",
             "linecolor": "white",
             "minorgridcolor": "white",
             "startlinecolor": "#2a3f5f"
            },
            "baxis": {
             "endlinecolor": "#2a3f5f",
             "gridcolor": "white",
             "linecolor": "white",
             "minorgridcolor": "white",
             "startlinecolor": "#2a3f5f"
            },
            "type": "carpet"
           }
          ],
          "choropleth": [
           {
            "colorbar": {
             "outlinewidth": 0,
             "ticks": ""
            },
            "type": "choropleth"
           }
          ],
          "contour": [
           {
            "colorbar": {
             "outlinewidth": 0,
             "ticks": ""
            },
            "colorscale": [
             [
              0,
              "#0d0887"
             ],
             [
              0.1111111111111111,
              "#46039f"
             ],
             [
              0.2222222222222222,
              "#7201a8"
             ],
             [
              0.3333333333333333,
              "#9c179e"
             ],
             [
              0.4444444444444444,
              "#bd3786"
             ],
             [
              0.5555555555555556,
              "#d8576b"
             ],
             [
              0.6666666666666666,
              "#ed7953"
             ],
             [
              0.7777777777777778,
              "#fb9f3a"
             ],
             [
              0.8888888888888888,
              "#fdca26"
             ],
             [
              1,
              "#f0f921"
             ]
            ],
            "type": "contour"
           }
          ],
          "contourcarpet": [
           {
            "colorbar": {
             "outlinewidth": 0,
             "ticks": ""
            },
            "type": "contourcarpet"
           }
          ],
          "heatmap": [
           {
            "colorbar": {
             "outlinewidth": 0,
             "ticks": ""
            },
            "colorscale": [
             [
              0,
              "#0d0887"
             ],
             [
              0.1111111111111111,
              "#46039f"
             ],
             [
              0.2222222222222222,
              "#7201a8"
             ],
             [
              0.3333333333333333,
              "#9c179e"
             ],
             [
              0.4444444444444444,
              "#bd3786"
             ],
             [
              0.5555555555555556,
              "#d8576b"
             ],
             [
              0.6666666666666666,
              "#ed7953"
             ],
             [
              0.7777777777777778,
              "#fb9f3a"
             ],
             [
              0.8888888888888888,
              "#fdca26"
             ],
             [
              1,
              "#f0f921"
             ]
            ],
            "type": "heatmap"
           }
          ],
          "heatmapgl": [
           {
            "colorbar": {
             "outlinewidth": 0,
             "ticks": ""
            },
            "colorscale": [
             [
              0,
              "#0d0887"
             ],
             [
              0.1111111111111111,
              "#46039f"
             ],
             [
              0.2222222222222222,
              "#7201a8"
             ],
             [
              0.3333333333333333,
              "#9c179e"
             ],
             [
              0.4444444444444444,
              "#bd3786"
             ],
             [
              0.5555555555555556,
              "#d8576b"
             ],
             [
              0.6666666666666666,
              "#ed7953"
             ],
             [
              0.7777777777777778,
              "#fb9f3a"
             ],
             [
              0.8888888888888888,
              "#fdca26"
             ],
             [
              1,
              "#f0f921"
             ]
            ],
            "type": "heatmapgl"
           }
          ],
          "histogram": [
           {
            "marker": {
             "colorbar": {
              "outlinewidth": 0,
              "ticks": ""
             }
            },
            "type": "histogram"
           }
          ],
          "histogram2d": [
           {
            "colorbar": {
             "outlinewidth": 0,
             "ticks": ""
            },
            "colorscale": [
             [
              0,
              "#0d0887"
             ],
             [
              0.1111111111111111,
              "#46039f"
             ],
             [
              0.2222222222222222,
              "#7201a8"
             ],
             [
              0.3333333333333333,
              "#9c179e"
             ],
             [
              0.4444444444444444,
              "#bd3786"
             ],
             [
              0.5555555555555556,
              "#d8576b"
             ],
             [
              0.6666666666666666,
              "#ed7953"
             ],
             [
              0.7777777777777778,
              "#fb9f3a"
             ],
             [
              0.8888888888888888,
              "#fdca26"
             ],
             [
              1,
              "#f0f921"
             ]
            ],
            "type": "histogram2d"
           }
          ],
          "histogram2dcontour": [
           {
            "colorbar": {
             "outlinewidth": 0,
             "ticks": ""
            },
            "colorscale": [
             [
              0,
              "#0d0887"
             ],
             [
              0.1111111111111111,
              "#46039f"
             ],
             [
              0.2222222222222222,
              "#7201a8"
             ],
             [
              0.3333333333333333,
              "#9c179e"
             ],
             [
              0.4444444444444444,
              "#bd3786"
             ],
             [
              0.5555555555555556,
              "#d8576b"
             ],
             [
              0.6666666666666666,
              "#ed7953"
             ],
             [
              0.7777777777777778,
              "#fb9f3a"
             ],
             [
              0.8888888888888888,
              "#fdca26"
             ],
             [
              1,
              "#f0f921"
             ]
            ],
            "type": "histogram2dcontour"
           }
          ],
          "mesh3d": [
           {
            "colorbar": {
             "outlinewidth": 0,
             "ticks": ""
            },
            "type": "mesh3d"
           }
          ],
          "parcoords": [
           {
            "line": {
             "colorbar": {
              "outlinewidth": 0,
              "ticks": ""
             }
            },
            "type": "parcoords"
           }
          ],
          "pie": [
           {
            "automargin": true,
            "type": "pie"
           }
          ],
          "scatter": [
           {
            "marker": {
             "colorbar": {
              "outlinewidth": 0,
              "ticks": ""
             }
            },
            "type": "scatter"
           }
          ],
          "scatter3d": [
           {
            "line": {
             "colorbar": {
              "outlinewidth": 0,
              "ticks": ""
             }
            },
            "marker": {
             "colorbar": {
              "outlinewidth": 0,
              "ticks": ""
             }
            },
            "type": "scatter3d"
           }
          ],
          "scattercarpet": [
           {
            "marker": {
             "colorbar": {
              "outlinewidth": 0,
              "ticks": ""
             }
            },
            "type": "scattercarpet"
           }
          ],
          "scattergeo": [
           {
            "marker": {
             "colorbar": {
              "outlinewidth": 0,
              "ticks": ""
             }
            },
            "type": "scattergeo"
           }
          ],
          "scattergl": [
           {
            "marker": {
             "colorbar": {
              "outlinewidth": 0,
              "ticks": ""
             }
            },
            "type": "scattergl"
           }
          ],
          "scattermapbox": [
           {
            "marker": {
             "colorbar": {
              "outlinewidth": 0,
              "ticks": ""
             }
            },
            "type": "scattermapbox"
           }
          ],
          "scatterpolar": [
           {
            "marker": {
             "colorbar": {
              "outlinewidth": 0,
              "ticks": ""
             }
            },
            "type": "scatterpolar"
           }
          ],
          "scatterpolargl": [
           {
            "marker": {
             "colorbar": {
              "outlinewidth": 0,
              "ticks": ""
             }
            },
            "type": "scatterpolargl"
           }
          ],
          "scatterternary": [
           {
            "marker": {
             "colorbar": {
              "outlinewidth": 0,
              "ticks": ""
             }
            },
            "type": "scatterternary"
           }
          ],
          "surface": [
           {
            "colorbar": {
             "outlinewidth": 0,
             "ticks": ""
            },
            "colorscale": [
             [
              0,
              "#0d0887"
             ],
             [
              0.1111111111111111,
              "#46039f"
             ],
             [
              0.2222222222222222,
              "#7201a8"
             ],
             [
              0.3333333333333333,
              "#9c179e"
             ],
             [
              0.4444444444444444,
              "#bd3786"
             ],
             [
              0.5555555555555556,
              "#d8576b"
             ],
             [
              0.6666666666666666,
              "#ed7953"
             ],
             [
              0.7777777777777778,
              "#fb9f3a"
             ],
             [
              0.8888888888888888,
              "#fdca26"
             ],
             [
              1,
              "#f0f921"
             ]
            ],
            "type": "surface"
           }
          ],
          "table": [
           {
            "cells": {
             "fill": {
              "color": "#EBF0F8"
             },
             "line": {
              "color": "white"
             }
            },
            "header": {
             "fill": {
              "color": "#C8D4E3"
             },
             "line": {
              "color": "white"
             }
            },
            "type": "table"
           }
          ]
         },
         "layout": {
          "annotationdefaults": {
           "arrowcolor": "#2a3f5f",
           "arrowhead": 0,
           "arrowwidth": 1
          },
          "coloraxis": {
           "colorbar": {
            "outlinewidth": 0,
            "ticks": ""
           }
          },
          "colorscale": {
           "diverging": [
            [
             0,
             "#8e0152"
            ],
            [
             0.1,
             "#c51b7d"
            ],
            [
             0.2,
             "#de77ae"
            ],
            [
             0.3,
             "#f1b6da"
            ],
            [
             0.4,
             "#fde0ef"
            ],
            [
             0.5,
             "#f7f7f7"
            ],
            [
             0.6,
             "#e6f5d0"
            ],
            [
             0.7,
             "#b8e186"
            ],
            [
             0.8,
             "#7fbc41"
            ],
            [
             0.9,
             "#4d9221"
            ],
            [
             1,
             "#276419"
            ]
           ],
           "sequential": [
            [
             0,
             "#0d0887"
            ],
            [
             0.1111111111111111,
             "#46039f"
            ],
            [
             0.2222222222222222,
             "#7201a8"
            ],
            [
             0.3333333333333333,
             "#9c179e"
            ],
            [
             0.4444444444444444,
             "#bd3786"
            ],
            [
             0.5555555555555556,
             "#d8576b"
            ],
            [
             0.6666666666666666,
             "#ed7953"
            ],
            [
             0.7777777777777778,
             "#fb9f3a"
            ],
            [
             0.8888888888888888,
             "#fdca26"
            ],
            [
             1,
             "#f0f921"
            ]
           ],
           "sequentialminus": [
            [
             0,
             "#0d0887"
            ],
            [
             0.1111111111111111,
             "#46039f"
            ],
            [
             0.2222222222222222,
             "#7201a8"
            ],
            [
             0.3333333333333333,
             "#9c179e"
            ],
            [
             0.4444444444444444,
             "#bd3786"
            ],
            [
             0.5555555555555556,
             "#d8576b"
            ],
            [
             0.6666666666666666,
             "#ed7953"
            ],
            [
             0.7777777777777778,
             "#fb9f3a"
            ],
            [
             0.8888888888888888,
             "#fdca26"
            ],
            [
             1,
             "#f0f921"
            ]
           ]
          },
          "colorway": [
           "#636efa",
           "#EF553B",
           "#00cc96",
           "#ab63fa",
           "#FFA15A",
           "#19d3f3",
           "#FF6692",
           "#B6E880",
           "#FF97FF",
           "#FECB52"
          ],
          "font": {
           "color": "#2a3f5f"
          },
          "geo": {
           "bgcolor": "white",
           "lakecolor": "white",
           "landcolor": "#E5ECF6",
           "showlakes": true,
           "showland": true,
           "subunitcolor": "white"
          },
          "hoverlabel": {
           "align": "left"
          },
          "hovermode": "closest",
          "mapbox": {
           "style": "light"
          },
          "paper_bgcolor": "white",
          "plot_bgcolor": "#E5ECF6",
          "polar": {
           "angularaxis": {
            "gridcolor": "white",
            "linecolor": "white",
            "ticks": ""
           },
           "bgcolor": "#E5ECF6",
           "radialaxis": {
            "gridcolor": "white",
            "linecolor": "white",
            "ticks": ""
           }
          },
          "scene": {
           "xaxis": {
            "backgroundcolor": "#E5ECF6",
            "gridcolor": "white",
            "gridwidth": 2,
            "linecolor": "white",
            "showbackground": true,
            "ticks": "",
            "zerolinecolor": "white"
           },
           "yaxis": {
            "backgroundcolor": "#E5ECF6",
            "gridcolor": "white",
            "gridwidth": 2,
            "linecolor": "white",
            "showbackground": true,
            "ticks": "",
            "zerolinecolor": "white"
           },
           "zaxis": {
            "backgroundcolor": "#E5ECF6",
            "gridcolor": "white",
            "gridwidth": 2,
            "linecolor": "white",
            "showbackground": true,
            "ticks": "",
            "zerolinecolor": "white"
           }
          },
          "shapedefaults": {
           "line": {
            "color": "#2a3f5f"
           }
          },
          "ternary": {
           "aaxis": {
            "gridcolor": "white",
            "linecolor": "white",
            "ticks": ""
           },
           "baxis": {
            "gridcolor": "white",
            "linecolor": "white",
            "ticks": ""
           },
           "bgcolor": "#E5ECF6",
           "caxis": {
            "gridcolor": "white",
            "linecolor": "white",
            "ticks": ""
           }
          },
          "title": {
           "x": 0.05
          },
          "xaxis": {
           "automargin": true,
           "gridcolor": "white",
           "linecolor": "white",
           "ticks": "",
           "title": {
            "standoff": 15
           },
           "zerolinecolor": "white",
           "zerolinewidth": 2
          },
          "yaxis": {
           "automargin": true,
           "gridcolor": "white",
           "linecolor": "white",
           "ticks": "",
           "title": {
            "standoff": 15
           },
           "zerolinecolor": "white",
           "zerolinewidth": 2
          }
         }
        },
        "title": {
         "font": {
          "color": "#4D5663"
         }
        },
        "xaxis": {
         "gridcolor": "#E1E5ED",
         "showgrid": true,
         "tickfont": {
          "color": "#4D5663"
         },
         "title": {
          "font": {
           "color": "#4D5663"
          },
          "text": ""
         },
         "zerolinecolor": "#E1E5ED"
        },
        "yaxis": {
         "gridcolor": "#E1E5ED",
         "showgrid": true,
         "tickfont": {
          "color": "#4D5663"
         },
         "title": {
          "font": {
           "color": "#4D5663"
          },
          "text": ""
         },
         "zerolinecolor": "#E1E5ED"
        }
       }
      },
      "text/html": [
       "<div>\n",
       "        \n",
       "        \n",
       "            <div id=\"20161c33-fa02-40b5-82dc-1ef6cab41017\" class=\"plotly-graph-div\" style=\"height:525px; width:100%;\"></div>\n",
       "            <script type=\"text/javascript\">\n",
       "                require([\"plotly\"], function(Plotly) {\n",
       "                    window.PLOTLYENV=window.PLOTLYENV || {};\n",
       "                    window.PLOTLYENV.BASE_URL='https://plot.ly';\n",
       "                    \n",
       "                if (document.getElementById(\"20161c33-fa02-40b5-82dc-1ef6cab41017\")) {\n",
       "                    Plotly.newPlot(\n",
       "                        '20161c33-fa02-40b5-82dc-1ef6cab41017',\n",
       "                        [{\"line\": {\"color\": \"rgba(255, 153, 51, 1.0)\", \"dash\": \"solid\", \"shape\": \"linear\", \"width\": 1.3}, \"marker\": {\"size\": 12, \"symbol\": \"circle\"}, \"mode\": \"markers\", \"name\": \"Yearly Amount Spent\", \"text\": \"\", \"type\": \"scatter\", \"x\": [39.57766801952616, 37.268958868297744, 37.110597442120856, 36.72128267790313, 37.53665330059473, 34.47687762925054, 36.68377615286961, 37.37335885854755, 37.534497341555735, 37.14516822352819, 37.22580613162114, 37.08792607098381, 37.42021557502538, 36.144666700041924, 36.61995708279922, 36.213763093698624, 34.8940927514398, 38.38513659413844, 38.24411459434352, 37.190503800397956, 37.60779252420698, 37.44102133556604, 38.73400628989712, 36.77260376125875, 37.63575587790592, 37.738524945579094, 36.430649621049305, 37.85177916943607, 35.293087754360506, 37.27781174207212, 36.16364817104465, 35.62244242064545, 35.69417498569782, 38.87804050675985, 35.368626325363024, 38.76864099802668, 36.7657223578584, 37.0443614002997, 37.38831486719822, 36.371479814068536, 37.534291011121276, 37.49669014561275, 37.14286198458455, 36.888086054199256, 36.11243501077792, 39.13109673366661, 37.335445894325716, 36.46200325853961, 36.58272776540628, 36.59445670006827, 37.78026468722867, 37.266878259420906, 37.45340510152358, 35.93344930095986, 38.46832110587932, 35.25224202243303, 39.252930950406224, 36.17312563197192, 36.81401056250368, 37.27122169250193, 38.05260975257308, 36.49399254673739, 37.99702800956553, 37.4087484767376, 36.60077705432864, 37.157624094065255, 35.358444307206696, 36.375066106372905, 37.68040322813719, 40.005181638101895, 36.265000697022046, 36.1571911511149, 38.00658317947767, 37.03153921676629, 38.26035344266013, 38.730861735419545, 36.628834292811774, 35.89243163440533, 38.21257083414733, 36.914633311440866, 39.600376465861395, 35.883994387012145, 37.058912816506904, 37.78114255999947, 36.15725594420065, 36.182539282355286, 37.151920660971435, 36.819095513184706, 36.951616684246815, 36.1050004999139, 37.87521910003027, 36.77312349371806, 36.05024078202619, 37.72438615760942, 36.63385670229112, 38.633625651583536, 38.063413586838934, 37.827394227862136, 39.07440021133697, 35.89035795567322, 35.990488954758504, 37.385317552778375, 37.580190429177314, 36.26203180012439, 38.074452419704535, 35.84582711383271, 36.15246208860067, 37.71250863884946, 38.16643555663392, 38.5030088492416, 37.325334223819354, 37.71598617762173, 38.41504158153833, 37.309688770879504, 35.600820549110864, 37.692300861282355, 36.701052315547926, 35.9990993016087, 38.3099078951232, 37.540520355122574, 35.00748225744693, 37.67321036564864, 37.38794554263559, 36.5496679900966, 37.57016384471318, 37.09326487011031, 36.63465232853774, 37.14600652898046, 36.71413783923341, 37.52642102779245, 37.24503246996753, 38.94882502753235, 37.41413357473937, 36.599112354294384, 37.42454792226391, 36.10091445210865, 36.594361684891574, 36.4944064828881, 37.45837473122322, 37.327282689879496, 36.59937399114725, 35.97765170714366, 35.73055240228659, 39.29404346247573, 38.27470219571764, 36.51838358912681, 37.23200330765404, 37.33866962178549, 36.951555210501326, 36.584437621758106, 38.3072040068692, 37.4311590983261, 37.396497475332055, 36.96638889642577, 36.95964319393419, 37.23880567308968, 37.327848037843715, 33.91384724758464, 39.09462702670515, 38.304471191707776, 38.039109387074966, 35.01280603355904, 38.31136489758187, 36.93615937845674, 37.65861690944284, 37.661106683992855, 38.924087050629204, 35.037856159447585, 36.4077474507818, 37.63300941664362, 37.57883524203316, 36.87831536782346, 35.907298426852456, 36.93988205032054, 38.835670080853426, 37.48091197626706, 38.57651554990162, 36.81385766052378, 35.6742560274292, 37.819155112276825, 37.9596843202141, 38.856041708111945, 37.67924462448078, 37.25305774145061, 36.0869343253416, 37.06462119956545, 36.54550622682937, 37.964390331775896, 36.09424195284947, 38.23260622710401, 37.63529940965426, 37.15315160406014, 35.49396408005128, 36.33780003116479, 37.909138717559856, 37.27863979370761, 37.102031326859105, 37.42676891745393, 37.28139282998597, 35.907721429679654, 36.67822227440393, 36.045459420486154, 37.03951365322458, 38.688709099424365, 35.459862797144744, 37.95201318688309, 38.252978273334655, 36.77601657686874, 35.533863500263074, 37.777365796776465, 38.131712025636475, 36.059645979864996, 38.76429717446252, 35.773116391246816, 36.54466409871873, 34.89198326749108, 38.354959870264494, 36.22355746230224, 37.12234520816764, 35.738707471214525, 37.743619699549896, 37.675020732908045, 38.585854757332655, 36.28872395038688, 37.71777057005867, 36.143908456341634, 37.073616172195656, 37.60565280041329, 36.65127791701514, 37.951489458573896, 35.57484166706179, 37.25803145871123, 37.79223754313028, 37.33281445580523, 37.07679515601331, 35.96889569049679, 37.37011822360151, 37.06708996741924, 36.971195097457155, 38.57360522634684, 36.90937820695247, 36.097220934711, 39.08156474568163, 36.94612578169275, 35.96566746423624, 37.68933697894965, 36.323652468198226, 37.52319665049046, 36.947953692845566, 36.844733815044506, 37.192793532227846, 34.84561239331277, 36.13389429009422, 36.199753473916246, 36.67387835766538, 39.22071295098572, 36.360247197934314, 36.63610411908917, 38.99332245115573, 37.37276214632111, 37.374183504897594, 36.65520808395947, 36.85481082475086, 38.238940853091385, 36.52738830431376, 37.341266161010715, 37.97982686004657, 36.853882459920776, 36.8227532265912, 37.29204470528371, 38.655094538522064, 36.22604169397467, 36.768603091480045, 36.57513377612486, 35.669935165958194, 37.74560774187829, 36.876313233417314, 36.897294609068695, 37.744699695149066, 37.02687697079434, 37.55088041321525, 38.4194685327455, 37.789036347034184, 35.675727630820134, 38.71707629773135, 36.62077385548951, 35.7218273299056, 39.06886445133981, 35.74277912557426, 38.55103028983871, 37.26387556144864, 37.03479128933126, 35.94639914639546, 34.81063145023747, 37.24032955207884, 36.19083323650043, 37.0616887661275, 38.61733445368848, 35.62658733096311, 35.97656497174036, 36.98591347608606, 38.06692960186935, 37.80697766984659, 36.925043038878634, 36.57503097579012, 36.33952101023726, 36.25781911850192, 37.36839124072731, 36.5170857636486, 35.46240008104617, 36.54860515461888, 36.54759627699104, 36.315763151803424, 35.622530591605994, 37.87095205416159, 37.53453024067718, 37.27757337619507, 36.60950715426321, 36.90022076162611, 37.19419104646396, 38.296110372778266, 37.333107418297075, 36.14579171248221, 37.646291787430776, 37.229394516276614, 36.31272657154038, 38.442766686805065, 37.38718052656558, 38.04031366664072, 35.92159518889928, 37.08884657968332, 37.1088163801084, 37.935189045959156, 35.86244707788159, 36.595867945874545, 39.24880390433504, 38.269060691470244, 37.4289973693919, 38.0706642585136, 37.332240746553346, 36.773861369930785, 37.76668677332467, 35.77778217066089, 37.95780983454751, 37.84065507750671, 37.977388737979744, 35.823466666422846, 37.83397172859896, 34.897827688311345, 36.37750903434099, 37.33359061333867, 38.19748324839899, 36.88119240747175, 35.90025278215821, 35.12882235312117, 35.9745781075859, 37.763690402803434, 37.49189221040693, 35.716269159517005, 37.65040020345744, 36.04898625036686, 39.045155696388115, 36.91495154541398, 35.444264696393994, 37.922703809566, 38.00182746752369, 36.841491638054855, 35.93896250240334, 36.23210980258421, 37.90601452014432, 37.763041081545246, 38.11045690682496, 36.956965425094104, 37.08831936433477, 38.043452650841274, 36.90818962373682, 37.68546548721554, 35.78392374450292, 36.66579136924871, 38.29572526401705, 35.550772266806135, 37.951946317735135, 37.34573893439929, 35.42933438847124, 36.18913179541947, 34.574027587189626, 38.95246252162796, 34.487184747742425, 36.170494202480995, 37.027150364769525, 36.882149081506796, 37.317704949196845, 37.128039498322295, 36.155336204959546, 38.381955972136154, 37.86921693600857, 35.56543623713973, 36.04620351842453, 38.918748541019504, 37.19936752783635, 37.32981862521235, 36.51734612004179, 37.30596141998359, 38.31564796064117, 36.68836654250485, 37.05261630809583, 35.569170317446186, 38.50588332918249, 36.99529016635977, 35.189122444377716, 38.775665296116884, 36.98504141740091, 35.9380452301724, 36.729029401087864, 37.62690680204789, 38.79123468689964, 37.6373109611636, 36.95395970110429, 37.07437106706514, 36.01231723045213, 37.14209368933963, 36.72527682557128, 36.393683855020775, 36.68339299807869, 37.86144725932397, 36.45689841052433, 37.23984661097634, 39.67259095594186, 37.022268985912326, 38.42286529341121, 38.40137368953426, 36.61119877576035, 35.63211221551042, 36.308545294390356, 36.35250276938114, 37.0234792364057, 36.08964365766702, 39.24096484164356, 37.181447310649894, 37.305361879286025, 36.831535850846905, 36.97937237345656, 35.90675636579306, 37.645838788014025, 35.4567981489283, 35.63395394740078, 36.486325072393406, 37.805509432449185, 37.680287608367976, 37.683875373647005, 37.64780805527063, 36.83936583281821, 36.808376059487955, 37.72236711094261, 36.32214091690131, 35.76615350038372, 34.77975050203264, 37.03427958207978, 36.86218334634355, 37.425278680067905, 36.838656786348494, 35.26149811626243, 37.211152581351115, 36.929761561703394, 38.406329010114156, 37.67232248424959, 34.64980004740713, 36.36684324701071, 37.487049248551685, 36.673952738564225, 36.599289087393494, 36.378271013194265, 38.860234430326635, 36.166463391921475, 37.071643198252396, 36.29889307823573, 38.68258378408295, 36.16604163340145, 36.875025808917755, 38.12651979793058, 35.76932963050029, 35.536024530304154, 36.07455114016891, 37.198427822725975, 36.874543604679936, 36.35523488364423, 36.53409567089256, 36.05864760322049, 38.18776368086846, 37.133126759376324, 37.684877275306064, 36.81293412550145, 37.83544772741218, 35.53914242750509, 37.96597162275135, 36.4179847963968, 37.1902677104526, 38.33257633196044, 36.840085729767004, 35.771016191612965], \"y\": [587.9510539684005, 392.2049334443264, 487.54750486747207, 581.8523440352177, 599.4060920457634, 637.102447915074, 521.5721747578274, 549.9041461052942, 570.2004089636196, 427.1993848953282, 492.6060127179966, 522.3374046069357, 408.6403510726275, 573.4158673313865, 470.4527333009554, 461.7807421962299, 457.84769594494855, 407.70454754954415, 452.3156754800354, 605.061038804892, 534.7057438060227, 419.93877483917913, 436.51560572936256, 519.3409891307888, 700.9170916173961, 423.17999168059777, 619.8956398616367, 486.83893476506273, 529.537665336851, 554.7220838330761, 497.5866713004408, 447.6879065360587, 588.7126055095755, 491.07322367951963, 507.4418323396168, 521.8835731664783, 347.77692663187264, 490.73863214395465, 478.1703340540876, 537.8461952695957, 532.7517875818364, 501.87443028426947, 591.1971781805905, 547.2443434159983, 448.22982918655, 549.860590464497, 593.9150029682891, 563.6728733601083, 479.73194908594513, 416.35835357990084, 725.5848140556806, 442.667251738628, 384.62657156940537, 451.4574468676027, 522.40414125956, 483.67330801904563, 520.8987944502368, 453.16950235469744, 496.650708068581, 547.3651405940458, 616.8515229667128, 507.21256900067846, 613.5993233689068, 483.15972078451705, 540.2634004105403, 765.5184619388373, 553.6015346844503, 469.3108614953106, 408.6201878298378, 451.57568515949305, 444.96655165329264, 595.8228366992038, 418.1500810968496, 534.7771880994133, 578.2416050583772, 478.7193568742153, 444.2859074976437, 544.7798637193824, 488.78606109390563, 475.759067788328, 489.8124879964614, 462.8976361529081, 596.4301726172282, 338.31986264152215, 533.5149352552407, 536.7718993628412, 487.37930601702914, 473.7289665129948, 547.1259317471988, 505.11334353985785, 449.0703194428044, 611.0000251040717, 515.8288148548279, 439.07476674164496, 514.0889577465721, 543.340166256701, 521.1429518103512, 614.7153338263417, 507.39006178986654, 495.2994425473087, 518.0645579840107, 390.1032729724755, 420.73767324463716, 492.1050523891852, 410.0696110599829, 497.51368332936767, 494.55186108657256, 378.3309069068038, 570.451725912857, 549.0082269346927, 459.285123462352, 492.94505306595823, 424.7626355099111, 422.4267758765091, 642.1015787311585, 413.3717831104521, 479.23109291159307, 593.0772413447513, 506.5473070543517, 571.3074948754644, 576.311177371677, 576.8025473995871, 514.239520718957, 495.1759504494754, 514.3365582674006, 541.2265839893283, 516.8315566841785, 468.44573722740637, 548.2803201983364, 431.6177337614297, 552.9403454501056, 573.3062222574563, 452.62725499508304, 542.7115581025776, 407.8040306356823, 482.3535703213532, 529.2300901235094, 433.0487690958266, 476.1914133494556, 439.997879939927, 448.93329320767435, 472.9922466667984, 463.9235129903258, 350.05820016384513, 460.06127739124327, 505.77114032295646, 463.484995404266, 479.73193764530447, 424.18549428888633, 465.8893127108669, 426.7752159856604, 684.1634310159512, 555.8925953881737, 657.0199239376519, 595.8038188761143, 503.9783790525795, 586.1558701804727, 744.2218671047146, 512.8253581285203, 528.2238093680072, 468.9135013219844, 357.5914394150861, 536.4231045259343, 490.2065999848547, 550.0475805761635, 513.4505711860965, 497.8119300055205, 578.9862585804897, 506.5363931400864, 501.74923330839226, 421.9667941858674, 439.8912804768137, 666.125591725772, 298.76200786180766, 465.17662330529686, 373.88572369695015, 532.7174856761749, 554.9007830202702, 537.7731625414566, 501.100245232053, 517.1651355939779, 557.5292736134538, 493.71919297817595, 452.12262508578493, 577.2734549822936, 485.9231305248517, 425.74509203105276, 537.2150526997326, 524.6379646141048, 478.8853913201482, 612.3852298963608, 476.76672415476344, 505.11963752820367, 545.9454921414049, 434.0216997527185, 424.67528101321335, 352.55010816300035, 662.9610878058954, 560.5601606242603, 467.5019004269896, 504.87043239337237, 590.56271964715, 443.9656268098819, 392.4973991890214, 568.7175759305222, 712.3963268096637, 413.29599918102974, 562.0820453929382, 412.012931298847, 468.66846559912733, 496.55408163560713, 548.5185292758069, 536.1308968550213, 558.4272571753238, 357.86371863839173, 529.0566631985306, 387.3570727364218, 528.9336185650203, 420.91615953269286, 496.9334462555319, 519.372976801355, 591.4377355684502, 502.4097853029053, 604.3348400688553, 555.0683940545761, 256.67058229005585, 547.1109823629461, 461.9208768928978, 458.3769106506301, 436.28349814675136, 532.9352188376637, 512.5525343564016, 630.4227632299235, 463.74598112062944, 493.18021624931, 501.2091726816533, 501.9282648732441, 376.3369007569242, 421.3266312569514, 538.774933478023, 398.16346853365195, 571.4710341154247, 451.62861054019965, 490.6004425003995, 591.7810894256675, 409.0704720533178, 563.4460356732392, 647.6194557251927, 448.34042501104767, 518.7864830920807, 523.6339351357243, 393.8573709860865, 426.154547713103, 503.3878872879605, 482.60246732948264, 524.7976275698038, 574.6548433659394, 574.7472196620896, 660.4251842914138, 375.3984554102432, 640.1877400085722, 514.0098178487357, 376.49684071853693, 484.51980911055114, 614.7296376283243, 567.4750105270774, 554.0030934297989, 399.98387159812256, 479.17285149109694, 585.9318442972224, 540.9957391083377, 628.0478039330168, 582.4919237338106, 640.7861663983061, 446.41867337013565, 570.6300980875259, 423.3083340974698, 616.6602860166827, 530.3624688854229, 442.3631173838644, 511.9798599920658, 560.4437921717631, 475.2634237275485, 374.2696745439231, 463.5914180279406, 471.602884392892, 626.018672655394, 432.47206125141577, 356.6155678900057, 467.4278485003528, 503.21739311910665, 378.47356644790113, 584.2183134866807, 451.7278633175868, 557.6341089957289, 432.7207178399336, 506.42385996980016, 510.1598172791045, 587.5747994806404, 282.4712457199145, 473.94985742281614, 489.9080530975354, 541.9722037582585, 266.086340948469, 494.68715581028533, 689.7876041747194, 387.5347163057077, 441.89663151788625, 604.8413188212228, 302.18954780965197, 479.6148116731425, 506.132342437705, 319.9288698031936, 528.3092250312227, 610.1280331303979, 584.1058850493532, 466.4211988217437, 404.82452887268687, 564.7909690079206, 596.516697973153, 368.6547849470645, 542.4124767293989, 478.2621263968358, 473.360495571661, 559.1990479544187, 447.18764430541853, 505.2300682820706, 557.2526867470547, 422.36873660682664, 445.06218550892487, 442.06441375806565, 533.0400601788124, 424.2028270990325, 498.635598489176, 330.5944460341002, 443.4418600624623, 478.60091594433294, 440.0027475469415, 357.7831107453153, 476.139246872566, 501.12249150365636, 592.6884532021675, 486.0834255029927, 576.0252441251166, 442.7228915742714, 461.7909590614097, 488.38752578014504, 593.1564014822196, 392.8103449837972, 443.1972210287554, 535.4807751896418, 533.3965537868428, 532.1274491097012, 558.9481123879059, 508.771906741518, 403.7669020956173, 640.5840618984408, 461.6282783910862, 382.41610786547517, 561.874657668983, 444.5761441337301, 401.03313521910604, 384.3260571375157, 527.7829957560522, 482.14499687576796, 594.2744834186118, 502.0925279023197, 407.65717875932603, 708.9351848669818, 531.9615505451646, 521.2407802357949, 447.36902719933136, 385.152337987975, 430.5888825564849, 418.602742095224, 478.95140475788554, 483.79652206149285, 538.941974531203, 486.1637990666317, 385.0950070687634, 527.7837897574573, 547.1907493518986, 410.6029439492151, 583.9778019715427, 474.53232943988985, 414.9350606518193, 550.8133677324173, 458.78113168424994, 407.54216801343483, 581.3089328794999, 546.5566668627299, 503.1750851912004, 549.1315732872171, 482.8309858617017, 557.6082620533542, 484.87696493512857, 669.9871405017029, 547.7099885778624, 537.8252822957112, 408.2169017707518, 663.0748176067602, 506.37586675019753, 528.4193296952955, 632.1235881419657, 488.2702979651482, 508.7357409506604, 411.1869635742789, 409.0945261923378, 467.8009243667916, 512.1658663881581, 608.2718166151668, 589.0264897562791, 444.0538265727728, 493.1812613907186, 532.724805462904, 275.9184206503857, 511.03878605116114, 438.41774201146853, 475.7250679098812, 483.54319386538816, 663.8036932755083, 544.4092721605869, 630.1567281670505, 461.11224843060927, 491.9115050963458, 574.4156896079883, 530.7667186547619, 581.7987976770314, 556.2981411740467, 502.132789227254, 556.1863688687886, 475.07162989966173, 486.9470538397658, 434.1442020262987, 304.1355915788555, 571.2160048349454, 583.0796356620574, 445.74984123965226, 392.99225591403086, 565.9943634015267, 499.14015244905386, 510.5394216996283, 308.52774655803336, 561.5165319790891, 423.4705331738239, 513.1531118530668, 529.1945188649573, 314.4385182951061, 478.5842860083426, 444.5821649786528, 475.0154070877503, 436.7205558562188, 521.1953105318003, 478.18305971187965, 432.48116855701767, 438.30370784642975, 388.9405487921943, 534.7714849461672, 537.9157529213054, 407.8763782204976, 618.8459704239658, 502.77107456549606, 397.420584096457, 392.2852442462675, 689.2356997616951, 543.1326262891694, 577.7360248512277, 436.5807403475482, 553.9946735912697, 427.3565308022928, 424.7287739291025, 541.0498309594357, 469.38314617236114, 444.54554965110816, 492.55683370047706, 535.3216100850124, 408.9583359406166, 487.5554580579016, 487.6462317438417, 402.16712222372564, 551.0230017027826, 497.3895577588434, 494.6386097568927, 479.2474167840931, 462.65651893471335, 515.5024796636585, 576.4776071703129, 357.85798360521926, 597.7398788791847, 327.37795258965207, 510.4013884525048, 510.50147847479735, 403.8195198321978, 627.603318713015, 510.661792219672, 573.8474377162278, 529.0490041294304, 551.6201454762477, 456.46951006629797, 497.7786422156802]}],\n",
       "                        {\"legend\": {\"bgcolor\": \"#F5F6F9\", \"font\": {\"color\": \"#4D5663\"}}, \"paper_bgcolor\": \"#F5F6F9\", \"plot_bgcolor\": \"#F5F6F9\", \"template\": {\"data\": {\"bar\": [{\"error_x\": {\"color\": \"#2a3f5f\"}, \"error_y\": {\"color\": \"#2a3f5f\"}, \"marker\": {\"line\": {\"color\": \"#E5ECF6\", \"width\": 0.5}}, \"type\": \"bar\"}], \"barpolar\": [{\"marker\": {\"line\": {\"color\": \"#E5ECF6\", \"width\": 0.5}}, \"type\": \"barpolar\"}], \"carpet\": [{\"aaxis\": {\"endlinecolor\": \"#2a3f5f\", \"gridcolor\": \"white\", \"linecolor\": \"white\", \"minorgridcolor\": \"white\", \"startlinecolor\": \"#2a3f5f\"}, \"baxis\": {\"endlinecolor\": \"#2a3f5f\", \"gridcolor\": \"white\", \"linecolor\": \"white\", \"minorgridcolor\": \"white\", \"startlinecolor\": \"#2a3f5f\"}, \"type\": \"carpet\"}], \"choropleth\": [{\"colorbar\": {\"outlinewidth\": 0, \"ticks\": \"\"}, \"type\": \"choropleth\"}], \"contour\": [{\"colorbar\": {\"outlinewidth\": 0, \"ticks\": \"\"}, \"colorscale\": [[0.0, \"#0d0887\"], [0.1111111111111111, \"#46039f\"], [0.2222222222222222, \"#7201a8\"], [0.3333333333333333, \"#9c179e\"], [0.4444444444444444, \"#bd3786\"], [0.5555555555555556, \"#d8576b\"], [0.6666666666666666, \"#ed7953\"], [0.7777777777777778, \"#fb9f3a\"], [0.8888888888888888, \"#fdca26\"], [1.0, \"#f0f921\"]], \"type\": \"contour\"}], \"contourcarpet\": [{\"colorbar\": {\"outlinewidth\": 0, \"ticks\": \"\"}, \"type\": \"contourcarpet\"}], \"heatmap\": [{\"colorbar\": {\"outlinewidth\": 0, \"ticks\": \"\"}, \"colorscale\": [[0.0, \"#0d0887\"], [0.1111111111111111, \"#46039f\"], [0.2222222222222222, \"#7201a8\"], [0.3333333333333333, \"#9c179e\"], [0.4444444444444444, \"#bd3786\"], [0.5555555555555556, \"#d8576b\"], [0.6666666666666666, \"#ed7953\"], [0.7777777777777778, \"#fb9f3a\"], [0.8888888888888888, \"#fdca26\"], [1.0, \"#f0f921\"]], \"type\": \"heatmap\"}], \"heatmapgl\": [{\"colorbar\": {\"outlinewidth\": 0, \"ticks\": \"\"}, \"colorscale\": [[0.0, \"#0d0887\"], [0.1111111111111111, \"#46039f\"], [0.2222222222222222, \"#7201a8\"], [0.3333333333333333, \"#9c179e\"], [0.4444444444444444, \"#bd3786\"], [0.5555555555555556, \"#d8576b\"], [0.6666666666666666, \"#ed7953\"], [0.7777777777777778, \"#fb9f3a\"], [0.8888888888888888, \"#fdca26\"], [1.0, \"#f0f921\"]], \"type\": \"heatmapgl\"}], \"histogram\": [{\"marker\": {\"colorbar\": {\"outlinewidth\": 0, \"ticks\": \"\"}}, \"type\": \"histogram\"}], \"histogram2d\": [{\"colorbar\": {\"outlinewidth\": 0, \"ticks\": \"\"}, \"colorscale\": [[0.0, \"#0d0887\"], [0.1111111111111111, \"#46039f\"], [0.2222222222222222, \"#7201a8\"], [0.3333333333333333, \"#9c179e\"], [0.4444444444444444, \"#bd3786\"], [0.5555555555555556, \"#d8576b\"], [0.6666666666666666, \"#ed7953\"], [0.7777777777777778, \"#fb9f3a\"], [0.8888888888888888, \"#fdca26\"], [1.0, \"#f0f921\"]], \"type\": \"histogram2d\"}], \"histogram2dcontour\": [{\"colorbar\": {\"outlinewidth\": 0, \"ticks\": \"\"}, \"colorscale\": [[0.0, \"#0d0887\"], [0.1111111111111111, \"#46039f\"], [0.2222222222222222, \"#7201a8\"], [0.3333333333333333, \"#9c179e\"], [0.4444444444444444, \"#bd3786\"], [0.5555555555555556, \"#d8576b\"], [0.6666666666666666, \"#ed7953\"], [0.7777777777777778, \"#fb9f3a\"], [0.8888888888888888, \"#fdca26\"], [1.0, \"#f0f921\"]], \"type\": \"histogram2dcontour\"}], \"mesh3d\": [{\"colorbar\": {\"outlinewidth\": 0, \"ticks\": \"\"}, \"type\": \"mesh3d\"}], \"parcoords\": [{\"line\": {\"colorbar\": {\"outlinewidth\": 0, \"ticks\": \"\"}}, \"type\": \"parcoords\"}], \"pie\": [{\"automargin\": true, \"type\": \"pie\"}], \"scatter\": [{\"marker\": {\"colorbar\": {\"outlinewidth\": 0, \"ticks\": \"\"}}, \"type\": \"scatter\"}], \"scatter3d\": [{\"line\": {\"colorbar\": {\"outlinewidth\": 0, \"ticks\": \"\"}}, \"marker\": {\"colorbar\": {\"outlinewidth\": 0, \"ticks\": \"\"}}, \"type\": \"scatter3d\"}], \"scattercarpet\": [{\"marker\": {\"colorbar\": {\"outlinewidth\": 0, \"ticks\": \"\"}}, \"type\": \"scattercarpet\"}], \"scattergeo\": [{\"marker\": {\"colorbar\": {\"outlinewidth\": 0, \"ticks\": \"\"}}, \"type\": \"scattergeo\"}], \"scattergl\": [{\"marker\": {\"colorbar\": {\"outlinewidth\": 0, \"ticks\": \"\"}}, \"type\": \"scattergl\"}], \"scattermapbox\": [{\"marker\": {\"colorbar\": {\"outlinewidth\": 0, \"ticks\": \"\"}}, \"type\": \"scattermapbox\"}], \"scatterpolar\": [{\"marker\": {\"colorbar\": {\"outlinewidth\": 0, \"ticks\": \"\"}}, \"type\": \"scatterpolar\"}], \"scatterpolargl\": [{\"marker\": {\"colorbar\": {\"outlinewidth\": 0, \"ticks\": \"\"}}, \"type\": \"scatterpolargl\"}], \"scatterternary\": [{\"marker\": {\"colorbar\": {\"outlinewidth\": 0, \"ticks\": \"\"}}, \"type\": \"scatterternary\"}], \"surface\": [{\"colorbar\": {\"outlinewidth\": 0, \"ticks\": \"\"}, \"colorscale\": [[0.0, \"#0d0887\"], [0.1111111111111111, \"#46039f\"], [0.2222222222222222, \"#7201a8\"], [0.3333333333333333, \"#9c179e\"], [0.4444444444444444, \"#bd3786\"], [0.5555555555555556, \"#d8576b\"], [0.6666666666666666, \"#ed7953\"], [0.7777777777777778, \"#fb9f3a\"], [0.8888888888888888, \"#fdca26\"], [1.0, \"#f0f921\"]], \"type\": \"surface\"}], \"table\": [{\"cells\": {\"fill\": {\"color\": \"#EBF0F8\"}, \"line\": {\"color\": \"white\"}}, \"header\": {\"fill\": {\"color\": \"#C8D4E3\"}, \"line\": {\"color\": \"white\"}}, \"type\": \"table\"}]}, \"layout\": {\"annotationdefaults\": {\"arrowcolor\": \"#2a3f5f\", \"arrowhead\": 0, \"arrowwidth\": 1}, \"coloraxis\": {\"colorbar\": {\"outlinewidth\": 0, \"ticks\": \"\"}}, \"colorscale\": {\"diverging\": [[0, \"#8e0152\"], [0.1, \"#c51b7d\"], [0.2, \"#de77ae\"], [0.3, \"#f1b6da\"], [0.4, \"#fde0ef\"], [0.5, \"#f7f7f7\"], [0.6, \"#e6f5d0\"], [0.7, \"#b8e186\"], [0.8, \"#7fbc41\"], [0.9, \"#4d9221\"], [1, \"#276419\"]], \"sequential\": [[0.0, \"#0d0887\"], [0.1111111111111111, \"#46039f\"], [0.2222222222222222, \"#7201a8\"], [0.3333333333333333, \"#9c179e\"], [0.4444444444444444, \"#bd3786\"], [0.5555555555555556, \"#d8576b\"], [0.6666666666666666, \"#ed7953\"], [0.7777777777777778, \"#fb9f3a\"], [0.8888888888888888, \"#fdca26\"], [1.0, \"#f0f921\"]], \"sequentialminus\": [[0.0, \"#0d0887\"], [0.1111111111111111, \"#46039f\"], [0.2222222222222222, \"#7201a8\"], [0.3333333333333333, \"#9c179e\"], [0.4444444444444444, \"#bd3786\"], [0.5555555555555556, \"#d8576b\"], [0.6666666666666666, \"#ed7953\"], [0.7777777777777778, \"#fb9f3a\"], [0.8888888888888888, \"#fdca26\"], [1.0, \"#f0f921\"]]}, \"colorway\": [\"#636efa\", \"#EF553B\", \"#00cc96\", \"#ab63fa\", \"#FFA15A\", \"#19d3f3\", \"#FF6692\", \"#B6E880\", \"#FF97FF\", \"#FECB52\"], \"font\": {\"color\": \"#2a3f5f\"}, \"geo\": {\"bgcolor\": \"white\", \"lakecolor\": \"white\", \"landcolor\": \"#E5ECF6\", \"showlakes\": true, \"showland\": true, \"subunitcolor\": \"white\"}, \"hoverlabel\": {\"align\": \"left\"}, \"hovermode\": \"closest\", \"mapbox\": {\"style\": \"light\"}, \"paper_bgcolor\": \"white\", \"plot_bgcolor\": \"#E5ECF6\", \"polar\": {\"angularaxis\": {\"gridcolor\": \"white\", \"linecolor\": \"white\", \"ticks\": \"\"}, \"bgcolor\": \"#E5ECF6\", \"radialaxis\": {\"gridcolor\": \"white\", \"linecolor\": \"white\", \"ticks\": \"\"}}, \"scene\": {\"xaxis\": {\"backgroundcolor\": \"#E5ECF6\", \"gridcolor\": \"white\", \"gridwidth\": 2, \"linecolor\": \"white\", \"showbackground\": true, \"ticks\": \"\", \"zerolinecolor\": \"white\"}, \"yaxis\": {\"backgroundcolor\": \"#E5ECF6\", \"gridcolor\": \"white\", \"gridwidth\": 2, \"linecolor\": \"white\", \"showbackground\": true, \"ticks\": \"\", \"zerolinecolor\": \"white\"}, \"zaxis\": {\"backgroundcolor\": \"#E5ECF6\", \"gridcolor\": \"white\", \"gridwidth\": 2, \"linecolor\": \"white\", \"showbackground\": true, \"ticks\": \"\", \"zerolinecolor\": \"white\"}}, \"shapedefaults\": {\"line\": {\"color\": \"#2a3f5f\"}}, \"ternary\": {\"aaxis\": {\"gridcolor\": \"white\", \"linecolor\": \"white\", \"ticks\": \"\"}, \"baxis\": {\"gridcolor\": \"white\", \"linecolor\": \"white\", \"ticks\": \"\"}, \"bgcolor\": \"#E5ECF6\", \"caxis\": {\"gridcolor\": \"white\", \"linecolor\": \"white\", \"ticks\": \"\"}}, \"title\": {\"x\": 0.05}, \"xaxis\": {\"automargin\": true, \"gridcolor\": \"white\", \"linecolor\": \"white\", \"ticks\": \"\", \"title\": {\"standoff\": 15}, \"zerolinecolor\": \"white\", \"zerolinewidth\": 2}, \"yaxis\": {\"automargin\": true, \"gridcolor\": \"white\", \"linecolor\": \"white\", \"ticks\": \"\", \"title\": {\"standoff\": 15}, \"zerolinecolor\": \"white\", \"zerolinewidth\": 2}}}, \"title\": {\"font\": {\"color\": \"#4D5663\"}}, \"xaxis\": {\"gridcolor\": \"#E1E5ED\", \"showgrid\": true, \"tickfont\": {\"color\": \"#4D5663\"}, \"title\": {\"font\": {\"color\": \"#4D5663\"}, \"text\": \"\"}, \"zerolinecolor\": \"#E1E5ED\"}, \"yaxis\": {\"gridcolor\": \"#E1E5ED\", \"showgrid\": true, \"tickfont\": {\"color\": \"#4D5663\"}, \"title\": {\"font\": {\"color\": \"#4D5663\"}, \"text\": \"\"}, \"zerolinecolor\": \"#E1E5ED\"}},\n",
       "                        {\"showLink\": true, \"linkText\": \"Export to plot.ly\", \"plotlyServerURL\": \"https://plot.ly\", \"responsive\": true}\n",
       "                    ).then(function(){\n",
       "                            \n",
       "var gd = document.getElementById('20161c33-fa02-40b5-82dc-1ef6cab41017');\n",
       "var x = new MutationObserver(function (mutations, observer) {{\n",
       "        var display = window.getComputedStyle(gd).display;\n",
       "        if (!display || display === 'none') {{\n",
       "            console.log([gd, 'removed!']);\n",
       "            Plotly.purge(gd);\n",
       "            observer.disconnect();\n",
       "        }}\n",
       "}});\n",
       "\n",
       "// Listen for the removal of the full notebook cells\n",
       "var notebookContainer = gd.closest('#notebook-container');\n",
       "if (notebookContainer) {{\n",
       "    x.observe(notebookContainer, {childList: true});\n",
       "}}\n",
       "\n",
       "// Listen for the clearing of the current output cell\n",
       "var outputEl = gd.closest('.output');\n",
       "if (outputEl) {{\n",
       "    x.observe(outputEl, {childList: true});\n",
       "}}\n",
       "\n",
       "                        })\n",
       "                };\n",
       "                });\n",
       "            </script>\n",
       "        </div>"
      ]
     },
     "metadata": {},
     "output_type": "display_data"
    }
   ],
   "source": [
    "df.iplot(x = 'Time on Website', y = 'Yearly Amount Spent', kind = 'scatter', mode = 'markers')"
   ]
  },
  {
   "cell_type": "markdown",
   "metadata": {},
   "source": [
    "### Linear Regression Implementation"
   ]
  },
  {
   "cell_type": "markdown",
   "metadata": {},
   "source": [
    "We now want to train a machine learning model in order to produce predictions based on a given data. We'll use linear regression. We'll use money spent as a dependent variable, and the rest as independent variables."
   ]
  },
  {
   "cell_type": "code",
   "execution_count": 12,
   "metadata": {},
   "outputs": [],
   "source": [
    "X = df.iloc[:,:-1].values\n",
    "y = df.iloc[:,-1].values"
   ]
  },
  {
   "cell_type": "code",
   "execution_count": 13,
   "metadata": {},
   "outputs": [],
   "source": [
    "from sklearn.model_selection import train_test_split\n",
    "X_train, X_test, y_train, y_test = train_test_split(X, y, test_size = 0.3)"
   ]
  },
  {
   "cell_type": "code",
   "execution_count": 14,
   "metadata": {},
   "outputs": [
    {
     "data": {
      "text/plain": [
       "LinearRegression(copy_X=True, fit_intercept=True, n_jobs=None, normalize=False)"
      ]
     },
     "execution_count": 14,
     "metadata": {},
     "output_type": "execute_result"
    }
   ],
   "source": [
    "from sklearn.linear_model import LinearRegression\n",
    "regressor = LinearRegression()\n",
    "regressor.fit(X_train, y_train)"
   ]
  },
  {
   "cell_type": "markdown",
   "metadata": {},
   "source": [
    "We check how well our model performs on a test set using accuracy score; we also preform cross validetion to make sure that our model performs well."
   ]
  },
  {
   "cell_type": "code",
   "execution_count": 15,
   "metadata": {},
   "outputs": [
    {
     "data": {
      "text/plain": [
       "0.9810343753750352"
      ]
     },
     "execution_count": 15,
     "metadata": {},
     "output_type": "execute_result"
    }
   ],
   "source": [
    "regressor.score(X_test,y_test)"
   ]
  },
  {
   "cell_type": "code",
   "execution_count": 16,
   "metadata": {},
   "outputs": [
    {
     "name": "stdout",
     "output_type": "stream",
     "text": [
      "0.9825492707486994\n"
     ]
    }
   ],
   "source": [
    "from sklearn.model_selection import cross_val_score\n",
    "cv_score = cross_val_score(estimator = regressor,\n",
    "                           X = X,y = y, cv = 10)\n",
    "print(np.mean(cv_score))"
   ]
  },
  {
   "cell_type": "markdown",
   "metadata": {},
   "source": [
    "We can extract the coefficients of our linear regression model, to see how our independent variables influence the money spent."
   ]
  },
  {
   "cell_type": "code",
   "execution_count": 17,
   "metadata": {},
   "outputs": [
    {
     "data": {
      "text/html": [
       "<div>\n",
       "<style scoped>\n",
       "    .dataframe tbody tr th:only-of-type {\n",
       "        vertical-align: middle;\n",
       "    }\n",
       "\n",
       "    .dataframe tbody tr th {\n",
       "        vertical-align: top;\n",
       "    }\n",
       "\n",
       "    .dataframe thead th {\n",
       "        text-align: right;\n",
       "    }\n",
       "</style>\n",
       "<table border=\"1\" class=\"dataframe\">\n",
       "  <thead>\n",
       "    <tr style=\"text-align: right;\">\n",
       "      <th></th>\n",
       "      <th>Coeff.</th>\n",
       "    </tr>\n",
       "  </thead>\n",
       "  <tbody>\n",
       "    <tr>\n",
       "      <th>Avg. Session Length</th>\n",
       "      <td>25.074145</td>\n",
       "    </tr>\n",
       "    <tr>\n",
       "      <th>Time on App</th>\n",
       "      <td>38.936841</td>\n",
       "    </tr>\n",
       "    <tr>\n",
       "      <th>Time on Website</th>\n",
       "      <td>0.470579</td>\n",
       "    </tr>\n",
       "    <tr>\n",
       "      <th>Length of Membership</th>\n",
       "      <td>61.573302</td>\n",
       "    </tr>\n",
       "  </tbody>\n",
       "</table>\n",
       "</div>"
      ],
      "text/plain": [
       "                         Coeff.\n",
       "Avg. Session Length   25.074145\n",
       "Time on App           38.936841\n",
       "Time on Website        0.470579\n",
       "Length of Membership  61.573302"
      ]
     },
     "execution_count": 17,
     "metadata": {},
     "output_type": "execute_result"
    }
   ],
   "source": [
    "coeff = pd.DataFrame(regressor.coef_, df.columns[:-1], columns = ['Coeff.'])\n",
    "coeff"
   ]
  },
  {
   "cell_type": "markdown",
   "metadata": {},
   "source": [
    "We can now build a function which will predict new values given our custom data."
   ]
  },
  {
   "cell_type": "code",
   "execution_count": 18,
   "metadata": {},
   "outputs": [],
   "source": [
    "def prediction():\n",
    "    \n",
    "    avg_session = float(input('Insert average session time'))\n",
    "    app_time = float(input('Insert app time'))\n",
    "    web_time = float(input('Insert web time'))\n",
    "    membership = float(input('Insert membership time'))\n",
    "    new_val = [avg_session,app_time,web_time,membership]\n",
    "    new_val = np.array(new_val).reshape(1,-1)\n",
    "    \n",
    "    print(regressor.predict(new_val))"
   ]
  },
  {
   "cell_type": "code",
   "execution_count": 19,
   "metadata": {},
   "outputs": [
    {
     "name": "stdout",
     "output_type": "stream",
     "text": [
      "Insert average session time34\n",
      "Insert app time14\n",
      "Insert web time38\n",
      "Insert membership time5\n",
      "[689.36131244]\n"
     ]
    }
   ],
   "source": [
    "prediction()"
   ]
  },
  {
   "cell_type": "markdown",
   "metadata": {},
   "source": [
    "### Backward Elimination"
   ]
  },
  {
   "cell_type": "markdown",
   "metadata": {},
   "source": [
    "We can also use backward elimination to predict the money spent, while omitting variables that are statistically not significant."
   ]
  },
  {
   "cell_type": "code",
   "execution_count": 20,
   "metadata": {},
   "outputs": [],
   "source": [
    "X = np.hstack((np.ones((500,1)),X))"
   ]
  },
  {
   "cell_type": "code",
   "execution_count": 21,
   "metadata": {},
   "outputs": [],
   "source": [
    "X_opt = X[: , [0,1,2,3,4]]"
   ]
  },
  {
   "cell_type": "code",
   "execution_count": 22,
   "metadata": {},
   "outputs": [],
   "source": [
    "import statsmodels.regression.linear_model as stat\n",
    "regressor_OLS = stat.OLS(endog = y, exog = X_opt).fit()"
   ]
  },
  {
   "cell_type": "code",
   "execution_count": 23,
   "metadata": {},
   "outputs": [
    {
     "data": {
      "text/html": [
       "<table class=\"simpletable\">\n",
       "<caption>OLS Regression Results</caption>\n",
       "<tr>\n",
       "  <th>Dep. Variable:</th>            <td>y</td>        <th>  R-squared:         </th> <td>   0.984</td>\n",
       "</tr>\n",
       "<tr>\n",
       "  <th>Model:</th>                   <td>OLS</td>       <th>  Adj. R-squared:    </th> <td>   0.984</td>\n",
       "</tr>\n",
       "<tr>\n",
       "  <th>Method:</th>             <td>Least Squares</td>  <th>  F-statistic:       </th> <td>   7766.</td>\n",
       "</tr>\n",
       "<tr>\n",
       "  <th>Date:</th>             <td>Thu, 13 Feb 2020</td> <th>  Prob (F-statistic):</th>  <td>  0.00</td> \n",
       "</tr>\n",
       "<tr>\n",
       "  <th>Time:</th>                 <td>18:46:39</td>     <th>  Log-Likelihood:    </th> <td> -1856.9</td>\n",
       "</tr>\n",
       "<tr>\n",
       "  <th>No. Observations:</th>      <td>   500</td>      <th>  AIC:               </th> <td>   3724.</td>\n",
       "</tr>\n",
       "<tr>\n",
       "  <th>Df Residuals:</th>          <td>   495</td>      <th>  BIC:               </th> <td>   3745.</td>\n",
       "</tr>\n",
       "<tr>\n",
       "  <th>Df Model:</th>              <td>     4</td>      <th>                     </th>     <td> </td>   \n",
       "</tr>\n",
       "<tr>\n",
       "  <th>Covariance Type:</th>      <td>nonrobust</td>    <th>                     </th>     <td> </td>   \n",
       "</tr>\n",
       "</table>\n",
       "<table class=\"simpletable\">\n",
       "<tr>\n",
       "    <td></td>       <th>coef</th>     <th>std err</th>      <th>t</th>      <th>P>|t|</th>  <th>[0.025</th>    <th>0.975]</th>  \n",
       "</tr>\n",
       "<tr>\n",
       "  <th>const</th> <td>-1051.5943</td> <td>   22.993</td> <td>  -45.736</td> <td> 0.000</td> <td>-1096.769</td> <td>-1006.419</td>\n",
       "</tr>\n",
       "<tr>\n",
       "  <th>x1</th>    <td>   25.7343</td> <td>    0.451</td> <td>   57.057</td> <td> 0.000</td> <td>   24.848</td> <td>   26.620</td>\n",
       "</tr>\n",
       "<tr>\n",
       "  <th>x2</th>    <td>   38.7092</td> <td>    0.451</td> <td>   85.828</td> <td> 0.000</td> <td>   37.823</td> <td>   39.595</td>\n",
       "</tr>\n",
       "<tr>\n",
       "  <th>x3</th>    <td>    0.4367</td> <td>    0.444</td> <td>    0.983</td> <td> 0.326</td> <td>   -0.436</td> <td>    1.309</td>\n",
       "</tr>\n",
       "<tr>\n",
       "  <th>x4</th>    <td>   61.5773</td> <td>    0.448</td> <td>  137.346</td> <td> 0.000</td> <td>   60.696</td> <td>   62.458</td>\n",
       "</tr>\n",
       "</table>\n",
       "<table class=\"simpletable\">\n",
       "<tr>\n",
       "  <th>Omnibus:</th>       <td> 0.337</td> <th>  Durbin-Watson:     </th> <td>   1.887</td>\n",
       "</tr>\n",
       "<tr>\n",
       "  <th>Prob(Omnibus):</th> <td> 0.845</td> <th>  Jarque-Bera (JB):  </th> <td>   0.198</td>\n",
       "</tr>\n",
       "<tr>\n",
       "  <th>Skew:</th>          <td>-0.026</td> <th>  Prob(JB):          </th> <td>   0.906</td>\n",
       "</tr>\n",
       "<tr>\n",
       "  <th>Kurtosis:</th>      <td> 3.083</td> <th>  Cond. No.          </th> <td>2.64e+03</td>\n",
       "</tr>\n",
       "</table><br/><br/>Warnings:<br/>[1] Standard Errors assume that the covariance matrix of the errors is correctly specified.<br/>[2] The condition number is large, 2.64e+03. This might indicate that there are<br/>strong multicollinearity or other numerical problems."
      ],
      "text/plain": [
       "<class 'statsmodels.iolib.summary.Summary'>\n",
       "\"\"\"\n",
       "                            OLS Regression Results                            \n",
       "==============================================================================\n",
       "Dep. Variable:                      y   R-squared:                       0.984\n",
       "Model:                            OLS   Adj. R-squared:                  0.984\n",
       "Method:                 Least Squares   F-statistic:                     7766.\n",
       "Date:                Thu, 13 Feb 2020   Prob (F-statistic):               0.00\n",
       "Time:                        18:46:39   Log-Likelihood:                -1856.9\n",
       "No. Observations:                 500   AIC:                             3724.\n",
       "Df Residuals:                     495   BIC:                             3745.\n",
       "Df Model:                           4                                         \n",
       "Covariance Type:            nonrobust                                         \n",
       "==============================================================================\n",
       "                 coef    std err          t      P>|t|      [0.025      0.975]\n",
       "------------------------------------------------------------------------------\n",
       "const      -1051.5943     22.993    -45.736      0.000   -1096.769   -1006.419\n",
       "x1            25.7343      0.451     57.057      0.000      24.848      26.620\n",
       "x2            38.7092      0.451     85.828      0.000      37.823      39.595\n",
       "x3             0.4367      0.444      0.983      0.326      -0.436       1.309\n",
       "x4            61.5773      0.448    137.346      0.000      60.696      62.458\n",
       "==============================================================================\n",
       "Omnibus:                        0.337   Durbin-Watson:                   1.887\n",
       "Prob(Omnibus):                  0.845   Jarque-Bera (JB):                0.198\n",
       "Skew:                          -0.026   Prob(JB):                        0.906\n",
       "Kurtosis:                       3.083   Cond. No.                     2.64e+03\n",
       "==============================================================================\n",
       "\n",
       "Warnings:\n",
       "[1] Standard Errors assume that the covariance matrix of the errors is correctly specified.\n",
       "[2] The condition number is large, 2.64e+03. This might indicate that there are\n",
       "strong multicollinearity or other numerical problems.\n",
       "\"\"\""
      ]
     },
     "execution_count": 23,
     "metadata": {},
     "output_type": "execute_result"
    }
   ],
   "source": [
    "regressor_OLS.summary()"
   ]
  },
  {
   "cell_type": "markdown",
   "metadata": {},
   "source": [
    "From the p-values column, we see that Time on Website variable is not statistically significant, so we can omit it."
   ]
  },
  {
   "cell_type": "code",
   "execution_count": 24,
   "metadata": {},
   "outputs": [
    {
     "data": {
      "text/html": [
       "<table class=\"simpletable\">\n",
       "<caption>OLS Regression Results</caption>\n",
       "<tr>\n",
       "  <th>Dep. Variable:</th>            <td>y</td>        <th>  R-squared:         </th> <td>   0.984</td> \n",
       "</tr>\n",
       "<tr>\n",
       "  <th>Model:</th>                   <td>OLS</td>       <th>  Adj. R-squared:    </th> <td>   0.984</td> \n",
       "</tr>\n",
       "<tr>\n",
       "  <th>Method:</th>             <td>Least Squares</td>  <th>  F-statistic:       </th> <td>1.036e+04</td>\n",
       "</tr>\n",
       "<tr>\n",
       "  <th>Date:</th>             <td>Thu, 13 Feb 2020</td> <th>  Prob (F-statistic):</th>  <td>  0.00</td>  \n",
       "</tr>\n",
       "<tr>\n",
       "  <th>Time:</th>                 <td>18:46:49</td>     <th>  Log-Likelihood:    </th> <td> -1857.4</td> \n",
       "</tr>\n",
       "<tr>\n",
       "  <th>No. Observations:</th>      <td>   500</td>      <th>  AIC:               </th> <td>   3723.</td> \n",
       "</tr>\n",
       "<tr>\n",
       "  <th>Df Residuals:</th>          <td>   496</td>      <th>  BIC:               </th> <td>   3740.</td> \n",
       "</tr>\n",
       "<tr>\n",
       "  <th>Df Model:</th>              <td>     3</td>      <th>                     </th>     <td> </td>    \n",
       "</tr>\n",
       "<tr>\n",
       "  <th>Covariance Type:</th>      <td>nonrobust</td>    <th>                     </th>     <td> </td>    \n",
       "</tr>\n",
       "</table>\n",
       "<table class=\"simpletable\">\n",
       "<tr>\n",
       "    <td></td>       <th>coef</th>     <th>std err</th>      <th>t</th>      <th>P>|t|</th>  <th>[0.025</th>    <th>0.975]</th>  \n",
       "</tr>\n",
       "<tr>\n",
       "  <th>const</th> <td>-1035.3396</td> <td>   15.983</td> <td>  -64.778</td> <td> 0.000</td> <td>-1066.742</td> <td>-1003.937</td>\n",
       "</tr>\n",
       "<tr>\n",
       "  <th>x1</th>    <td>   25.7210</td> <td>    0.451</td> <td>   57.055</td> <td> 0.000</td> <td>   24.835</td> <td>   26.607</td>\n",
       "</tr>\n",
       "<tr>\n",
       "  <th>x2</th>    <td>   38.7460</td> <td>    0.449</td> <td>   86.210</td> <td> 0.000</td> <td>   37.863</td> <td>   39.629</td>\n",
       "</tr>\n",
       "<tr>\n",
       "  <th>x3</th>    <td>   61.5560</td> <td>    0.448</td> <td>  137.464</td> <td> 0.000</td> <td>   60.676</td> <td>   62.436</td>\n",
       "</tr>\n",
       "</table>\n",
       "<table class=\"simpletable\">\n",
       "<tr>\n",
       "  <th>Omnibus:</th>       <td> 0.248</td> <th>  Durbin-Watson:     </th> <td>   1.888</td>\n",
       "</tr>\n",
       "<tr>\n",
       "  <th>Prob(Omnibus):</th> <td> 0.883</td> <th>  Jarque-Bera (JB):  </th> <td>   0.136</td>\n",
       "</tr>\n",
       "<tr>\n",
       "  <th>Skew:</th>          <td>-0.027</td> <th>  Prob(JB):          </th> <td>   0.934</td>\n",
       "</tr>\n",
       "<tr>\n",
       "  <th>Kurtosis:</th>      <td> 3.060</td> <th>  Cond. No.          </th> <td>1.27e+03</td>\n",
       "</tr>\n",
       "</table><br/><br/>Warnings:<br/>[1] Standard Errors assume that the covariance matrix of the errors is correctly specified.<br/>[2] The condition number is large, 1.27e+03. This might indicate that there are<br/>strong multicollinearity or other numerical problems."
      ],
      "text/plain": [
       "<class 'statsmodels.iolib.summary.Summary'>\n",
       "\"\"\"\n",
       "                            OLS Regression Results                            \n",
       "==============================================================================\n",
       "Dep. Variable:                      y   R-squared:                       0.984\n",
       "Model:                            OLS   Adj. R-squared:                  0.984\n",
       "Method:                 Least Squares   F-statistic:                 1.036e+04\n",
       "Date:                Thu, 13 Feb 2020   Prob (F-statistic):               0.00\n",
       "Time:                        18:46:49   Log-Likelihood:                -1857.4\n",
       "No. Observations:                 500   AIC:                             3723.\n",
       "Df Residuals:                     496   BIC:                             3740.\n",
       "Df Model:                           3                                         \n",
       "Covariance Type:            nonrobust                                         \n",
       "==============================================================================\n",
       "                 coef    std err          t      P>|t|      [0.025      0.975]\n",
       "------------------------------------------------------------------------------\n",
       "const      -1035.3396     15.983    -64.778      0.000   -1066.742   -1003.937\n",
       "x1            25.7210      0.451     57.055      0.000      24.835      26.607\n",
       "x2            38.7460      0.449     86.210      0.000      37.863      39.629\n",
       "x3            61.5560      0.448    137.464      0.000      60.676      62.436\n",
       "==============================================================================\n",
       "Omnibus:                        0.248   Durbin-Watson:                   1.888\n",
       "Prob(Omnibus):                  0.883   Jarque-Bera (JB):                0.136\n",
       "Skew:                          -0.027   Prob(JB):                        0.934\n",
       "Kurtosis:                       3.060   Cond. No.                     1.27e+03\n",
       "==============================================================================\n",
       "\n",
       "Warnings:\n",
       "[1] Standard Errors assume that the covariance matrix of the errors is correctly specified.\n",
       "[2] The condition number is large, 1.27e+03. This might indicate that there are\n",
       "strong multicollinearity or other numerical problems.\n",
       "\"\"\""
      ]
     },
     "execution_count": 24,
     "metadata": {},
     "output_type": "execute_result"
    }
   ],
   "source": [
    "X_opt = X[:,[0,1,2,4]]\n",
    "regressor_OLS = stat.OLS(endog = y, exog = X_opt).fit()\n",
    "regressor_OLS.summary()"
   ]
  },
  {
   "cell_type": "markdown",
   "metadata": {},
   "source": [
    "All the remaining variables are statistically significant. We can now build a linear regressor that predicts the money spent, based on relevant predictors."
   ]
  },
  {
   "cell_type": "code",
   "execution_count": 25,
   "metadata": {},
   "outputs": [],
   "source": [
    "def prediction_OLS():\n",
    "    \n",
    "    avg_session = float(input('Insert average session time'))\n",
    "    app_time = float(input('Insert app time'))\n",
    "    membership = float(input('Insert membership time'))\n",
    "    new_val = [1,avg_session,app_time,membership]\n",
    "\n",
    "    \n",
    "    print(regressor_OLS.predict(new_val))"
   ]
  },
  {
   "cell_type": "code",
   "execution_count": 26,
   "metadata": {},
   "outputs": [
    {
     "name": "stdout",
     "output_type": "stream",
     "text": [
      "Insert average session time34\n",
      "Insert app time14\n",
      "Insert membership time5\n",
      "[689.39943432]\n"
     ]
    }
   ],
   "source": [
    "prediction_OLS()"
   ]
  },
  {
   "cell_type": "markdown",
   "metadata": {},
   "source": [
    "### Conclusions\n",
    "\n",
    "Comparing the results from both models, we can see that time spent on web won't significantly influence the money spent, so we can focus more on app developement and marketing. "
   ]
  },
  {
   "cell_type": "code",
   "execution_count": null,
   "metadata": {},
   "outputs": [],
   "source": []
  }
 ],
 "metadata": {
  "kernelspec": {
   "display_name": "Python 3",
   "language": "python",
   "name": "python3"
  },
  "language_info": {
   "codemirror_mode": {
    "name": "ipython",
    "version": 3
   },
   "file_extension": ".py",
   "mimetype": "text/x-python",
   "name": "python",
   "nbconvert_exporter": "python",
   "pygments_lexer": "ipython3",
   "version": "3.6.8"
  }
 },
 "nbformat": 4,
 "nbformat_minor": 4
}
