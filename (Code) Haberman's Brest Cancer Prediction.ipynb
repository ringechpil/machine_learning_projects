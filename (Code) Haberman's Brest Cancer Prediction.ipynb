{
 "cells": [
  {
   "cell_type": "markdown",
   "metadata": {},
   "source": [
    "### Problem Description\n",
    "\n",
    "We are provided with a Haberman's breast cancer survival dataset. The data contains information about patients who underwent a brest cancer operation from 1958 to 1970. Each entry contains info abour patien's age, year of operation, number of lymph nodes present and survival status.\n",
    "\n",
    "Our goal is to make a predictive machine learning model which will be able to as accurately possible predict the survival status given the patien's data. "
   ]
  },
  {
   "cell_type": "markdown",
   "metadata": {},
   "source": [
    "### The Approach \n",
    "\n",
    "This project consists of the following steps:\n",
    "\n",
    "1. Importing the data and performing exploratory data analysis by visualizing the data\n",
    "2. Data preprocessing\n",
    "3. Trying out different classification models to make prediction and improving their performance using hyperparameter tuning\n",
    "4. Using various oversampling techniques to combat the dataset imbalance, and trying out different models"
   ]
  },
  {
   "cell_type": "markdown",
   "metadata": {},
   "source": [
    "### Loading the Dataset"
   ]
  },
  {
   "cell_type": "code",
   "execution_count": 1,
   "metadata": {},
   "outputs": [],
   "source": [
    "#we import some libraries\n",
    "import numpy as np\n",
    "import pandas as pd\n",
    "import seaborn as sns\n",
    "import matplotlib.pyplot as plt"
   ]
  },
  {
   "cell_type": "code",
   "execution_count": 2,
   "metadata": {},
   "outputs": [
    {
     "name": "stdout",
     "output_type": "stream",
     "text": [
      "<class 'pandas.core.frame.DataFrame'>\n",
      "RangeIndex: 306 entries, 0 to 305\n",
      "Data columns (total 4 columns):\n",
      " #   Column  Non-Null Count  Dtype\n",
      "---  ------  --------------  -----\n",
      " 0   0       306 non-null    int64\n",
      " 1   1       306 non-null    int64\n",
      " 2   2       306 non-null    int64\n",
      " 3   3       306 non-null    int64\n",
      "dtypes: int64(4)\n",
      "memory usage: 9.7 KB\n"
     ]
    }
   ],
   "source": [
    "#we inspect tha data\n",
    "data = pd.read_csv('../haberman.csv', header = None)\n",
    "data.info()"
   ]
  },
  {
   "cell_type": "markdown",
   "metadata": {},
   "source": [
    "We conclude that data is completely clean (no mising or corrupted entries), and that we have a relatively small dataset at hand. "
   ]
  },
  {
   "cell_type": "code",
   "execution_count": 3,
   "metadata": {},
   "outputs": [
    {
     "data": {
      "text/html": [
       "<div>\n",
       "<style scoped>\n",
       "    .dataframe tbody tr th:only-of-type {\n",
       "        vertical-align: middle;\n",
       "    }\n",
       "\n",
       "    .dataframe tbody tr th {\n",
       "        vertical-align: top;\n",
       "    }\n",
       "\n",
       "    .dataframe thead th {\n",
       "        text-align: right;\n",
       "    }\n",
       "</style>\n",
       "<table border=\"1\" class=\"dataframe\">\n",
       "  <thead>\n",
       "    <tr style=\"text-align: right;\">\n",
       "      <th></th>\n",
       "      <th>0</th>\n",
       "      <th>1</th>\n",
       "      <th>2</th>\n",
       "      <th>3</th>\n",
       "    </tr>\n",
       "  </thead>\n",
       "  <tbody>\n",
       "    <tr>\n",
       "      <th>0</th>\n",
       "      <td>30</td>\n",
       "      <td>64</td>\n",
       "      <td>1</td>\n",
       "      <td>1</td>\n",
       "    </tr>\n",
       "    <tr>\n",
       "      <th>1</th>\n",
       "      <td>30</td>\n",
       "      <td>62</td>\n",
       "      <td>3</td>\n",
       "      <td>1</td>\n",
       "    </tr>\n",
       "    <tr>\n",
       "      <th>2</th>\n",
       "      <td>30</td>\n",
       "      <td>65</td>\n",
       "      <td>0</td>\n",
       "      <td>1</td>\n",
       "    </tr>\n",
       "    <tr>\n",
       "      <th>3</th>\n",
       "      <td>31</td>\n",
       "      <td>59</td>\n",
       "      <td>2</td>\n",
       "      <td>1</td>\n",
       "    </tr>\n",
       "    <tr>\n",
       "      <th>4</th>\n",
       "      <td>31</td>\n",
       "      <td>65</td>\n",
       "      <td>4</td>\n",
       "      <td>1</td>\n",
       "    </tr>\n",
       "  </tbody>\n",
       "</table>\n",
       "</div>"
      ],
      "text/plain": [
       "    0   1  2  3\n",
       "0  30  64  1  1\n",
       "1  30  62  3  1\n",
       "2  30  65  0  1\n",
       "3  31  59  2  1\n",
       "4  31  65  4  1"
      ]
     },
     "execution_count": 3,
     "metadata": {},
     "output_type": "execute_result"
    }
   ],
   "source": [
    "data.head()"
   ]
  },
  {
   "cell_type": "markdown",
   "metadata": {},
   "source": [
    "Unspecified colum names won't do us much good. We'll fix that."
   ]
  },
  {
   "cell_type": "code",
   "execution_count": 4,
   "metadata": {},
   "outputs": [
    {
     "data": {
      "text/html": [
       "<div>\n",
       "<style scoped>\n",
       "    .dataframe tbody tr th:only-of-type {\n",
       "        vertical-align: middle;\n",
       "    }\n",
       "\n",
       "    .dataframe tbody tr th {\n",
       "        vertical-align: top;\n",
       "    }\n",
       "\n",
       "    .dataframe thead th {\n",
       "        text-align: right;\n",
       "    }\n",
       "</style>\n",
       "<table border=\"1\" class=\"dataframe\">\n",
       "  <thead>\n",
       "    <tr style=\"text-align: right;\">\n",
       "      <th></th>\n",
       "      <th>Patient Age</th>\n",
       "      <th>Year of Operation</th>\n",
       "      <th>Number of Lymph Nodes</th>\n",
       "      <th>Survival Status</th>\n",
       "    </tr>\n",
       "  </thead>\n",
       "  <tbody>\n",
       "    <tr>\n",
       "      <th>0</th>\n",
       "      <td>30</td>\n",
       "      <td>64</td>\n",
       "      <td>1</td>\n",
       "      <td>1</td>\n",
       "    </tr>\n",
       "    <tr>\n",
       "      <th>1</th>\n",
       "      <td>30</td>\n",
       "      <td>62</td>\n",
       "      <td>3</td>\n",
       "      <td>1</td>\n",
       "    </tr>\n",
       "    <tr>\n",
       "      <th>2</th>\n",
       "      <td>30</td>\n",
       "      <td>65</td>\n",
       "      <td>0</td>\n",
       "      <td>1</td>\n",
       "    </tr>\n",
       "    <tr>\n",
       "      <th>3</th>\n",
       "      <td>31</td>\n",
       "      <td>59</td>\n",
       "      <td>2</td>\n",
       "      <td>1</td>\n",
       "    </tr>\n",
       "    <tr>\n",
       "      <th>4</th>\n",
       "      <td>31</td>\n",
       "      <td>65</td>\n",
       "      <td>4</td>\n",
       "      <td>1</td>\n",
       "    </tr>\n",
       "    <tr>\n",
       "      <th>5</th>\n",
       "      <td>33</td>\n",
       "      <td>58</td>\n",
       "      <td>10</td>\n",
       "      <td>1</td>\n",
       "    </tr>\n",
       "    <tr>\n",
       "      <th>6</th>\n",
       "      <td>33</td>\n",
       "      <td>60</td>\n",
       "      <td>0</td>\n",
       "      <td>1</td>\n",
       "    </tr>\n",
       "    <tr>\n",
       "      <th>7</th>\n",
       "      <td>34</td>\n",
       "      <td>59</td>\n",
       "      <td>0</td>\n",
       "      <td>2</td>\n",
       "    </tr>\n",
       "    <tr>\n",
       "      <th>8</th>\n",
       "      <td>34</td>\n",
       "      <td>66</td>\n",
       "      <td>9</td>\n",
       "      <td>2</td>\n",
       "    </tr>\n",
       "    <tr>\n",
       "      <th>9</th>\n",
       "      <td>34</td>\n",
       "      <td>58</td>\n",
       "      <td>30</td>\n",
       "      <td>1</td>\n",
       "    </tr>\n",
       "  </tbody>\n",
       "</table>\n",
       "</div>"
      ],
      "text/plain": [
       "   Patient Age  Year of Operation  Number of Lymph Nodes  Survival Status\n",
       "0           30                 64                      1                1\n",
       "1           30                 62                      3                1\n",
       "2           30                 65                      0                1\n",
       "3           31                 59                      2                1\n",
       "4           31                 65                      4                1\n",
       "5           33                 58                     10                1\n",
       "6           33                 60                      0                1\n",
       "7           34                 59                      0                2\n",
       "8           34                 66                      9                2\n",
       "9           34                 58                     30                1"
      ]
     },
     "execution_count": 4,
     "metadata": {},
     "output_type": "execute_result"
    }
   ],
   "source": [
    "data.columns = ['Patient Age', 'Year of Operation',\n",
    "                'Number of Lymph Nodes','Survival Status']\n",
    "\n",
    "data.head(10)"
   ]
  },
  {
   "cell_type": "markdown",
   "metadata": {},
   "source": [
    "`Survival Status` column has values of 1 and 2. 1 is a positive outcome, meaning that the patient has managed to live more than five years after the operation. 2 signifies that the patient has died within five years of the operation."
   ]
  },
  {
   "cell_type": "markdown",
   "metadata": {},
   "source": [
    "### EDA\n",
    "\n",
    "Let's perform the exploratory data anaysis, to get some better data insights."
   ]
  },
  {
   "cell_type": "code",
   "execution_count": 5,
   "metadata": {},
   "outputs": [
    {
     "data": {
      "image/png": "[encoded data removed]",
      "text/plain": [
       "<Figure size 720x720 with 20 Axes>"
      ]
     },
     "metadata": {
      "needs_background": "light"
     },
     "output_type": "display_data"
    }
   ],
   "source": [
    "sns.pairplot(data);"
   ]
  },
  {
   "cell_type": "markdown",
   "metadata": {},
   "source": [
    "We notice two things:\n",
    "\n",
    "1. There are some outliers regarding the number of lymph nodes.\n",
    "2. The dataset is quite imbalanced. There are almost three times more patients with positive survival outcome. \n",
    "\n",
    "We will throw out the outilers now, and handle the imbalance later."
   ]
  },
  {
   "cell_type": "code",
   "execution_count": 6,
   "metadata": {},
   "outputs": [
    {
     "data": {
      "image/png": "[encoded data removed]",
      "text/plain": [
       "<Figure size 432x288 with 1 Axes>"
      ]
     },
     "metadata": {
      "needs_background": "light"
     },
     "output_type": "display_data"
    }
   ],
   "source": [
    "plt.hist(data['Number of Lymph Nodes']);"
   ]
  },
  {
   "cell_type": "code",
   "execution_count": 7,
   "metadata": {},
   "outputs": [],
   "source": [
    "data = data[(data['Number of Lymph Nodes'] <= 40)]"
   ]
  },
  {
   "cell_type": "markdown",
   "metadata": {},
   "source": [
    "We consider all the entries having mora than 40 lymph nodes as outliers.\n",
    "\n",
    "And now we continue with our exploratory analysis."
   ]
  },
  {
   "cell_type": "code",
   "execution_count": 8,
   "metadata": {},
   "outputs": [
    {
     "data": {
      "image/png": "[encoded data removed]",
      "text/plain": [
       "<Figure size 432x288 with 1 Axes>"
      ]
     },
     "metadata": {
      "needs_background": "light"
     },
     "output_type": "display_data"
    }
   ],
   "source": [
    "for surv_stat in [1,2]:\n",
    "    \n",
    "    sub_data = data[data['Survival Status'] == surv_stat]\n",
    "    sns.kdeplot(sub_data['Patient Age'], label = surv_stat)\n",
    "    \n",
    "plt.xlabel('Patient Age'), plt.ylabel('Density');\n",
    "plt.title('Survival accros the patient age');\n",
    "plt.legend(labels = ['Good Prognosis', 'Bad Prognosis']);"
   ]
  },
  {
   "cell_type": "markdown",
   "metadata": {},
   "source": [
    "Not much can be concluded here: mainly because that data is not separable. We can see that patients in their fourties are more likely to have a bad outcome, but the difference is not that significant."
   ]
  },
  {
   "cell_type": "code",
   "execution_count": 9,
   "metadata": {},
   "outputs": [
    {
     "data": {
      "image/png": "[encoded data removed]",
      "text/plain": [
       "<Figure size 432x288 with 1 Axes>"
      ]
     },
     "metadata": {
      "needs_background": "light"
     },
     "output_type": "display_data"
    }
   ],
   "source": [
    "for surv_stat in [1,2]:\n",
    "    \n",
    "    sub_data = data[data['Survival Status'] == surv_stat]\n",
    "    \n",
    "    sns.kdeplot(sub_data['Year of Operation'], label = surv_stat)\n",
    "    \n",
    "plt.xlabel('Year of Operation'), plt.ylabel('Density');\n",
    "plt.title('Survival accros the operation year');\n",
    "plt.legend(labels = ['Good Prognosis', 'Bad Prognosis']);"
   ]
  },
  {
   "cell_type": "markdown",
   "metadata": {},
   "source": [
    "The story's the same regarding the operation year: data is not separable, and apparent differences are actually not that significant."
   ]
  },
  {
   "cell_type": "code",
   "execution_count": 10,
   "metadata": {},
   "outputs": [
    {
     "data": {
      "image/png": "[encoded data removed]",
      "text/plain": [
       "<Figure size 432x288 with 1 Axes>"
      ]
     },
     "metadata": {
      "needs_background": "light"
     },
     "output_type": "display_data"
    }
   ],
   "source": [
    "for surv_stat in [1,2]:\n",
    "    \n",
    "    sub_data = data[data['Survival Status'] == surv_stat]\n",
    "    \n",
    "    sns.kdeplot(sub_data['Number of Lymph Nodes'], label = surv_stat)\n",
    "    \n",
    "plt.xlabel('Number of Lymph Nodes'), plt.ylabel('Density');\n",
    "plt.title('Survival depending on the number of lymph nodes');\n",
    "plt.legend(labels = ['Good Prognosis', 'Bad Prognosis']);"
   ]
  },
  {
   "cell_type": "markdown",
   "metadata": {},
   "source": [
    "The data is more informative in this case. There's a good distinction, and it is clear that patients having very low number of lymph nodes are much more likely to survive, while their chances drop drastically if they have more than 10 nodes. "
   ]
  },
  {
   "cell_type": "markdown",
   "metadata": {},
   "source": [
    "### Data Preparation\n",
    "\n",
    "As the data is already clean, we'll just need to perform some minor data preparation. All the features except `Survival Status` will make up the matrix of features, while this feature will be used for as a label. We will rescale just the values of the feature matrix.\n",
    "\n",
    "Since the dataset is imbalanced, we'll use the stratification in the train/test split, which preserves the minority class ratio in every split."
   ]
  },
  {
   "cell_type": "code",
   "execution_count": 11,
   "metadata": {},
   "outputs": [],
   "source": [
    "X = data.iloc[:,:-1].values\n",
    "y = data.iloc[:,-1].values"
   ]
  },
  {
   "cell_type": "code",
   "execution_count": 12,
   "metadata": {},
   "outputs": [],
   "source": [
    "from sklearn.preprocessing import StandardScaler\n",
    "scaler = StandardScaler()\n",
    "X = scaler.fit_transform(X)"
   ]
  },
  {
   "cell_type": "markdown",
   "metadata": {},
   "source": [
    "### Model Evaluation\n",
    "\n",
    "As a benchmark to compare our results with, we will use the following table:\n",
    "\n",
    "Method | Accuracy | Recall | F1 Soce |\n",
    "-----------|--------|--------|---------|\n",
    "Logistic Regression | 74.25 | 94.77 | 82.62 |\n",
    "SVC | 69.77 | 95.42 | 82.71 |\n",
    "Naive Bayes | 74.17 | 94.11 | 82.52 |\n",
    "\n",
    "This table is taken from the [Toward Efficient Breast Cancer Diagnosis and Survival Prediction Using L-Perceptron](https://arxiv.org/abs/1811.03016) paper by H. Mansourifar, W. Shi. The scores obtained are by the most straightforward applications of the algorithms, without any data preparation, parameter tuning, stratification, etc.\n",
    "\n",
    "However, in our case, the most important metric is going to be precision, which measures the false positives (i.e. outcomes which were predicted as good, but turned out bad). They are much more dangerous than the false negatives. That's why, in building our models, we are prepared to sacrfice some accuracy and recall for gaining better precision.\n",
    "\n",
    "The presented scores are obtained from a 10-fold cross-validation on the entire dataset."
   ]
  },
  {
   "cell_type": "code",
   "execution_count": 13,
   "metadata": {},
   "outputs": [],
   "source": [
    "from sklearn.model_selection import train_test_split\n",
    "from sklearn.metrics import confusion_matrix\n",
    "from sklearn.metrics import accuracy_score\n",
    "from sklearn.metrics import classification_report\n",
    "\n",
    "'''\n",
    "here we define function for evaluating the model on a single\n",
    "test set\n",
    "'''\n",
    "\n",
    "def model_single_val(model, X, y):\n",
    "    \n",
    "    X_train, X_test, y_train, y_test = train_test_split(X, y,\n",
    "                                            test_size = 0.2,\n",
    "                                            stratify = y,\n",
    "                                            random_state = 13)\n",
    "    \n",
    "    model.fit(X_train, y_train)\n",
    "    y_pred = model.predict(X_test)\n",
    "    \n",
    "    cm = confusion_matrix(y_test, y_pred)\n",
    "    \n",
    "    acc = accuracy_score(y_test, y_pred)\n",
    "    acc = round(acc, 6)\n",
    "    \n",
    "    class_rep = classification_report(y_test, y_pred,\n",
    "                                     output_dict=True)['1']\n",
    "    \n",
    "    print('confusion matrix:\\n', cm)\n",
    "    print('accuracy:    {}'.format(acc))\n",
    "    print(pd.Series(class_rep)[:-1])"
   ]
  },
  {
   "cell_type": "code",
   "execution_count": 14,
   "metadata": {},
   "outputs": [],
   "source": [
    "from sklearn.model_selection import cross_validate\n",
    "from sklearn.model_selection import StratifiedKFold\n",
    "\n",
    "'''\n",
    "here we define a function for cross-validation;\n",
    "since the dataset is imbalanced, we will use a stratified cross-val,\n",
    "where each fold preserves the ratio of the minority class\n",
    "'''\n",
    "\n",
    "def model_cv_val(model, X, y):\n",
    "    \n",
    "    scores = []\n",
    "    scoring = ['accuracy','precision','recall','f1']    \n",
    "        \n",
    "    cv = StratifiedKFold(n_splits = 10, shuffle=True,\n",
    "                             random_state = 42)\n",
    "\n",
    "    metrics = cross_validate(estimator = model, \n",
    "                                X = X, y = y,\n",
    "                                cv = cv, \n",
    "                                scoring = scoring)\n",
    "    \n",
    "    for score in scoring:\n",
    "        \n",
    "        result = metrics['test_' + score].mean()*100\n",
    "        result = round(result, 2)\n",
    "        scores.append(score)\n",
    "        print(score, result)\n",
    "    \n",
    "    return scores"
   ]
  },
  {
   "cell_type": "code",
   "execution_count": 15,
   "metadata": {},
   "outputs": [],
   "source": [
    "from sklearn.model_selection import RandomizedSearchCV\n",
    "\n",
    "'''\n",
    "here we defined function for the grid search\n",
    "'''\n",
    "\n",
    "def model_grid_search(model, grid, X, y):\n",
    "    \n",
    "\n",
    "    cv = StratifiedKFold(n_splits=10, shuffle=True, random_state = 42)\n",
    "\n",
    "    rand_cv = RandomizedSearchCV(estimator=model,\n",
    "                                param_distributions= grid,\n",
    "                                n_iter = 128, \n",
    "                                scoring = 'precision',\n",
    "                                n_jobs = -1, cv = cv,\n",
    "                                return_train_score=True)\n",
    "    \n",
    "    rand_cv.fit(X,y)\n",
    "    \n",
    "    print('\\n The best parameters:\\n', rand_cv.best_params_)"
   ]
  },
  {
   "cell_type": "markdown",
   "metadata": {},
   "source": [
    "### Model 1: Logistic Regression\n",
    "\n",
    "First we will try out the classification using the logistic regression. Since the dataset is imbalanced, we adjust the class weights. The weights are chosen after some experimentation. Appart from this, we will not tune the other parametes, for now."
   ]
  },
  {
   "cell_type": "code",
   "execution_count": 16,
   "metadata": {},
   "outputs": [
    {
     "name": "stdout",
     "output_type": "stream",
     "text": [
      "confusion matrix:\n",
      " [[41  4]\n",
      " [ 6 10]]\n",
      "accuracy:    0.836066\n",
      "precision    0.872340\n",
      "recall       0.911111\n",
      "f1-score     0.891304\n",
      "dtype: float64\n"
     ]
    }
   ],
   "source": [
    "#results from a single test set\n",
    "from sklearn.linear_model import LogisticRegression\n",
    "\n",
    "log_reg = LogisticRegression(class_weight = {1:0.38, 2:1})\n",
    "\n",
    "model_single_val(log_reg, X, y)"
   ]
  },
  {
   "cell_type": "markdown",
   "metadata": {},
   "source": [
    "We obtained good results for a single test set. But let's see what's the performance when we do the cross validation."
   ]
  },
  {
   "cell_type": "code",
   "execution_count": 17,
   "metadata": {},
   "outputs": [
    {
     "name": "stdout",
     "output_type": "stream",
     "text": [
      "accuracy 74.61\n",
      "precision 82.0\n",
      "recall 84.76\n",
      "f1 83.06\n"
     ]
    }
   ],
   "source": [
    "#results from a cross-validation\n",
    "model_cv_val(log_reg, X, y);"
   ]
  },
  {
   "cell_type": "markdown",
   "metadata": {},
   "source": [
    "Comparing with the bencmark results\n",
    "\n",
    "Method | Accuracy | Recall | F1 Soce |\n",
    "-----------|--------|--------|---------|\n",
    "Logistic Regression | 74.25 | 94.77 | 82.62 |\n",
    "\n",
    "we see that we have managed to rise accuracy a bit, but significally reduce the recall. Nevertheless, both the F1 score and accuracy have increased, which means that we managed to rise the precision, which is our main goal."
   ]
  },
  {
   "cell_type": "markdown",
   "metadata": {},
   "source": [
    "### Model 1 - Hyperarameter Tuning"
   ]
  },
  {
   "cell_type": "markdown",
   "metadata": {},
   "source": [
    "Let's check if we can improve upon the previous results by performing the hyperparameter tuning. "
   ]
  },
  {
   "cell_type": "code",
   "execution_count": 18,
   "metadata": {},
   "outputs": [],
   "source": [
    "#creating the hyperparameter grid\n",
    "penalty = ['l1', 'l2']\n",
    "C = [1e-3, 1e-2, 1e-1, 1, 10, 100, 1000]\n",
    "rand = [ 7, 13, 19, 23, 26, 47, 52, 99, 100, 2020]\n",
    "solver = ['lbfgs','liblinear','saga']\n",
    "\n",
    "hyperparameter_grid = {'penalty':penalty,\n",
    "                      'C':C, 'random_state':rand,\n",
    "                      'solver':solver}"
   ]
  },
  {
   "cell_type": "code",
   "execution_count": 19,
   "metadata": {},
   "outputs": [
    {
     "name": "stdout",
     "output_type": "stream",
     "text": [
      "\n",
      " The best parameters:\n",
      " {'solver': 'liblinear', 'random_state': 2020, 'penalty': 'l2', 'C': 0.01}\n"
     ]
    }
   ],
   "source": [
    "model_grid_search(log_reg, hyperparameter_grid, X, y)"
   ]
  },
  {
   "cell_type": "markdown",
   "metadata": {},
   "source": [
    "Now we will see how our classifier performs with these hyperparameter on a single test set and when doing a cross-validation."
   ]
  },
  {
   "cell_type": "code",
   "execution_count": 23,
   "metadata": {
    "scrolled": true
   },
   "outputs": [
    {
     "name": "stdout",
     "output_type": "stream",
     "text": [
      "confusion matrix:\n",
      " [[40  5]\n",
      " [ 5 11]]\n",
      "accuracy:    0.836066\n",
      "precision    0.888889\n",
      "recall       0.888889\n",
      "f1-score     0.888889\n",
      "dtype: float64\n"
     ]
    }
   ],
   "source": [
    "improv_log_reg = LogisticRegression(solver='liblinear', penalty='l2',\n",
    "                                   C =0.01, random_state=2020,\n",
    "                                   class_weight={1:0.38, 2:1})\n",
    "\n",
    "#single test\n",
    "model_single_val(improv_log_reg, X, y)"
   ]
  },
  {
   "cell_type": "markdown",
   "metadata": {},
   "source": [
    "The parameter tuning did improve precision, but let's see how  the cross-validation goes."
   ]
  },
  {
   "cell_type": "code",
   "execution_count": 24,
   "metadata": {},
   "outputs": [
    {
     "name": "stdout",
     "output_type": "stream",
     "text": [
      "Old results:\n",
      "accuracy 74.61\n",
      "precision 82.0\n",
      "recall 84.76\n",
      "f1 83.06\n",
      "\n",
      "New results:\n",
      "accuracy 73.63\n",
      "precision 82.51\n",
      "recall 82.09\n",
      "f1 82.06\n"
     ]
    }
   ],
   "source": [
    "#cv test\n",
    "print('Old results:')\n",
    "model_cv_val(log_reg, X, y);\n",
    "print('\\nNew results:')\n",
    "model_cv_val(improv_log_reg, X, y);"
   ]
  },
  {
   "cell_type": "markdown",
   "metadata": {},
   "source": [
    "We notice some drop in the accuracy and F1 score, but more importantly, there is a small rise for the precision. This is a good improvement if we want to go more towards the precision side in the accuracy-precision trafe-off."
   ]
  },
  {
   "cell_type": "markdown",
   "metadata": {},
   "source": [
    "### Model 2 - SVC\n",
    "\n",
    "Now we'll check out the performance on the support vector classifier. The weights are chosen after some experimentation. Appart from this, we will not tune the other parametes, for now."
   ]
  },
  {
   "cell_type": "code",
   "execution_count": 25,
   "metadata": {},
   "outputs": [
    {
     "name": "stdout",
     "output_type": "stream",
     "text": [
      "confusion matrix:\n",
      " [[42  3]\n",
      " [ 8  8]]\n",
      "accuracy:    0.819672\n",
      "precision    0.840000\n",
      "recall       0.933333\n",
      "f1-score     0.884211\n",
      "dtype: float64\n"
     ]
    }
   ],
   "source": [
    "#results from a single test set\n",
    "from sklearn.svm import SVC\n",
    "\n",
    "svc = SVC(class_weight = {1:0.5, 2:1})\n",
    "\n",
    "model_single_val(svc, X, y)"
   ]
  },
  {
   "cell_type": "markdown",
   "metadata": {},
   "source": [
    "The results with SVC are not as good as with the logistic regression, but let's see how things go with the cross validation."
   ]
  },
  {
   "cell_type": "code",
   "execution_count": 26,
   "metadata": {},
   "outputs": [
    {
     "name": "stdout",
     "output_type": "stream",
     "text": [
      "accuracy 74.31\n",
      "precision 80.14\n",
      "recall 87.04\n",
      "f1 83.29\n"
     ]
    }
   ],
   "source": [
    "#results from a cross-validation\n",
    "model_cv_val(svc, X, y);"
   ]
  },
  {
   "cell_type": "markdown",
   "metadata": {},
   "source": [
    "If we compare this with the SVC benchmark from the table \n",
    "\n",
    "Method | Accuracy | Recall | F1 Soce |\n",
    "-----------|--------|--------|---------|\n",
    "SVC | 69.77 | 95.42 | 82.71 |\n",
    "\n",
    "we see a rise in accuracy and F1 score, and a substantial drop in the recall, which signify that there's a good rise for the precision in our model."
   ]
  },
  {
   "cell_type": "markdown",
   "metadata": {},
   "source": [
    "### Model 2 - Hyperparameter Tuning\n",
    "\n",
    "Let's check if we can improve upon the previous results by performing the hyperparameter tuning. "
   ]
  },
  {
   "cell_type": "code",
   "execution_count": 27,
   "metadata": {},
   "outputs": [],
   "source": [
    "#creating the hyperparameter grid\n",
    "kernel = ['linear', 'rbg', 'sigmoid']\n",
    "C = [1e-3, 1e-2, 1e-1, 1, 10, 100, 1000]\n",
    "gamma = ['scale', 'auto']\n",
    "rand = [7, 13, 19, 23, 26, 52, 47, 99, 100, 2020]\n",
    "\n",
    "hyperparameter_grid = {'kernel':kernel,\n",
    "                      'C':C, 'random_state':rand,\n",
    "                      'gamma':gamma}"
   ]
  },
  {
   "cell_type": "code",
   "execution_count": 28,
   "metadata": {},
   "outputs": [
    {
     "name": "stdout",
     "output_type": "stream",
     "text": [
      "\n",
      " The best parameters:\n",
      " {'random_state': 100, 'kernel': 'linear', 'gamma': 'auto', 'C': 1000}\n"
     ]
    }
   ],
   "source": [
    "model_grid_search(svc, hyperparameter_grid, X, y)"
   ]
  },
  {
   "cell_type": "code",
   "execution_count": 29,
   "metadata": {},
   "outputs": [
    {
     "name": "stdout",
     "output_type": "stream",
     "text": [
      "confusion matrix:\n",
      " [[44  1]\n",
      " [ 8  8]]\n",
      "accuracy:    0.852459\n",
      "precision    0.846154\n",
      "recall       0.977778\n",
      "f1-score     0.907216\n",
      "dtype: float64\n"
     ]
    }
   ],
   "source": [
    "#performance on a single test set\n",
    "improv_svc = SVC(kernel = 'linear', gamma = 'auto', C = 1000,\n",
    "                 random_state = 100,\n",
    "                 class_weight={1:0.5, 2:1})\n",
    "\n",
    "#single test\n",
    "model_single_val(improv_svc, X, y)"
   ]
  },
  {
   "cell_type": "markdown",
   "metadata": {},
   "source": [
    "Here we can observe an increase in the accuracy and F1 score. But let's check how the things go with the cross validation."
   ]
  },
  {
   "cell_type": "code",
   "execution_count": 30,
   "metadata": {},
   "outputs": [
    {
     "name": "stdout",
     "output_type": "stream",
     "text": [
      "Old results:\n",
      "accuracy 74.31\n",
      "precision 80.14\n",
      "recall 87.04\n",
      "f1 83.29\n",
      "\n",
      "New results:\n",
      "accuracy 75.29\n",
      "precision 79.71\n",
      "recall 89.7\n",
      "f1 84.28\n"
     ]
    }
   ],
   "source": [
    "#cv test\n",
    "print('Old results:')\n",
    "model_cv_val(svc, X, y);\n",
    "print('\\nNew results:')\n",
    "model_cv_val(improv_svc, X, y);"
   ]
  },
  {
   "cell_type": "markdown",
   "metadata": {},
   "source": [
    "Here we have a rise in the accuracy and F1 score, but some small drop with the precision.\n",
    "\n",
    "Remark: I have also tried Random Forest Classification with this dataset, but didn't obtain some significant results."
   ]
  },
  {
   "cell_type": "markdown",
   "metadata": {},
   "source": [
    "### Using (SVM)SMOTE to handle the imbalanced dataset\n",
    "\n",
    "In order to use Naive Bayes and Gradient Boosting Classifier we need to artificially augment the data. We will do that by oversampling the minority class using SVMSMOTE strategy. "
   ]
  },
  {
   "cell_type": "code",
   "execution_count": 31,
   "metadata": {},
   "outputs": [
    {
     "name": "stderr",
     "output_type": "stream",
     "text": [
      "Using TensorFlow backend.\n"
     ]
    }
   ],
   "source": [
    "#oversampling\n",
    "from imblearn.over_sampling import SVMSMOTE\n",
    "oversampler = SVMSMOTE(sampling_strategy = 0.4)\n",
    "X_smpl, y_smpl = oversampler.fit_resample(X, y)"
   ]
  },
  {
   "cell_type": "markdown",
   "metadata": {},
   "source": [
    "### Model 3: Naive Bayes"
   ]
  },
  {
   "cell_type": "code",
   "execution_count": 32,
   "metadata": {},
   "outputs": [
    {
     "name": "stdout",
     "output_type": "stream",
     "text": [
      "confusion matrix:\n",
      " [[44  1]\n",
      " [12  6]]\n",
      "accuracy:    0.793651\n",
      "precision    0.785714\n",
      "recall       0.977778\n",
      "f1-score     0.871287\n",
      "dtype: float64\n"
     ]
    }
   ],
   "source": [
    "#performance on a single test set\n",
    "from sklearn.naive_bayes import GaussianNB\n",
    "\n",
    "gnb = GaussianNB()\n",
    "model_single_val(gnb, X_smpl, y_smpl)"
   ]
  },
  {
   "cell_type": "code",
   "execution_count": 33,
   "metadata": {},
   "outputs": [
    {
     "name": "stdout",
     "output_type": "stream",
     "text": [
      "accuracy 74.71\n",
      "precision 76.64\n",
      "recall 93.26\n",
      "f1 84.09\n"
     ]
    }
   ],
   "source": [
    "#cross validation\n",
    "model_cv_val(gnb, X_smpl, y_smpl);"
   ]
  },
  {
   "cell_type": "markdown",
   "metadata": {},
   "source": [
    "Comparing with the benchmark results, we notice a rise in accuracy and F1 score, followed by a drop in recall. This means that precision has increased. Still the obtained precision is much worse than the one we obtained with the logistic regression, where we didn't even have to dabble with the original dataset. \n",
    "\n",
    "Method | Accuracy | Recall | F1 Soce |\n",
    "-----------|--------|--------|---------|\n",
    "Naive Bayes | 74.17 | 94.11 | 82.52 |"
   ]
  },
  {
   "cell_type": "markdown",
   "metadata": {},
   "source": [
    "### Model 4: Gradient Boosting Classifier"
   ]
  },
  {
   "cell_type": "code",
   "execution_count": 34,
   "metadata": {},
   "outputs": [],
   "source": [
    "#oversampling\n",
    "from imblearn.over_sampling import SVMSMOTE\n",
    "oversampler = SVMSMOTE(sampling_strategy = 0.6)\n",
    "X_smpl, y_smpl = oversampler.fit_resample(X, y)"
   ]
  },
  {
   "cell_type": "code",
   "execution_count": 35,
   "metadata": {},
   "outputs": [
    {
     "name": "stdout",
     "output_type": "stream",
     "text": [
      "confusion matrix:\n",
      " [[37  8]\n",
      " [18  9]]\n",
      "accuracy:    0.638889\n",
      "precision    0.672727\n",
      "recall       0.822222\n",
      "f1-score     0.740000\n",
      "dtype: float64\n"
     ]
    }
   ],
   "source": [
    "#single test\n",
    "from sklearn.ensemble import GradientBoostingClassifier\n",
    "\n",
    "grad_boost = GradientBoostingClassifier()\n",
    "\n",
    "model_single_val(grad_boost, X_smpl, y_smpl)"
   ]
  },
  {
   "cell_type": "code",
   "execution_count": 36,
   "metadata": {},
   "outputs": [
    {
     "name": "stdout",
     "output_type": "stream",
     "text": [
      "accuracy 72.63\n",
      "precision 77.01\n",
      "recall 81.72\n",
      "f1 78.99\n"
     ]
    }
   ],
   "source": [
    "#cross validation\n",
    "model_cv_val(grad_boost, X_smpl, y_smpl);"
   ]
  },
  {
   "cell_type": "markdown",
   "metadata": {},
   "source": [
    "For now, Naive Bayes gives the better results. Let's see if anything changes with the parameter tuning. "
   ]
  },
  {
   "cell_type": "code",
   "execution_count": 37,
   "metadata": {},
   "outputs": [],
   "source": [
    "#creating the hyperparameter grid\n",
    "loss = ['deviance','exponential']\n",
    "learning_rate = [1e-4, 1e-3, 1e-2, 1e-1]\n",
    "n_estimators = [10, 25, 50, 100, 250, 500, 1000]\n",
    "rand = [7, 13, 19, 23, 26, 52, 47, 99, 100, 2020]\n",
    "min_samples_leaf = [1, 2, 4, 6, 8]\n",
    "min_samples_split = [2, 4, 6, 8]\n",
    "max_depth = [2, 3, 4, 5, 6, 10]\n",
    "\n",
    "hyperparameter_grid = {'loss':loss, 'learning_rate':learning_rate,\n",
    "                       'n_estimators':n_estimators, 'random_state':rand,\n",
    "                       'min_samples_leaf':min_samples_leaf,\n",
    "                       'min_samples_split':min_samples_split,\n",
    "                       'max_depth':max_depth}"
   ]
  },
  {
   "cell_type": "code",
   "execution_count": 38,
   "metadata": {},
   "outputs": [
    {
     "name": "stdout",
     "output_type": "stream",
     "text": [
      "\n",
      " The best parameters:\n",
      " {'random_state': 2020, 'n_estimators': 1000, 'min_samples_split': 8, 'min_samples_leaf': 8, 'max_depth': 10, 'loss': 'deviance', 'learning_rate': 0.01}\n"
     ]
    }
   ],
   "source": [
    "model_grid_search(grad_boost, hyperparameter_grid, X_smpl, y_smpl)"
   ]
  },
  {
   "cell_type": "code",
   "execution_count": 39,
   "metadata": {},
   "outputs": [
    {
     "name": "stdout",
     "output_type": "stream",
     "text": [
      "confusion matrix:\n",
      " [[33 12]\n",
      " [15 12]]\n",
      "accuracy:    0.625\n",
      "precision    0.687500\n",
      "recall       0.733333\n",
      "f1-score     0.709677\n",
      "dtype: float64\n"
     ]
    }
   ],
   "source": [
    "improv_grad_boost = GradientBoostingClassifier(random_state=2020,\n",
    "                                               n_estimators=1000,\n",
    "                                               min_samples_split=8,\n",
    "                                               min_samples_leaf=8,\n",
    "                                               max_depth=10,\n",
    "                                               loss='deviance',\n",
    "                                               learning_rate=0.01)\n",
    "\n",
    "#single test\n",
    "model_single_val(improv_grad_boost, X_smpl, y_smpl)"
   ]
  },
  {
   "cell_type": "code",
   "execution_count": 40,
   "metadata": {},
   "outputs": [
    {
     "name": "stdout",
     "output_type": "stream",
     "text": [
      "Old results:\n",
      "accuracy 72.63\n",
      "precision 77.01\n",
      "recall 81.72\n",
      "f1 78.99\n",
      "\n",
      "New results:\n",
      "accuracy 71.47\n",
      "precision 78.17\n",
      "recall 76.32\n",
      "f1 76.98\n"
     ]
    }
   ],
   "source": [
    "#cv test\n",
    "print('Old results:')\n",
    "model_cv_val(grad_boost, X_smpl, y_smpl);\n",
    "print('\\nNew results:')\n",
    "model_cv_val(improv_grad_boost, X_smpl, y_smpl);"
   ]
  },
  {
   "cell_type": "markdown",
   "metadata": {},
   "source": [
    "We notice some good improvement precision-wise. "
   ]
  },
  {
   "cell_type": "markdown",
   "metadata": {},
   "source": [
    "### Making Predictions\n",
    "\n",
    "Using the linear regression model, we will build a fucntion that makes the operation outcome prognosis based on the input data."
   ]
  },
  {
   "cell_type": "code",
   "execution_count": 41,
   "metadata": {},
   "outputs": [],
   "source": [
    "def make_prognosis(model):\n",
    "    \n",
    "    age = int(input(\"Enter the patien's age: \"))\n",
    "    oper_yr = int(input(\"Enter the year of the operation: \"))\n",
    "    lymph_nodes = int(input(\"Enter the number of lymph nodes found in patent's brests: \"))\n",
    "    \n",
    "    vec = np.array([[age, oper_yr, lymph_nodes]])\n",
    "    vec = scaler.transform(vec)\n",
    "    \n",
    "    outcome = model.predict(vec)\n",
    "    \n",
    "    if outcome == 1:\n",
    "        print(\"Good prognosis!\")\n",
    "    else:\n",
    "        print(\"Unfortunately, bad prognosis.\")"
   ]
  },
  {
   "cell_type": "code",
   "execution_count": 42,
   "metadata": {},
   "outputs": [
    {
     "name": "stdout",
     "output_type": "stream",
     "text": [
      "Enter the patien's age: 56\n",
      "Enter the year of the operation: 63\n",
      "Enter the number of lymph nodes found in patent's brests: 6\n",
      "Unfortunately, bad prognosis.\n"
     ]
    }
   ],
   "source": [
    "make_prognosis(improv_log_reg)"
   ]
  },
  {
   "cell_type": "code",
   "execution_count": 43,
   "metadata": {},
   "outputs": [
    {
     "name": "stdout",
     "output_type": "stream",
     "text": [
      "Enter the patien's age: 43\n",
      "Enter the year of the operation: 68\n",
      "Enter the number of lymph nodes found in patent's brests: 3\n",
      "Good prognosis!\n"
     ]
    }
   ],
   "source": [
    "make_prognosis(improv_log_reg)"
   ]
  },
  {
   "cell_type": "markdown",
   "metadata": {},
   "source": [
    "### Conclusions\n",
    "\n",
    "Because we worked with small imbalanced dataset, we weren't able to achieve some stellar results. We needed to make a trade-off between the accuracy and precision. We were aiming for a higher precision, while sacrificing some accuracy. Of course, maxing out the precision, while heavily lowering the accuracy was not the option; some balance needs to be present. We also need to mention that when dealing with the medical data, every part of the percent counts, especially when it comes to false good prognosis. \n",
    "\n",
    "If high accuracy was our main goal, we might've obtained flashier results (accuracy-wise), but at the heavy expence on the precision. This, given the nature of our problem, could also be interpreted even as dangerous. \n",
    "\n",
    "We also tried synthetically augmenting data to counter the imbalance, but this didn't give us some significantly better results. We obtained better results by keeping the original data, and tuning the class weights within the used algorithms."
   ]
  },
  {
   "cell_type": "markdown",
   "metadata": {},
   "source": [
    "To finish things off, we will compare the results once more, side by side, in the following tables.\n",
    "\n",
    "\n",
    "- The `benchmark` row represents the results of the 'raw implementation' of the algorithm, without any dataset interventions and hyperparameter tuning. \n",
    "\n",
    "- The `before tuning` are the results from implementing the algorithm after some data modifications and class weights adjustments, but before any hyperparameter tuning.\n",
    "\n",
    "- The `after tuning` are the results obtained after the parameteres have been tuned."
   ]
  },
  {
   "cell_type": "markdown",
   "metadata": {},
   "source": [
    "### Results comparison: the original dataset\n",
    "\n",
    "$\\text{Logistic Regression}$\n",
    "\n",
    "Results | Accuracy | Precision | Recall | F1 Soce |\n",
    "-----------|-----------|--------|--------|---------|\n",
    "Benchmark | 74.25 | N/A | 94.77 | 82.62 |\n",
    "Before tuning | 74.61 | 82 | 84.76 | 83.06 |\n",
    "After tuning | 73.63 | 82.51 | 82.09 | 82.06 |\n",
    "\n",
    "\n",
    "\n",
    "$\\text{SVC}$\n",
    "\n",
    "Results | Accuracy | Precision | Recall | F1 Soce |\n",
    "-----------|-----------|--------|--------|---------|\n",
    "Benchmark | 69.77 | N/A | 95.42 | 82.71 |\n",
    "Before tuning | 74.31 | 80.14 | 87.04 | 83.29 |\n",
    "After tuning | 75.29 | 79.71 | 89.7 | 84.28 |\n",
    "\n",
    "-------------------------------------------------\n",
    "### Results comparison: oversampled dataset\n",
    "\n",
    "$\\text{Naive Bayes}$\n",
    "\n",
    "Results | Accuracy | Precision | Recall | F1 Soce |\n",
    "-----------|-----------|--------|--------|---------|\n",
    "Benchmark | 69.77 | N/A | 95.42 | 82.71 |\n",
    "Before tuning | 74.71 | 76.64 | 93.26 | 84.09 |\n",
    "\n",
    "\n",
    "\n",
    "$\\text{Gradient Boosting}$\n",
    "\n",
    "Results | Accuracy | Precision | Recall | F1 Soce |\n",
    "-----------|-----------|--------|--------|---------|\n",
    "Before tuning | 72.63 | 77.01 | 81.72 | 78.99 |\n",
    "After tuning | 71.47 | 78.17 | 76.32 | 79.98 |"
   ]
  },
  {
   "cell_type": "markdown",
   "metadata": {},
   "source": [
    "We definitely obtain the best results from Logistic Regression and SVC. If we aim straight for the precision, then Logistic Regression is the best model, while SVC is a bit more balanced, and gives better accuracy. \n",
    "\n",
    "Naive Bayes also gives fine results, but it requires working with synthetically generated data. "
   ]
  }
 ],
 "metadata": {
  "kernelspec": {
   "display_name": "Python 3",
   "language": "python",
   "name": "python3"
  },
  "language_info": {
   "codemirror_mode": {
    "name": "ipython",
    "version": 3
   },
   "file_extension": ".py",
   "mimetype": "text/x-python",
   "name": "python",
   "nbconvert_exporter": "python",
   "pygments_lexer": "ipython3",
   "version": "3.6.8"
  }
 },
 "nbformat": 4,
 "nbformat_minor": 4
}
