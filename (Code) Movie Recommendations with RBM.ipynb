{
 "cells": [
  {
   "cell_type": "markdown",
   "metadata": {},
   "source": [
    "### Problem Description\n",
    "\n",
    "We're provided with a dataset of users and movies which shows how each user has rated some of the movies from the list. Using the restricted Boltzmann machine, we want to build a machine learning model which will be able to recommend to a user a movie that they didn't watch. "
   ]
  },
  {
   "cell_type": "markdown",
   "metadata": {},
   "source": [
    "### The Approach"
   ]
  },
  {
   "cell_type": "markdown",
   "metadata": {},
   "source": [
    "### Importing the Dataset\n",
    "\n",
    "First we'll import the necessary libraries and the ratings dataset."
   ]
  },
  {
   "cell_type": "code",
   "execution_count": 1,
   "metadata": {},
   "outputs": [],
   "source": [
    "import numpy as np\n",
    "import pandas as pd\n",
    "import seaborn as sns\n",
    "import random\n",
    "import torch\n",
    "import matplotlib.pyplot as plt\n",
    "%matplotlib inline"
   ]
  },
  {
   "cell_type": "code",
   "execution_count": 2,
   "metadata": {},
   "outputs": [
    {
     "data": {
      "text/html": [
       "<div>\n",
       "<style scoped>\n",
       "    .dataframe tbody tr th:only-of-type {\n",
       "        vertical-align: middle;\n",
       "    }\n",
       "\n",
       "    .dataframe tbody tr th {\n",
       "        vertical-align: top;\n",
       "    }\n",
       "\n",
       "    .dataframe thead th {\n",
       "        text-align: right;\n",
       "    }\n",
       "</style>\n",
       "<table border=\"1\" class=\"dataframe\">\n",
       "  <thead>\n",
       "    <tr style=\"text-align: right;\">\n",
       "      <th></th>\n",
       "      <th>0</th>\n",
       "      <th>1</th>\n",
       "      <th>2</th>\n",
       "      <th>3</th>\n",
       "    </tr>\n",
       "  </thead>\n",
       "  <tbody>\n",
       "    <tr>\n",
       "      <th>0</th>\n",
       "      <td>1</td>\n",
       "      <td>1193</td>\n",
       "      <td>5</td>\n",
       "      <td>978300760</td>\n",
       "    </tr>\n",
       "    <tr>\n",
       "      <th>1</th>\n",
       "      <td>1</td>\n",
       "      <td>661</td>\n",
       "      <td>3</td>\n",
       "      <td>978302109</td>\n",
       "    </tr>\n",
       "    <tr>\n",
       "      <th>2</th>\n",
       "      <td>1</td>\n",
       "      <td>914</td>\n",
       "      <td>3</td>\n",
       "      <td>978301968</td>\n",
       "    </tr>\n",
       "    <tr>\n",
       "      <th>3</th>\n",
       "      <td>1</td>\n",
       "      <td>3408</td>\n",
       "      <td>4</td>\n",
       "      <td>978300275</td>\n",
       "    </tr>\n",
       "    <tr>\n",
       "      <th>4</th>\n",
       "      <td>1</td>\n",
       "      <td>2355</td>\n",
       "      <td>5</td>\n",
       "      <td>978824291</td>\n",
       "    </tr>\n",
       "  </tbody>\n",
       "</table>\n",
       "</div>"
      ],
      "text/plain": [
       "   0     1  2          3\n",
       "0  1  1193  5  978300760\n",
       "1  1   661  3  978302109\n",
       "2  1   914  3  978301968\n",
       "3  1  3408  4  978300275\n",
       "4  1  2355  5  978824291"
      ]
     },
     "execution_count": 2,
     "metadata": {},
     "output_type": "execute_result"
    }
   ],
   "source": [
    "ratings = pd.read_csv('./ml-1m/ratings.dat', sep = '::',\n",
    "                  header = None, engine = 'python')\n",
    "ratings.head()"
   ]
  },
  {
   "cell_type": "code",
   "execution_count": 3,
   "metadata": {},
   "outputs": [
    {
     "data": {
      "text/html": [
       "<div>\n",
       "<style scoped>\n",
       "    .dataframe tbody tr th:only-of-type {\n",
       "        vertical-align: middle;\n",
       "    }\n",
       "\n",
       "    .dataframe tbody tr th {\n",
       "        vertical-align: top;\n",
       "    }\n",
       "\n",
       "    .dataframe thead th {\n",
       "        text-align: right;\n",
       "    }\n",
       "</style>\n",
       "<table border=\"1\" class=\"dataframe\">\n",
       "  <thead>\n",
       "    <tr style=\"text-align: right;\">\n",
       "      <th></th>\n",
       "      <th>UserID</th>\n",
       "      <th>MovieID</th>\n",
       "      <th>Rating</th>\n",
       "      <th>Timestamp</th>\n",
       "    </tr>\n",
       "  </thead>\n",
       "  <tbody>\n",
       "    <tr>\n",
       "      <th>0</th>\n",
       "      <td>1</td>\n",
       "      <td>1193</td>\n",
       "      <td>5</td>\n",
       "      <td>978300760</td>\n",
       "    </tr>\n",
       "    <tr>\n",
       "      <th>1</th>\n",
       "      <td>1</td>\n",
       "      <td>661</td>\n",
       "      <td>3</td>\n",
       "      <td>978302109</td>\n",
       "    </tr>\n",
       "    <tr>\n",
       "      <th>2</th>\n",
       "      <td>1</td>\n",
       "      <td>914</td>\n",
       "      <td>3</td>\n",
       "      <td>978301968</td>\n",
       "    </tr>\n",
       "    <tr>\n",
       "      <th>3</th>\n",
       "      <td>1</td>\n",
       "      <td>3408</td>\n",
       "      <td>4</td>\n",
       "      <td>978300275</td>\n",
       "    </tr>\n",
       "    <tr>\n",
       "      <th>4</th>\n",
       "      <td>1</td>\n",
       "      <td>2355</td>\n",
       "      <td>5</td>\n",
       "      <td>978824291</td>\n",
       "    </tr>\n",
       "  </tbody>\n",
       "</table>\n",
       "</div>"
      ],
      "text/plain": [
       "   UserID  MovieID  Rating  Timestamp\n",
       "0       1     1193       5  978300760\n",
       "1       1      661       3  978302109\n",
       "2       1      914       3  978301968\n",
       "3       1     3408       4  978300275\n",
       "4       1     2355       5  978824291"
      ]
     },
     "execution_count": 3,
     "metadata": {},
     "output_type": "execute_result"
    }
   ],
   "source": [
    "#renaming the columns for a clear interpretation\n",
    "ratings.columns = ['UserID','MovieID','Rating','Timestamp']\n",
    "ratings.head()"
   ]
  },
  {
   "cell_type": "markdown",
   "metadata": {},
   "source": [
    "We don't need the `Timestamp` column for this project, so we'll omit it. "
   ]
  },
  {
   "cell_type": "code",
   "execution_count": 4,
   "metadata": {
    "scrolled": true
   },
   "outputs": [
    {
     "data": {
      "text/html": [
       "<div>\n",
       "<style scoped>\n",
       "    .dataframe tbody tr th:only-of-type {\n",
       "        vertical-align: middle;\n",
       "    }\n",
       "\n",
       "    .dataframe tbody tr th {\n",
       "        vertical-align: top;\n",
       "    }\n",
       "\n",
       "    .dataframe thead th {\n",
       "        text-align: right;\n",
       "    }\n",
       "</style>\n",
       "<table border=\"1\" class=\"dataframe\">\n",
       "  <thead>\n",
       "    <tr style=\"text-align: right;\">\n",
       "      <th></th>\n",
       "      <th>UserID</th>\n",
       "      <th>MovieID</th>\n",
       "      <th>Rating</th>\n",
       "    </tr>\n",
       "  </thead>\n",
       "  <tbody>\n",
       "    <tr>\n",
       "      <th>0</th>\n",
       "      <td>1</td>\n",
       "      <td>1193</td>\n",
       "      <td>5</td>\n",
       "    </tr>\n",
       "    <tr>\n",
       "      <th>1</th>\n",
       "      <td>1</td>\n",
       "      <td>661</td>\n",
       "      <td>3</td>\n",
       "    </tr>\n",
       "    <tr>\n",
       "      <th>2</th>\n",
       "      <td>1</td>\n",
       "      <td>914</td>\n",
       "      <td>3</td>\n",
       "    </tr>\n",
       "    <tr>\n",
       "      <th>3</th>\n",
       "      <td>1</td>\n",
       "      <td>3408</td>\n",
       "      <td>4</td>\n",
       "    </tr>\n",
       "    <tr>\n",
       "      <th>4</th>\n",
       "      <td>1</td>\n",
       "      <td>2355</td>\n",
       "      <td>5</td>\n",
       "    </tr>\n",
       "  </tbody>\n",
       "</table>\n",
       "</div>"
      ],
      "text/plain": [
       "   UserID  MovieID  Rating\n",
       "0       1     1193       5\n",
       "1       1      661       3\n",
       "2       1      914       3\n",
       "3       1     3408       4\n",
       "4       1     2355       5"
      ]
     },
     "execution_count": 4,
     "metadata": {},
     "output_type": "execute_result"
    }
   ],
   "source": [
    "ratings = ratings.drop(columns = ['Timestamp'])\n",
    "ratings.head()"
   ]
  },
  {
   "cell_type": "markdown",
   "metadata": {},
   "source": [
    "The dataset is clean, and we can immediatly work with it. However, it would be nice to know what movie stands behind a certain ID. That's why we'll read in one more dataset, with the movie info."
   ]
  },
  {
   "cell_type": "code",
   "execution_count": 5,
   "metadata": {},
   "outputs": [
    {
     "data": {
      "text/html": [
       "<div>\n",
       "<style scoped>\n",
       "    .dataframe tbody tr th:only-of-type {\n",
       "        vertical-align: middle;\n",
       "    }\n",
       "\n",
       "    .dataframe tbody tr th {\n",
       "        vertical-align: top;\n",
       "    }\n",
       "\n",
       "    .dataframe thead th {\n",
       "        text-align: right;\n",
       "    }\n",
       "</style>\n",
       "<table border=\"1\" class=\"dataframe\">\n",
       "  <thead>\n",
       "    <tr style=\"text-align: right;\">\n",
       "      <th></th>\n",
       "      <th>0</th>\n",
       "      <th>1</th>\n",
       "      <th>2</th>\n",
       "    </tr>\n",
       "  </thead>\n",
       "  <tbody>\n",
       "    <tr>\n",
       "      <th>0</th>\n",
       "      <td>1</td>\n",
       "      <td>Toy Story (1995)</td>\n",
       "      <td>Animation|Children's|Comedy</td>\n",
       "    </tr>\n",
       "    <tr>\n",
       "      <th>1</th>\n",
       "      <td>2</td>\n",
       "      <td>Jumanji (1995)</td>\n",
       "      <td>Adventure|Children's|Fantasy</td>\n",
       "    </tr>\n",
       "    <tr>\n",
       "      <th>2</th>\n",
       "      <td>3</td>\n",
       "      <td>Grumpier Old Men (1995)</td>\n",
       "      <td>Comedy|Romance</td>\n",
       "    </tr>\n",
       "    <tr>\n",
       "      <th>3</th>\n",
       "      <td>4</td>\n",
       "      <td>Waiting to Exhale (1995)</td>\n",
       "      <td>Comedy|Drama</td>\n",
       "    </tr>\n",
       "    <tr>\n",
       "      <th>4</th>\n",
       "      <td>5</td>\n",
       "      <td>Father of the Bride Part II (1995)</td>\n",
       "      <td>Comedy</td>\n",
       "    </tr>\n",
       "  </tbody>\n",
       "</table>\n",
       "</div>"
      ],
      "text/plain": [
       "   0                                   1                             2\n",
       "0  1                    Toy Story (1995)   Animation|Children's|Comedy\n",
       "1  2                      Jumanji (1995)  Adventure|Children's|Fantasy\n",
       "2  3             Grumpier Old Men (1995)                Comedy|Romance\n",
       "3  4            Waiting to Exhale (1995)                  Comedy|Drama\n",
       "4  5  Father of the Bride Part II (1995)                        Comedy"
      ]
     },
     "execution_count": 5,
     "metadata": {},
     "output_type": "execute_result"
    }
   ],
   "source": [
    "#loading the movie info dataset\n",
    "movies = pd.read_csv('./ml-1m/movies.dat', sep = '::',\n",
    "                    header = None, engine = 'python')\n",
    "\n",
    "movies.head()"
   ]
  },
  {
   "cell_type": "code",
   "execution_count": 6,
   "metadata": {},
   "outputs": [
    {
     "data": {
      "text/html": [
       "<div>\n",
       "<style scoped>\n",
       "    .dataframe tbody tr th:only-of-type {\n",
       "        vertical-align: middle;\n",
       "    }\n",
       "\n",
       "    .dataframe tbody tr th {\n",
       "        vertical-align: top;\n",
       "    }\n",
       "\n",
       "    .dataframe thead th {\n",
       "        text-align: right;\n",
       "    }\n",
       "</style>\n",
       "<table border=\"1\" class=\"dataframe\">\n",
       "  <thead>\n",
       "    <tr style=\"text-align: right;\">\n",
       "      <th></th>\n",
       "      <th>MovieID</th>\n",
       "      <th>Name</th>\n",
       "      <th>Genre</th>\n",
       "    </tr>\n",
       "  </thead>\n",
       "  <tbody>\n",
       "    <tr>\n",
       "      <th>0</th>\n",
       "      <td>1</td>\n",
       "      <td>Toy Story (1995)</td>\n",
       "      <td>Animation|Children's|Comedy</td>\n",
       "    </tr>\n",
       "    <tr>\n",
       "      <th>1</th>\n",
       "      <td>2</td>\n",
       "      <td>Jumanji (1995)</td>\n",
       "      <td>Adventure|Children's|Fantasy</td>\n",
       "    </tr>\n",
       "    <tr>\n",
       "      <th>2</th>\n",
       "      <td>3</td>\n",
       "      <td>Grumpier Old Men (1995)</td>\n",
       "      <td>Comedy|Romance</td>\n",
       "    </tr>\n",
       "    <tr>\n",
       "      <th>3</th>\n",
       "      <td>4</td>\n",
       "      <td>Waiting to Exhale (1995)</td>\n",
       "      <td>Comedy|Drama</td>\n",
       "    </tr>\n",
       "    <tr>\n",
       "      <th>4</th>\n",
       "      <td>5</td>\n",
       "      <td>Father of the Bride Part II (1995)</td>\n",
       "      <td>Comedy</td>\n",
       "    </tr>\n",
       "  </tbody>\n",
       "</table>\n",
       "</div>"
      ],
      "text/plain": [
       "   MovieID                                Name                         Genre\n",
       "0        1                    Toy Story (1995)   Animation|Children's|Comedy\n",
       "1        2                      Jumanji (1995)  Adventure|Children's|Fantasy\n",
       "2        3             Grumpier Old Men (1995)                Comedy|Romance\n",
       "3        4            Waiting to Exhale (1995)                  Comedy|Drama\n",
       "4        5  Father of the Bride Part II (1995)                        Comedy"
      ]
     },
     "execution_count": 6,
     "metadata": {},
     "output_type": "execute_result"
    }
   ],
   "source": [
    "#renaming columns for a clear interpretation\n",
    "movies.columns = ['MovieID', 'Name', 'Genre']\n",
    "movies.head()"
   ]
  },
  {
   "cell_type": "code",
   "execution_count": 7,
   "metadata": {},
   "outputs": [
    {
     "name": "stdout",
     "output_type": "stream",
     "text": [
      "<class 'pandas.core.frame.DataFrame'>\n",
      "RangeIndex: 3883 entries, 0 to 3882\n",
      "Data columns (total 3 columns):\n",
      " #   Column   Non-Null Count  Dtype \n",
      "---  ------   --------------  ----- \n",
      " 0   MovieID  3883 non-null   int64 \n",
      " 1   Name     3883 non-null   object\n",
      " 2   Genre    3883 non-null   object\n",
      "dtypes: int64(1), object(2)\n",
      "memory usage: 91.1+ KB\n"
     ]
    }
   ],
   "source": [
    "movies.info()"
   ]
  },
  {
   "cell_type": "markdown",
   "metadata": {},
   "source": [
    "The movies dataset is also completely clean. "
   ]
  },
  {
   "cell_type": "markdown",
   "metadata": {},
   "source": [
    "### Categorizing the Ratings\n",
    "\n",
    "Let's now check how the ratings are distributed."
   ]
  },
  {
   "cell_type": "code",
   "execution_count": 8,
   "metadata": {
    "scrolled": true
   },
   "outputs": [
    {
     "data": {
      "image/png": "[encoded data removed]",
      "text/plain": [
       "<Figure size 432x288 with 1 Axes>"
      ]
     },
     "metadata": {
      "needs_background": "light"
     },
     "output_type": "display_data"
    }
   ],
   "source": [
    "sns.countplot(y = 'Rating', data = ratings);"
   ]
  },
  {
   "cell_type": "markdown",
   "metadata": {},
   "source": [
    "We see that 3-5 star ratings are the most common, with 4-star ratings being the predominant. \n",
    "\n",
    "Now we separate the ratings into binary classes `liked it` (having 5 to 3 stars), and `didn't like it` (having only 1 or 2 stars).  For the training purpose we will encode these categories as 1 and 0 respectively. In the recommendation sense, we can interpret the category `1` as the movie we would recommend and category `0` as a no-recommendation."
   ]
  },
  {
   "cell_type": "code",
   "execution_count": 9,
   "metadata": {},
   "outputs": [],
   "source": [
    "labels = pd.cut(ratings['Rating'], bins = [0,2,5], \n",
    "                        labels = [0, 1])\n",
    "\n",
    "label_names = [\"didn't like it\", \"liked it\"]"
   ]
  },
  {
   "cell_type": "code",
   "execution_count": 10,
   "metadata": {},
   "outputs": [
    {
     "data": {
      "text/html": [
       "<div>\n",
       "<style scoped>\n",
       "    .dataframe tbody tr th:only-of-type {\n",
       "        vertical-align: middle;\n",
       "    }\n",
       "\n",
       "    .dataframe tbody tr th {\n",
       "        vertical-align: top;\n",
       "    }\n",
       "\n",
       "    .dataframe thead th {\n",
       "        text-align: right;\n",
       "    }\n",
       "</style>\n",
       "<table border=\"1\" class=\"dataframe\">\n",
       "  <thead>\n",
       "    <tr style=\"text-align: right;\">\n",
       "      <th></th>\n",
       "      <th>UserID</th>\n",
       "      <th>MovieID</th>\n",
       "      <th>Binary Rating</th>\n",
       "    </tr>\n",
       "  </thead>\n",
       "  <tbody>\n",
       "    <tr>\n",
       "      <th>0</th>\n",
       "      <td>1</td>\n",
       "      <td>1193</td>\n",
       "      <td>1</td>\n",
       "    </tr>\n",
       "    <tr>\n",
       "      <th>1</th>\n",
       "      <td>1</td>\n",
       "      <td>661</td>\n",
       "      <td>1</td>\n",
       "    </tr>\n",
       "    <tr>\n",
       "      <th>2</th>\n",
       "      <td>1</td>\n",
       "      <td>914</td>\n",
       "      <td>1</td>\n",
       "    </tr>\n",
       "    <tr>\n",
       "      <th>3</th>\n",
       "      <td>1</td>\n",
       "      <td>3408</td>\n",
       "      <td>1</td>\n",
       "    </tr>\n",
       "    <tr>\n",
       "      <th>4</th>\n",
       "      <td>1</td>\n",
       "      <td>2355</td>\n",
       "      <td>1</td>\n",
       "    </tr>\n",
       "  </tbody>\n",
       "</table>\n",
       "</div>"
      ],
      "text/plain": [
       "   UserID  MovieID Binary Rating\n",
       "0       1     1193             1\n",
       "1       1      661             1\n",
       "2       1      914             1\n",
       "3       1     3408             1\n",
       "4       1     2355             1"
      ]
     },
     "execution_count": 10,
     "metadata": {},
     "output_type": "execute_result"
    }
   ],
   "source": [
    "ratings['Rating'] = labels\n",
    "ratings = ratings.rename(columns = {'Rating' : 'Binary Rating'})\n",
    "ratings.head()"
   ]
  },
  {
   "cell_type": "code",
   "execution_count": 11,
   "metadata": {},
   "outputs": [
    {
     "data": {
      "image/png": "[encoded data removed]",
      "text/plain": [
       "<Figure size 432x288 with 1 Axes>"
      ]
     },
     "metadata": {
      "needs_background": "light"
     },
     "output_type": "display_data"
    }
   ],
   "source": [
    "cplt = sns.countplot(ratings['Binary Rating'])\n",
    "cplt.set(xticklabels = label_names);"
   ]
  },
  {
   "cell_type": "markdown",
   "metadata": {},
   "source": [
    "We see that the good ratings are significantly predominating the bad and the mediocre ones, which means that we're dealing with the highly imbalanced dataset. "
   ]
  },
  {
   "cell_type": "markdown",
   "metadata": {},
   "source": [
    "### Data Preprocessing\n",
    "\n",
    "Now we need to separate our dataset into a training and test set. Even though we're building an unsupervised learning model, we will use the labels in order to stratify the separation, and thus combat the dataset imbalance."
   ]
  },
  {
   "cell_type": "code",
   "execution_count": 12,
   "metadata": {},
   "outputs": [],
   "source": [
    "X = ratings\n",
    "y = labels"
   ]
  },
  {
   "cell_type": "code",
   "execution_count": 13,
   "metadata": {},
   "outputs": [
    {
     "data": {
      "text/plain": [
       "((750156, 3), (250053, 3))"
      ]
     },
     "execution_count": 13,
     "metadata": {},
     "output_type": "execute_result"
    }
   ],
   "source": [
    "from sklearn.model_selection import train_test_split\n",
    "\n",
    "X_train, X_test = train_test_split(X, test_size = 0.25,\n",
    "                                  stratify = y, random_state = 91)\n",
    "\n",
    "X_train.shape, X_test.shape"
   ]
  },
  {
   "cell_type": "markdown",
   "metadata": {},
   "source": [
    "Since we are going to build the model using PyTorch, we need to convert the data into the appropriate format, which is list of lists. Each sublist of this list represents a user, and each entry of the sublist a rating for the every movie. "
   ]
  },
  {
   "cell_type": "code",
   "execution_count": 14,
   "metadata": {},
   "outputs": [
    {
     "name": "stdout",
     "output_type": "stream",
     "text": [
      "A total number of 6040 users have rated a total number of 3952 movies.\n"
     ]
    }
   ],
   "source": [
    "num_of_users = max(ratings['UserID'])\n",
    "num_of_movies = max(ratings['MovieID'])\n",
    "print(f'A total number of {num_of_users} users have rated a total number of {num_of_movies} movies.')"
   ]
  },
  {
   "cell_type": "code",
   "execution_count": 15,
   "metadata": {},
   "outputs": [],
   "source": [
    "def convert_data(data):\n",
    "    \n",
    "    '''Transforms the data into a list of lists.'''\n",
    "\n",
    "    conv_data = []\n",
    "\n",
    "    for i in range(1, num_of_users + 1):\n",
    "        rat_cat = -np.ones(num_of_movies)\n",
    "        movie_ids = data[data['UserID'] == i]['MovieID']\n",
    "        movie_rats = data[data['UserID'] == i]['Binary Rating']\n",
    "\n",
    "        rat_cat[movie_ids - 1] = movie_rats\n",
    "        conv_data.append(rat_cat)\n",
    "    \n",
    "    return conv_data"
   ]
  },
  {
   "cell_type": "code",
   "execution_count": 16,
   "metadata": {},
   "outputs": [],
   "source": [
    "X_train = convert_data(X_train)\n",
    "X_test = convert_data(X_test)"
   ]
  },
  {
   "cell_type": "code",
   "execution_count": 17,
   "metadata": {},
   "outputs": [],
   "source": [
    "#converting the list of lists into a PyTorch tensor\n",
    "X_train = torch.FloatTensor(X_train)\n",
    "X_test = torch.FloatTensor(X_test)"
   ]
  },
  {
   "cell_type": "code",
   "execution_count": 18,
   "metadata": {},
   "outputs": [
    {
     "data": {
      "text/plain": [
       "(torch.Size([6040, 3952]), torch.Size([6040, 3952]))"
      ]
     },
     "execution_count": 18,
     "metadata": {},
     "output_type": "execute_result"
    }
   ],
   "source": [
    "X_train.shape, X_test.shape"
   ]
  },
  {
   "cell_type": "markdown",
   "metadata": {},
   "source": [
    "So, now we have 2D tensors (i.e. matrices) where each row corresponds to a user, and each column to a movie. The value $a_{ij}\\in\\{0,1\\}$ of a given tensor means that the user $i$ has rated a movie $j$ and either liked it (1) or didn't like it (0). If $a_{ij} = -1$, then that means that the user $i$ did not rate the movie $j$. "
   ]
  },
  {
   "cell_type": "markdown",
   "metadata": {},
   "source": [
    "### Building and Training the RBM\n",
    "\n",
    "Now it's time to build our restricted Boltzmann Machine. It consists of a visible and hidden layer. Each node of the visible layer corresponds to a movie, while the hidden layer has 100 nodes. We will use a mean absolute error as a way to measure loss."
   ]
  },
  {
   "cell_type": "code",
   "execution_count": 19,
   "metadata": {},
   "outputs": [],
   "source": [
    "class RBM():\n",
    "    \n",
    "    def __init__(self, vis_n, hidd_n):\n",
    "        #initializing the weights and biases\n",
    "        self.W = torch.randn(hidd_n, vis_n)\n",
    "        self.a = torch.randn(1, hidd_n)\n",
    "        self.b = torch.randn(1, vis_n)\n",
    "        \n",
    "    def sample_hidden(self, v):\n",
    "        #sampling the hidden nodes from the visible values\n",
    "        v = torch.mm(v, self.W.t())\n",
    "        v += self.a.expand_as(v)\n",
    "        p_h_v = torch.sigmoid(v)\n",
    "        return p_h_v, torch.bernoulli(p_h_v)\n",
    "    \n",
    "    def sample_visible(self, h):\n",
    "        #sampling the visible nodes from the hidden values\n",
    "        h = torch.mm(h, self.W)\n",
    "        h += self.b.expand_as(h)\n",
    "        p_v_h = torch.sigmoid(h)\n",
    "        return p_v_h, torch.bernoulli(p_v_h)\n",
    "    \n",
    "    def train(self, v0, vk, ph0, phk):\n",
    "        #readjusting the weights after the Gibb's sampling\n",
    "        self.W += torch.mm(ph0.t(), v0) - torch.mm(phk.t(), vk)\n",
    "        self.b += torch.sum((v0 - vk), 0)\n",
    "        self.a += torch.sum((ph0 - phk), 0)"
   ]
  },
  {
   "cell_type": "code",
   "execution_count": 20,
   "metadata": {},
   "outputs": [],
   "source": [
    "#forming the restricted boltzmann machine\n",
    "vis_n = num_of_movies\n",
    "hidd_n = 100\n",
    "epochs = 10\n",
    "batch_size = 100\n",
    "\n",
    "rbm = RBM(vis_n, hidd_n)"
   ]
  },
  {
   "cell_type": "markdown",
   "metadata": {},
   "source": [
    "We now train the RBM. The training set represents just a portion of the total ratings each user has given to all the movies they have rated. By trying to reconstruct this portion of the data, the RBM will perform an unsupervised learning."
   ]
  },
  {
   "cell_type": "code",
   "execution_count": 21,
   "metadata": {},
   "outputs": [
    {
     "name": "stdout",
     "output_type": "stream",
     "text": [
      "epoch: 1, loss: 0.2442883998155594\n",
      "epoch: 2, loss: 0.2283667027950287\n",
      "epoch: 3, loss: 0.22792452573776245\n",
      "epoch: 4, loss: 0.22753039002418518\n",
      "epoch: 5, loss: 0.2278277724981308\n",
      "epoch: 6, loss: 0.2271387130022049\n",
      "epoch: 7, loss: 0.22783921658992767\n",
      "epoch: 8, loss: 0.22776159644126892\n",
      "epoch: 9, loss: 0.22769232094287872\n",
      "epoch: 10, loss: 0.22779178619384766\n"
     ]
    }
   ],
   "source": [
    "#training the rbm\n",
    "for epoch in range(epochs):\n",
    "    \n",
    "    train_loss = 0\n",
    "    steps = 0\n",
    "    \n",
    "    for user in range(0, num_of_users - batch_size, batch_size):\n",
    "        \n",
    "        #initializing the visible nodes\n",
    "        v0 = X_train[user : user + batch_size]\n",
    "        vk = v0.clone()\n",
    "        \n",
    "        #performing a 10-step Gibbs sampling\n",
    "        for k in range(10):\n",
    "            _, hk = rbm.sample_hidden(vk)\n",
    "            _, vk = rbm.sample_visible(hk)\n",
    "            vk[v0 < 0] = -1\n",
    "        \n",
    "        #getting the probabilities for the hidden nodes\n",
    "        ph0, _ = rbm.sample_hidden(v0)\n",
    "        phk, _ = rbm.sample_hidden(vk)\n",
    "        \n",
    "        #performing a training step\n",
    "        rbm.train(v0, vk, ph0, phk)\n",
    "    \n",
    "        #calculating the loss for the step\n",
    "        train_loss += torch.mean(torch.abs(v0[v0>=0] - vk[v0>=0]))\n",
    "        steps += 1\n",
    "        \n",
    "    print(f'epoch: {epoch + 1}, loss: {train_loss/steps}')"
   ]
  },
  {
   "cell_type": "markdown",
   "metadata": {},
   "source": [
    "The training of the RBM didn't take long, and the loss of 0.2277 means that we have 77.23% accuracy on the training set."
   ]
  },
  {
   "cell_type": "markdown",
   "metadata": {},
   "source": [
    "### Evaluating the RBM\n",
    "\n",
    "Let's now see how the RBM behavies on the test set. The test set represents the portion of users' ratings not included in the training set. We will now try to reconstruct these ratings using our RBM. "
   ]
  },
  {
   "cell_type": "code",
   "execution_count": 22,
   "metadata": {},
   "outputs": [
    {
     "name": "stdout",
     "output_type": "stream",
     "text": [
      "test loss: 0.2097\n"
     ]
    }
   ],
   "source": [
    "test_loss = 0\n",
    "steps = 0\n",
    "\n",
    "for user in range(num_of_users):\n",
    "    \n",
    "    target_vec = X_test[user : user + 1].data\n",
    "    \n",
    "    #checking if there is any rating in a test set for a given user\n",
    "    if(len(target_vec[target_vec >= 0] > 0)):\n",
    "        v = target_vec.clone()\n",
    "        #performing a 1-step Gibbs sampling to obtain a reconstruction\n",
    "        _, v = rbm.sample_hidden(v)\n",
    "        _, v = rbm.sample_visible(v)\n",
    "        test_loss += torch.mean(torch.abs(target_vec[target_vec>=0]-v[target_vec>=0]))\n",
    "        steps += 1\n",
    "\n",
    "test_loss = float(test_loss/steps)\n",
    "print(f'test loss: {round(test_loss, 4)}')"
   ]
  },
  {
   "cell_type": "markdown",
   "metadata": {},
   "source": [
    "The average loss of 0.2097 means that we have achieved accuracy of 79.03% on the test set. Our RBM has almost the same loss for both the training and the test set, and this means that our model is robust. \n",
    "\n",
    "In the next step we will merge the ratings data for all the users and all the (rated) movies, and try to reconstruct the whole recommendation data just from the training portion. "
   ]
  },
  {
   "cell_type": "code",
   "execution_count": 23,
   "metadata": {},
   "outputs": [
    {
     "name": "stdout",
     "output_type": "stream",
     "text": [
      "reconstruction loss: 0.2078\n"
     ]
    }
   ],
   "source": [
    "#reconstructing the whole like/dislike data\n",
    "reconst_loss = 0\n",
    "steps = 0\n",
    "\n",
    "for user in range(num_of_users):\n",
    "    \n",
    "    input_vec = X_train[user : user + 1].data\n",
    "    target_vec = (X_train[user:user+1] + X_test[user:user+1]).data + 1\n",
    "    \n",
    "    #checking if there is any rating in a test set for a given user\n",
    "    if(len(target_vec[target_vec >= 0]) > 0):\n",
    "        #performing a 1-step Gibbs sampling to obtain a reconstruction\n",
    "        _, output_vec = rbm.sample_hidden(input_vec)\n",
    "        _, output_vec = rbm.sample_visible(output_vec)\n",
    "        reconst_loss += torch.mean(torch.abs(target_vec[target_vec>=0] - output_vec[target_vec>=0]))\n",
    "        steps += 1\n",
    "\n",
    "reconst_loss = float(reconst_loss/steps)\n",
    "print(f'reconstruction loss: {round(reconst_loss, 4)}')"
   ]
  },
  {
   "cell_type": "markdown",
   "metadata": {},
   "source": [
    "In case when we try to reconstruct the whole data, we have an accuracy of 79.22%. \n",
    "\n",
    "Let's see how many like/dislike ratings our model misses while trying to reconstruct the ratings for some random user. "
   ]
  },
  {
   "cell_type": "code",
   "execution_count": 45,
   "metadata": {},
   "outputs": [],
   "source": [
    "def reconst_example():\n",
    "    \n",
    "    '''Computes the number and the \n",
    "    percentage of misses for a random user'''\n",
    "    \n",
    "    user = np.random.randint(len(X_train))\n",
    "    \n",
    "    input_vec = X_train[user : user + 1].data\n",
    "    target_vec = (X_train[user:user+1] + X_test[user:user+1]).data + 1\n",
    "    _, output_vec = rbm.sample_hidden(input_vec)\n",
    "    _, output_vec = rbm.sample_visible(output_vec)\n",
    "    \n",
    "    \n",
    "    a = torch.sum(target_vec[target_vec >= 0])\n",
    "    b = torch.sum(torch.round(output_vec[target_vec >= 0]))\n",
    "    missrate = int(abs(a-b))\n",
    "    missrate_purc = missrate/len(target_vec[target_vec >= 0])\n",
    "    missrate_purc = round(missrate_purc*100, 2)\n",
    "    \n",
    "    print(f'Missratings for user no.{user}: {missrate}, {missrate_purc}%')"
   ]
  },
  {
   "cell_type": "code",
   "execution_count": 25,
   "metadata": {},
   "outputs": [
    {
     "name": "stdout",
     "output_type": "stream",
     "text": [
      "Missratings for user no.844: 2, 3.85%\n",
      "Missratings for user no.219: 8, 7.84%\n",
      "Missratings for user no.3698: 7, 11.48%\n",
      "Missratings for user no.1365: 4, 2.8%\n",
      "Missratings for user no.5095: 21, 7.84%\n",
      "Missratings for user no.2537: 4, 16.0%\n",
      "Missratings for user no.2710: 14, 36.84%\n",
      "Missratings for user no.2699: 34, 11.56%\n",
      "Missratings for user no.408: 18, 6.06%\n",
      "Missratings for user no.3733: 9, 18.0%\n"
     ]
    }
   ],
   "source": [
    "for _ in range(10):\n",
    "    reconst_example()"
   ]
  },
  {
   "cell_type": "markdown",
   "metadata": {},
   "source": [
    "### Making the Recommendations\n",
    "\n",
    "Let's pick a random user and see wheather we would recommend them some movie they haven't watched yet. "
   ]
  },
  {
   "cell_type": "code",
   "execution_count": 28,
   "metadata": {},
   "outputs": [],
   "source": [
    "from tabulate import tabulate\n",
    "\n",
    "X_whole = X_train + X_test + 1\n",
    "recom = [\"Not Recommended\", \"Recommended\"]\n",
    "\n",
    "def recommendation():\n",
    "    \n",
    "    k = np.random.randint(len(X_whole))\n",
    "    print(f'The user {k} liked the movies:\\n')\n",
    "    liked = np.random.choice(np.where(X_whole[k] == 1)[0], 5,\n",
    "                            replace = False)\n",
    "    like_tab = []\n",
    "    for movie in liked:\n",
    "        l = movies.loc[movie, ['Name', 'Genre']].tolist()\n",
    "        like_tab.append([l[0],l[1]])\n",
    "    print(tabulate(like_tab))\n",
    "    print('..................\\n')\n",
    "    \n",
    "    \n",
    "    print(\"but didn't like the movies:\\n\")\n",
    "    disl = np.where(X_whole[k] == 0)[0]\n",
    "    disliked = np.random.choice(disl, min(5, len(disl)),\n",
    "                            replace = False)\n",
    "    disl_tab = []\n",
    "    for movie in disliked:\n",
    "        l = movies.loc[movie, ['Name', 'Genre']].tolist()\n",
    "        disl_tab.append([l[0],l[1]])\n",
    "    print(tabulate(disl_tab))\n",
    "    print('..................\\n')\n",
    "    \n",
    "    \n",
    "    print(\"Recommendations:\\n\")\n",
    "    unrated = np.random.choice(np.where(X_whole[k] == -1)[0], 5,\n",
    "                            replace = False)\n",
    "    _, ratings_pred = rbm.sample_hidden(X_whole[k : k+1])\n",
    "    _, ratings_pred = rbm.sample_visible(ratings_pred)\n",
    "    ratings_pred = ratings_pred[0][unrated]\n",
    "    ratings_pred = torch.round(ratings_pred)\n",
    "    ratings_pred = np.array(ratings_pred, dtype = 'int8')\n",
    "    rec_tab = []\n",
    "    for movie, rat in zip(unrated, ratings_pred):\n",
    "        l = movies.loc[movie, ['Name', 'Genre']].tolist()\n",
    "        rec_tab.append([l[0], l[1], recom[rat]])\n",
    "    print(tabulate(rec_tab))"
   ]
  },
  {
   "cell_type": "code",
   "execution_count": 44,
   "metadata": {},
   "outputs": [
    {
     "name": "stdout",
     "output_type": "stream",
     "text": [
      "The user 16 liked the movies:\n",
      "\n",
      "----------------------------------------------  -----------------------\n",
      "Hamlet (1964)                                   Drama\n",
      "Sneakers (1992)                                 Crime|Drama|Sci-Fi\n",
      "Mommie Dearest (1981)                           Drama\n",
      "Star Trek IV: The Voyage Home (1986)            Action|Adventure|Sci-Fi\n",
      "400 Blows, The (Les Quatre cents coups) (1959)  Drama\n",
      "----------------------------------------------  -----------------------\n",
      "..................\n",
      "\n",
      "but didn't like the movies:\n",
      "\n",
      "-------------------------------------  --------------------------\n",
      "Angel Heart (1987)                     Film-Noir|Mystery|Thriller\n",
      "In & Out (1997)                        Comedy\n",
      "Open Your Eyes (Abre los ojos) (1997)  Drama|Romance|Sci-Fi\n",
      "Brighton Beach Memoirs (1986)          Comedy\n",
      "Ratchet (1996)                         Drama|Thriller\n",
      "-------------------------------------  --------------------------\n",
      "..................\n",
      "\n",
      "Recommendations:\n",
      "\n",
      "---------------------------------  ----------------  ---------------\n",
      "Perfect Murder, A (1998)           Mystery|Thriller  Recommended\n",
      "Caligula (1980)                    Drama             Recommended\n",
      "Snow Falling on Cedars (1999)      Drama             Recommended\n",
      "Running Free (2000)                Drama             Not Recommended\n",
      "Deep End of the Ocean, The (1999)  Drama             Recommended\n",
      "---------------------------------  ----------------  ---------------\n"
     ]
    }
   ],
   "source": [
    "recommendation()"
   ]
  },
  {
   "cell_type": "markdown",
   "metadata": {},
   "source": [
    "### Conclusions\n",
    "\n",
    "Using the restricted Boltzmann machine we were able to build a robust binary movie recommendation system based on previosly rated movies. In addition to being robust, our model has very simple architecture and is trained very fast. "
   ]
  },
  {
   "cell_type": "code",
   "execution_count": null,
   "metadata": {},
   "outputs": [],
   "source": []
  }
 ],
 "metadata": {
  "kernelspec": {
   "display_name": "Python 3",
   "language": "python",
   "name": "python3"
  },
  "language_info": {
   "codemirror_mode": {
    "name": "ipython",
    "version": 3
   },
   "file_extension": ".py",
   "mimetype": "text/x-python",
   "name": "python",
   "nbconvert_exporter": "python",
   "pygments_lexer": "ipython3",
   "version": "3.6.8"
  }
 },
 "nbformat": 4,
 "nbformat_minor": 4
}
