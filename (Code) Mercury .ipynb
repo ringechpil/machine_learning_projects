{
 "cells": [
  {
   "cell_type": "markdown",
   "metadata": {},
   "source": [
    "### Problem description"
   ]
  },
  {
   "cell_type": "markdown",
   "metadata": {},
   "source": [
    "We're provided with a dataset containing measurements of the mercury in a lake over some period of time. Some of the data is missing. We extract the missing data, and use random forest regression to predict those values."
   ]
  },
  {
   "cell_type": "markdown",
   "metadata": {},
   "source": [
    "### Extracting the missing values"
   ]
  },
  {
   "cell_type": "code",
   "execution_count": 1,
   "metadata": {},
   "outputs": [],
   "source": [
    "import pandas as pd\n",
    "import numpy as np\n",
    "from datetime import datetime"
   ]
  },
  {
   "cell_type": "code",
   "execution_count": 2,
   "metadata": {},
   "outputs": [],
   "source": [
    "ds= pd.read_csv('../Mercury_measurement.txt', sep = '\\t', header = None)\n",
    "ds.columns = ['Date','Measure']"
   ]
  },
  {
   "cell_type": "code",
   "execution_count": 3,
   "metadata": {},
   "outputs": [],
   "source": [
    "ds = ds.values"
   ]
  },
  {
   "cell_type": "code",
   "execution_count": 4,
   "metadata": {},
   "outputs": [],
   "source": [
    "miss_dates = []\n",
    "for row in ds:\n",
    "    if 'M' in str(row[1]):\n",
    "        miss_dates.append(row[0])"
   ]
  },
  {
   "cell_type": "code",
   "execution_count": 5,
   "metadata": {},
   "outputs": [],
   "source": [
    "for row in ds:\n",
    "    a = datetime.strptime(row[0],'%m/%d/%Y %H:%M:%S')\n",
    "    row[0] = datetime.timestamp(a)"
   ]
  },
  {
   "cell_type": "code",
   "execution_count": 6,
   "metadata": {},
   "outputs": [],
   "source": [
    "miss_vals = []\n",
    "for row in ds:\n",
    "    if 'M' in str(row[1]):\n",
    "        miss_vals.append(row[0])\n",
    "        row[1] = np.nan\n",
    "    else:\n",
    "        row[1] = float(row[1])"
   ]
  },
  {
   "cell_type": "code",
   "execution_count": 7,
   "metadata": {},
   "outputs": [],
   "source": [
    "miss_vals = np.array(miss_vals)\n",
    "miss_vals = miss_vals.reshape(-1,1)"
   ]
  },
  {
   "cell_type": "code",
   "execution_count": 8,
   "metadata": {},
   "outputs": [],
   "source": [
    "ds = pd.DataFrame(ds)\n",
    "ds = ds.dropna().values"
   ]
  },
  {
   "cell_type": "markdown",
   "metadata": {},
   "source": [
    "### Implementing Random Forest"
   ]
  },
  {
   "cell_type": "code",
   "execution_count": 9,
   "metadata": {},
   "outputs": [],
   "source": [
    "X = ds[:,0:1]\n",
    "y = ds[:,1:2]"
   ]
  },
  {
   "cell_type": "code",
   "execution_count": 10,
   "metadata": {},
   "outputs": [
    {
     "name": "stderr",
     "output_type": "stream",
     "text": [
      "<ipython-input-10-54fade2e494d>:4: DataConversionWarning: A column-vector y was passed when a 1d array was expected. Please change the shape of y to (n_samples,), for example using ravel().\n",
      "  regressor.fit(X,y)\n"
     ]
    },
    {
     "data": {
      "text/plain": [
       "RandomForestRegressor(bootstrap=True, ccp_alpha=0.0, criterion='mse',\n",
       "                      max_depth=None, max_features='auto', max_leaf_nodes=None,\n",
       "                      max_samples=None, min_impurity_decrease=0.0,\n",
       "                      min_impurity_split=None, min_samples_leaf=1,\n",
       "                      min_samples_split=2, min_weight_fraction_leaf=0.0,\n",
       "                      n_estimators=100, n_jobs=None, oob_score=False,\n",
       "                      random_state=None, verbose=0, warm_start=False)"
      ]
     },
     "execution_count": 10,
     "metadata": {},
     "output_type": "execute_result"
    }
   ],
   "source": [
    "from sklearn.ensemble import RandomForestRegressor\n",
    "\n",
    "regressor = RandomForestRegressor()\n",
    "regressor.fit(X,y)"
   ]
  },
  {
   "cell_type": "code",
   "execution_count": 11,
   "metadata": {},
   "outputs": [],
   "source": [
    "predict = regressor.predict(miss_vals)"
   ]
  },
  {
   "cell_type": "code",
   "execution_count": 12,
   "metadata": {},
   "outputs": [
    {
     "data": {
      "text/html": [
       "<div>\n",
       "<style scoped>\n",
       "    .dataframe tbody tr th:only-of-type {\n",
       "        vertical-align: middle;\n",
       "    }\n",
       "\n",
       "    .dataframe tbody tr th {\n",
       "        vertical-align: top;\n",
       "    }\n",
       "\n",
       "    .dataframe thead th {\n",
       "        text-align: right;\n",
       "    }\n",
       "</style>\n",
       "<table border=\"1\" class=\"dataframe\">\n",
       "  <thead>\n",
       "    <tr style=\"text-align: right;\">\n",
       "      <th></th>\n",
       "      <th>Dates</th>\n",
       "      <th>Missing Values</th>\n",
       "    </tr>\n",
       "  </thead>\n",
       "  <tbody>\n",
       "    <tr>\n",
       "      <th>0</th>\n",
       "      <td>3/13/2012 16:00:00</td>\n",
       "      <td>32.506300</td>\n",
       "    </tr>\n",
       "    <tr>\n",
       "      <th>1</th>\n",
       "      <td>3/21/2012 16:00:00</td>\n",
       "      <td>32.171800</td>\n",
       "    </tr>\n",
       "    <tr>\n",
       "      <th>2</th>\n",
       "      <td>3/26/2012 16:00:00</td>\n",
       "      <td>32.619400</td>\n",
       "    </tr>\n",
       "    <tr>\n",
       "      <th>3</th>\n",
       "      <td>5/24/2012 16:00:00</td>\n",
       "      <td>29.447800</td>\n",
       "    </tr>\n",
       "    <tr>\n",
       "      <th>4</th>\n",
       "      <td>6/1/2012 16:00:00</td>\n",
       "      <td>29.445140</td>\n",
       "    </tr>\n",
       "    <tr>\n",
       "      <th>5</th>\n",
       "      <td>6/4/2012 16:00:00</td>\n",
       "      <td>28.981400</td>\n",
       "    </tr>\n",
       "    <tr>\n",
       "      <th>6</th>\n",
       "      <td>7/20/2012 16:00:00</td>\n",
       "      <td>30.591900</td>\n",
       "    </tr>\n",
       "    <tr>\n",
       "      <th>7</th>\n",
       "      <td>7/23/2012 16:00:00</td>\n",
       "      <td>29.540700</td>\n",
       "    </tr>\n",
       "    <tr>\n",
       "      <th>8</th>\n",
       "      <td>7/26/2012 16:00:00</td>\n",
       "      <td>29.499200</td>\n",
       "    </tr>\n",
       "    <tr>\n",
       "      <th>9</th>\n",
       "      <td>9/10/2012 16:00:00</td>\n",
       "      <td>30.984300</td>\n",
       "    </tr>\n",
       "    <tr>\n",
       "      <th>10</th>\n",
       "      <td>9/17/2012 16:00:00</td>\n",
       "      <td>31.219000</td>\n",
       "    </tr>\n",
       "    <tr>\n",
       "      <th>11</th>\n",
       "      <td>9/20/2012 16:00:00</td>\n",
       "      <td>31.311300</td>\n",
       "    </tr>\n",
       "    <tr>\n",
       "      <th>12</th>\n",
       "      <td>10/9/2012 16:00:00</td>\n",
       "      <td>29.707900</td>\n",
       "    </tr>\n",
       "    <tr>\n",
       "      <th>13</th>\n",
       "      <td>10/10/2012 16:00:00</td>\n",
       "      <td>29.460000</td>\n",
       "    </tr>\n",
       "    <tr>\n",
       "      <th>14</th>\n",
       "      <td>10/15/2012 16:00:00</td>\n",
       "      <td>29.669800</td>\n",
       "    </tr>\n",
       "    <tr>\n",
       "      <th>15</th>\n",
       "      <td>10/31/2012 16:00:00</td>\n",
       "      <td>29.566650</td>\n",
       "    </tr>\n",
       "    <tr>\n",
       "      <th>16</th>\n",
       "      <td>11/6/2012 16:00:00</td>\n",
       "      <td>29.740850</td>\n",
       "    </tr>\n",
       "    <tr>\n",
       "      <th>17</th>\n",
       "      <td>11/13/2012 16:00:00</td>\n",
       "      <td>28.450800</td>\n",
       "    </tr>\n",
       "    <tr>\n",
       "      <th>18</th>\n",
       "      <td>11/16/2012 16:00:00</td>\n",
       "      <td>27.148566</td>\n",
       "    </tr>\n",
       "    <tr>\n",
       "      <th>19</th>\n",
       "      <td>12/13/2012 16:00:00</td>\n",
       "      <td>27.457800</td>\n",
       "    </tr>\n",
       "  </tbody>\n",
       "</table>\n",
       "</div>"
      ],
      "text/plain": [
       "                  Dates  Missing Values\n",
       "0    3/13/2012 16:00:00       32.506300\n",
       "1    3/21/2012 16:00:00       32.171800\n",
       "2    3/26/2012 16:00:00       32.619400\n",
       "3    5/24/2012 16:00:00       29.447800\n",
       "4     6/1/2012 16:00:00       29.445140\n",
       "5     6/4/2012 16:00:00       28.981400\n",
       "6    7/20/2012 16:00:00       30.591900\n",
       "7    7/23/2012 16:00:00       29.540700\n",
       "8    7/26/2012 16:00:00       29.499200\n",
       "9    9/10/2012 16:00:00       30.984300\n",
       "10   9/17/2012 16:00:00       31.219000\n",
       "11   9/20/2012 16:00:00       31.311300\n",
       "12   10/9/2012 16:00:00       29.707900\n",
       "13  10/10/2012 16:00:00       29.460000\n",
       "14  10/15/2012 16:00:00       29.669800\n",
       "15  10/31/2012 16:00:00       29.566650\n",
       "16   11/6/2012 16:00:00       29.740850\n",
       "17  11/13/2012 16:00:00       28.450800\n",
       "18  11/16/2012 16:00:00       27.148566\n",
       "19  12/13/2012 16:00:00       27.457800"
      ]
     },
     "execution_count": 12,
     "metadata": {},
     "output_type": "execute_result"
    }
   ],
   "source": [
    "data = {'Dates' : miss_dates, 'Missing Values' : predict}\n",
    "ds_miss = pd.DataFrame(data)\n",
    "ds_miss"
   ]
  },
  {
   "cell_type": "markdown",
   "metadata": {},
   "source": [
    "We now evaluate our model by comparing our predicted values with the real values of the missing data. "
   ]
  },
  {
   "cell_type": "code",
   "execution_count": 13,
   "metadata": {},
   "outputs": [],
   "source": [
    "real_vals = pd.read_csv('..\\Mercury_measurement_missing.txt', header = None).values"
   ]
  },
  {
   "cell_type": "code",
   "execution_count": 14,
   "metadata": {},
   "outputs": [],
   "source": [
    "real_vals = real_vals.reshape(1,-1)"
   ]
  },
  {
   "cell_type": "code",
   "execution_count": 15,
   "metadata": {},
   "outputs": [
    {
     "data": {
      "text/plain": [
       "0.3753999973998419"
      ]
     },
     "execution_count": 15,
     "metadata": {},
     "output_type": "execute_result"
    }
   ],
   "source": [
    "rmse = np.sqrt(np.mean((real_vals - predict)**2))\n",
    "rmse"
   ]
  }
 ],
 "metadata": {
  "kernelspec": {
   "display_name": "Python 3",
   "language": "python",
   "name": "python3"
  },
  "language_info": {
   "codemirror_mode": {
    "name": "ipython",
    "version": 3
   },
   "file_extension": ".py",
   "mimetype": "text/x-python",
   "name": "python",
   "nbconvert_exporter": "python",
   "pygments_lexer": "ipython3",
   "version": "3.6.8"
  }
 },
 "nbformat": 4,
 "nbformat_minor": 4
}
