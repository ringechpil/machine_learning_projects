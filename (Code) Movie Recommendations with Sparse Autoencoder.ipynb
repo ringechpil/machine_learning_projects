{
 "cells": [
  {
   "cell_type": "markdown",
   "metadata": {},
   "source": [
    "### Project Description\n",
    "\n",
    "We're provided with a dataset of users and movies which shows how each user has rated some of the movies from the list. Using the sparse autoencoder, we want to build a machine learning model which will be able to predict how good it would be to recommend to a user a movie that they didn't watch. "
   ]
  },
  {
   "cell_type": "markdown",
   "metadata": {},
   "source": [
    "### The Approach\n",
    "\n",
    "The project consists of the following steps:\n",
    "\n",
    "1. Importing end exploring the movie ratings database\n",
    "2. Categorizing the movie ratings into a recommendation classes\n",
    "3. Preprocessing the data into 2D tensors containing users and movie ratings, and splitting the ratings into train and the test set\n",
    "4. Building and training the autoencoder\n",
    "5. Evaluating the performace on a test set, and then trying to reconstruct the whole rating data from a part of the data"
   ]
  },
  {
   "cell_type": "markdown",
   "metadata": {},
   "source": [
    "### Importing the Dataset\n",
    "\n",
    "First we'll import the necessary libraries and the ratings dataset."
   ]
  },
  {
   "cell_type": "code",
   "execution_count": 1,
   "metadata": {},
   "outputs": [],
   "source": [
    "import numpy as np\n",
    "import pandas as pd\n",
    "import seaborn as sns\n",
    "import random\n",
    "import torch\n",
    "import matplotlib.pyplot as plt\n",
    "%matplotlib inline"
   ]
  },
  {
   "cell_type": "code",
   "execution_count": 2,
   "metadata": {},
   "outputs": [
    {
     "data": {
      "text/html": [
       "<div>\n",
       "<style scoped>\n",
       "    .dataframe tbody tr th:only-of-type {\n",
       "        vertical-align: middle;\n",
       "    }\n",
       "\n",
       "    .dataframe tbody tr th {\n",
       "        vertical-align: top;\n",
       "    }\n",
       "\n",
       "    .dataframe thead th {\n",
       "        text-align: right;\n",
       "    }\n",
       "</style>\n",
       "<table border=\"1\" class=\"dataframe\">\n",
       "  <thead>\n",
       "    <tr style=\"text-align: right;\">\n",
       "      <th></th>\n",
       "      <th>0</th>\n",
       "      <th>1</th>\n",
       "      <th>2</th>\n",
       "      <th>3</th>\n",
       "    </tr>\n",
       "  </thead>\n",
       "  <tbody>\n",
       "    <tr>\n",
       "      <th>0</th>\n",
       "      <td>1</td>\n",
       "      <td>1193</td>\n",
       "      <td>5</td>\n",
       "      <td>978300760</td>\n",
       "    </tr>\n",
       "    <tr>\n",
       "      <th>1</th>\n",
       "      <td>1</td>\n",
       "      <td>661</td>\n",
       "      <td>3</td>\n",
       "      <td>978302109</td>\n",
       "    </tr>\n",
       "    <tr>\n",
       "      <th>2</th>\n",
       "      <td>1</td>\n",
       "      <td>914</td>\n",
       "      <td>3</td>\n",
       "      <td>978301968</td>\n",
       "    </tr>\n",
       "    <tr>\n",
       "      <th>3</th>\n",
       "      <td>1</td>\n",
       "      <td>3408</td>\n",
       "      <td>4</td>\n",
       "      <td>978300275</td>\n",
       "    </tr>\n",
       "    <tr>\n",
       "      <th>4</th>\n",
       "      <td>1</td>\n",
       "      <td>2355</td>\n",
       "      <td>5</td>\n",
       "      <td>978824291</td>\n",
       "    </tr>\n",
       "  </tbody>\n",
       "</table>\n",
       "</div>"
      ],
      "text/plain": [
       "   0     1  2          3\n",
       "0  1  1193  5  978300760\n",
       "1  1   661  3  978302109\n",
       "2  1   914  3  978301968\n",
       "3  1  3408  4  978300275\n",
       "4  1  2355  5  978824291"
      ]
     },
     "execution_count": 2,
     "metadata": {},
     "output_type": "execute_result"
    }
   ],
   "source": [
    "ratings = pd.read_csv('./ml-1m/ratings.dat', sep = '::',\n",
    "                  header = None, engine = 'python')\n",
    "ratings.head()"
   ]
  },
  {
   "cell_type": "code",
   "execution_count": 3,
   "metadata": {},
   "outputs": [
    {
     "data": {
      "text/html": [
       "<div>\n",
       "<style scoped>\n",
       "    .dataframe tbody tr th:only-of-type {\n",
       "        vertical-align: middle;\n",
       "    }\n",
       "\n",
       "    .dataframe tbody tr th {\n",
       "        vertical-align: top;\n",
       "    }\n",
       "\n",
       "    .dataframe thead th {\n",
       "        text-align: right;\n",
       "    }\n",
       "</style>\n",
       "<table border=\"1\" class=\"dataframe\">\n",
       "  <thead>\n",
       "    <tr style=\"text-align: right;\">\n",
       "      <th></th>\n",
       "      <th>UserID</th>\n",
       "      <th>MovieID</th>\n",
       "      <th>Rating</th>\n",
       "      <th>Timestamp</th>\n",
       "    </tr>\n",
       "  </thead>\n",
       "  <tbody>\n",
       "    <tr>\n",
       "      <th>0</th>\n",
       "      <td>1</td>\n",
       "      <td>1193</td>\n",
       "      <td>5</td>\n",
       "      <td>978300760</td>\n",
       "    </tr>\n",
       "    <tr>\n",
       "      <th>1</th>\n",
       "      <td>1</td>\n",
       "      <td>661</td>\n",
       "      <td>3</td>\n",
       "      <td>978302109</td>\n",
       "    </tr>\n",
       "    <tr>\n",
       "      <th>2</th>\n",
       "      <td>1</td>\n",
       "      <td>914</td>\n",
       "      <td>3</td>\n",
       "      <td>978301968</td>\n",
       "    </tr>\n",
       "    <tr>\n",
       "      <th>3</th>\n",
       "      <td>1</td>\n",
       "      <td>3408</td>\n",
       "      <td>4</td>\n",
       "      <td>978300275</td>\n",
       "    </tr>\n",
       "    <tr>\n",
       "      <th>4</th>\n",
       "      <td>1</td>\n",
       "      <td>2355</td>\n",
       "      <td>5</td>\n",
       "      <td>978824291</td>\n",
       "    </tr>\n",
       "  </tbody>\n",
       "</table>\n",
       "</div>"
      ],
      "text/plain": [
       "   UserID  MovieID  Rating  Timestamp\n",
       "0       1     1193       5  978300760\n",
       "1       1      661       3  978302109\n",
       "2       1      914       3  978301968\n",
       "3       1     3408       4  978300275\n",
       "4       1     2355       5  978824291"
      ]
     },
     "execution_count": 3,
     "metadata": {},
     "output_type": "execute_result"
    }
   ],
   "source": [
    "#renaming the columns for a clear interpretation\n",
    "ratings.columns = ['UserID','MovieID','Rating','Timestamp']\n",
    "ratings.head()"
   ]
  },
  {
   "cell_type": "markdown",
   "metadata": {},
   "source": [
    "We don't need the `Timestamp` column for this project, so we'll omit it. "
   ]
  },
  {
   "cell_type": "code",
   "execution_count": 4,
   "metadata": {},
   "outputs": [
    {
     "data": {
      "text/html": [
       "<div>\n",
       "<style scoped>\n",
       "    .dataframe tbody tr th:only-of-type {\n",
       "        vertical-align: middle;\n",
       "    }\n",
       "\n",
       "    .dataframe tbody tr th {\n",
       "        vertical-align: top;\n",
       "    }\n",
       "\n",
       "    .dataframe thead th {\n",
       "        text-align: right;\n",
       "    }\n",
       "</style>\n",
       "<table border=\"1\" class=\"dataframe\">\n",
       "  <thead>\n",
       "    <tr style=\"text-align: right;\">\n",
       "      <th></th>\n",
       "      <th>UserID</th>\n",
       "      <th>MovieID</th>\n",
       "      <th>Rating</th>\n",
       "    </tr>\n",
       "  </thead>\n",
       "  <tbody>\n",
       "    <tr>\n",
       "      <th>0</th>\n",
       "      <td>1</td>\n",
       "      <td>1193</td>\n",
       "      <td>5</td>\n",
       "    </tr>\n",
       "    <tr>\n",
       "      <th>1</th>\n",
       "      <td>1</td>\n",
       "      <td>661</td>\n",
       "      <td>3</td>\n",
       "    </tr>\n",
       "    <tr>\n",
       "      <th>2</th>\n",
       "      <td>1</td>\n",
       "      <td>914</td>\n",
       "      <td>3</td>\n",
       "    </tr>\n",
       "    <tr>\n",
       "      <th>3</th>\n",
       "      <td>1</td>\n",
       "      <td>3408</td>\n",
       "      <td>4</td>\n",
       "    </tr>\n",
       "    <tr>\n",
       "      <th>4</th>\n",
       "      <td>1</td>\n",
       "      <td>2355</td>\n",
       "      <td>5</td>\n",
       "    </tr>\n",
       "  </tbody>\n",
       "</table>\n",
       "</div>"
      ],
      "text/plain": [
       "   UserID  MovieID  Rating\n",
       "0       1     1193       5\n",
       "1       1      661       3\n",
       "2       1      914       3\n",
       "3       1     3408       4\n",
       "4       1     2355       5"
      ]
     },
     "execution_count": 4,
     "metadata": {},
     "output_type": "execute_result"
    }
   ],
   "source": [
    "ratings = ratings.drop(columns = ['Timestamp'])\n",
    "ratings.head()"
   ]
  },
  {
   "cell_type": "code",
   "execution_count": 5,
   "metadata": {
    "scrolled": true
   },
   "outputs": [
    {
     "name": "stdout",
     "output_type": "stream",
     "text": [
      "<class 'pandas.core.frame.DataFrame'>\n",
      "RangeIndex: 1000209 entries, 0 to 1000208\n",
      "Data columns (total 3 columns):\n",
      " #   Column   Non-Null Count    Dtype\n",
      "---  ------   --------------    -----\n",
      " 0   UserID   1000209 non-null  int64\n",
      " 1   MovieID  1000209 non-null  int64\n",
      " 2   Rating   1000209 non-null  int64\n",
      "dtypes: int64(3)\n",
      "memory usage: 22.9 MB\n"
     ]
    }
   ],
   "source": [
    "ratings.info()"
   ]
  },
  {
   "cell_type": "markdown",
   "metadata": {},
   "source": [
    "The dataset is clean, and we can immediatly work with it. However, it would be nice to know what movie stands behind a certain ID. That's why we'll read in one more dataset, with the movie info."
   ]
  },
  {
   "cell_type": "code",
   "execution_count": 6,
   "metadata": {},
   "outputs": [
    {
     "data": {
      "text/html": [
       "<div>\n",
       "<style scoped>\n",
       "    .dataframe tbody tr th:only-of-type {\n",
       "        vertical-align: middle;\n",
       "    }\n",
       "\n",
       "    .dataframe tbody tr th {\n",
       "        vertical-align: top;\n",
       "    }\n",
       "\n",
       "    .dataframe thead th {\n",
       "        text-align: right;\n",
       "    }\n",
       "</style>\n",
       "<table border=\"1\" class=\"dataframe\">\n",
       "  <thead>\n",
       "    <tr style=\"text-align: right;\">\n",
       "      <th></th>\n",
       "      <th>0</th>\n",
       "      <th>1</th>\n",
       "      <th>2</th>\n",
       "    </tr>\n",
       "  </thead>\n",
       "  <tbody>\n",
       "    <tr>\n",
       "      <th>0</th>\n",
       "      <td>1</td>\n",
       "      <td>Toy Story (1995)</td>\n",
       "      <td>Animation|Children's|Comedy</td>\n",
       "    </tr>\n",
       "    <tr>\n",
       "      <th>1</th>\n",
       "      <td>2</td>\n",
       "      <td>Jumanji (1995)</td>\n",
       "      <td>Adventure|Children's|Fantasy</td>\n",
       "    </tr>\n",
       "    <tr>\n",
       "      <th>2</th>\n",
       "      <td>3</td>\n",
       "      <td>Grumpier Old Men (1995)</td>\n",
       "      <td>Comedy|Romance</td>\n",
       "    </tr>\n",
       "    <tr>\n",
       "      <th>3</th>\n",
       "      <td>4</td>\n",
       "      <td>Waiting to Exhale (1995)</td>\n",
       "      <td>Comedy|Drama</td>\n",
       "    </tr>\n",
       "    <tr>\n",
       "      <th>4</th>\n",
       "      <td>5</td>\n",
       "      <td>Father of the Bride Part II (1995)</td>\n",
       "      <td>Comedy</td>\n",
       "    </tr>\n",
       "  </tbody>\n",
       "</table>\n",
       "</div>"
      ],
      "text/plain": [
       "   0                                   1                             2\n",
       "0  1                    Toy Story (1995)   Animation|Children's|Comedy\n",
       "1  2                      Jumanji (1995)  Adventure|Children's|Fantasy\n",
       "2  3             Grumpier Old Men (1995)                Comedy|Romance\n",
       "3  4            Waiting to Exhale (1995)                  Comedy|Drama\n",
       "4  5  Father of the Bride Part II (1995)                        Comedy"
      ]
     },
     "execution_count": 6,
     "metadata": {},
     "output_type": "execute_result"
    }
   ],
   "source": [
    "#loading the movie info dataset\n",
    "movies = pd.read_csv('./ml-1m/movies.dat', sep = '::',\n",
    "                    header = None, engine = 'python')\n",
    "\n",
    "movies.head()"
   ]
  },
  {
   "cell_type": "code",
   "execution_count": 7,
   "metadata": {},
   "outputs": [
    {
     "data": {
      "text/html": [
       "<div>\n",
       "<style scoped>\n",
       "    .dataframe tbody tr th:only-of-type {\n",
       "        vertical-align: middle;\n",
       "    }\n",
       "\n",
       "    .dataframe tbody tr th {\n",
       "        vertical-align: top;\n",
       "    }\n",
       "\n",
       "    .dataframe thead th {\n",
       "        text-align: right;\n",
       "    }\n",
       "</style>\n",
       "<table border=\"1\" class=\"dataframe\">\n",
       "  <thead>\n",
       "    <tr style=\"text-align: right;\">\n",
       "      <th></th>\n",
       "      <th>MovieID</th>\n",
       "      <th>Name</th>\n",
       "      <th>Genre</th>\n",
       "    </tr>\n",
       "  </thead>\n",
       "  <tbody>\n",
       "    <tr>\n",
       "      <th>0</th>\n",
       "      <td>1</td>\n",
       "      <td>Toy Story (1995)</td>\n",
       "      <td>Animation|Children's|Comedy</td>\n",
       "    </tr>\n",
       "    <tr>\n",
       "      <th>1</th>\n",
       "      <td>2</td>\n",
       "      <td>Jumanji (1995)</td>\n",
       "      <td>Adventure|Children's|Fantasy</td>\n",
       "    </tr>\n",
       "    <tr>\n",
       "      <th>2</th>\n",
       "      <td>3</td>\n",
       "      <td>Grumpier Old Men (1995)</td>\n",
       "      <td>Comedy|Romance</td>\n",
       "    </tr>\n",
       "    <tr>\n",
       "      <th>3</th>\n",
       "      <td>4</td>\n",
       "      <td>Waiting to Exhale (1995)</td>\n",
       "      <td>Comedy|Drama</td>\n",
       "    </tr>\n",
       "    <tr>\n",
       "      <th>4</th>\n",
       "      <td>5</td>\n",
       "      <td>Father of the Bride Part II (1995)</td>\n",
       "      <td>Comedy</td>\n",
       "    </tr>\n",
       "  </tbody>\n",
       "</table>\n",
       "</div>"
      ],
      "text/plain": [
       "   MovieID                                Name                         Genre\n",
       "0        1                    Toy Story (1995)   Animation|Children's|Comedy\n",
       "1        2                      Jumanji (1995)  Adventure|Children's|Fantasy\n",
       "2        3             Grumpier Old Men (1995)                Comedy|Romance\n",
       "3        4            Waiting to Exhale (1995)                  Comedy|Drama\n",
       "4        5  Father of the Bride Part II (1995)                        Comedy"
      ]
     },
     "execution_count": 7,
     "metadata": {},
     "output_type": "execute_result"
    }
   ],
   "source": [
    "#renaming columns for a clear interpretation\n",
    "movies.columns = ['MovieID', 'Name', 'Genre']\n",
    "movies.head()"
   ]
  },
  {
   "cell_type": "code",
   "execution_count": 8,
   "metadata": {},
   "outputs": [
    {
     "name": "stdout",
     "output_type": "stream",
     "text": [
      "<class 'pandas.core.frame.DataFrame'>\n",
      "RangeIndex: 3883 entries, 0 to 3882\n",
      "Data columns (total 3 columns):\n",
      " #   Column   Non-Null Count  Dtype \n",
      "---  ------   --------------  ----- \n",
      " 0   MovieID  3883 non-null   int64 \n",
      " 1   Name     3883 non-null   object\n",
      " 2   Genre    3883 non-null   object\n",
      "dtypes: int64(1), object(2)\n",
      "memory usage: 91.1+ KB\n"
     ]
    }
   ],
   "source": [
    "movies.info()"
   ]
  },
  {
   "cell_type": "markdown",
   "metadata": {},
   "source": [
    "The movies dataset is also completely clean."
   ]
  },
  {
   "cell_type": "markdown",
   "metadata": {},
   "source": [
    "### Categorizing the Ratings\n",
    "\n",
    "Let's now check how the ratings are distributed."
   ]
  },
  {
   "cell_type": "code",
   "execution_count": 9,
   "metadata": {},
   "outputs": [
    {
     "data": {
      "image/png": "[encoded data removed]",
      "text/plain": [
       "<Figure size 432x288 with 1 Axes>"
      ]
     },
     "metadata": {
      "needs_background": "light"
     },
     "output_type": "display_data"
    }
   ],
   "source": [
    "sns.countplot(y = 'Rating', data = ratings);"
   ]
  },
  {
   "cell_type": "markdown",
   "metadata": {},
   "source": [
    "We see that 3-5 star ratings are the most common, with 4-star ratings being the predominant. \n",
    "\n",
    "Now we separate the ratings into three classes `good` (having 5 or 4 stars), `mediocre` (having 3 stars) and `bad` (having only 1 or 2 stars).  For the training purpose we will encode these categories as 3, 2 and 1, respectively. In the recommendation sense, we can interpret the `good` category as the movie we would most likely recommend, `mediocre` as a low-chance recommendation, and `bad` as the movies we wouldn't recommend."
   ]
  },
  {
   "cell_type": "code",
   "execution_count": 10,
   "metadata": {},
   "outputs": [],
   "source": [
    "labels = pd.cut(ratings['Rating'], bins = [0,2,3,5], \n",
    "                        labels = [1, 2, 3])\n",
    "\n",
    "label_names = ['bad', 'mediocre', 'good']"
   ]
  },
  {
   "cell_type": "code",
   "execution_count": 11,
   "metadata": {},
   "outputs": [
    {
     "data": {
      "text/html": [
       "<div>\n",
       "<style scoped>\n",
       "    .dataframe tbody tr th:only-of-type {\n",
       "        vertical-align: middle;\n",
       "    }\n",
       "\n",
       "    .dataframe tbody tr th {\n",
       "        vertical-align: top;\n",
       "    }\n",
       "\n",
       "    .dataframe thead th {\n",
       "        text-align: right;\n",
       "    }\n",
       "</style>\n",
       "<table border=\"1\" class=\"dataframe\">\n",
       "  <thead>\n",
       "    <tr style=\"text-align: right;\">\n",
       "      <th></th>\n",
       "      <th>UserID</th>\n",
       "      <th>MovieID</th>\n",
       "      <th>Rating Category</th>\n",
       "    </tr>\n",
       "  </thead>\n",
       "  <tbody>\n",
       "    <tr>\n",
       "      <th>0</th>\n",
       "      <td>1</td>\n",
       "      <td>1193</td>\n",
       "      <td>3</td>\n",
       "    </tr>\n",
       "    <tr>\n",
       "      <th>1</th>\n",
       "      <td>1</td>\n",
       "      <td>661</td>\n",
       "      <td>2</td>\n",
       "    </tr>\n",
       "    <tr>\n",
       "      <th>2</th>\n",
       "      <td>1</td>\n",
       "      <td>914</td>\n",
       "      <td>2</td>\n",
       "    </tr>\n",
       "    <tr>\n",
       "      <th>3</th>\n",
       "      <td>1</td>\n",
       "      <td>3408</td>\n",
       "      <td>3</td>\n",
       "    </tr>\n",
       "    <tr>\n",
       "      <th>4</th>\n",
       "      <td>1</td>\n",
       "      <td>2355</td>\n",
       "      <td>3</td>\n",
       "    </tr>\n",
       "  </tbody>\n",
       "</table>\n",
       "</div>"
      ],
      "text/plain": [
       "   UserID  MovieID Rating Category\n",
       "0       1     1193               3\n",
       "1       1      661               2\n",
       "2       1      914               2\n",
       "3       1     3408               3\n",
       "4       1     2355               3"
      ]
     },
     "execution_count": 11,
     "metadata": {},
     "output_type": "execute_result"
    }
   ],
   "source": [
    "ratings['Rating'] = labels\n",
    "ratings = ratings.rename(columns = {'Rating' : 'Rating Category'})\n",
    "ratings.head()"
   ]
  },
  {
   "cell_type": "code",
   "execution_count": 12,
   "metadata": {},
   "outputs": [
    {
     "data": {
      "image/png": "[encoded data removed]",
      "text/plain": [
       "<Figure size 432x288 with 1 Axes>"
      ]
     },
     "metadata": {
      "needs_background": "light"
     },
     "output_type": "display_data"
    }
   ],
   "source": [
    "cplt = sns.countplot(ratings['Rating Category'])\n",
    "cplt.set(xticklabels = label_names);"
   ]
  },
  {
   "cell_type": "markdown",
   "metadata": {},
   "source": [
    "We see that the good ratings are significantly predominating the bad and the mediocre ones, which means that we're dealing with the imbalanced dataset. "
   ]
  },
  {
   "cell_type": "markdown",
   "metadata": {},
   "source": [
    "### Data Preprocessing\n",
    "\n",
    "Now we need to separate our dataset into a training and test set. Even though we're building an unsupervised learning model, we will use the labels in order to stratify the separation, and thus combat the dataset imbalance."
   ]
  },
  {
   "cell_type": "code",
   "execution_count": 13,
   "metadata": {},
   "outputs": [],
   "source": [
    "X = ratings\n",
    "y = labels"
   ]
  },
  {
   "cell_type": "code",
   "execution_count": 14,
   "metadata": {},
   "outputs": [
    {
     "data": {
      "text/plain": [
       "((750156, 3), (250053, 3))"
      ]
     },
     "execution_count": 14,
     "metadata": {},
     "output_type": "execute_result"
    }
   ],
   "source": [
    "from sklearn.model_selection import train_test_split\n",
    "\n",
    "X_train, X_test = train_test_split(X, test_size = 0.25,\n",
    "                                  stratify = y, random_state = 91)\n",
    "\n",
    "X_train.shape, X_test.shape"
   ]
  },
  {
   "cell_type": "markdown",
   "metadata": {},
   "source": [
    "Since we are going to build the model using PyTorch, we need to convert the data into the appropriate format, which is list of lists. Each sublist of this list represents a user, and each entry of the sublist a rating for the every movie. "
   ]
  },
  {
   "cell_type": "code",
   "execution_count": 15,
   "metadata": {},
   "outputs": [
    {
     "name": "stdout",
     "output_type": "stream",
     "text": [
      "A total number of 6040 users have rated a total number of 3952 movies.\n"
     ]
    }
   ],
   "source": [
    "num_of_users = max(ratings['UserID'])\n",
    "num_of_movies = max(ratings['MovieID'])\n",
    "print(f'A total number of {num_of_users} users have rated a total number of {num_of_movies} movies.')"
   ]
  },
  {
   "cell_type": "code",
   "execution_count": 16,
   "metadata": {},
   "outputs": [],
   "source": [
    "def convert_data(data):\n",
    "    \n",
    "    '''Transforms the data into a list of lists.'''\n",
    "\n",
    "    conv_data = []\n",
    "\n",
    "    for i in range(1, num_of_users + 1):\n",
    "        rat_cat = np.zeros(num_of_movies)\n",
    "        movie_ids = data[data['UserID'] == i]['MovieID']\n",
    "        movie_rats = data[data['UserID'] == i]['Rating Category']\n",
    "\n",
    "        rat_cat[movie_ids - 1] = movie_rats\n",
    "        conv_data.append(rat_cat)\n",
    "    \n",
    "    return conv_data"
   ]
  },
  {
   "cell_type": "code",
   "execution_count": 17,
   "metadata": {},
   "outputs": [],
   "source": [
    "X_train = convert_data(X_train)\n",
    "X_test = convert_data(X_test)"
   ]
  },
  {
   "cell_type": "code",
   "execution_count": 18,
   "metadata": {},
   "outputs": [],
   "source": [
    "#converting the list of lists into a PyTorch tensor\n",
    "X_train = torch.FloatTensor(X_train)\n",
    "X_test = torch.FloatTensor(X_test)"
   ]
  },
  {
   "cell_type": "code",
   "execution_count": 19,
   "metadata": {},
   "outputs": [
    {
     "data": {
      "text/plain": [
       "(torch.Size([6040, 3952]), torch.Size([6040, 3952]))"
      ]
     },
     "execution_count": 19,
     "metadata": {},
     "output_type": "execute_result"
    }
   ],
   "source": [
    "X_train.shape, X_test.shape"
   ]
  },
  {
   "cell_type": "markdown",
   "metadata": {},
   "source": [
    "So, now we have 2D tensors (i.e. matrices) where each row corresponds to a user, and each column to a movie. The value $a_{ij}\\in\\{1,2,3\\}$ of a given tensor means that the user $i$ has rated a movie $j$ giving it a category rating of 1, 2 or 3. If $a_{ij} = 0$, then that means that the user $i$ did not rate movie $j$. "
   ]
  },
  {
   "cell_type": "markdown",
   "metadata": {},
   "source": [
    "### Building and Training the Autoencoder\n",
    "\n",
    "Now it's time to build our autoencoder. It consists of five layers, the outside layers representing the ratings of a user, inside layers having 20 nodes, and the middle layer having 10 nodes. We will use the `RMSprop` as the optimizer. "
   ]
  },
  {
   "cell_type": "code",
   "execution_count": 20,
   "metadata": {},
   "outputs": [],
   "source": [
    "import torch.nn as nn\n",
    "import torch.optim as optim\n",
    "\n",
    "#building the sparse autoencoder\n",
    "class SAE(nn.Module):\n",
    "    \n",
    "    #defining the architecture of the autoencoder\n",
    "    def __init__(self, ):\n",
    "        super().__init__()\n",
    "        #fully connected layers\n",
    "        self.fc1 = nn.Linear(num_of_movies, 20)\n",
    "        self.fc2 = nn.Linear(20,10)\n",
    "        self.fc3 = nn.Linear(10,20)\n",
    "        self.fc4 = nn.Linear(20, num_of_movies)\n",
    "        #activation function\n",
    "        self.activation = nn.Sigmoid()\n",
    "        \n",
    "    #forward propagation\n",
    "    def forward(self,x):\n",
    "        x = self.activation(self.fc1(x))\n",
    "        x = self.activation(self.fc2(x))\n",
    "        x = self.activation(self.fc3(x))\n",
    "        x = self.fc4(x)\n",
    "        \n",
    "        return x"
   ]
  },
  {
   "cell_type": "code",
   "execution_count": 21,
   "metadata": {},
   "outputs": [],
   "source": [
    "#compiling the autoencoder\n",
    "sparse_autoenc = SAE()\n",
    "loss_func = nn.MSELoss()\n",
    "optimizer = optim.RMSprop(sparse_autoenc.parameters(),\n",
    "                         lr = 0.01, weight_decay = 0.5)"
   ]
  },
  {
   "cell_type": "markdown",
   "metadata": {},
   "source": [
    "We now train the autoencoder. The training set represents just a portion of the total ratings each user has given to all the movies they have rated. By trying to reconstruct this portion of the data, the autoencoder will perform an unsupervised learning."
   ]
  },
  {
   "cell_type": "code",
   "execution_count": 22,
   "metadata": {
    "scrolled": true
   },
   "outputs": [],
   "source": [
    "#training the auntoencoder\n",
    "epochs = 200\n",
    "loss_track = []\n",
    "\n",
    "\n",
    "for epoch in range(epochs):\n",
    "    \n",
    "    train_loss = 0\n",
    "    steps = 0\n",
    "    \n",
    "    for user_id in range(num_of_users):\n",
    "        \n",
    "        input_vec = X_train[user_id]\n",
    "        \n",
    "        if (torch.sum(input_vec) > 0) > 0:\n",
    "            #generating the target and the output vectors\n",
    "            target_vec = input_vec.clone()\n",
    "            target_vec.requre_grad = False\n",
    "            output_vec = sparse_autoenc(input_vec)\n",
    "            #omitting the movies which are not rated\n",
    "            output_vec[target_vec == 0] = 0\n",
    "            #calculating the loss\n",
    "            loss = loss_func(target_vec[target_vec > 0], output_vec[target_vec > 0])\n",
    "            #calculating the gradients\n",
    "            loss.backward()\n",
    "            #updating the weights\n",
    "            optimizer.step()\n",
    "            \n",
    "            train_loss += torch.sqrt(loss).data\n",
    "            steps += 1\n",
    "            \n",
    "    loss_track.append(train_loss/steps)"
   ]
  },
  {
   "cell_type": "code",
   "execution_count": 40,
   "metadata": {},
   "outputs": [],
   "source": [
    "#saving the model\n",
    "torch.save(sparse_autoenc.state_dict(), 'pretrained_sae')"
   ]
  },
  {
   "cell_type": "markdown",
   "metadata": {},
   "source": [
    "### Evaluating the Autoencoder\n",
    "\n",
    "First we'll check how the loss evolved during the training of the autoencoder, and then we'll evaluate the performance on the test set."
   ]
  },
  {
   "cell_type": "code",
   "execution_count": null,
   "metadata": {},
   "outputs": [],
   "source": [
    "#loading the model, if needed\n",
    "sparse_autoenc.load_state_dict(torch.load('pretrained_sae'))"
   ]
  },
  {
   "cell_type": "code",
   "execution_count": 23,
   "metadata": {
    "scrolled": true
   },
   "outputs": [
    {
     "name": "stdout",
     "output_type": "stream",
     "text": [
      "training loss in the last epoch: 0.55\n"
     ]
    }
   ],
   "source": [
    "#the loss in the last epoch\n",
    "print(f'training loss in the last epoch: {round(float(loss_track[-1]),2)}')"
   ]
  },
  {
   "cell_type": "markdown",
   "metadata": {},
   "source": [
    "Since we actually have three categories of ratings/recommendations, having an average loss of 1 means that we would usually miss the missrecommend a movie by a whole clas. However, in our case we have and average loss of 0.55, which is a quite good result. This means that, in average, we will \"miss a half of a class\" with our autoencoder. In other words, this means that usually we will stay inside the clas, i.e. we will usually make a good recommendation.\n",
    "\n",
    "Let's make a plot to see how the loss evolved over the trainig."
   ]
  },
  {
   "cell_type": "code",
   "execution_count": 24,
   "metadata": {},
   "outputs": [
    {
     "data": {
      "image/png": "[encoded data removed]",
      "text/plain": [
       "<Figure size 432x288 with 1 Axes>"
      ]
     },
     "metadata": {
      "needs_background": "light"
     },
     "output_type": "display_data"
    }
   ],
   "source": [
    "plt.plot(range(epochs), loss_track);\n",
    "plt.xlabel('epoch');\n",
    "plt.ylabel('loss');"
   ]
  },
  {
   "cell_type": "markdown",
   "metadata": {},
   "source": [
    "Let's now see how the autoencoder behavies on the test set. The test set represents the portion of users' ratings not included in the training set. We will now try to reconstruct these ratings using our autoencoder. "
   ]
  },
  {
   "cell_type": "code",
   "execution_count": 25,
   "metadata": {},
   "outputs": [
    {
     "name": "stdout",
     "output_type": "stream",
     "text": [
      "test loss: 0.77\n"
     ]
    }
   ],
   "source": [
    "#evaluating the autoencoder on the test set\n",
    "\n",
    "test_loss = 0\n",
    "steps = 0\n",
    "\n",
    "for user_id in range(num_of_users):\n",
    "\n",
    "    input_vec = X_test[user_id]\n",
    "    input_vec.require_grad = False\n",
    "    \n",
    "    if (torch.sum(input_vec) > 0) > 0:\n",
    "        #generating the target and output vector\n",
    "        target_vec = input_vec.clone()\n",
    "        output_vec = sparse_autoenc(input_vec).data\n",
    "        #omitting the movies which are not rated\n",
    "        output_vec[target_vec == 0] = 0\n",
    "        #calculating the loss\n",
    "        loss = loss_func(target_vec[target_vec > 0], output_vec[target_vec > 0]).data\n",
    "        test_loss += torch.sqrt(loss)\n",
    "        steps += 1\n",
    "\n",
    "test_loss = float(test_loss.data/steps)\n",
    "print(f'test loss: {round(test_loss, 2)}')"
   ]
  },
  {
   "cell_type": "markdown",
   "metadata": {},
   "source": [
    "The average loss of 0.77 on the test set means that, again, usually we will make a good recommendation, even on the data that our autoencoder hasn't seen yet. However, the missrecomendation is somewhat more likely to occur on the new data.\n",
    "\n",
    "In the next step we will merge the ratings data for all the users and all the (rated) movies, and try to reconstruct the whole recommendation data just from the training portion. "
   ]
  },
  {
   "cell_type": "code",
   "execution_count": 26,
   "metadata": {},
   "outputs": [
    {
     "name": "stdout",
     "output_type": "stream",
     "text": [
      "reconstruction loss: 0.61\n"
     ]
    }
   ],
   "source": [
    "#reconstructing the whole rating/recommendation data\n",
    "\n",
    "reconst_loss = 0\n",
    "steps = 0\n",
    "\n",
    "for user_id in range(num_of_users):\n",
    "\n",
    "    input_vec = X_train[user_id].data\n",
    "    target_vec = (X_train[user_id] + X_test[user_id]).data\n",
    "    \n",
    "    if (torch.sum(target_vec) > 0) > 0:\n",
    "        output_vec = sparse_autoenc(input_vec).data\n",
    "        output_vec[target_vec == 0] = 0\n",
    "        #calculating the loss\n",
    "        loss = loss_func(target_vec[target_vec > 0], output_vec[target_vec > 0])\n",
    "        reconst_loss += torch.sqrt(loss).data\n",
    "        steps += 1\n",
    "\n",
    "reconst_loss = float(reconst_loss.data/steps)\n",
    "print(f'reconstruction loss: {round(reconst_loss, 2)}')"
   ]
  },
  {
   "cell_type": "markdown",
   "metadata": {},
   "source": [
    "With the loss of 0.61, we again obtain a good score. "
   ]
  },
  {
   "cell_type": "markdown",
   "metadata": {},
   "source": [
    "Now we will build a function to compute the portion of missrecommended movies for a random user."
   ]
  },
  {
   "cell_type": "code",
   "execution_count": 27,
   "metadata": {},
   "outputs": [],
   "source": [
    "def reconst_example():\n",
    "    \n",
    "    '''Computes the number and the \n",
    "    percentage of misses for a random user'''\n",
    "    \n",
    "    user_id = np.random.randint(len(X_train))\n",
    "    \n",
    "    input_vec = X_train[user_id].data\n",
    "    target_vec = (X_train[user_id] + X_test[user_id]).data\n",
    "    output_vec = sparse_autoenc(input_vec).data\n",
    "    output_vec[target_vec == 0] = 0\n",
    "    \n",
    "    a = sum(target_vec)\n",
    "    b = sum(torch.round(output_vec))\n",
    "    missrate = int(abs(a-b))\n",
    "    missrate_purc = missrate/X_train.shape[1]\n",
    "    missrate_purc = round(missrate_purc*100, 2)\n",
    "    \n",
    "    print(f'Missratings for user no.{user_id}: {missrate}, {missrate_purc}%')"
   ]
  },
  {
   "cell_type": "code",
   "execution_count": 28,
   "metadata": {},
   "outputs": [
    {
     "name": "stdout",
     "output_type": "stream",
     "text": [
      "Missratings for user no.3602: 65, 1.64%\n",
      "Missratings for user no.1271: 11, 0.28%\n",
      "Missratings for user no.2692: 6, 0.15%\n",
      "Missratings for user no.1341: 12, 0.3%\n",
      "Missratings for user no.3309: 9, 0.23%\n",
      "Missratings for user no.6003: 0, 0.0%\n",
      "Missratings for user no.4192: 37, 0.94%\n",
      "Missratings for user no.3834: 1, 0.03%\n",
      "Missratings for user no.979: 13, 0.33%\n",
      "Missratings for user no.4072: 3, 0.08%\n"
     ]
    }
   ],
   "source": [
    "for _ in range(10):\n",
    "    reconst_example()"
   ]
  },
  {
   "cell_type": "markdown",
   "metadata": {},
   "source": [
    "As we see, the percentage of missres is very very low, which means that we may consider our autoencoder quite reliable for giving the recommendations."
   ]
  },
  {
   "cell_type": "markdown",
   "metadata": {},
   "source": [
    "### Making Recommendations\n",
    "\n",
    "Let's pick a random user and see wheather we would recommend them some movie they haven't watched yet. "
   ]
  },
  {
   "cell_type": "code",
   "execution_count": 191,
   "metadata": {},
   "outputs": [],
   "source": [
    "from tabulate import tabulate\n",
    "\n",
    "X_whole = X_train + X_test\n",
    "recom = [\"Not Recommended\", \"Maybe\", \"Recommended\"]\n",
    "\n",
    "def recommendation():\n",
    "    \n",
    "    k = np.random.randint(len(X_whole))\n",
    "    print(f'The user {k} liked the movies:\\n')\n",
    "    liked = np.random.choice(np.where(X_whole[k] == 3)[0], 5,\n",
    "                            replace = False)\n",
    "    like_tab = []\n",
    "    for movie in liked:\n",
    "        l = movies.loc[movie, ['Name', 'Genre']].tolist()\n",
    "        like_tab.append([l[0],l[1]])\n",
    "    print(tabulate(like_tab))\n",
    "    print('..................\\n')\n",
    "    \n",
    "    \n",
    "    print(\"but didn't like the movies:\\n\")\n",
    "    disl = np.where(X_whole[k] == 1)[0]\n",
    "    disliked = np.random.choice(disl, min(5, len(disl)),\n",
    "                            replace = False)\n",
    "    disl_tab = []\n",
    "    for movie in disliked:\n",
    "        l = movies.loc[movie, ['Name', 'Genre']].tolist()\n",
    "        disl_tab.append([l[0],l[1]])\n",
    "    print(tabulate(disl_tab))\n",
    "    print('..................\\n')\n",
    "    \n",
    "    \n",
    "    print(\"Recommendations:\\n\")\n",
    "    unrated = np.random.choice(np.where(X_whole[k] == 0)[0], 5,\n",
    "                            replace = False)\n",
    "    ratings_pred = sparse_autoenc(X_whole[k]).data[unrated]\n",
    "    ratings_pred = torch.round(ratings_pred)\n",
    "    ratings_pred = np.array(ratings_pred, dtype = 'int8')\n",
    "    rec_tab = []\n",
    "    for movie, rat in zip(unrated, ratings_pred):\n",
    "        l = movies.loc[movie, ['Name', 'Genre']].tolist()\n",
    "        rec_tab.append([l[0], l[1], recom[rat-1]])\n",
    "    print(tabulate(rec_tab))"
   ]
  },
  {
   "cell_type": "code",
   "execution_count": 195,
   "metadata": {},
   "outputs": [
    {
     "name": "stdout",
     "output_type": "stream",
     "text": [
      "The user 270 liked the movies:\n",
      "\n",
      "----------------------------------  -------------------\n",
      "That Thing You Do! (1996)           Comedy\n",
      "Cool Hand Luke (1967)               Comedy|Drama\n",
      "Even Cowgirls Get the Blues (1993)  Comedy|Romance\n",
      "Creature Comforts (1990)            Animation|Comedy\n",
      "Serial Mom (1994)                   Comedy|Crime|Horror\n",
      "----------------------------------  -------------------\n",
      "..................\n",
      "\n",
      "but didn't like the movies:\n",
      "\n",
      "------------------  -------------------------------\n",
      "Ulee's Gold (1997)  Drama\n",
      "True Lies (1994)    Action|Adventure|Comedy|Romance\n",
      "Babe (1995)         Children's|Comedy|Drama\n",
      "Angel Baby (1995)   Drama\n",
      "Buddy (1997)        Adventure|Children's|Drama\n",
      "------------------  -------------------------------\n",
      "..................\n",
      "\n",
      "Recommendations:\n",
      "\n",
      "----------------------------  ------------------------  ---------------\n",
      "Rude (1995)                   Drama                     Recommended\n",
      "Mulholland Falls (1996)       Crime|Film-Noir|Thriller  Recommended\n",
      "Soft Toilet Seats (1999)      Comedy                    Recommended\n",
      "Story of Xinghua, The (1993)  Drama                     Not Recommended\n",
      "Blue Lagoon, The (1980)       Adventure|Drama|Romance   Maybe\n",
      "----------------------------  ------------------------  ---------------\n"
     ]
    }
   ],
   "source": [
    "recommendation()"
   ]
  },
  {
   "cell_type": "markdown",
   "metadata": {},
   "source": [
    "### Conclusions\n",
    "\n",
    "Using the spars autoencoder we were able to build a very reliable movie recommendation system based on previosly rated movies. In addition to being very effective, our model has very simple architecture and was trained in a reasonable time. "
   ]
  }
 ],
 "metadata": {
  "kernelspec": {
   "display_name": "Python 3",
   "language": "python",
   "name": "python3"
  },
  "language_info": {
   "codemirror_mode": {
    "name": "ipython",
    "version": 3
   },
   "file_extension": ".py",
   "mimetype": "text/x-python",
   "name": "python",
   "nbconvert_exporter": "python",
   "pygments_lexer": "ipython3",
   "version": "3.6.8"
  }
 },
 "nbformat": 4,
 "nbformat_minor": 4
}
